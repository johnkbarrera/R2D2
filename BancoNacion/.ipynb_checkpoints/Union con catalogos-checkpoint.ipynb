{
 "cells": [
  {
   "cell_type": "code",
   "execution_count": 1,
   "id": "554773e0",
   "metadata": {},
   "outputs": [],
   "source": [
    "import os\n",
    "import pandas as pd\n",
    "import numpy as np\n",
    "import math\n",
    "from datetime import datetime"
   ]
  },
  {
   "cell_type": "code",
   "execution_count": 2,
   "id": "7390bae0",
   "metadata": {},
   "outputs": [
    {
     "name": "stdout",
     "output_type": "stream",
     "text": [
      "3.8.8\n"
     ]
    }
   ],
   "source": [
    "from platform import python_version\n",
    "print(python_version())"
   ]
  },
  {
   "cell_type": "markdown",
   "id": "5f6993c2",
   "metadata": {},
   "source": [
    "### Recuperando datos"
   ]
  },
  {
   "cell_type": "code",
   "execution_count": 5,
   "id": "70902a8b",
   "metadata": {},
   "outputs": [],
   "source": [
    "# Reclamos\n",
    "file_name = 'data/pre_processed_data.csv'\n",
    "datos_preprocessed = pd.read_pickle(file_name)\n",
    "\n",
    "# Catalogos BN\n",
    "catalogo_bn_motivo = pd.read_csv('catalogo/catalogo_BN.csv')"
   ]
  },
  {
   "cell_type": "code",
   "execution_count": 4,
   "id": "4d33277c",
   "metadata": {
    "scrolled": true
   },
   "outputs": [
    {
     "data": {
      "text/html": [
       "<div>\n",
       "<style scoped>\n",
       "    .dataframe tbody tr th:only-of-type {\n",
       "        vertical-align: middle;\n",
       "    }\n",
       "\n",
       "    .dataframe tbody tr th {\n",
       "        vertical-align: top;\n",
       "    }\n",
       "\n",
       "    .dataframe thead th {\n",
       "        text-align: right;\n",
       "    }\n",
       "</style>\n",
       "<table border=\"1\" class=\"dataframe\">\n",
       "  <thead>\n",
       "    <tr style=\"text-align: right;\">\n",
       "      <th></th>\n",
       "      <th>Numero reclamo</th>\n",
       "      <th>Nombre</th>\n",
       "      <th>Numero documento</th>\n",
       "      <th>Cod servicio</th>\n",
       "      <th>Servicio</th>\n",
       "      <th>Cod motivo</th>\n",
       "      <th>Motivo</th>\n",
       "      <th>Cod ATM</th>\n",
       "      <th>ATM error</th>\n",
       "      <th>Numero cajero</th>\n",
       "      <th>...</th>\n",
       "      <th>Provincia</th>\n",
       "      <th>Distrito</th>\n",
       "      <th>Es Lima</th>\n",
       "      <th>fecha fase 1</th>\n",
       "      <th>fecha fase 2</th>\n",
       "      <th>fecha fase 3</th>\n",
       "      <th>fecha fase 4</th>\n",
       "      <th>fecha fase 5</th>\n",
       "      <th>fecha fase 6</th>\n",
       "      <th>fecha fase 7</th>\n",
       "    </tr>\n",
       "    <tr>\n",
       "      <th>N°</th>\n",
       "      <th></th>\n",
       "      <th></th>\n",
       "      <th></th>\n",
       "      <th></th>\n",
       "      <th></th>\n",
       "      <th></th>\n",
       "      <th></th>\n",
       "      <th></th>\n",
       "      <th></th>\n",
       "      <th></th>\n",
       "      <th></th>\n",
       "      <th></th>\n",
       "      <th></th>\n",
       "      <th></th>\n",
       "      <th></th>\n",
       "      <th></th>\n",
       "      <th></th>\n",
       "      <th></th>\n",
       "      <th></th>\n",
       "      <th></th>\n",
       "      <th></th>\n",
       "    </tr>\n",
       "  </thead>\n",
       "  <tbody>\n",
       "    <tr>\n",
       "      <th>1</th>\n",
       "      <td>002718-7736</td>\n",
       "      <td>ADAN HOLGUIN SOLIS</td>\n",
       "      <td>42672067</td>\n",
       "      <td>2200</td>\n",
       "      <td>CAJEROS AUTOMATICOS</td>\n",
       "      <td>280800</td>\n",
       "      <td>PRCA - NO DISPENSÓ EFECTIVO Y/O VOUCHER</td>\n",
       "      <td>5.0</td>\n",
       "      <td>(cajero multired) COD.82-ERROR EN EL ATM</td>\n",
       "      <td>NaN</td>\n",
       "      <td>...</td>\n",
       "      <td>LIMA</td>\n",
       "      <td>LOS OLIVOS</td>\n",
       "      <td>True</td>\n",
       "      <td>2018-12-31</td>\n",
       "      <td>2019-01-17</td>\n",
       "      <td>2019-01-17</td>\n",
       "      <td>2019-01-21</td>\n",
       "      <td>2019-01-21</td>\n",
       "      <td>2019-01-17</td>\n",
       "      <td>2019-01-17</td>\n",
       "    </tr>\n",
       "    <tr>\n",
       "      <th>2</th>\n",
       "      <td>067618-34</td>\n",
       "      <td>ADANAQUE TIZON MARIA LILIANA</td>\n",
       "      <td>45056104</td>\n",
       "      <td>2200</td>\n",
       "      <td>CAJEROS AUTOMATICOS</td>\n",
       "      <td>280800</td>\n",
       "      <td>PRCA - NO DISPENSÓ EFECTIVO Y/O VOUCHER</td>\n",
       "      <td>5.0</td>\n",
       "      <td>(cajero multired) COD.82-ERROR EN EL ATM</td>\n",
       "      <td>774.0</td>\n",
       "      <td>...</td>\n",
       "      <td>PIURA</td>\n",
       "      <td>TAMBOGRANDE</td>\n",
       "      <td>False</td>\n",
       "      <td>2018-12-31</td>\n",
       "      <td>2019-01-03</td>\n",
       "      <td>2019-01-03</td>\n",
       "      <td>2019-01-03</td>\n",
       "      <td>2019-01-03</td>\n",
       "      <td>2019-01-03</td>\n",
       "      <td>2019-01-03</td>\n",
       "    </tr>\n",
       "    <tr>\n",
       "      <th>3</th>\n",
       "      <td>002718-7726</td>\n",
       "      <td>ADEMIR CHAVEZ SANCHEZ</td>\n",
       "      <td>41311452</td>\n",
       "      <td>2200</td>\n",
       "      <td>CAJEROS AUTOMATICOS</td>\n",
       "      <td>280800</td>\n",
       "      <td>PRCA - NO DISPENSÓ EFECTIVO Y/O VOUCHER</td>\n",
       "      <td>99.0</td>\n",
       "      <td>(cajero multired) OTROS</td>\n",
       "      <td>NaN</td>\n",
       "      <td>...</td>\n",
       "      <td>LIMA</td>\n",
       "      <td>VILLA MARIA DEL TRIUNFO</td>\n",
       "      <td>True</td>\n",
       "      <td>2018-12-31</td>\n",
       "      <td>2019-01-16</td>\n",
       "      <td>2019-01-17</td>\n",
       "      <td>2019-01-17</td>\n",
       "      <td>2019-01-17</td>\n",
       "      <td>2019-01-17</td>\n",
       "      <td>2019-01-17</td>\n",
       "    </tr>\n",
       "    <tr>\n",
       "      <th>4</th>\n",
       "      <td>315118-10281</td>\n",
       "      <td>AGUERO OLIVAS JOHN RICHARD</td>\n",
       "      <td>40383052</td>\n",
       "      <td>2200</td>\n",
       "      <td>CAJEROS AUTOMATICOS</td>\n",
       "      <td>280800</td>\n",
       "      <td>PRCA - NO DISPENSÓ EFECTIVO Y/O VOUCHER</td>\n",
       "      <td>99.0</td>\n",
       "      <td>(cajero multired) OTROS</td>\n",
       "      <td>1338.0</td>\n",
       "      <td>...</td>\n",
       "      <td>HUANUCO</td>\n",
       "      <td>HUANUCO</td>\n",
       "      <td>False</td>\n",
       "      <td>2018-12-31</td>\n",
       "      <td>2019-01-09</td>\n",
       "      <td>2019-01-09</td>\n",
       "      <td>2019-01-09</td>\n",
       "      <td>2019-01-09</td>\n",
       "      <td>2019-01-09</td>\n",
       "      <td>2019-01-09</td>\n",
       "    </tr>\n",
       "    <tr>\n",
       "      <th>5</th>\n",
       "      <td>034618-9</td>\n",
       "      <td>AGUILAR VEGA JULIO EDUARDO</td>\n",
       "      <td>45451586</td>\n",
       "      <td>2200</td>\n",
       "      <td>CAJEROS AUTOMATICOS</td>\n",
       "      <td>280800</td>\n",
       "      <td>PRCA - NO DISPENSÓ EFECTIVO Y/O VOUCHER</td>\n",
       "      <td>5.0</td>\n",
       "      <td>(cajero multired) COD.82-ERROR EN EL ATM</td>\n",
       "      <td>789.0</td>\n",
       "      <td>...</td>\n",
       "      <td>POMABAMBA</td>\n",
       "      <td>POMABAMBA</td>\n",
       "      <td>False</td>\n",
       "      <td>2018-12-31</td>\n",
       "      <td>2019-01-17</td>\n",
       "      <td>2019-01-17</td>\n",
       "      <td>2019-01-17</td>\n",
       "      <td>2019-01-17</td>\n",
       "      <td>2019-01-17</td>\n",
       "      <td>2019-01-17</td>\n",
       "    </tr>\n",
       "  </tbody>\n",
       "</table>\n",
       "<p>5 rows × 48 columns</p>\n",
       "</div>"
      ],
      "text/plain": [
       "   Numero reclamo                        Nombre Numero documento Cod servicio  \\\n",
       "N°                                                                              \n",
       "1     002718-7736            ADAN HOLGUIN SOLIS         42672067         2200   \n",
       "2       067618-34  ADANAQUE TIZON MARIA LILIANA         45056104         2200   \n",
       "3     002718-7726         ADEMIR CHAVEZ SANCHEZ         41311452         2200   \n",
       "4    315118-10281    AGUERO OLIVAS JOHN RICHARD         40383052         2200   \n",
       "5        034618-9    AGUILAR VEGA JULIO EDUARDO         45451586         2200   \n",
       "\n",
       "               Servicio Cod motivo                                   Motivo  \\\n",
       "N°                                                                            \n",
       "1   CAJEROS AUTOMATICOS     280800  PRCA - NO DISPENSÓ EFECTIVO Y/O VOUCHER   \n",
       "2   CAJEROS AUTOMATICOS     280800  PRCA - NO DISPENSÓ EFECTIVO Y/O VOUCHER   \n",
       "3   CAJEROS AUTOMATICOS     280800  PRCA - NO DISPENSÓ EFECTIVO Y/O VOUCHER   \n",
       "4   CAJEROS AUTOMATICOS     280800  PRCA - NO DISPENSÓ EFECTIVO Y/O VOUCHER   \n",
       "5   CAJEROS AUTOMATICOS     280800  PRCA - NO DISPENSÓ EFECTIVO Y/O VOUCHER   \n",
       "\n",
       "    Cod ATM                                 ATM error  Numero cajero  ...  \\\n",
       "N°                                                                    ...   \n",
       "1       5.0  (cajero multired) COD.82-ERROR EN EL ATM            NaN  ...   \n",
       "2       5.0  (cajero multired) COD.82-ERROR EN EL ATM          774.0  ...   \n",
       "3      99.0                   (cajero multired) OTROS            NaN  ...   \n",
       "4      99.0                   (cajero multired) OTROS         1338.0  ...   \n",
       "5       5.0  (cajero multired) COD.82-ERROR EN EL ATM          789.0  ...   \n",
       "\n",
       "    Provincia                 Distrito Es Lima fecha fase 1 fecha fase 2  \\\n",
       "N°                                                                         \n",
       "1        LIMA               LOS OLIVOS    True   2018-12-31   2019-01-17   \n",
       "2       PIURA              TAMBOGRANDE   False   2018-12-31   2019-01-03   \n",
       "3        LIMA  VILLA MARIA DEL TRIUNFO    True   2018-12-31   2019-01-16   \n",
       "4     HUANUCO                  HUANUCO   False   2018-12-31   2019-01-09   \n",
       "5   POMABAMBA                POMABAMBA   False   2018-12-31   2019-01-17   \n",
       "\n",
       "    fecha fase 3 fecha fase 4 fecha fase 5 fecha fase 6  fecha fase 7  \n",
       "N°                                                                     \n",
       "1     2019-01-17   2019-01-21   2019-01-21   2019-01-17    2019-01-17  \n",
       "2     2019-01-03   2019-01-03   2019-01-03   2019-01-03    2019-01-03  \n",
       "3     2019-01-17   2019-01-17   2019-01-17   2019-01-17    2019-01-17  \n",
       "4     2019-01-09   2019-01-09   2019-01-09   2019-01-09    2019-01-09  \n",
       "5     2019-01-17   2019-01-17   2019-01-17   2019-01-17    2019-01-17  \n",
       "\n",
       "[5 rows x 48 columns]"
      ]
     },
     "execution_count": 4,
     "metadata": {},
     "output_type": "execute_result"
    }
   ],
   "source": [
    "datos_preprocessed.head()"
   ]
  },
  {
   "cell_type": "code",
   "execution_count": null,
   "id": "14cf19d9",
   "metadata": {
    "scrolled": true
   },
   "outputs": [],
   "source": [
    "# Reclamos\n",
    "file_name = 'data/pre_processed_data.csv'\n",
    "datos_preprocessed = pd.read_pickle(file_name)\n",
    "\n",
    "# Catalogos BN\n",
    "catalogo_bn_motivo = pd.read_csv('catalogo/catalogo_motivos.csv')\n",
    "catalogo_bn_motivo['Cod Motivo'] = catalogo_bn_motivo['Cod Motivo'].astype(str)\n",
    "\n",
    "catalogo_bn_servicio = pd.read_csv('catalogo/catalogo_servicios.csv')\n",
    "catalogo_bn_servicio['Cod Servicio'] = catalogo_bn_servicio['Cod Servicio'].astype(str)\n",
    "\n",
    "# Catalogos SBS\n",
    "catalogo_sbs_motivo = pd.read_csv('catalogo/catalogo_sbs_motivo.csv')\n",
    "catalogo_sbs_servicio = pd.read_csv('catalogo/catalogo_sbs_motivo.csv')"
   ]
  },
  {
   "cell_type": "code",
   "execution_count": null,
   "id": "19ca5ccd",
   "metadata": {},
   "outputs": [],
   "source": [
    "catalogo_sbs_servicio"
   ]
  },
  {
   "cell_type": "markdown",
   "id": "26fe6b7c",
   "metadata": {},
   "source": [
    "#### Recuperando codigos SBS"
   ]
  },
  {
   "cell_type": "code",
   "execution_count": null,
   "id": "3ad1a7e5",
   "metadata": {},
   "outputs": [],
   "source": [
    "# Merge Motivos\n",
    "datos_preprocessed_merged = pd.merge(\n",
    "                            datos_preprocessed,\n",
    "                            catalogo_bn_motivo[['Cod Motivo', 'Cod Motivo SBS', 'Motivo Corregido']],\n",
    "                            how=\"left\",\n",
    "                            left_on='Cod Motivo',\n",
    "                            right_on='Cod Motivo',\n",
    "                            sort=True,\n",
    "                            suffixes=(\"_x\", \"_y\"),\n",
    "                        )\n",
    "# Merge servicios\n",
    "datos_preprocessed_merged = pd.merge(\n",
    "                            datos_preprocessed_merged,\n",
    "                            catalogo_bn_servicio[['Cod Servicio', 'Cod Servicio SBS', 'Servicio Corregido']],\n",
    "                            how=\"left\",\n",
    "                            left_on='Cod Servicio',\n",
    "                            right_on='Cod Servicio',\n",
    "                            sort=True,\n",
    "                            suffixes=(\"_x\", \"_y\"),\n",
    "                        )\n",
    "\n",
    "datos_preprocessed_merged['Cod Servicio SBS'] = datos_preprocessed_merged['Cod Servicio SBS'].fillna(-1).astype(int)\n",
    "datos_preprocessed_merged['Cod Motivo SBS'] = datos_preprocessed_merged['Cod Motivo SBS'].fillna(-1).astype(int)\n"
   ]
  },
  {
   "cell_type": "code",
   "execution_count": null,
   "id": "88321857",
   "metadata": {},
   "outputs": [],
   "source": [
    "len(datos_preprocessed), len(datos_preprocessed_merged)"
   ]
  },
  {
   "cell_type": "markdown",
   "id": "bd7f263d",
   "metadata": {},
   "source": [
    "#### Recuperando detalles SBS"
   ]
  },
  {
   "cell_type": "code",
   "execution_count": null,
   "id": "0dd57770",
   "metadata": {
    "scrolled": true
   },
   "outputs": [],
   "source": [
    "catalogo_sbs_motivo = catalogo_sbs_motivo.set_index('Cod SBS').T.to_dict('dict')\n",
    "catalogo_sbs_servicio = catalogo_sbs_servicio.set_index('Cod SBS').T.to_dict('dict')"
   ]
  },
  {
   "cell_type": "code",
   "execution_count": null,
   "id": "d2fc7591",
   "metadata": {},
   "outputs": [],
   "source": [
    "catalogo_sbs_servicio[102]"
   ]
  },
  {
   "cell_type": "code",
   "execution_count": null,
   "id": "dde66628",
   "metadata": {
    "scrolled": true
   },
   "outputs": [],
   "source": [
    "catalogo_sbs_servicio[21]"
   ]
  },
  {
   "cell_type": "code",
   "execution_count": null,
   "id": "051e529f",
   "metadata": {},
   "outputs": [],
   "source": [
    "def nivel_reclamo(x,y):\n",
    "    try:\n",
    "        nivel = catalogo_sbs_motivo[x]['Nivel']\n",
    "    except:\n",
    "        try:\n",
    "            nivel = catalogo_sbs_servicio[y]['Nivel']\n",
    "        except:\n",
    "            nivel = None\n",
    "    return nivel\n",
    "\n",
    "def tipo_reclamo(x,y):\n",
    "    try:\n",
    "        tipo = catalogo_sbs_motivo[x]['Tipo']\n",
    "    except:\n",
    "        try:\n",
    "            tipo = catalogo_sbs_servicio[y]['Tipo']\n",
    "        except:\n",
    "            tipo = None\n",
    "    return tipo\n",
    "\n",
    "def reclamo_name_sbs_motivo(x):\n",
    "    try:\n",
    "        tipo = catalogo_sbs_motivo[x]['Motivo SBS']\n",
    "    except:\n",
    "        tipo = 'No identificado'\n",
    "    return tipo\n",
    "\n",
    "def reclamo_name_sbs_servicio(x):\n",
    "    try:\n",
    "        tipo = catalogo_sbs_servicio[x]['Motivo SBS']\n",
    "    except:\n",
    "        tipo = 'No identificado'\n",
    "    return tipo\n",
    "\n",
    "datos_preprocessed_merged['Nivel'] = datos_preprocessed_merged.apply(lambda x: nivel_reclamo(x['Cod Motivo SBS'], x['Cod Servicio SBS']), axis=1)\n",
    "datos_preprocessed_merged['Tipo'] = datos_preprocessed_merged.apply(lambda x: tipo_reclamo(x['Cod Motivo SBS'], x['Cod Servicio SBS']), axis=1)\n",
    "datos_preprocessed_merged['Motivo_name_SBS'] = datos_preprocessed_merged.apply(lambda x: reclamo_name_sbs_motivo(x['Cod Motivo SBS']), axis=1)\n",
    "datos_preprocessed_merged['Servicio_name_SBS'] = datos_preprocessed_merged.apply(lambda x: reclamo_name_sbs_motivo(x['Cod Servicio SBS']), axis=1)\n",
    "\n",
    "datos_preprocessed_merged['Nivel'] = datos_preprocessed_merged['Nivel'].fillna('2do').astype(str)"
   ]
  },
  {
   "cell_type": "code",
   "execution_count": null,
   "id": "6470febe",
   "metadata": {
    "scrolled": false
   },
   "outputs": [],
   "source": [
    "datos_preprocessed_merged.head()"
   ]
  },
  {
   "cell_type": "markdown",
   "id": "ad954945",
   "metadata": {},
   "source": [
    "### Saving data"
   ]
  },
  {
   "cell_type": "code",
   "execution_count": null,
   "id": "90ad75dc",
   "metadata": {},
   "outputs": [],
   "source": [
    "datos_preprocessed_merged.to_pickle('data/pre_processed_2_sbs.csv')"
   ]
  },
  {
   "cell_type": "markdown",
   "id": "5643d6fe",
   "metadata": {},
   "source": [
    "## Primer nivel"
   ]
  },
  {
   "cell_type": "code",
   "execution_count": null,
   "id": "64c36e31",
   "metadata": {
    "scrolled": true
   },
   "outputs": [],
   "source": [
    "datos_nivel_1 = datos_preprocessed_merged[datos_preprocessed_merged['Nivel']=='1er']\n",
    "datos_reclamos_nivel_1 = datos_nivel_1[datos_nivel_1['Reclamo/requerim']=='RECLAMO']\n",
    "datos_requerimiento_nivel_1 = datos_nivel_1[datos_nivel_1['Reclamo/requerim']=='REQUERIMIENTO']"
   ]
  },
  {
   "cell_type": "code",
   "execution_count": null,
   "id": "b20976c1",
   "metadata": {},
   "outputs": [],
   "source": [
    "datos_reclamos_nivel_1.to_pickle('data/pre_processed_reclamos_nivel_1.csv')  \n",
    "datos_requerimiento_nivel_1.to_pickle('data/pre_processed_requerimiento_nivel_1.csv')  "
   ]
  },
  {
   "cell_type": "code",
   "execution_count": null,
   "id": "15489499",
   "metadata": {},
   "outputs": [],
   "source": []
  }
 ],
 "metadata": {
  "kernelspec": {
   "display_name": "Python 3",
   "language": "python",
   "name": "python3"
  },
  "language_info": {
   "codemirror_mode": {
    "name": "ipython",
    "version": 3
   },
   "file_extension": ".py",
   "mimetype": "text/x-python",
   "name": "python",
   "nbconvert_exporter": "python",
   "pygments_lexer": "ipython3",
   "version": "3.8.8"
  }
 },
 "nbformat": 4,
 "nbformat_minor": 5
}
