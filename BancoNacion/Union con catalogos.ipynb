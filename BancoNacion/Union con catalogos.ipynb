{
 "cells": [
  {
   "cell_type": "code",
   "execution_count": 1,
   "id": "554773e0",
   "metadata": {},
   "outputs": [],
   "source": [
    "import os\n",
    "import pandas as pd\n",
    "import numpy as np\n",
    "import math\n",
    "from datetime import datetime"
   ]
  },
  {
   "cell_type": "code",
   "execution_count": 2,
   "id": "7390bae0",
   "metadata": {},
   "outputs": [
    {
     "name": "stdout",
     "output_type": "stream",
     "text": [
      "3.8.8\n"
     ]
    }
   ],
   "source": [
    "from platform import python_version\n",
    "print(python_version())"
   ]
  },
  {
   "cell_type": "markdown",
   "id": "5f6993c2",
   "metadata": {},
   "source": [
    "### Recuperando datos"
   ]
  },
  {
   "cell_type": "code",
   "execution_count": 3,
   "id": "a9f65c29",
   "metadata": {},
   "outputs": [],
   "source": [
    "# Reclamos\n",
    "file_name = 'data/pre_processed_data.csv'\n",
    "datos_preprocessed = pd.read_pickle(file_name)\n",
    "\n",
    "# Catalogos BN\n",
    "schema = {\n",
    "    'Servicio BN':int,\n",
    "    'Motivo BN':int,\n",
    "    'Canal Incidencia SBS': str,\n",
    "    'Servicio SBS': str,\n",
    "    'Motivo SBS': str,\n",
    "}\n",
    "catalogo_bn = pd.read_csv('catalogo/catalogo_BN.csv', dtype=schema)\n",
    "catalogo_bn['Servicio BN'] = catalogo_bn['Servicio BN'].astype(str)\n",
    "catalogo_bn['Motivo BN'] = catalogo_bn['Motivo BN'].astype(str)\n",
    "\n",
    "# Catalogos SBS\n",
    "catalogo_sbs_motivo = pd.read_excel('catalogo/catalogo_SBS.xlsx', sheet_name='MOTIVOS')\n",
    "catalogo_sbs_servicios = pd.read_excel('catalogo/catalogo_SBS.xlsx', sheet_name='SERVICIOS')\n",
    "catalogo_sbs_canales = pd.read_excel('catalogo/catalogo_SBS.xlsx', sheet_name='CANALES')\n",
    "\n",
    "# Catalogos NIVEL\n",
    "catalogo_nivel_motivo = pd.read_excel('catalogo/catalogo_NIVEL.xlsx', sheet_name='MOTIVOS')\n",
    "catalogo_nivel_servicios = pd.read_excel('catalogo/catalogo_NIVEL.xlsx', sheet_name='SERVICIOS')\n",
    "catalogo_nivel_canales = pd.read_excel('catalogo/catalogo_NIVEL.xlsx', sheet_name='CANALES')"
   ]
  },
  {
   "cell_type": "code",
   "execution_count": 4,
   "id": "e579ecf5",
   "metadata": {},
   "outputs": [],
   "source": [
    "niveles = {}\n",
    "niveles['servicios'] = catalogo_nivel_servicios.set_index('Cod_SBS').T.to_dict('dict')\n",
    "niveles['motivos'] = catalogo_nivel_motivo.set_index('Cod_SBS').T.to_dict('dict')\n",
    "niveles['canales'] = catalogo_nivel_canales.set_index('Cod_SBS').T.to_dict('dict')"
   ]
  },
  {
   "cell_type": "code",
   "execution_count": 5,
   "id": "3e3dabff",
   "metadata": {},
   "outputs": [],
   "source": [
    "datos_preprocessed_merged = pd.merge(\n",
    "                            datos_preprocessed,\n",
    "                            catalogo_bn,\n",
    "                            how=\"left\",\n",
    "                            left_on=['Cod servicio', 'Cod motivo'],\n",
    "                            right_on=['Servicio BN', 'Motivo BN'],\n",
    "                            sort=True,\n",
    "                            suffixes=(\"_x\", \"_y\"),\n",
    "                        )"
   ]
  },
  {
   "cell_type": "code",
   "execution_count": 6,
   "id": "27201c64",
   "metadata": {
    "scrolled": true
   },
   "outputs": [],
   "source": [
    "def nivel(canal,servicio,motivo):\n",
    "    try:\n",
    "        canal = int(canal)\n",
    "        return niveles['canales'][canal]['Nivel']\n",
    "    except:\n",
    "        pass\n",
    "    try:\n",
    "        servicio = int(servicio)\n",
    "        return niveles['servicios'][servicio]['Nivel']\n",
    "    except:\n",
    "        pass\n",
    "    try:\n",
    "        motivo = int(motivo)\n",
    "        return niveles['motivos'][motivo]['Nivel']\n",
    "    except:\n",
    "        pass\n",
    "    return '2do'"
   ]
  },
  {
   "cell_type": "code",
   "execution_count": 7,
   "id": "e47f8de7",
   "metadata": {},
   "outputs": [],
   "source": [
    "datos_preprocessed_merged['Nivel'] = datos_preprocessed_merged.apply(lambda x: nivel(x['Canal Incidencia SBS'], x['Servicio SBS'], x['Motivo SBS']), axis=1)\n"
   ]
  },
  {
   "cell_type": "code",
   "execution_count": 8,
   "id": "555e1f40",
   "metadata": {
    "scrolled": true
   },
   "outputs": [
    {
     "data": {
      "text/html": [
       "<div>\n",
       "<style scoped>\n",
       "    .dataframe tbody tr th:only-of-type {\n",
       "        vertical-align: middle;\n",
       "    }\n",
       "\n",
       "    .dataframe tbody tr th {\n",
       "        vertical-align: top;\n",
       "    }\n",
       "\n",
       "    .dataframe thead th {\n",
       "        text-align: right;\n",
       "    }\n",
       "</style>\n",
       "<table border=\"1\" class=\"dataframe\">\n",
       "  <thead>\n",
       "    <tr style=\"text-align: right;\">\n",
       "      <th></th>\n",
       "      <th>Numero reclamo</th>\n",
       "      <th>Nombre</th>\n",
       "      <th>Numero documento</th>\n",
       "      <th>Cod servicio</th>\n",
       "      <th>Cod motivo</th>\n",
       "      <th>Cod ATM</th>\n",
       "      <th>ATM error</th>\n",
       "      <th>Numero cajero</th>\n",
       "      <th>Monto</th>\n",
       "      <th>Fecha operacion</th>\n",
       "      <th>...</th>\n",
       "      <th>fecha fase 7</th>\n",
       "      <th>Servicio BN</th>\n",
       "      <th>Motivo BN</th>\n",
       "      <th>Canal Incidencia SBS</th>\n",
       "      <th>Servicio SBS</th>\n",
       "      <th>Motivo SBS</th>\n",
       "      <th>Canal Incidencia</th>\n",
       "      <th>Servicio</th>\n",
       "      <th>Motivo</th>\n",
       "      <th>Nivel</th>\n",
       "    </tr>\n",
       "  </thead>\n",
       "  <tbody>\n",
       "    <tr>\n",
       "      <th>0</th>\n",
       "      <td>023818-7</td>\n",
       "      <td>TORRES SENMACHE PATHY PAMELA</td>\n",
       "      <td>41114765</td>\n",
       "      <td>100</td>\n",
       "      <td>10000</td>\n",
       "      <td>NaN</td>\n",
       "      <td>NaN</td>\n",
       "      <td>NaN</td>\n",
       "      <td>NaN</td>\n",
       "      <td>19/09/2018</td>\n",
       "      <td>...</td>\n",
       "      <td>2018-10-03</td>\n",
       "      <td>100</td>\n",
       "      <td>10000</td>\n",
       "      <td>01</td>\n",
       "      <td>102</td>\n",
       "      <td>01</td>\n",
       "      <td>OFICINA</td>\n",
       "      <td>CUENTA DE AHORRO (DESTINADA A DEPÓSITO DE REMU...</td>\n",
       "      <td>INCUMPLIMIENTO DE CLAUSULAS DE LOS CONTRATOS, ...</td>\n",
       "      <td>1er</td>\n",
       "    </tr>\n",
       "    <tr>\n",
       "      <th>1</th>\n",
       "      <td>002718-4016</td>\n",
       "      <td>CARLOS RIQUELME ROMAN</td>\n",
       "      <td>43471167</td>\n",
       "      <td>100</td>\n",
       "      <td>10000</td>\n",
       "      <td>NaN</td>\n",
       "      <td>NaN</td>\n",
       "      <td>NaN</td>\n",
       "      <td>NaN</td>\n",
       "      <td>15/08/2018</td>\n",
       "      <td>...</td>\n",
       "      <td>2018-09-26</td>\n",
       "      <td>100</td>\n",
       "      <td>10000</td>\n",
       "      <td>01</td>\n",
       "      <td>102</td>\n",
       "      <td>01</td>\n",
       "      <td>OFICINA</td>\n",
       "      <td>CUENTA DE AHORRO (DESTINADA A DEPÓSITO DE REMU...</td>\n",
       "      <td>INCUMPLIMIENTO DE CLAUSULAS DE LOS CONTRATOS, ...</td>\n",
       "      <td>1er</td>\n",
       "    </tr>\n",
       "    <tr>\n",
       "      <th>2</th>\n",
       "      <td>002719-6276</td>\n",
       "      <td>RICARDO ARTURO RIVERA NUÑEZ</td>\n",
       "      <td>30831857</td>\n",
       "      <td>100</td>\n",
       "      <td>10000</td>\n",
       "      <td>NaN</td>\n",
       "      <td>NaN</td>\n",
       "      <td>NaN</td>\n",
       "      <td>892.74</td>\n",
       "      <td>20/12/2019</td>\n",
       "      <td>...</td>\n",
       "      <td>2020-02-11</td>\n",
       "      <td>100</td>\n",
       "      <td>10000</td>\n",
       "      <td>01</td>\n",
       "      <td>102</td>\n",
       "      <td>01</td>\n",
       "      <td>OFICINA</td>\n",
       "      <td>CUENTA DE AHORRO (DESTINADA A DEPÓSITO DE REMU...</td>\n",
       "      <td>INCUMPLIMIENTO DE CLAUSULAS DE LOS CONTRATOS, ...</td>\n",
       "      <td>1er</td>\n",
       "    </tr>\n",
       "    <tr>\n",
       "      <th>3</th>\n",
       "      <td>010119-356</td>\n",
       "      <td>VERAMENDI ANCASI JAVIER</td>\n",
       "      <td>09952556</td>\n",
       "      <td>100</td>\n",
       "      <td>10000</td>\n",
       "      <td>NaN</td>\n",
       "      <td>NaN</td>\n",
       "      <td>NaN</td>\n",
       "      <td>8000</td>\n",
       "      <td>29/10/2019</td>\n",
       "      <td>...</td>\n",
       "      <td>2019-12-20</td>\n",
       "      <td>100</td>\n",
       "      <td>10000</td>\n",
       "      <td>01</td>\n",
       "      <td>102</td>\n",
       "      <td>01</td>\n",
       "      <td>OFICINA</td>\n",
       "      <td>CUENTA DE AHORRO (DESTINADA A DEPÓSITO DE REMU...</td>\n",
       "      <td>INCUMPLIMIENTO DE CLAUSULAS DE LOS CONTRATOS, ...</td>\n",
       "      <td>1er</td>\n",
       "    </tr>\n",
       "    <tr>\n",
       "      <th>4</th>\n",
       "      <td>010119-354</td>\n",
       "      <td>MEDINA RAMOS JOSE LUIS</td>\n",
       "      <td>29353518</td>\n",
       "      <td>100</td>\n",
       "      <td>10000</td>\n",
       "      <td>NaN</td>\n",
       "      <td>NaN</td>\n",
       "      <td>NaN</td>\n",
       "      <td>NaN</td>\n",
       "      <td>26/08/2019</td>\n",
       "      <td>...</td>\n",
       "      <td>2019-11-12</td>\n",
       "      <td>100</td>\n",
       "      <td>10000</td>\n",
       "      <td>01</td>\n",
       "      <td>102</td>\n",
       "      <td>01</td>\n",
       "      <td>OFICINA</td>\n",
       "      <td>CUENTA DE AHORRO (DESTINADA A DEPÓSITO DE REMU...</td>\n",
       "      <td>INCUMPLIMIENTO DE CLAUSULAS DE LOS CONTRATOS, ...</td>\n",
       "      <td>1er</td>\n",
       "    </tr>\n",
       "  </tbody>\n",
       "</table>\n",
       "<p>5 rows × 55 columns</p>\n",
       "</div>"
      ],
      "text/plain": [
       "  Numero reclamo                        Nombre Numero documento Cod servicio  \\\n",
       "0       023818-7  TORRES SENMACHE PATHY PAMELA         41114765          100   \n",
       "1    002718-4016         CARLOS RIQUELME ROMAN         43471167          100   \n",
       "2    002719-6276   RICARDO ARTURO RIVERA NUÑEZ         30831857          100   \n",
       "3     010119-356       VERAMENDI ANCASI JAVIER         09952556          100   \n",
       "4     010119-354        MEDINA RAMOS JOSE LUIS         29353518          100   \n",
       "\n",
       "  Cod motivo  Cod ATM ATM error  Numero cajero   Monto Fecha operacion  ...  \\\n",
       "0      10000      NaN       NaN            NaN     NaN      19/09/2018  ...   \n",
       "1      10000      NaN       NaN            NaN     NaN      15/08/2018  ...   \n",
       "2      10000      NaN       NaN            NaN  892.74      20/12/2019  ...   \n",
       "3      10000      NaN       NaN            NaN    8000      29/10/2019  ...   \n",
       "4      10000      NaN       NaN            NaN     NaN      26/08/2019  ...   \n",
       "\n",
       "  fecha fase 7 Servicio BN Motivo BN  Canal Incidencia SBS Servicio SBS  \\\n",
       "0   2018-10-03         100     10000                    01          102   \n",
       "1   2018-09-26         100     10000                    01          102   \n",
       "2   2020-02-11         100     10000                    01          102   \n",
       "3   2019-12-20         100     10000                    01          102   \n",
       "4   2019-11-12         100     10000                    01          102   \n",
       "\n",
       "  Motivo SBS Canal Incidencia  \\\n",
       "0         01          OFICINA   \n",
       "1         01          OFICINA   \n",
       "2         01          OFICINA   \n",
       "3         01          OFICINA   \n",
       "4         01          OFICINA   \n",
       "\n",
       "                                            Servicio  \\\n",
       "0  CUENTA DE AHORRO (DESTINADA A DEPÓSITO DE REMU...   \n",
       "1  CUENTA DE AHORRO (DESTINADA A DEPÓSITO DE REMU...   \n",
       "2  CUENTA DE AHORRO (DESTINADA A DEPÓSITO DE REMU...   \n",
       "3  CUENTA DE AHORRO (DESTINADA A DEPÓSITO DE REMU...   \n",
       "4  CUENTA DE AHORRO (DESTINADA A DEPÓSITO DE REMU...   \n",
       "\n",
       "                                              Motivo Nivel  \n",
       "0  INCUMPLIMIENTO DE CLAUSULAS DE LOS CONTRATOS, ...   1er  \n",
       "1  INCUMPLIMIENTO DE CLAUSULAS DE LOS CONTRATOS, ...   1er  \n",
       "2  INCUMPLIMIENTO DE CLAUSULAS DE LOS CONTRATOS, ...   1er  \n",
       "3  INCUMPLIMIENTO DE CLAUSULAS DE LOS CONTRATOS, ...   1er  \n",
       "4  INCUMPLIMIENTO DE CLAUSULAS DE LOS CONTRATOS, ...   1er  \n",
       "\n",
       "[5 rows x 55 columns]"
      ]
     },
     "execution_count": 8,
     "metadata": {},
     "output_type": "execute_result"
    }
   ],
   "source": [
    "datos_preprocessed_merged.head()"
   ]
  },
  {
   "cell_type": "code",
   "execution_count": 9,
   "id": "510fd726",
   "metadata": {},
   "outputs": [],
   "source": [
    "datos_preprocessed_merged.to_pickle('data/data_merged.csv')"
   ]
  },
  {
   "cell_type": "code",
   "execution_count": null,
   "id": "d2feeebc",
   "metadata": {},
   "outputs": [],
   "source": []
  },
  {
   "cell_type": "code",
   "execution_count": null,
   "id": "c55229a0",
   "metadata": {},
   "outputs": [],
   "source": []
  },
  {
   "cell_type": "code",
   "execution_count": null,
   "id": "0d0e1d2e",
   "metadata": {},
   "outputs": [],
   "source": []
  },
  {
   "cell_type": "code",
   "execution_count": null,
   "id": "051e529f",
   "metadata": {},
   "outputs": [],
   "source": [
    "def nivel_reclamo(x,y):\n",
    "    try:\n",
    "        nivel = catalogo_sbs_motivo[x]['Nivel']\n",
    "    except:\n",
    "        try:\n",
    "            nivel = catalogo_sbs_servicio[y]['Nivel']\n",
    "        except:\n",
    "            nivel = None\n",
    "    return nivel\n",
    "\n",
    "def tipo_reclamo(x,y):\n",
    "    try:\n",
    "        tipo = catalogo_sbs_motivo[x]['Tipo']\n",
    "    except:\n",
    "        try:\n",
    "            tipo = catalogo_sbs_servicio[y]['Tipo']\n",
    "        except:\n",
    "            tipo = None\n",
    "    return tipo\n",
    "\n",
    "def reclamo_name_sbs_motivo(x):\n",
    "    try:\n",
    "        tipo = catalogo_sbs_motivo[x]['Motivo SBS']\n",
    "    except:\n",
    "        tipo = 'No identificado'\n",
    "    return tipo\n",
    "\n",
    "def reclamo_name_sbs_servicio(x):\n",
    "    try:\n",
    "        tipo = catalogo_sbs_servicio[x]['Motivo SBS']\n",
    "    except:\n",
    "        tipo = 'No identificado'\n",
    "    return tipo\n",
    "\n",
    "datos_preprocessed_merged['Nivel'] = datos_preprocessed_merged.apply(lambda x: nivel_reclamo(x['Cod Motivo SBS'], x['Cod Servicio SBS']), axis=1)\n",
    "datos_preprocessed_merged['Tipo'] = datos_preprocessed_merged.apply(lambda x: tipo_reclamo(x['Cod Motivo SBS'], x['Cod Servicio SBS']), axis=1)\n",
    "datos_preprocessed_merged['Motivo_name_SBS'] = datos_preprocessed_merged.apply(lambda x: reclamo_name_sbs_motivo(x['Cod Motivo SBS']), axis=1)\n",
    "datos_preprocessed_merged['Servicio_name_SBS'] = datos_preprocessed_merged.apply(lambda x: reclamo_name_sbs_motivo(x['Cod Servicio SBS']), axis=1)\n",
    "\n",
    "datos_preprocessed_merged['Nivel'] = datos_preprocessed_merged['Nivel'].fillna('2do').astype(str)"
   ]
  },
  {
   "cell_type": "code",
   "execution_count": null,
   "id": "6470febe",
   "metadata": {
    "scrolled": false
   },
   "outputs": [],
   "source": [
    "datos_preprocessed_merged.head()"
   ]
  },
  {
   "cell_type": "markdown",
   "id": "ad954945",
   "metadata": {},
   "source": [
    "### Saving data"
   ]
  },
  {
   "cell_type": "code",
   "execution_count": null,
   "id": "90ad75dc",
   "metadata": {},
   "outputs": [],
   "source": [
    "datos_preprocessed_merged.to_pickle('data/pre_processed_2_sbs.csv')"
   ]
  },
  {
   "cell_type": "markdown",
   "id": "5643d6fe",
   "metadata": {},
   "source": [
    "## Primer nivel"
   ]
  },
  {
   "cell_type": "code",
   "execution_count": null,
   "id": "64c36e31",
   "metadata": {
    "scrolled": true
   },
   "outputs": [],
   "source": [
    "datos_nivel_1 = datos_preprocessed_merged[datos_preprocessed_merged['Nivel']=='1er']\n",
    "datos_reclamos_nivel_1 = datos_nivel_1[datos_nivel_1['Reclamo/requerim']=='RECLAMO']\n",
    "datos_requerimiento_nivel_1 = datos_nivel_1[datos_nivel_1['Reclamo/requerim']=='REQUERIMIENTO']"
   ]
  },
  {
   "cell_type": "code",
   "execution_count": null,
   "id": "b20976c1",
   "metadata": {},
   "outputs": [],
   "source": [
    "datos_reclamos_nivel_1.to_pickle('data/pre_processed_reclamos_nivel_1.csv')  \n",
    "datos_requerimiento_nivel_1.to_pickle('data/pre_processed_requerimiento_nivel_1.csv')  "
   ]
  },
  {
   "cell_type": "code",
   "execution_count": null,
   "id": "15489499",
   "metadata": {},
   "outputs": [],
   "source": []
  }
 ],
 "metadata": {
  "kernelspec": {
   "display_name": "Python 3 (ipykernel)",
   "language": "python",
   "name": "python3"
  },
  "language_info": {
   "codemirror_mode": {
    "name": "ipython",
    "version": 3
   },
   "file_extension": ".py",
   "mimetype": "text/x-python",
   "name": "python",
   "nbconvert_exporter": "python",
   "pygments_lexer": "ipython3",
   "version": "3.9.7"
  }
 },
 "nbformat": 4,
 "nbformat_minor": 5
}
