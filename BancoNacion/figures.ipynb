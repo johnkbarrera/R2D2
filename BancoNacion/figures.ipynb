{
 "cells": [
  {
   "cell_type": "code",
   "execution_count": 117,
   "id": "554773e0",
   "metadata": {},
   "outputs": [],
   "source": [
    "import os\n",
    "import pandas as pd\n",
    "import numpy as np\n",
    "import math\n",
    "from datetime import datetime\n",
    "from tqdm import tqdm, trange\n",
    "\n",
    "import matplotlib.pyplot as plt\n",
    "import plotly.express as px\n",
    "from difflib import SequenceMatcher"
   ]
  },
  {
   "cell_type": "code",
   "execution_count": 118,
   "id": "e950ed03",
   "metadata": {},
   "outputs": [
    {
     "name": "stdout",
     "output_type": "stream",
     "text": [
      "3.8.8\n"
     ]
    }
   ],
   "source": [
    "from platform import python_version\n",
    "print(python_version())"
   ]
  },
  {
   "cell_type": "markdown",
   "id": "e4c1120d",
   "metadata": {},
   "source": [
    "### Recuperando datos"
   ]
  },
  {
   "cell_type": "code",
   "execution_count": 165,
   "id": "14cf19d9",
   "metadata": {
    "scrolled": true
   },
   "outputs": [],
   "source": [
    "# Reclamos\n",
    "file_name = 'data/pre_processed_2_sbs.csv'\n",
    "datos_preprocessed = pd.read_pickle(file_name)"
   ]
  },
  {
   "cell_type": "code",
   "execution_count": 166,
   "id": "bddad47e",
   "metadata": {},
   "outputs": [
    {
     "data": {
      "text/plain": [
       "Index(['N° Reclamo', 'Nombre', 'N° Docum.', 'Servicio', 'Cod Motivo', 'Motivo',\n",
       "       'Cod. Atm', 'Det. AtmError', 'N° Cajero', 'Monto', 'Operac.',\n",
       "       'Present.', 'Resul.', 'Recl.', 'Cod. Oficina', 'Det. Oficina',\n",
       "       'Regional', 'Dependencia', 'Cod. Deriv', 'Última Derivació',\n",
       "       'N° Memo Carta Resp.', 'Dirección Domic.', 'Fase del Reclamo',\n",
       "       'Proceso', 'Días de Demora', ' de Demora', 'Respon', 'Responsable',\n",
       "       'Macroregión', 'Resp.', 'División', 'División Responsable', 'Cod. Dept',\n",
       "       'Responsable.1', 'Mes Presentacion', 'Días Reclamo', 'Año Presentación',\n",
       "       'Semáforo', 'Situación', 'Cod. Usuario', 'Nombre Usuario',\n",
       "       'Descripción Fase', 'Canal Ingreso', 'Medio Respuesta',\n",
       "       'Reclamo/requerim', 'Hace carta', 'Correo', 'Cta. Ahorro',\n",
       "       'Descripcion', 'Motivo.1', 'DEPARTAMEN', 'PROVINCIA', 'DISTRITO',\n",
       "       'IS_LIMA', 'fecha_fase1', 'fecha_fase2', 'fecha_fase3', 'fecha_fase4',\n",
       "       'fecha_fase5', 'fecha_fase6', 'fecha_fase7', 'Cod Servicio',\n",
       "       'Cod Motivo SBS', 'Motivo Corregido', 'Cod Servicio SBS',\n",
       "       'Servicio Corregido', 'Nivel', 'Tipo', 'Motivo_name_SBS',\n",
       "       'Servicio_name_SBS'],\n",
       "      dtype='object')"
      ]
     },
     "execution_count": 166,
     "metadata": {},
     "output_type": "execute_result"
    }
   ],
   "source": [
    "datos_preprocessed.columns"
   ]
  },
  {
   "cell_type": "code",
   "execution_count": 167,
   "id": "ef5dac01",
   "metadata": {},
   "outputs": [],
   "source": [
    "# Trimestres\n",
    "#datos_preprocessed['Trimestre'] = str(datos_preprocessed['fecha_fase1'].dt.year)+'-'+str(datos_preprocessed['fecha_fase1'].dt.quarter)\n",
    "datos_preprocessed['Trimestre'] = datos_preprocessed['fecha_fase1'].apply(lambda x: str(x.year)+'-'+str(x.quarter))"
   ]
  },
  {
   "cell_type": "code",
   "execution_count": 168,
   "id": "22d911a1",
   "metadata": {},
   "outputs": [
    {
     "data": {
      "text/plain": [
       "<AxesSubplot:xlabel='Trimestre'>"
      ]
     },
     "execution_count": 168,
     "metadata": {},
     "output_type": "execute_result"
    },
    {
     "data": {
      "image/png": "[encoded data removed]",
      "text/plain": [
       "<Figure size 432x288 with 1 Axes>"
      ]
     },
     "metadata": {
      "needs_background": "light"
     },
     "output_type": "display_data"
    }
   ],
   "source": [
    "data_temp = datos_preprocessed.groupby(['Trimestre','Nivel']).agg({'N° Reclamo': \"count\"})\n",
    "data_temp = data_temp.sort_values(by=['Trimestre']).reset_index()\n",
    "data_temp.set_index(\"Trimestre\", inplace = True)\n",
    "\n",
    "nivel1 = data_temp[data_temp['Nivel']=='1er'][['N° Reclamo']]\n",
    "nivel1.columns = ['Nivel 1']\n",
    "nivel2 = data_temp[data_temp['Nivel']!='1er'][['N° Reclamo']]\n",
    "nivel2.columns = ['Nivel 2']\n",
    "data_temp = pd.merge(nivel1, nivel2, on=\"Trimestre\")\n",
    "\n",
    "data_temp.head()\n",
    "data_temp.plot(kind=\"bar\", stacked=True)"
   ]
  },
  {
   "cell_type": "code",
   "execution_count": 169,
   "id": "9a8bc4aa",
   "metadata": {},
   "outputs": [
    {
     "data": {
      "text/html": [
       "<div>\n",
       "<style scoped>\n",
       "    .dataframe tbody tr th:only-of-type {\n",
       "        vertical-align: middle;\n",
       "    }\n",
       "\n",
       "    .dataframe tbody tr th {\n",
       "        vertical-align: top;\n",
       "    }\n",
       "\n",
       "    .dataframe thead th {\n",
       "        text-align: right;\n",
       "    }\n",
       "</style>\n",
       "<table border=\"1\" class=\"dataframe\">\n",
       "  <thead>\n",
       "    <tr style=\"text-align: right;\">\n",
       "      <th></th>\n",
       "      <th>N° Reclamo</th>\n",
       "      <th>Nombre</th>\n",
       "      <th>N° Docum.</th>\n",
       "      <th>Servicio</th>\n",
       "      <th>Cod Motivo</th>\n",
       "      <th>Motivo</th>\n",
       "      <th>Cod. Atm</th>\n",
       "      <th>Det. AtmError</th>\n",
       "      <th>N° Cajero</th>\n",
       "      <th>Monto</th>\n",
       "      <th>...</th>\n",
       "      <th>Cod Servicio</th>\n",
       "      <th>Cod Motivo SBS</th>\n",
       "      <th>Motivo Corregido</th>\n",
       "      <th>Cod Servicio SBS</th>\n",
       "      <th>Servicio Corregido</th>\n",
       "      <th>Nivel</th>\n",
       "      <th>Tipo</th>\n",
       "      <th>Motivo_name_SBS</th>\n",
       "      <th>Servicio_name_SBS</th>\n",
       "      <th>Trimestre</th>\n",
       "    </tr>\n",
       "  </thead>\n",
       "  <tbody>\n",
       "    <tr>\n",
       "      <th>0</th>\n",
       "      <td>023818-7</td>\n",
       "      <td>TORRES SENMACHE PATHY PAMELA</td>\n",
       "      <td>41114765</td>\n",
       "      <td>CUENTA DE AHORRO</td>\n",
       "      <td>10000</td>\n",
       "      <td>ICCC - INCUMPLIMIENTO DE CLAUSULAS DEL CONTRAT...</td>\n",
       "      <td>NaN</td>\n",
       "      <td>NaN</td>\n",
       "      <td>NaN</td>\n",
       "      <td>NaN</td>\n",
       "      <td>...</td>\n",
       "      <td>100</td>\n",
       "      <td>1</td>\n",
       "      <td>INCUMPLIMIENTO DE CLAUSULAS DE LOS CONTRATOS, ...</td>\n",
       "      <td>102</td>\n",
       "      <td>CUENTA DE AHORRO (DESTINADA A DEPÓSITO DE REMU...</td>\n",
       "      <td>1er</td>\n",
       "      <td>Informativo</td>\n",
       "      <td>Incumplimiento De Clausulas De los Contratos,P...</td>\n",
       "      <td>No identificado</td>\n",
       "      <td>2018-3</td>\n",
       "    </tr>\n",
       "    <tr>\n",
       "      <th>1</th>\n",
       "      <td>002718-4016</td>\n",
       "      <td>CARLOS RIQUELME ROMAN</td>\n",
       "      <td>43471167</td>\n",
       "      <td>CUENTA DE AHORRO</td>\n",
       "      <td>10000</td>\n",
       "      <td>ICCC - INCUMPLIMIENTO DE CLAUSULAS DEL CONTRAT...</td>\n",
       "      <td>NaN</td>\n",
       "      <td>NaN</td>\n",
       "      <td>NaN</td>\n",
       "      <td>NaN</td>\n",
       "      <td>...</td>\n",
       "      <td>100</td>\n",
       "      <td>1</td>\n",
       "      <td>INCUMPLIMIENTO DE CLAUSULAS DE LOS CONTRATOS, ...</td>\n",
       "      <td>102</td>\n",
       "      <td>CUENTA DE AHORRO (DESTINADA A DEPÓSITO DE REMU...</td>\n",
       "      <td>1er</td>\n",
       "      <td>Informativo</td>\n",
       "      <td>Incumplimiento De Clausulas De los Contratos,P...</td>\n",
       "      <td>No identificado</td>\n",
       "      <td>2018-3</td>\n",
       "    </tr>\n",
       "    <tr>\n",
       "      <th>2</th>\n",
       "      <td>002719-6276</td>\n",
       "      <td>RICARDO ARTURO RIVERA NUÑEZ</td>\n",
       "      <td>30831857</td>\n",
       "      <td>CUENTA DE AHORRO</td>\n",
       "      <td>10000</td>\n",
       "      <td>ICCC - INCUMPLIMIENTO DE CLAUSULAS DEL CONTRAT...</td>\n",
       "      <td>NaN</td>\n",
       "      <td>NaN</td>\n",
       "      <td>NaN</td>\n",
       "      <td>892.74</td>\n",
       "      <td>...</td>\n",
       "      <td>100</td>\n",
       "      <td>1</td>\n",
       "      <td>INCUMPLIMIENTO DE CLAUSULAS DE LOS CONTRATOS, ...</td>\n",
       "      <td>102</td>\n",
       "      <td>CUENTA DE AHORRO (DESTINADA A DEPÓSITO DE REMU...</td>\n",
       "      <td>1er</td>\n",
       "      <td>Informativo</td>\n",
       "      <td>Incumplimiento De Clausulas De los Contratos,P...</td>\n",
       "      <td>No identificado</td>\n",
       "      <td>2019-4</td>\n",
       "    </tr>\n",
       "    <tr>\n",
       "      <th>3</th>\n",
       "      <td>010119-356</td>\n",
       "      <td>VERAMENDI ANCASI JAVIER</td>\n",
       "      <td>09952556</td>\n",
       "      <td>CUENTA DE AHORRO</td>\n",
       "      <td>10000</td>\n",
       "      <td>ICCC - INCUMPLIMIENTO DE CLAUSULAS DEL CONTRAT...</td>\n",
       "      <td>NaN</td>\n",
       "      <td>NaN</td>\n",
       "      <td>NaN</td>\n",
       "      <td>8000</td>\n",
       "      <td>...</td>\n",
       "      <td>100</td>\n",
       "      <td>1</td>\n",
       "      <td>INCUMPLIMIENTO DE CLAUSULAS DE LOS CONTRATOS, ...</td>\n",
       "      <td>102</td>\n",
       "      <td>CUENTA DE AHORRO (DESTINADA A DEPÓSITO DE REMU...</td>\n",
       "      <td>1er</td>\n",
       "      <td>Informativo</td>\n",
       "      <td>Incumplimiento De Clausulas De los Contratos,P...</td>\n",
       "      <td>No identificado</td>\n",
       "      <td>2019-4</td>\n",
       "    </tr>\n",
       "    <tr>\n",
       "      <th>4</th>\n",
       "      <td>010119-354</td>\n",
       "      <td>MEDINA RAMOS JOSE LUIS</td>\n",
       "      <td>29353518</td>\n",
       "      <td>CUENTA DE AHORRO</td>\n",
       "      <td>10000</td>\n",
       "      <td>ICCC - INCUMPLIMIENTO DE CLAUSULAS DEL CONTRAT...</td>\n",
       "      <td>NaN</td>\n",
       "      <td>NaN</td>\n",
       "      <td>NaN</td>\n",
       "      <td>NaN</td>\n",
       "      <td>...</td>\n",
       "      <td>100</td>\n",
       "      <td>1</td>\n",
       "      <td>INCUMPLIMIENTO DE CLAUSULAS DE LOS CONTRATOS, ...</td>\n",
       "      <td>102</td>\n",
       "      <td>CUENTA DE AHORRO (DESTINADA A DEPÓSITO DE REMU...</td>\n",
       "      <td>1er</td>\n",
       "      <td>Informativo</td>\n",
       "      <td>Incumplimiento De Clausulas De los Contratos,P...</td>\n",
       "      <td>No identificado</td>\n",
       "      <td>2019-4</td>\n",
       "    </tr>\n",
       "  </tbody>\n",
       "</table>\n",
       "<p>5 rows × 71 columns</p>\n",
       "</div>"
      ],
      "text/plain": [
       "    N° Reclamo                        Nombre N° Docum.          Servicio  \\\n",
       "0     023818-7  TORRES SENMACHE PATHY PAMELA  41114765  CUENTA DE AHORRO   \n",
       "1  002718-4016         CARLOS RIQUELME ROMAN  43471167  CUENTA DE AHORRO   \n",
       "2  002719-6276   RICARDO ARTURO RIVERA NUÑEZ  30831857  CUENTA DE AHORRO   \n",
       "3   010119-356       VERAMENDI ANCASI JAVIER  09952556  CUENTA DE AHORRO   \n",
       "4   010119-354        MEDINA RAMOS JOSE LUIS  29353518  CUENTA DE AHORRO   \n",
       "\n",
       "  Cod Motivo                                             Motivo  Cod. Atm  \\\n",
       "0      10000  ICCC - INCUMPLIMIENTO DE CLAUSULAS DEL CONTRAT...       NaN   \n",
       "1      10000  ICCC - INCUMPLIMIENTO DE CLAUSULAS DEL CONTRAT...       NaN   \n",
       "2      10000  ICCC - INCUMPLIMIENTO DE CLAUSULAS DEL CONTRAT...       NaN   \n",
       "3      10000  ICCC - INCUMPLIMIENTO DE CLAUSULAS DEL CONTRAT...       NaN   \n",
       "4      10000  ICCC - INCUMPLIMIENTO DE CLAUSULAS DEL CONTRAT...       NaN   \n",
       "\n",
       "  Det. AtmError  N° Cajero   Monto  ... Cod Servicio Cod Motivo SBS  \\\n",
       "0           NaN        NaN     NaN  ...          100              1   \n",
       "1           NaN        NaN     NaN  ...          100              1   \n",
       "2           NaN        NaN  892.74  ...          100              1   \n",
       "3           NaN        NaN    8000  ...          100              1   \n",
       "4           NaN        NaN     NaN  ...          100              1   \n",
       "\n",
       "                                    Motivo Corregido Cod Servicio SBS  \\\n",
       "0  INCUMPLIMIENTO DE CLAUSULAS DE LOS CONTRATOS, ...              102   \n",
       "1  INCUMPLIMIENTO DE CLAUSULAS DE LOS CONTRATOS, ...              102   \n",
       "2  INCUMPLIMIENTO DE CLAUSULAS DE LOS CONTRATOS, ...              102   \n",
       "3  INCUMPLIMIENTO DE CLAUSULAS DE LOS CONTRATOS, ...              102   \n",
       "4  INCUMPLIMIENTO DE CLAUSULAS DE LOS CONTRATOS, ...              102   \n",
       "\n",
       "                                  Servicio Corregido Nivel         Tipo  \\\n",
       "0  CUENTA DE AHORRO (DESTINADA A DEPÓSITO DE REMU...   1er  Informativo   \n",
       "1  CUENTA DE AHORRO (DESTINADA A DEPÓSITO DE REMU...   1er  Informativo   \n",
       "2  CUENTA DE AHORRO (DESTINADA A DEPÓSITO DE REMU...   1er  Informativo   \n",
       "3  CUENTA DE AHORRO (DESTINADA A DEPÓSITO DE REMU...   1er  Informativo   \n",
       "4  CUENTA DE AHORRO (DESTINADA A DEPÓSITO DE REMU...   1er  Informativo   \n",
       "\n",
       "                                     Motivo_name_SBS  Servicio_name_SBS  \\\n",
       "0  Incumplimiento De Clausulas De los Contratos,P...    No identificado   \n",
       "1  Incumplimiento De Clausulas De los Contratos,P...    No identificado   \n",
       "2  Incumplimiento De Clausulas De los Contratos,P...    No identificado   \n",
       "3  Incumplimiento De Clausulas De los Contratos,P...    No identificado   \n",
       "4  Incumplimiento De Clausulas De los Contratos,P...    No identificado   \n",
       "\n",
       "  Trimestre  \n",
       "0    2018-3  \n",
       "1    2018-3  \n",
       "2    2019-4  \n",
       "3    2019-4  \n",
       "4    2019-4  \n",
       "\n",
       "[5 rows x 71 columns]"
      ]
     },
     "execution_count": 169,
     "metadata": {},
     "output_type": "execute_result"
    }
   ],
   "source": [
    "datos_preprocessed = datos_preprocessed[datos_preprocessed['Nivel']=='1er'].reset_index(drop=True)\n",
    "datos_preprocessed.head()"
   ]
  },
  {
   "cell_type": "code",
   "execution_count": 170,
   "id": "da1add2e",
   "metadata": {},
   "outputs": [
    {
     "data": {
      "text/plain": [
       "<AxesSubplot:xlabel='Trimestre'>"
      ]
     },
     "execution_count": 170,
     "metadata": {},
     "output_type": "execute_result"
    },
    {
     "data": {
      "image/png": "[encoded data removed]",
      "text/plain": [
       "<Figure size 432x288 with 1 Axes>"
      ]
     },
     "metadata": {
      "needs_background": "light"
     },
     "output_type": "display_data"
    }
   ],
   "source": [
    "data_temp = datos_preprocessed.groupby(['Trimestre','Reclamo/requerim']).agg({'N° Reclamo': \"count\"})\n",
    "data_temp = data_temp.sort_values(by=['Trimestre']).reset_index()\n",
    "data_temp.set_index(\"Trimestre\", inplace = True)\n",
    "\n",
    "counter = 0\n",
    "data_df = pd.DataFrame()\n",
    "for i in data_temp['Reclamo/requerim'].unique():\n",
    "    temp_df = data_temp[data_temp['Reclamo/requerim']==i][['N° Reclamo']]\n",
    "    temp_df.columns = [i]\n",
    "    if counter == 0:\n",
    "        data_df = temp_df\n",
    "    else:\n",
    "        data_df = pd.merge(data_df, temp_df, on=\"Trimestre\")\n",
    "    counter+=1\n",
    "\n",
    "\n",
    "data_df.head()\n",
    "data_df.plot(kind=\"bar\", stacked=True)"
   ]
  },
  {
   "cell_type": "code",
   "execution_count": 150,
   "id": "80929c46",
   "metadata": {},
   "outputs": [
    {
     "data": {
      "text/html": [
       "<div>\n",
       "<style scoped>\n",
       "    .dataframe tbody tr th:only-of-type {\n",
       "        vertical-align: middle;\n",
       "    }\n",
       "\n",
       "    .dataframe tbody tr th {\n",
       "        vertical-align: top;\n",
       "    }\n",
       "\n",
       "    .dataframe thead th {\n",
       "        text-align: right;\n",
       "    }\n",
       "</style>\n",
       "<table border=\"1\" class=\"dataframe\">\n",
       "  <thead>\n",
       "    <tr style=\"text-align: right;\">\n",
       "      <th></th>\n",
       "      <th>Trimestre</th>\n",
       "      <th>Reclamo/requerim</th>\n",
       "      <th>N° Reclamo</th>\n",
       "    </tr>\n",
       "  </thead>\n",
       "  <tbody>\n",
       "    <tr>\n",
       "      <th>0</th>\n",
       "      <td>2018-1</td>\n",
       "      <td>RECLAMO</td>\n",
       "      <td>6837</td>\n",
       "    </tr>\n",
       "    <tr>\n",
       "      <th>1</th>\n",
       "      <td>2018-1</td>\n",
       "      <td>REQUERIMIENTO</td>\n",
       "      <td>58</td>\n",
       "    </tr>\n",
       "    <tr>\n",
       "      <th>2</th>\n",
       "      <td>2018-2</td>\n",
       "      <td>RECLAMO</td>\n",
       "      <td>6272</td>\n",
       "    </tr>\n",
       "    <tr>\n",
       "      <th>3</th>\n",
       "      <td>2018-2</td>\n",
       "      <td>REQUERIMIENTO</td>\n",
       "      <td>61</td>\n",
       "    </tr>\n",
       "    <tr>\n",
       "      <th>4</th>\n",
       "      <td>2018-3</td>\n",
       "      <td>RECLAMO</td>\n",
       "      <td>6464</td>\n",
       "    </tr>\n",
       "    <tr>\n",
       "      <th>5</th>\n",
       "      <td>2018-3</td>\n",
       "      <td>REQUERIMIENTO</td>\n",
       "      <td>62</td>\n",
       "    </tr>\n",
       "    <tr>\n",
       "      <th>6</th>\n",
       "      <td>2018-4</td>\n",
       "      <td>RECLAMO</td>\n",
       "      <td>13224</td>\n",
       "    </tr>\n",
       "    <tr>\n",
       "      <th>7</th>\n",
       "      <td>2018-4</td>\n",
       "      <td>REQUERIMIENTO</td>\n",
       "      <td>106</td>\n",
       "    </tr>\n",
       "    <tr>\n",
       "      <th>8</th>\n",
       "      <td>2019-1</td>\n",
       "      <td>RECLAMO</td>\n",
       "      <td>8949</td>\n",
       "    </tr>\n",
       "    <tr>\n",
       "      <th>9</th>\n",
       "      <td>2019-1</td>\n",
       "      <td>REQUERIMIENTO</td>\n",
       "      <td>37</td>\n",
       "    </tr>\n",
       "    <tr>\n",
       "      <th>10</th>\n",
       "      <td>2019-2</td>\n",
       "      <td>RECLAMO</td>\n",
       "      <td>3133</td>\n",
       "    </tr>\n",
       "    <tr>\n",
       "      <th>11</th>\n",
       "      <td>2019-2</td>\n",
       "      <td>REQUERIMIENTO</td>\n",
       "      <td>14</td>\n",
       "    </tr>\n",
       "    <tr>\n",
       "      <th>12</th>\n",
       "      <td>2019-3</td>\n",
       "      <td>RECLAMO</td>\n",
       "      <td>8561</td>\n",
       "    </tr>\n",
       "    <tr>\n",
       "      <th>13</th>\n",
       "      <td>2019-3</td>\n",
       "      <td>REQUERIMIENTO</td>\n",
       "      <td>71</td>\n",
       "    </tr>\n",
       "    <tr>\n",
       "      <th>14</th>\n",
       "      <td>2019-4</td>\n",
       "      <td>REQUERIMIENTO</td>\n",
       "      <td>89</td>\n",
       "    </tr>\n",
       "    <tr>\n",
       "      <th>15</th>\n",
       "      <td>2019-4</td>\n",
       "      <td>RECLAMO</td>\n",
       "      <td>11007</td>\n",
       "    </tr>\n",
       "    <tr>\n",
       "      <th>16</th>\n",
       "      <td>2020-1</td>\n",
       "      <td>RECLAMO</td>\n",
       "      <td>9508</td>\n",
       "    </tr>\n",
       "    <tr>\n",
       "      <th>17</th>\n",
       "      <td>2020-1</td>\n",
       "      <td>REQUERIMIENTO</td>\n",
       "      <td>497</td>\n",
       "    </tr>\n",
       "    <tr>\n",
       "      <th>18</th>\n",
       "      <td>2020-2</td>\n",
       "      <td>RECLAMO</td>\n",
       "      <td>20935</td>\n",
       "    </tr>\n",
       "    <tr>\n",
       "      <th>19</th>\n",
       "      <td>2020-2</td>\n",
       "      <td>REQUERIMIENTO</td>\n",
       "      <td>834</td>\n",
       "    </tr>\n",
       "    <tr>\n",
       "      <th>20</th>\n",
       "      <td>2020-3</td>\n",
       "      <td>RECLAMO</td>\n",
       "      <td>18716</td>\n",
       "    </tr>\n",
       "    <tr>\n",
       "      <th>21</th>\n",
       "      <td>2020-3</td>\n",
       "      <td>REQUERIMIENTO</td>\n",
       "      <td>601</td>\n",
       "    </tr>\n",
       "    <tr>\n",
       "      <th>22</th>\n",
       "      <td>2020-4</td>\n",
       "      <td>RECLAMO</td>\n",
       "      <td>27269</td>\n",
       "    </tr>\n",
       "    <tr>\n",
       "      <th>23</th>\n",
       "      <td>2020-4</td>\n",
       "      <td>REQUERIMIENTO</td>\n",
       "      <td>557</td>\n",
       "    </tr>\n",
       "    <tr>\n",
       "      <th>24</th>\n",
       "      <td>2021-1</td>\n",
       "      <td>RECLAMO</td>\n",
       "      <td>30652</td>\n",
       "    </tr>\n",
       "    <tr>\n",
       "      <th>25</th>\n",
       "      <td>2021-1</td>\n",
       "      <td>REQUERIMIENTO</td>\n",
       "      <td>1258</td>\n",
       "    </tr>\n",
       "    <tr>\n",
       "      <th>26</th>\n",
       "      <td>2021-2</td>\n",
       "      <td>RECLAMO</td>\n",
       "      <td>11306</td>\n",
       "    </tr>\n",
       "    <tr>\n",
       "      <th>27</th>\n",
       "      <td>2021-2</td>\n",
       "      <td>REQUERIMIENTO</td>\n",
       "      <td>1175</td>\n",
       "    </tr>\n",
       "    <tr>\n",
       "      <th>28</th>\n",
       "      <td>2021-3</td>\n",
       "      <td>RECLAMO</td>\n",
       "      <td>3680</td>\n",
       "    </tr>\n",
       "    <tr>\n",
       "      <th>29</th>\n",
       "      <td>2021-3</td>\n",
       "      <td>REQUERIMIENTO</td>\n",
       "      <td>74</td>\n",
       "    </tr>\n",
       "  </tbody>\n",
       "</table>\n",
       "</div>"
      ],
      "text/plain": [
       "   Trimestre Reclamo/requerim  N° Reclamo\n",
       "0     2018-1          RECLAMO        6837\n",
       "1     2018-1    REQUERIMIENTO          58\n",
       "2     2018-2          RECLAMO        6272\n",
       "3     2018-2    REQUERIMIENTO          61\n",
       "4     2018-3          RECLAMO        6464\n",
       "5     2018-3    REQUERIMIENTO          62\n",
       "6     2018-4          RECLAMO       13224\n",
       "7     2018-4    REQUERIMIENTO         106\n",
       "8     2019-1          RECLAMO        8949\n",
       "9     2019-1    REQUERIMIENTO          37\n",
       "10    2019-2          RECLAMO        3133\n",
       "11    2019-2    REQUERIMIENTO          14\n",
       "12    2019-3          RECLAMO        8561\n",
       "13    2019-3    REQUERIMIENTO          71\n",
       "14    2019-4    REQUERIMIENTO          89\n",
       "15    2019-4          RECLAMO       11007\n",
       "16    2020-1          RECLAMO        9508\n",
       "17    2020-1    REQUERIMIENTO         497\n",
       "18    2020-2          RECLAMO       20935\n",
       "19    2020-2    REQUERIMIENTO         834\n",
       "20    2020-3          RECLAMO       18716\n",
       "21    2020-3    REQUERIMIENTO         601\n",
       "22    2020-4          RECLAMO       27269\n",
       "23    2020-4    REQUERIMIENTO         557\n",
       "24    2021-1          RECLAMO       30652\n",
       "25    2021-1    REQUERIMIENTO        1258\n",
       "26    2021-2          RECLAMO       11306\n",
       "27    2021-2    REQUERIMIENTO        1175\n",
       "28    2021-3          RECLAMO        3680\n",
       "29    2021-3    REQUERIMIENTO          74"
      ]
     },
     "execution_count": 150,
     "metadata": {},
     "output_type": "execute_result"
    }
   ],
   "source": [
    "data_df = data_temp.reset_index()\n",
    "data_df"
   ]
  },
  {
   "cell_type": "code",
   "execution_count": 123,
   "id": "4fb6f7be",
   "metadata": {},
   "outputs": [
    {
     "data": {
      "text/plain": [
       "<AxesSubplot:xlabel='Trimestre'>"
      ]
     },
     "execution_count": 123,
     "metadata": {},
     "output_type": "execute_result"
    },
    {
     "data": {
      "image/png": "[encoded data removed]",
      "text/plain": [
       "<Figure size 432x288 with 1 Axes>"
      ]
     },
     "metadata": {
      "needs_background": "light"
     },
     "output_type": "display_data"
    }
   ],
   "source": [
    "data_temp = datos_preprocessed.groupby(['Trimestre','Tipo']).agg({'N° Reclamo': \"count\"})\n",
    "data_temp = data_temp.sort_values(by=['Trimestre']).reset_index()\n",
    "data_temp.set_index(\"Trimestre\", inplace = True)\n",
    "\n",
    "counter = 0\n",
    "data_df = pd.DataFrame()\n",
    "for i in data_temp.Tipo.unique():\n",
    "    temp_df = data_temp[data_temp['Tipo']==i][['N° Reclamo']]\n",
    "    temp_df.columns = [i]\n",
    "    if counter == 0:\n",
    "        data_df = temp_df\n",
    "    else:\n",
    "        data_df = pd.merge(data_df, temp_df, on=\"Trimestre\")\n",
    "    counter+=1\n",
    "\n",
    "\n",
    "data_df.head()\n",
    "data_df.plot(kind=\"bar\", stacked=True)"
   ]
  },
  {
   "cell_type": "code",
   "execution_count": 124,
   "id": "a2b9ea66",
   "metadata": {},
   "outputs": [
    {
     "data": {
      "text/plain": [
       "<matplotlib.collections.PathCollection at 0x230b9e36c70>"
      ]
     },
     "execution_count": 124,
     "metadata": {},
     "output_type": "execute_result"
    },
    {
     "data": {
      "image/png": "[encoded data removed]",
      "text/plain": [
       "<Figure size 1080x360 with 1 Axes>"
      ]
     },
     "metadata": {
      "needs_background": "light"
     },
     "output_type": "display_data"
    }
   ],
   "source": [
    "data_temp = datos_preprocessed.groupby(['fecha_fase1']).agg({ 'N° Reclamo': \"count\"})\n",
    "data_temp = data_temp.sort_values(by=['N° Reclamo']).reset_index()\n",
    "data_temp\n",
    "fig = plt.figure(figsize = (15, 5))\n",
    "plt.scatter(data_temp['fecha_fase1'], data_temp['N° Reclamo'], s =1, c = 'blue')"
   ]
  },
  {
   "cell_type": "code",
   "execution_count": 184,
   "id": "4a17e458",
   "metadata": {
    "scrolled": true
   },
   "outputs": [
    {
     "data": {
      "application/vnd.plotly.v1+json": {
       "config": {
        "plotlyServerURL": "https://plot.ly"
       },
       "data": [
        {
         "branchvalues": "total",
         "customdata": [
          [
           "AGENCIA BN",
           61963
          ],
          [
           "MESA DE AYUDA (TELEFÓNO)",
           28516
          ],
          [
           "MESA DE PARTES DE LA OF. PRINCIPAL",
           3288
          ],
          [
           "ORGANISMOS EXTERNOS (SBS,INDECOPI,SUNAT,OTROS)",
           16
          ],
          [
           "PÁGINA WEB BN",
           97896
          ],
          [
           "ÁREAS OPERATIVAS DE LA OFICINA PRINCIPAL",
           316
          ],
          [
           "(?)",
           74205.64856897315
          ]
         ],
         "domain": {
          "x": [
           0,
           1
          ],
          "y": [
           0,
           1
          ]
         },
         "hovertemplate": "labels=%{label}<br>N° Reclamo_sum=%{value}<br>parent=%{parent}<br>id=%{id}<br>Canal Ingreso=%{customdata[0]}<br>N° Reclamo=%{color}<extra></extra>",
         "ids": [
          "Codigo de reclamo/AGENCIA BN",
          "Codigo de reclamo/MESA DE AYUDA (TELEFÓNO)",
          "Codigo de reclamo/MESA DE PARTES DE LA OF. PRINCIPAL",
          "Codigo de reclamo/ORGANISMOS EXTERNOS (SBS,INDECOPI,SUNAT,OTROS)",
          "Codigo de reclamo/PÁGINA WEB BN",
          "Codigo de reclamo/ÁREAS OPERATIVAS DE LA OFICINA PRINCIPAL",
          "Codigo de reclamo"
         ],
         "labels": [
          "AGENCIA BN",
          "MESA DE AYUDA (TELEFÓNO)",
          "MESA DE PARTES DE LA OF. PRINCIPAL",
          "ORGANISMOS EXTERNOS (SBS,INDECOPI,SUNAT,OTROS)",
          "PÁGINA WEB BN",
          "ÁREAS OPERATIVAS DE LA OFICINA PRINCIPAL",
          "Codigo de reclamo"
         ],
         "marker": {
          "coloraxis": "coloraxis",
          "colors": [
           61963,
           28516,
           3288,
           16,
           97896,
           316,
           74205.64856897315
          ]
         },
         "name": "",
         "parents": [
          "Codigo de reclamo",
          "Codigo de reclamo",
          "Codigo de reclamo",
          "Codigo de reclamo",
          "Codigo de reclamo",
          "Codigo de reclamo",
          ""
         ],
         "type": "treemap",
         "values": [
          61963,
          28516,
          3288,
          16,
          97896,
          316,
          191995
         ]
        }
       ],
       "layout": {
        "coloraxis": {
         "colorbar": {
          "title": {
           "text": "N° Reclamo"
          }
         },
         "colorscale": [
          [
           0,
           "#0d0887"
          ],
          [
           0.1111111111111111,
           "#46039f"
          ],
          [
           0.2222222222222222,
           "#7201a8"
          ],
          [
           0.3333333333333333,
           "#9c179e"
          ],
          [
           0.4444444444444444,
           "#bd3786"
          ],
          [
           0.5555555555555556,
           "#d8576b"
          ],
          [
           0.6666666666666666,
           "#ed7953"
          ],
          [
           0.7777777777777778,
           "#fb9f3a"
          ],
          [
           0.8888888888888888,
           "#fdca26"
          ],
          [
           1,
           "#f0f921"
          ]
         ]
        },
        "legend": {
         "tracegroupgap": 0
        },
        "margin": {
         "t": 60
        },
        "template": {
         "data": {
          "bar": [
           {
            "error_x": {
             "color": "#2a3f5f"
            },
            "error_y": {
             "color": "#2a3f5f"
            },
            "marker": {
             "line": {
              "color": "#E5ECF6",
              "width": 0.5
             },
             "pattern": {
              "fillmode": "overlay",
              "size": 10,
              "solidity": 0.2
             }
            },
            "type": "bar"
           }
          ],
          "barpolar": [
           {
            "marker": {
             "line": {
              "color": "#E5ECF6",
              "width": 0.5
             },
             "pattern": {
              "fillmode": "overlay",
              "size": 10,
              "solidity": 0.2
             }
            },
            "type": "barpolar"
           }
          ],
          "carpet": [
           {
            "aaxis": {
             "endlinecolor": "#2a3f5f",
             "gridcolor": "white",
             "linecolor": "white",
             "minorgridcolor": "white",
             "startlinecolor": "#2a3f5f"
            },
            "baxis": {
             "endlinecolor": "#2a3f5f",
             "gridcolor": "white",
             "linecolor": "white",
             "minorgridcolor": "white",
             "startlinecolor": "#2a3f5f"
            },
            "type": "carpet"
           }
          ],
          "choropleth": [
           {
            "colorbar": {
             "outlinewidth": 0,
             "ticks": ""
            },
            "type": "choropleth"
           }
          ],
          "contour": [
           {
            "colorbar": {
             "outlinewidth": 0,
             "ticks": ""
            },
            "colorscale": [
             [
              0,
              "#0d0887"
             ],
             [
              0.1111111111111111,
              "#46039f"
             ],
             [
              0.2222222222222222,
              "#7201a8"
             ],
             [
              0.3333333333333333,
              "#9c179e"
             ],
             [
              0.4444444444444444,
              "#bd3786"
             ],
             [
              0.5555555555555556,
              "#d8576b"
             ],
             [
              0.6666666666666666,
              "#ed7953"
             ],
             [
              0.7777777777777778,
              "#fb9f3a"
             ],
             [
              0.8888888888888888,
              "#fdca26"
             ],
             [
              1,
              "#f0f921"
             ]
            ],
            "type": "contour"
           }
          ],
          "contourcarpet": [
           {
            "colorbar": {
             "outlinewidth": 0,
             "ticks": ""
            },
            "type": "contourcarpet"
           }
          ],
          "heatmap": [
           {
            "colorbar": {
             "outlinewidth": 0,
             "ticks": ""
            },
            "colorscale": [
             [
              0,
              "#0d0887"
             ],
             [
              0.1111111111111111,
              "#46039f"
             ],
             [
              0.2222222222222222,
              "#7201a8"
             ],
             [
              0.3333333333333333,
              "#9c179e"
             ],
             [
              0.4444444444444444,
              "#bd3786"
             ],
             [
              0.5555555555555556,
              "#d8576b"
             ],
             [
              0.6666666666666666,
              "#ed7953"
             ],
             [
              0.7777777777777778,
              "#fb9f3a"
             ],
             [
              0.8888888888888888,
              "#fdca26"
             ],
             [
              1,
              "#f0f921"
             ]
            ],
            "type": "heatmap"
           }
          ],
          "heatmapgl": [
           {
            "colorbar": {
             "outlinewidth": 0,
             "ticks": ""
            },
            "colorscale": [
             [
              0,
              "#0d0887"
             ],
             [
              0.1111111111111111,
              "#46039f"
             ],
             [
              0.2222222222222222,
              "#7201a8"
             ],
             [
              0.3333333333333333,
              "#9c179e"
             ],
             [
              0.4444444444444444,
              "#bd3786"
             ],
             [
              0.5555555555555556,
              "#d8576b"
             ],
             [
              0.6666666666666666,
              "#ed7953"
             ],
             [
              0.7777777777777778,
              "#fb9f3a"
             ],
             [
              0.8888888888888888,
              "#fdca26"
             ],
             [
              1,
              "#f0f921"
             ]
            ],
            "type": "heatmapgl"
           }
          ],
          "histogram": [
           {
            "marker": {
             "pattern": {
              "fillmode": "overlay",
              "size": 10,
              "solidity": 0.2
             }
            },
            "type": "histogram"
           }
          ],
          "histogram2d": [
           {
            "colorbar": {
             "outlinewidth": 0,
             "ticks": ""
            },
            "colorscale": [
             [
              0,
              "#0d0887"
             ],
             [
              0.1111111111111111,
              "#46039f"
             ],
             [
              0.2222222222222222,
              "#7201a8"
             ],
             [
              0.3333333333333333,
              "#9c179e"
             ],
             [
              0.4444444444444444,
              "#bd3786"
             ],
             [
              0.5555555555555556,
              "#d8576b"
             ],
             [
              0.6666666666666666,
              "#ed7953"
             ],
             [
              0.7777777777777778,
              "#fb9f3a"
             ],
             [
              0.8888888888888888,
              "#fdca26"
             ],
             [
              1,
              "#f0f921"
             ]
            ],
            "type": "histogram2d"
           }
          ],
          "histogram2dcontour": [
           {
            "colorbar": {
             "outlinewidth": 0,
             "ticks": ""
            },
            "colorscale": [
             [
              0,
              "#0d0887"
             ],
             [
              0.1111111111111111,
              "#46039f"
             ],
             [
              0.2222222222222222,
              "#7201a8"
             ],
             [
              0.3333333333333333,
              "#9c179e"
             ],
             [
              0.4444444444444444,
              "#bd3786"
             ],
             [
              0.5555555555555556,
              "#d8576b"
             ],
             [
              0.6666666666666666,
              "#ed7953"
             ],
             [
              0.7777777777777778,
              "#fb9f3a"
             ],
             [
              0.8888888888888888,
              "#fdca26"
             ],
             [
              1,
              "#f0f921"
             ]
            ],
            "type": "histogram2dcontour"
           }
          ],
          "mesh3d": [
           {
            "colorbar": {
             "outlinewidth": 0,
             "ticks": ""
            },
            "type": "mesh3d"
           }
          ],
          "parcoords": [
           {
            "line": {
             "colorbar": {
              "outlinewidth": 0,
              "ticks": ""
             }
            },
            "type": "parcoords"
           }
          ],
          "pie": [
           {
            "automargin": true,
            "type": "pie"
           }
          ],
          "scatter": [
           {
            "marker": {
             "colorbar": {
              "outlinewidth": 0,
              "ticks": ""
             }
            },
            "type": "scatter"
           }
          ],
          "scatter3d": [
           {
            "line": {
             "colorbar": {
              "outlinewidth": 0,
              "ticks": ""
             }
            },
            "marker": {
             "colorbar": {
              "outlinewidth": 0,
              "ticks": ""
             }
            },
            "type": "scatter3d"
           }
          ],
          "scattercarpet": [
           {
            "marker": {
             "colorbar": {
              "outlinewidth": 0,
              "ticks": ""
             }
            },
            "type": "scattercarpet"
           }
          ],
          "scattergeo": [
           {
            "marker": {
             "colorbar": {
              "outlinewidth": 0,
              "ticks": ""
             }
            },
            "type": "scattergeo"
           }
          ],
          "scattergl": [
           {
            "marker": {
             "colorbar": {
              "outlinewidth": 0,
              "ticks": ""
             }
            },
            "type": "scattergl"
           }
          ],
          "scattermapbox": [
           {
            "marker": {
             "colorbar": {
              "outlinewidth": 0,
              "ticks": ""
             }
            },
            "type": "scattermapbox"
           }
          ],
          "scatterpolar": [
           {
            "marker": {
             "colorbar": {
              "outlinewidth": 0,
              "ticks": ""
             }
            },
            "type": "scatterpolar"
           }
          ],
          "scatterpolargl": [
           {
            "marker": {
             "colorbar": {
              "outlinewidth": 0,
              "ticks": ""
             }
            },
            "type": "scatterpolargl"
           }
          ],
          "scatterternary": [
           {
            "marker": {
             "colorbar": {
              "outlinewidth": 0,
              "ticks": ""
             }
            },
            "type": "scatterternary"
           }
          ],
          "surface": [
           {
            "colorbar": {
             "outlinewidth": 0,
             "ticks": ""
            },
            "colorscale": [
             [
              0,
              "#0d0887"
             ],
             [
              0.1111111111111111,
              "#46039f"
             ],
             [
              0.2222222222222222,
              "#7201a8"
             ],
             [
              0.3333333333333333,
              "#9c179e"
             ],
             [
              0.4444444444444444,
              "#bd3786"
             ],
             [
              0.5555555555555556,
              "#d8576b"
             ],
             [
              0.6666666666666666,
              "#ed7953"
             ],
             [
              0.7777777777777778,
              "#fb9f3a"
             ],
             [
              0.8888888888888888,
              "#fdca26"
             ],
             [
              1,
              "#f0f921"
             ]
            ],
            "type": "surface"
           }
          ],
          "table": [
           {
            "cells": {
             "fill": {
              "color": "#EBF0F8"
             },
             "line": {
              "color": "white"
             }
            },
            "header": {
             "fill": {
              "color": "#C8D4E3"
             },
             "line": {
              "color": "white"
             }
            },
            "type": "table"
           }
          ]
         },
         "layout": {
          "annotationdefaults": {
           "arrowcolor": "#2a3f5f",
           "arrowhead": 0,
           "arrowwidth": 1
          },
          "autotypenumbers": "strict",
          "coloraxis": {
           "colorbar": {
            "outlinewidth": 0,
            "ticks": ""
           }
          },
          "colorscale": {
           "diverging": [
            [
             0,
             "#8e0152"
            ],
            [
             0.1,
             "#c51b7d"
            ],
            [
             0.2,
             "#de77ae"
            ],
            [
             0.3,
             "#f1b6da"
            ],
            [
             0.4,
             "#fde0ef"
            ],
            [
             0.5,
             "#f7f7f7"
            ],
            [
             0.6,
             "#e6f5d0"
            ],
            [
             0.7,
             "#b8e186"
            ],
            [
             0.8,
             "#7fbc41"
            ],
            [
             0.9,
             "#4d9221"
            ],
            [
             1,
             "#276419"
            ]
           ],
           "sequential": [
            [
             0,
             "#0d0887"
            ],
            [
             0.1111111111111111,
             "#46039f"
            ],
            [
             0.2222222222222222,
             "#7201a8"
            ],
            [
             0.3333333333333333,
             "#9c179e"
            ],
            [
             0.4444444444444444,
             "#bd3786"
            ],
            [
             0.5555555555555556,
             "#d8576b"
            ],
            [
             0.6666666666666666,
             "#ed7953"
            ],
            [
             0.7777777777777778,
             "#fb9f3a"
            ],
            [
             0.8888888888888888,
             "#fdca26"
            ],
            [
             1,
             "#f0f921"
            ]
           ],
           "sequentialminus": [
            [
             0,
             "#0d0887"
            ],
            [
             0.1111111111111111,
             "#46039f"
            ],
            [
             0.2222222222222222,
             "#7201a8"
            ],
            [
             0.3333333333333333,
             "#9c179e"
            ],
            [
             0.4444444444444444,
             "#bd3786"
            ],
            [
             0.5555555555555556,
             "#d8576b"
            ],
            [
             0.6666666666666666,
             "#ed7953"
            ],
            [
             0.7777777777777778,
             "#fb9f3a"
            ],
            [
             0.8888888888888888,
             "#fdca26"
            ],
            [
             1,
             "#f0f921"
            ]
           ]
          },
          "colorway": [
           "#636efa",
           "#EF553B",
           "#00cc96",
           "#ab63fa",
           "#FFA15A",
           "#19d3f3",
           "#FF6692",
           "#B6E880",
           "#FF97FF",
           "#FECB52"
          ],
          "font": {
           "color": "#2a3f5f"
          },
          "geo": {
           "bgcolor": "white",
           "lakecolor": "white",
           "landcolor": "#E5ECF6",
           "showlakes": true,
           "showland": true,
           "subunitcolor": "white"
          },
          "hoverlabel": {
           "align": "left"
          },
          "hovermode": "closest",
          "mapbox": {
           "style": "light"
          },
          "paper_bgcolor": "white",
          "plot_bgcolor": "#E5ECF6",
          "polar": {
           "angularaxis": {
            "gridcolor": "white",
            "linecolor": "white",
            "ticks": ""
           },
           "bgcolor": "#E5ECF6",
           "radialaxis": {
            "gridcolor": "white",
            "linecolor": "white",
            "ticks": ""
           }
          },
          "scene": {
           "xaxis": {
            "backgroundcolor": "#E5ECF6",
            "gridcolor": "white",
            "gridwidth": 2,
            "linecolor": "white",
            "showbackground": true,
            "ticks": "",
            "zerolinecolor": "white"
           },
           "yaxis": {
            "backgroundcolor": "#E5ECF6",
            "gridcolor": "white",
            "gridwidth": 2,
            "linecolor": "white",
            "showbackground": true,
            "ticks": "",
            "zerolinecolor": "white"
           },
           "zaxis": {
            "backgroundcolor": "#E5ECF6",
            "gridcolor": "white",
            "gridwidth": 2,
            "linecolor": "white",
            "showbackground": true,
            "ticks": "",
            "zerolinecolor": "white"
           }
          },
          "shapedefaults": {
           "line": {
            "color": "#2a3f5f"
           }
          },
          "ternary": {
           "aaxis": {
            "gridcolor": "white",
            "linecolor": "white",
            "ticks": ""
           },
           "baxis": {
            "gridcolor": "white",
            "linecolor": "white",
            "ticks": ""
           },
           "bgcolor": "#E5ECF6",
           "caxis": {
            "gridcolor": "white",
            "linecolor": "white",
            "ticks": ""
           }
          },
          "title": {
           "x": 0.05
          },
          "xaxis": {
           "automargin": true,
           "gridcolor": "white",
           "linecolor": "white",
           "ticks": "",
           "title": {
            "standoff": 15
           },
           "zerolinecolor": "white",
           "zerolinewidth": 2
          },
          "yaxis": {
           "automargin": true,
           "gridcolor": "white",
           "linecolor": "white",
           "ticks": "",
           "title": {
            "standoff": 15
           },
           "zerolinecolor": "white",
           "zerolinewidth": 2
          }
         }
        }
       }
      },
      "text/html": [
       "<div>                            <div id=\"9eb0f6e9-5171-444d-b2b8-fb5805a636bc\" class=\"plotly-graph-div\" style=\"height:525px; width:100%;\"></div>            <script type=\"text/javascript\">                require([\"plotly\"], function(Plotly) {                    window.PLOTLYENV=window.PLOTLYENV || {};                                    if (document.getElementById(\"9eb0f6e9-5171-444d-b2b8-fb5805a636bc\")) {                    Plotly.newPlot(                        \"9eb0f6e9-5171-444d-b2b8-fb5805a636bc\",                        [{\"branchvalues\":\"total\",\"customdata\":[[\"AGENCIA BN\",61963.0],[\"MESA DE AYUDA (TELEF\\u00d3NO)\",28516.0],[\"MESA DE PARTES DE LA OF. PRINCIPAL\",3288.0],[\"ORGANISMOS EXTERNOS (SBS,INDECOPI,SUNAT,OTROS)\",16.0],[\"P\\u00c1GINA WEB BN\",97896.0],[\"\\u00c1REAS OPERATIVAS DE LA OFICINA PRINCIPAL\",316.0],[\"(?)\",74205.64856897315]],\"domain\":{\"x\":[0.0,1.0],\"y\":[0.0,1.0]},\"hovertemplate\":\"labels=%{label}<br>N\\u00b0 Reclamo_sum=%{value}<br>parent=%{parent}<br>id=%{id}<br>Canal Ingreso=%{customdata[0]}<br>N\\u00b0 Reclamo=%{color}<extra></extra>\",\"ids\":[\"Codigo de reclamo/AGENCIA BN\",\"Codigo de reclamo/MESA DE AYUDA (TELEF\\u00d3NO)\",\"Codigo de reclamo/MESA DE PARTES DE LA OF. PRINCIPAL\",\"Codigo de reclamo/ORGANISMOS EXTERNOS (SBS,INDECOPI,SUNAT,OTROS)\",\"Codigo de reclamo/P\\u00c1GINA WEB BN\",\"Codigo de reclamo/\\u00c1REAS OPERATIVAS DE LA OFICINA PRINCIPAL\",\"Codigo de reclamo\"],\"labels\":[\"AGENCIA BN\",\"MESA DE AYUDA (TELEF\\u00d3NO)\",\"MESA DE PARTES DE LA OF. PRINCIPAL\",\"ORGANISMOS EXTERNOS (SBS,INDECOPI,SUNAT,OTROS)\",\"P\\u00c1GINA WEB BN\",\"\\u00c1REAS OPERATIVAS DE LA OFICINA PRINCIPAL\",\"Codigo de reclamo\"],\"marker\":{\"coloraxis\":\"coloraxis\",\"colors\":[61963.0,28516.0,3288.0,16.0,97896.0,316.0,74205.64856897315]},\"name\":\"\",\"parents\":[\"Codigo de reclamo\",\"Codigo de reclamo\",\"Codigo de reclamo\",\"Codigo de reclamo\",\"Codigo de reclamo\",\"Codigo de reclamo\",\"\"],\"values\":[61963,28516,3288,16,97896,316,191995],\"type\":\"treemap\"}],                        {\"template\":{\"data\":{\"bar\":[{\"error_x\":{\"color\":\"#2a3f5f\"},\"error_y\":{\"color\":\"#2a3f5f\"},\"marker\":{\"line\":{\"color\":\"#E5ECF6\",\"width\":0.5},\"pattern\":{\"fillmode\":\"overlay\",\"size\":10,\"solidity\":0.2}},\"type\":\"bar\"}],\"barpolar\":[{\"marker\":{\"line\":{\"color\":\"#E5ECF6\",\"width\":0.5},\"pattern\":{\"fillmode\":\"overlay\",\"size\":10,\"solidity\":0.2}},\"type\":\"barpolar\"}],\"carpet\":[{\"aaxis\":{\"endlinecolor\":\"#2a3f5f\",\"gridcolor\":\"white\",\"linecolor\":\"white\",\"minorgridcolor\":\"white\",\"startlinecolor\":\"#2a3f5f\"},\"baxis\":{\"endlinecolor\":\"#2a3f5f\",\"gridcolor\":\"white\",\"linecolor\":\"white\",\"minorgridcolor\":\"white\",\"startlinecolor\":\"#2a3f5f\"},\"type\":\"carpet\"}],\"choropleth\":[{\"colorbar\":{\"outlinewidth\":0,\"ticks\":\"\"},\"type\":\"choropleth\"}],\"contour\":[{\"colorbar\":{\"outlinewidth\":0,\"ticks\":\"\"},\"colorscale\":[[0.0,\"#0d0887\"],[0.1111111111111111,\"#46039f\"],[0.2222222222222222,\"#7201a8\"],[0.3333333333333333,\"#9c179e\"],[0.4444444444444444,\"#bd3786\"],[0.5555555555555556,\"#d8576b\"],[0.6666666666666666,\"#ed7953\"],[0.7777777777777778,\"#fb9f3a\"],[0.8888888888888888,\"#fdca26\"],[1.0,\"#f0f921\"]],\"type\":\"contour\"}],\"contourcarpet\":[{\"colorbar\":{\"outlinewidth\":0,\"ticks\":\"\"},\"type\":\"contourcarpet\"}],\"heatmap\":[{\"colorbar\":{\"outlinewidth\":0,\"ticks\":\"\"},\"colorscale\":[[0.0,\"#0d0887\"],[0.1111111111111111,\"#46039f\"],[0.2222222222222222,\"#7201a8\"],[0.3333333333333333,\"#9c179e\"],[0.4444444444444444,\"#bd3786\"],[0.5555555555555556,\"#d8576b\"],[0.6666666666666666,\"#ed7953\"],[0.7777777777777778,\"#fb9f3a\"],[0.8888888888888888,\"#fdca26\"],[1.0,\"#f0f921\"]],\"type\":\"heatmap\"}],\"heatmapgl\":[{\"colorbar\":{\"outlinewidth\":0,\"ticks\":\"\"},\"colorscale\":[[0.0,\"#0d0887\"],[0.1111111111111111,\"#46039f\"],[0.2222222222222222,\"#7201a8\"],[0.3333333333333333,\"#9c179e\"],[0.4444444444444444,\"#bd3786\"],[0.5555555555555556,\"#d8576b\"],[0.6666666666666666,\"#ed7953\"],[0.7777777777777778,\"#fb9f3a\"],[0.8888888888888888,\"#fdca26\"],[1.0,\"#f0f921\"]],\"type\":\"heatmapgl\"}],\"histogram\":[{\"marker\":{\"pattern\":{\"fillmode\":\"overlay\",\"size\":10,\"solidity\":0.2}},\"type\":\"histogram\"}],\"histogram2d\":[{\"colorbar\":{\"outlinewidth\":0,\"ticks\":\"\"},\"colorscale\":[[0.0,\"#0d0887\"],[0.1111111111111111,\"#46039f\"],[0.2222222222222222,\"#7201a8\"],[0.3333333333333333,\"#9c179e\"],[0.4444444444444444,\"#bd3786\"],[0.5555555555555556,\"#d8576b\"],[0.6666666666666666,\"#ed7953\"],[0.7777777777777778,\"#fb9f3a\"],[0.8888888888888888,\"#fdca26\"],[1.0,\"#f0f921\"]],\"type\":\"histogram2d\"}],\"histogram2dcontour\":[{\"colorbar\":{\"outlinewidth\":0,\"ticks\":\"\"},\"colorscale\":[[0.0,\"#0d0887\"],[0.1111111111111111,\"#46039f\"],[0.2222222222222222,\"#7201a8\"],[0.3333333333333333,\"#9c179e\"],[0.4444444444444444,\"#bd3786\"],[0.5555555555555556,\"#d8576b\"],[0.6666666666666666,\"#ed7953\"],[0.7777777777777778,\"#fb9f3a\"],[0.8888888888888888,\"#fdca26\"],[1.0,\"#f0f921\"]],\"type\":\"histogram2dcontour\"}],\"mesh3d\":[{\"colorbar\":{\"outlinewidth\":0,\"ticks\":\"\"},\"type\":\"mesh3d\"}],\"parcoords\":[{\"line\":{\"colorbar\":{\"outlinewidth\":0,\"ticks\":\"\"}},\"type\":\"parcoords\"}],\"pie\":[{\"automargin\":true,\"type\":\"pie\"}],\"scatter\":[{\"marker\":{\"colorbar\":{\"outlinewidth\":0,\"ticks\":\"\"}},\"type\":\"scatter\"}],\"scatter3d\":[{\"line\":{\"colorbar\":{\"outlinewidth\":0,\"ticks\":\"\"}},\"marker\":{\"colorbar\":{\"outlinewidth\":0,\"ticks\":\"\"}},\"type\":\"scatter3d\"}],\"scattercarpet\":[{\"marker\":{\"colorbar\":{\"outlinewidth\":0,\"ticks\":\"\"}},\"type\":\"scattercarpet\"}],\"scattergeo\":[{\"marker\":{\"colorbar\":{\"outlinewidth\":0,\"ticks\":\"\"}},\"type\":\"scattergeo\"}],\"scattergl\":[{\"marker\":{\"colorbar\":{\"outlinewidth\":0,\"ticks\":\"\"}},\"type\":\"scattergl\"}],\"scattermapbox\":[{\"marker\":{\"colorbar\":{\"outlinewidth\":0,\"ticks\":\"\"}},\"type\":\"scattermapbox\"}],\"scatterpolar\":[{\"marker\":{\"colorbar\":{\"outlinewidth\":0,\"ticks\":\"\"}},\"type\":\"scatterpolar\"}],\"scatterpolargl\":[{\"marker\":{\"colorbar\":{\"outlinewidth\":0,\"ticks\":\"\"}},\"type\":\"scatterpolargl\"}],\"scatterternary\":[{\"marker\":{\"colorbar\":{\"outlinewidth\":0,\"ticks\":\"\"}},\"type\":\"scatterternary\"}],\"surface\":[{\"colorbar\":{\"outlinewidth\":0,\"ticks\":\"\"},\"colorscale\":[[0.0,\"#0d0887\"],[0.1111111111111111,\"#46039f\"],[0.2222222222222222,\"#7201a8\"],[0.3333333333333333,\"#9c179e\"],[0.4444444444444444,\"#bd3786\"],[0.5555555555555556,\"#d8576b\"],[0.6666666666666666,\"#ed7953\"],[0.7777777777777778,\"#fb9f3a\"],[0.8888888888888888,\"#fdca26\"],[1.0,\"#f0f921\"]],\"type\":\"surface\"}],\"table\":[{\"cells\":{\"fill\":{\"color\":\"#EBF0F8\"},\"line\":{\"color\":\"white\"}},\"header\":{\"fill\":{\"color\":\"#C8D4E3\"},\"line\":{\"color\":\"white\"}},\"type\":\"table\"}]},\"layout\":{\"annotationdefaults\":{\"arrowcolor\":\"#2a3f5f\",\"arrowhead\":0,\"arrowwidth\":1},\"autotypenumbers\":\"strict\",\"coloraxis\":{\"colorbar\":{\"outlinewidth\":0,\"ticks\":\"\"}},\"colorscale\":{\"diverging\":[[0,\"#8e0152\"],[0.1,\"#c51b7d\"],[0.2,\"#de77ae\"],[0.3,\"#f1b6da\"],[0.4,\"#fde0ef\"],[0.5,\"#f7f7f7\"],[0.6,\"#e6f5d0\"],[0.7,\"#b8e186\"],[0.8,\"#7fbc41\"],[0.9,\"#4d9221\"],[1,\"#276419\"]],\"sequential\":[[0.0,\"#0d0887\"],[0.1111111111111111,\"#46039f\"],[0.2222222222222222,\"#7201a8\"],[0.3333333333333333,\"#9c179e\"],[0.4444444444444444,\"#bd3786\"],[0.5555555555555556,\"#d8576b\"],[0.6666666666666666,\"#ed7953\"],[0.7777777777777778,\"#fb9f3a\"],[0.8888888888888888,\"#fdca26\"],[1.0,\"#f0f921\"]],\"sequentialminus\":[[0.0,\"#0d0887\"],[0.1111111111111111,\"#46039f\"],[0.2222222222222222,\"#7201a8\"],[0.3333333333333333,\"#9c179e\"],[0.4444444444444444,\"#bd3786\"],[0.5555555555555556,\"#d8576b\"],[0.6666666666666666,\"#ed7953\"],[0.7777777777777778,\"#fb9f3a\"],[0.8888888888888888,\"#fdca26\"],[1.0,\"#f0f921\"]]},\"colorway\":[\"#636efa\",\"#EF553B\",\"#00cc96\",\"#ab63fa\",\"#FFA15A\",\"#19d3f3\",\"#FF6692\",\"#B6E880\",\"#FF97FF\",\"#FECB52\"],\"font\":{\"color\":\"#2a3f5f\"},\"geo\":{\"bgcolor\":\"white\",\"lakecolor\":\"white\",\"landcolor\":\"#E5ECF6\",\"showlakes\":true,\"showland\":true,\"subunitcolor\":\"white\"},\"hoverlabel\":{\"align\":\"left\"},\"hovermode\":\"closest\",\"mapbox\":{\"style\":\"light\"},\"paper_bgcolor\":\"white\",\"plot_bgcolor\":\"#E5ECF6\",\"polar\":{\"angularaxis\":{\"gridcolor\":\"white\",\"linecolor\":\"white\",\"ticks\":\"\"},\"bgcolor\":\"#E5ECF6\",\"radialaxis\":{\"gridcolor\":\"white\",\"linecolor\":\"white\",\"ticks\":\"\"}},\"scene\":{\"xaxis\":{\"backgroundcolor\":\"#E5ECF6\",\"gridcolor\":\"white\",\"gridwidth\":2,\"linecolor\":\"white\",\"showbackground\":true,\"ticks\":\"\",\"zerolinecolor\":\"white\"},\"yaxis\":{\"backgroundcolor\":\"#E5ECF6\",\"gridcolor\":\"white\",\"gridwidth\":2,\"linecolor\":\"white\",\"showbackground\":true,\"ticks\":\"\",\"zerolinecolor\":\"white\"},\"zaxis\":{\"backgroundcolor\":\"#E5ECF6\",\"gridcolor\":\"white\",\"gridwidth\":2,\"linecolor\":\"white\",\"showbackground\":true,\"ticks\":\"\",\"zerolinecolor\":\"white\"}},\"shapedefaults\":{\"line\":{\"color\":\"#2a3f5f\"}},\"ternary\":{\"aaxis\":{\"gridcolor\":\"white\",\"linecolor\":\"white\",\"ticks\":\"\"},\"baxis\":{\"gridcolor\":\"white\",\"linecolor\":\"white\",\"ticks\":\"\"},\"bgcolor\":\"#E5ECF6\",\"caxis\":{\"gridcolor\":\"white\",\"linecolor\":\"white\",\"ticks\":\"\"}},\"title\":{\"x\":0.05},\"xaxis\":{\"automargin\":true,\"gridcolor\":\"white\",\"linecolor\":\"white\",\"ticks\":\"\",\"title\":{\"standoff\":15},\"zerolinecolor\":\"white\",\"zerolinewidth\":2},\"yaxis\":{\"automargin\":true,\"gridcolor\":\"white\",\"linecolor\":\"white\",\"ticks\":\"\",\"title\":{\"standoff\":15},\"zerolinecolor\":\"white\",\"zerolinewidth\":2}}},\"coloraxis\":{\"colorbar\":{\"title\":{\"text\":\"N\\u00b0 Reclamo\"}},\"colorscale\":[[0.0,\"#0d0887\"],[0.1111111111111111,\"#46039f\"],[0.2222222222222222,\"#7201a8\"],[0.3333333333333333,\"#9c179e\"],[0.4444444444444444,\"#bd3786\"],[0.5555555555555556,\"#d8576b\"],[0.6666666666666666,\"#ed7953\"],[0.7777777777777778,\"#fb9f3a\"],[0.8888888888888888,\"#fdca26\"],[1.0,\"#f0f921\"]]},\"legend\":{\"tracegroupgap\":0},\"margin\":{\"t\":60}},                        {\"responsive\": true}                    ).then(function(){\n",
       "                            \n",
       "var gd = document.getElementById('9eb0f6e9-5171-444d-b2b8-fb5805a636bc');\n",
       "var x = new MutationObserver(function (mutations, observer) {{\n",
       "        var display = window.getComputedStyle(gd).display;\n",
       "        if (!display || display === 'none') {{\n",
       "            console.log([gd, 'removed!']);\n",
       "            Plotly.purge(gd);\n",
       "            observer.disconnect();\n",
       "        }}\n",
       "}});\n",
       "\n",
       "// Listen for the removal of the full notebook cells\n",
       "var notebookContainer = gd.closest('#notebook-container');\n",
       "if (notebookContainer) {{\n",
       "    x.observe(notebookContainer, {childList: true});\n",
       "}}\n",
       "\n",
       "// Listen for the clearing of the current output cell\n",
       "var outputEl = gd.closest('.output');\n",
       "if (outputEl) {{\n",
       "    x.observe(outputEl, {childList: true});\n",
       "}}\n",
       "\n",
       "                        })                };                });            </script>        </div>"
      ]
     },
     "metadata": {},
     "output_type": "display_data"
    }
   ],
   "source": [
    "data_temp = datos_preprocessed.groupby(['Canal Ingreso']).agg({ 'N° Reclamo': \"count\"})\n",
    "data_temp = data_temp.sort_values(by=['N° Reclamo'], ascending = False).reset_index()\n",
    "\n",
    "fig = px.treemap(data_temp, path=[px.Constant('Codigo de reclamo'),'Canal Ingreso'], values='N° Reclamo',\n",
    "                  color='N° Reclamo', hover_data=['Canal Ingreso'])\n",
    "fig.show()\n",
    "\n",
    "# Usar diagrama Pie"
   ]
  },
  {
   "cell_type": "code",
   "execution_count": 185,
   "id": "c5049926",
   "metadata": {},
   "outputs": [
    {
     "data": {
      "application/vnd.plotly.v1+json": {
       "config": {
        "plotlyServerURL": "https://plot.ly"
       },
       "data": [
        {
         "domain": {
          "x": [
           0,
           1
          ],
          "y": [
           0,
           1
          ]
         },
         "hovertemplate": "Canal Ingreso=%{label}<br>per=%{value}<extra></extra>",
         "labels": [
          "PÁGINA WEB BN",
          "AGENCIA BN",
          "MESA DE AYUDA (TELEFÓNO)",
          "MESA DE PARTES DE LA OF. PRINCIPAL",
          "ÁREAS OPERATIVAS DE LA OFICINA PRINCIPAL",
          "ORGANISMOS EXTERNOS (SBS,INDECOPI,SUNAT,OTROS)"
         ],
         "legendgroup": "",
         "name": "",
         "showlegend": true,
         "type": "pie",
         "values": [
          50.988827834058185,
          32.27323628219485,
          14.85247011640928,
          1.7125445975155602,
          0.164587619469257,
          0.008333550352873772
         ]
        }
       ],
       "layout": {
        "legend": {
         "tracegroupgap": 0
        },
        "template": {
         "data": {
          "bar": [
           {
            "error_x": {
             "color": "#2a3f5f"
            },
            "error_y": {
             "color": "#2a3f5f"
            },
            "marker": {
             "line": {
              "color": "#E5ECF6",
              "width": 0.5
             },
             "pattern": {
              "fillmode": "overlay",
              "size": 10,
              "solidity": 0.2
             }
            },
            "type": "bar"
           }
          ],
          "barpolar": [
           {
            "marker": {
             "line": {
              "color": "#E5ECF6",
              "width": 0.5
             },
             "pattern": {
              "fillmode": "overlay",
              "size": 10,
              "solidity": 0.2
             }
            },
            "type": "barpolar"
           }
          ],
          "carpet": [
           {
            "aaxis": {
             "endlinecolor": "#2a3f5f",
             "gridcolor": "white",
             "linecolor": "white",
             "minorgridcolor": "white",
             "startlinecolor": "#2a3f5f"
            },
            "baxis": {
             "endlinecolor": "#2a3f5f",
             "gridcolor": "white",
             "linecolor": "white",
             "minorgridcolor": "white",
             "startlinecolor": "#2a3f5f"
            },
            "type": "carpet"
           }
          ],
          "choropleth": [
           {
            "colorbar": {
             "outlinewidth": 0,
             "ticks": ""
            },
            "type": "choropleth"
           }
          ],
          "contour": [
           {
            "colorbar": {
             "outlinewidth": 0,
             "ticks": ""
            },
            "colorscale": [
             [
              0,
              "#0d0887"
             ],
             [
              0.1111111111111111,
              "#46039f"
             ],
             [
              0.2222222222222222,
              "#7201a8"
             ],
             [
              0.3333333333333333,
              "#9c179e"
             ],
             [
              0.4444444444444444,
              "#bd3786"
             ],
             [
              0.5555555555555556,
              "#d8576b"
             ],
             [
              0.6666666666666666,
              "#ed7953"
             ],
             [
              0.7777777777777778,
              "#fb9f3a"
             ],
             [
              0.8888888888888888,
              "#fdca26"
             ],
             [
              1,
              "#f0f921"
             ]
            ],
            "type": "contour"
           }
          ],
          "contourcarpet": [
           {
            "colorbar": {
             "outlinewidth": 0,
             "ticks": ""
            },
            "type": "contourcarpet"
           }
          ],
          "heatmap": [
           {
            "colorbar": {
             "outlinewidth": 0,
             "ticks": ""
            },
            "colorscale": [
             [
              0,
              "#0d0887"
             ],
             [
              0.1111111111111111,
              "#46039f"
             ],
             [
              0.2222222222222222,
              "#7201a8"
             ],
             [
              0.3333333333333333,
              "#9c179e"
             ],
             [
              0.4444444444444444,
              "#bd3786"
             ],
             [
              0.5555555555555556,
              "#d8576b"
             ],
             [
              0.6666666666666666,
              "#ed7953"
             ],
             [
              0.7777777777777778,
              "#fb9f3a"
             ],
             [
              0.8888888888888888,
              "#fdca26"
             ],
             [
              1,
              "#f0f921"
             ]
            ],
            "type": "heatmap"
           }
          ],
          "heatmapgl": [
           {
            "colorbar": {
             "outlinewidth": 0,
             "ticks": ""
            },
            "colorscale": [
             [
              0,
              "#0d0887"
             ],
             [
              0.1111111111111111,
              "#46039f"
             ],
             [
              0.2222222222222222,
              "#7201a8"
             ],
             [
              0.3333333333333333,
              "#9c179e"
             ],
             [
              0.4444444444444444,
              "#bd3786"
             ],
             [
              0.5555555555555556,
              "#d8576b"
             ],
             [
              0.6666666666666666,
              "#ed7953"
             ],
             [
              0.7777777777777778,
              "#fb9f3a"
             ],
             [
              0.8888888888888888,
              "#fdca26"
             ],
             [
              1,
              "#f0f921"
             ]
            ],
            "type": "heatmapgl"
           }
          ],
          "histogram": [
           {
            "marker": {
             "pattern": {
              "fillmode": "overlay",
              "size": 10,
              "solidity": 0.2
             }
            },
            "type": "histogram"
           }
          ],
          "histogram2d": [
           {
            "colorbar": {
             "outlinewidth": 0,
             "ticks": ""
            },
            "colorscale": [
             [
              0,
              "#0d0887"
             ],
             [
              0.1111111111111111,
              "#46039f"
             ],
             [
              0.2222222222222222,
              "#7201a8"
             ],
             [
              0.3333333333333333,
              "#9c179e"
             ],
             [
              0.4444444444444444,
              "#bd3786"
             ],
             [
              0.5555555555555556,
              "#d8576b"
             ],
             [
              0.6666666666666666,
              "#ed7953"
             ],
             [
              0.7777777777777778,
              "#fb9f3a"
             ],
             [
              0.8888888888888888,
              "#fdca26"
             ],
             [
              1,
              "#f0f921"
             ]
            ],
            "type": "histogram2d"
           }
          ],
          "histogram2dcontour": [
           {
            "colorbar": {
             "outlinewidth": 0,
             "ticks": ""
            },
            "colorscale": [
             [
              0,
              "#0d0887"
             ],
             [
              0.1111111111111111,
              "#46039f"
             ],
             [
              0.2222222222222222,
              "#7201a8"
             ],
             [
              0.3333333333333333,
              "#9c179e"
             ],
             [
              0.4444444444444444,
              "#bd3786"
             ],
             [
              0.5555555555555556,
              "#d8576b"
             ],
             [
              0.6666666666666666,
              "#ed7953"
             ],
             [
              0.7777777777777778,
              "#fb9f3a"
             ],
             [
              0.8888888888888888,
              "#fdca26"
             ],
             [
              1,
              "#f0f921"
             ]
            ],
            "type": "histogram2dcontour"
           }
          ],
          "mesh3d": [
           {
            "colorbar": {
             "outlinewidth": 0,
             "ticks": ""
            },
            "type": "mesh3d"
           }
          ],
          "parcoords": [
           {
            "line": {
             "colorbar": {
              "outlinewidth": 0,
              "ticks": ""
             }
            },
            "type": "parcoords"
           }
          ],
          "pie": [
           {
            "automargin": true,
            "type": "pie"
           }
          ],
          "scatter": [
           {
            "marker": {
             "colorbar": {
              "outlinewidth": 0,
              "ticks": ""
             }
            },
            "type": "scatter"
           }
          ],
          "scatter3d": [
           {
            "line": {
             "colorbar": {
              "outlinewidth": 0,
              "ticks": ""
             }
            },
            "marker": {
             "colorbar": {
              "outlinewidth": 0,
              "ticks": ""
             }
            },
            "type": "scatter3d"
           }
          ],
          "scattercarpet": [
           {
            "marker": {
             "colorbar": {
              "outlinewidth": 0,
              "ticks": ""
             }
            },
            "type": "scattercarpet"
           }
          ],
          "scattergeo": [
           {
            "marker": {
             "colorbar": {
              "outlinewidth": 0,
              "ticks": ""
             }
            },
            "type": "scattergeo"
           }
          ],
          "scattergl": [
           {
            "marker": {
             "colorbar": {
              "outlinewidth": 0,
              "ticks": ""
             }
            },
            "type": "scattergl"
           }
          ],
          "scattermapbox": [
           {
            "marker": {
             "colorbar": {
              "outlinewidth": 0,
              "ticks": ""
             }
            },
            "type": "scattermapbox"
           }
          ],
          "scatterpolar": [
           {
            "marker": {
             "colorbar": {
              "outlinewidth": 0,
              "ticks": ""
             }
            },
            "type": "scatterpolar"
           }
          ],
          "scatterpolargl": [
           {
            "marker": {
             "colorbar": {
              "outlinewidth": 0,
              "ticks": ""
             }
            },
            "type": "scatterpolargl"
           }
          ],
          "scatterternary": [
           {
            "marker": {
             "colorbar": {
              "outlinewidth": 0,
              "ticks": ""
             }
            },
            "type": "scatterternary"
           }
          ],
          "surface": [
           {
            "colorbar": {
             "outlinewidth": 0,
             "ticks": ""
            },
            "colorscale": [
             [
              0,
              "#0d0887"
             ],
             [
              0.1111111111111111,
              "#46039f"
             ],
             [
              0.2222222222222222,
              "#7201a8"
             ],
             [
              0.3333333333333333,
              "#9c179e"
             ],
             [
              0.4444444444444444,
              "#bd3786"
             ],
             [
              0.5555555555555556,
              "#d8576b"
             ],
             [
              0.6666666666666666,
              "#ed7953"
             ],
             [
              0.7777777777777778,
              "#fb9f3a"
             ],
             [
              0.8888888888888888,
              "#fdca26"
             ],
             [
              1,
              "#f0f921"
             ]
            ],
            "type": "surface"
           }
          ],
          "table": [
           {
            "cells": {
             "fill": {
              "color": "#EBF0F8"
             },
             "line": {
              "color": "white"
             }
            },
            "header": {
             "fill": {
              "color": "#C8D4E3"
             },
             "line": {
              "color": "white"
             }
            },
            "type": "table"
           }
          ]
         },
         "layout": {
          "annotationdefaults": {
           "arrowcolor": "#2a3f5f",
           "arrowhead": 0,
           "arrowwidth": 1
          },
          "autotypenumbers": "strict",
          "coloraxis": {
           "colorbar": {
            "outlinewidth": 0,
            "ticks": ""
           }
          },
          "colorscale": {
           "diverging": [
            [
             0,
             "#8e0152"
            ],
            [
             0.1,
             "#c51b7d"
            ],
            [
             0.2,
             "#de77ae"
            ],
            [
             0.3,
             "#f1b6da"
            ],
            [
             0.4,
             "#fde0ef"
            ],
            [
             0.5,
             "#f7f7f7"
            ],
            [
             0.6,
             "#e6f5d0"
            ],
            [
             0.7,
             "#b8e186"
            ],
            [
             0.8,
             "#7fbc41"
            ],
            [
             0.9,
             "#4d9221"
            ],
            [
             1,
             "#276419"
            ]
           ],
           "sequential": [
            [
             0,
             "#0d0887"
            ],
            [
             0.1111111111111111,
             "#46039f"
            ],
            [
             0.2222222222222222,
             "#7201a8"
            ],
            [
             0.3333333333333333,
             "#9c179e"
            ],
            [
             0.4444444444444444,
             "#bd3786"
            ],
            [
             0.5555555555555556,
             "#d8576b"
            ],
            [
             0.6666666666666666,
             "#ed7953"
            ],
            [
             0.7777777777777778,
             "#fb9f3a"
            ],
            [
             0.8888888888888888,
             "#fdca26"
            ],
            [
             1,
             "#f0f921"
            ]
           ],
           "sequentialminus": [
            [
             0,
             "#0d0887"
            ],
            [
             0.1111111111111111,
             "#46039f"
            ],
            [
             0.2222222222222222,
             "#7201a8"
            ],
            [
             0.3333333333333333,
             "#9c179e"
            ],
            [
             0.4444444444444444,
             "#bd3786"
            ],
            [
             0.5555555555555556,
             "#d8576b"
            ],
            [
             0.6666666666666666,
             "#ed7953"
            ],
            [
             0.7777777777777778,
             "#fb9f3a"
            ],
            [
             0.8888888888888888,
             "#fdca26"
            ],
            [
             1,
             "#f0f921"
            ]
           ]
          },
          "colorway": [
           "#636efa",
           "#EF553B",
           "#00cc96",
           "#ab63fa",
           "#FFA15A",
           "#19d3f3",
           "#FF6692",
           "#B6E880",
           "#FF97FF",
           "#FECB52"
          ],
          "font": {
           "color": "#2a3f5f"
          },
          "geo": {
           "bgcolor": "white",
           "lakecolor": "white",
           "landcolor": "#E5ECF6",
           "showlakes": true,
           "showland": true,
           "subunitcolor": "white"
          },
          "hoverlabel": {
           "align": "left"
          },
          "hovermode": "closest",
          "mapbox": {
           "style": "light"
          },
          "paper_bgcolor": "white",
          "plot_bgcolor": "#E5ECF6",
          "polar": {
           "angularaxis": {
            "gridcolor": "white",
            "linecolor": "white",
            "ticks": ""
           },
           "bgcolor": "#E5ECF6",
           "radialaxis": {
            "gridcolor": "white",
            "linecolor": "white",
            "ticks": ""
           }
          },
          "scene": {
           "xaxis": {
            "backgroundcolor": "#E5ECF6",
            "gridcolor": "white",
            "gridwidth": 2,
            "linecolor": "white",
            "showbackground": true,
            "ticks": "",
            "zerolinecolor": "white"
           },
           "yaxis": {
            "backgroundcolor": "#E5ECF6",
            "gridcolor": "white",
            "gridwidth": 2,
            "linecolor": "white",
            "showbackground": true,
            "ticks": "",
            "zerolinecolor": "white"
           },
           "zaxis": {
            "backgroundcolor": "#E5ECF6",
            "gridcolor": "white",
            "gridwidth": 2,
            "linecolor": "white",
            "showbackground": true,
            "ticks": "",
            "zerolinecolor": "white"
           }
          },
          "shapedefaults": {
           "line": {
            "color": "#2a3f5f"
           }
          },
          "ternary": {
           "aaxis": {
            "gridcolor": "white",
            "linecolor": "white",
            "ticks": ""
           },
           "baxis": {
            "gridcolor": "white",
            "linecolor": "white",
            "ticks": ""
           },
           "bgcolor": "#E5ECF6",
           "caxis": {
            "gridcolor": "white",
            "linecolor": "white",
            "ticks": ""
           }
          },
          "title": {
           "x": 0.05
          },
          "xaxis": {
           "automargin": true,
           "gridcolor": "white",
           "linecolor": "white",
           "ticks": "",
           "title": {
            "standoff": 15
           },
           "zerolinecolor": "white",
           "zerolinewidth": 2
          },
          "yaxis": {
           "automargin": true,
           "gridcolor": "white",
           "linecolor": "white",
           "ticks": "",
           "title": {
            "standoff": 15
           },
           "zerolinecolor": "white",
           "zerolinewidth": 2
          }
         }
        },
        "title": {
         "text": "Porcentage por Canal Ingreso"
        }
       }
      },
      "text/html": [
       "<div>                            <div id=\"7ea4e8f7-7716-4e72-9929-90344337a008\" class=\"plotly-graph-div\" style=\"height:525px; width:100%;\"></div>            <script type=\"text/javascript\">                require([\"plotly\"], function(Plotly) {                    window.PLOTLYENV=window.PLOTLYENV || {};                                    if (document.getElementById(\"7ea4e8f7-7716-4e72-9929-90344337a008\")) {                    Plotly.newPlot(                        \"7ea4e8f7-7716-4e72-9929-90344337a008\",                        [{\"domain\":{\"x\":[0.0,1.0],\"y\":[0.0,1.0]},\"hovertemplate\":\"Canal Ingreso=%{label}<br>per=%{value}<extra></extra>\",\"labels\":[\"P\\u00c1GINA WEB BN\",\"AGENCIA BN\",\"MESA DE AYUDA (TELEF\\u00d3NO)\",\"MESA DE PARTES DE LA OF. PRINCIPAL\",\"\\u00c1REAS OPERATIVAS DE LA OFICINA PRINCIPAL\",\"ORGANISMOS EXTERNOS (SBS,INDECOPI,SUNAT,OTROS)\"],\"legendgroup\":\"\",\"name\":\"\",\"showlegend\":true,\"values\":[50.988827834058185,32.27323628219485,14.85247011640928,1.7125445975155602,0.164587619469257,0.008333550352873772],\"type\":\"pie\"}],                        {\"template\":{\"data\":{\"bar\":[{\"error_x\":{\"color\":\"#2a3f5f\"},\"error_y\":{\"color\":\"#2a3f5f\"},\"marker\":{\"line\":{\"color\":\"#E5ECF6\",\"width\":0.5},\"pattern\":{\"fillmode\":\"overlay\",\"size\":10,\"solidity\":0.2}},\"type\":\"bar\"}],\"barpolar\":[{\"marker\":{\"line\":{\"color\":\"#E5ECF6\",\"width\":0.5},\"pattern\":{\"fillmode\":\"overlay\",\"size\":10,\"solidity\":0.2}},\"type\":\"barpolar\"}],\"carpet\":[{\"aaxis\":{\"endlinecolor\":\"#2a3f5f\",\"gridcolor\":\"white\",\"linecolor\":\"white\",\"minorgridcolor\":\"white\",\"startlinecolor\":\"#2a3f5f\"},\"baxis\":{\"endlinecolor\":\"#2a3f5f\",\"gridcolor\":\"white\",\"linecolor\":\"white\",\"minorgridcolor\":\"white\",\"startlinecolor\":\"#2a3f5f\"},\"type\":\"carpet\"}],\"choropleth\":[{\"colorbar\":{\"outlinewidth\":0,\"ticks\":\"\"},\"type\":\"choropleth\"}],\"contour\":[{\"colorbar\":{\"outlinewidth\":0,\"ticks\":\"\"},\"colorscale\":[[0.0,\"#0d0887\"],[0.1111111111111111,\"#46039f\"],[0.2222222222222222,\"#7201a8\"],[0.3333333333333333,\"#9c179e\"],[0.4444444444444444,\"#bd3786\"],[0.5555555555555556,\"#d8576b\"],[0.6666666666666666,\"#ed7953\"],[0.7777777777777778,\"#fb9f3a\"],[0.8888888888888888,\"#fdca26\"],[1.0,\"#f0f921\"]],\"type\":\"contour\"}],\"contourcarpet\":[{\"colorbar\":{\"outlinewidth\":0,\"ticks\":\"\"},\"type\":\"contourcarpet\"}],\"heatmap\":[{\"colorbar\":{\"outlinewidth\":0,\"ticks\":\"\"},\"colorscale\":[[0.0,\"#0d0887\"],[0.1111111111111111,\"#46039f\"],[0.2222222222222222,\"#7201a8\"],[0.3333333333333333,\"#9c179e\"],[0.4444444444444444,\"#bd3786\"],[0.5555555555555556,\"#d8576b\"],[0.6666666666666666,\"#ed7953\"],[0.7777777777777778,\"#fb9f3a\"],[0.8888888888888888,\"#fdca26\"],[1.0,\"#f0f921\"]],\"type\":\"heatmap\"}],\"heatmapgl\":[{\"colorbar\":{\"outlinewidth\":0,\"ticks\":\"\"},\"colorscale\":[[0.0,\"#0d0887\"],[0.1111111111111111,\"#46039f\"],[0.2222222222222222,\"#7201a8\"],[0.3333333333333333,\"#9c179e\"],[0.4444444444444444,\"#bd3786\"],[0.5555555555555556,\"#d8576b\"],[0.6666666666666666,\"#ed7953\"],[0.7777777777777778,\"#fb9f3a\"],[0.8888888888888888,\"#fdca26\"],[1.0,\"#f0f921\"]],\"type\":\"heatmapgl\"}],\"histogram\":[{\"marker\":{\"pattern\":{\"fillmode\":\"overlay\",\"size\":10,\"solidity\":0.2}},\"type\":\"histogram\"}],\"histogram2d\":[{\"colorbar\":{\"outlinewidth\":0,\"ticks\":\"\"},\"colorscale\":[[0.0,\"#0d0887\"],[0.1111111111111111,\"#46039f\"],[0.2222222222222222,\"#7201a8\"],[0.3333333333333333,\"#9c179e\"],[0.4444444444444444,\"#bd3786\"],[0.5555555555555556,\"#d8576b\"],[0.6666666666666666,\"#ed7953\"],[0.7777777777777778,\"#fb9f3a\"],[0.8888888888888888,\"#fdca26\"],[1.0,\"#f0f921\"]],\"type\":\"histogram2d\"}],\"histogram2dcontour\":[{\"colorbar\":{\"outlinewidth\":0,\"ticks\":\"\"},\"colorscale\":[[0.0,\"#0d0887\"],[0.1111111111111111,\"#46039f\"],[0.2222222222222222,\"#7201a8\"],[0.3333333333333333,\"#9c179e\"],[0.4444444444444444,\"#bd3786\"],[0.5555555555555556,\"#d8576b\"],[0.6666666666666666,\"#ed7953\"],[0.7777777777777778,\"#fb9f3a\"],[0.8888888888888888,\"#fdca26\"],[1.0,\"#f0f921\"]],\"type\":\"histogram2dcontour\"}],\"mesh3d\":[{\"colorbar\":{\"outlinewidth\":0,\"ticks\":\"\"},\"type\":\"mesh3d\"}],\"parcoords\":[{\"line\":{\"colorbar\":{\"outlinewidth\":0,\"ticks\":\"\"}},\"type\":\"parcoords\"}],\"pie\":[{\"automargin\":true,\"type\":\"pie\"}],\"scatter\":[{\"marker\":{\"colorbar\":{\"outlinewidth\":0,\"ticks\":\"\"}},\"type\":\"scatter\"}],\"scatter3d\":[{\"line\":{\"colorbar\":{\"outlinewidth\":0,\"ticks\":\"\"}},\"marker\":{\"colorbar\":{\"outlinewidth\":0,\"ticks\":\"\"}},\"type\":\"scatter3d\"}],\"scattercarpet\":[{\"marker\":{\"colorbar\":{\"outlinewidth\":0,\"ticks\":\"\"}},\"type\":\"scattercarpet\"}],\"scattergeo\":[{\"marker\":{\"colorbar\":{\"outlinewidth\":0,\"ticks\":\"\"}},\"type\":\"scattergeo\"}],\"scattergl\":[{\"marker\":{\"colorbar\":{\"outlinewidth\":0,\"ticks\":\"\"}},\"type\":\"scattergl\"}],\"scattermapbox\":[{\"marker\":{\"colorbar\":{\"outlinewidth\":0,\"ticks\":\"\"}},\"type\":\"scattermapbox\"}],\"scatterpolar\":[{\"marker\":{\"colorbar\":{\"outlinewidth\":0,\"ticks\":\"\"}},\"type\":\"scatterpolar\"}],\"scatterpolargl\":[{\"marker\":{\"colorbar\":{\"outlinewidth\":0,\"ticks\":\"\"}},\"type\":\"scatterpolargl\"}],\"scatterternary\":[{\"marker\":{\"colorbar\":{\"outlinewidth\":0,\"ticks\":\"\"}},\"type\":\"scatterternary\"}],\"surface\":[{\"colorbar\":{\"outlinewidth\":0,\"ticks\":\"\"},\"colorscale\":[[0.0,\"#0d0887\"],[0.1111111111111111,\"#46039f\"],[0.2222222222222222,\"#7201a8\"],[0.3333333333333333,\"#9c179e\"],[0.4444444444444444,\"#bd3786\"],[0.5555555555555556,\"#d8576b\"],[0.6666666666666666,\"#ed7953\"],[0.7777777777777778,\"#fb9f3a\"],[0.8888888888888888,\"#fdca26\"],[1.0,\"#f0f921\"]],\"type\":\"surface\"}],\"table\":[{\"cells\":{\"fill\":{\"color\":\"#EBF0F8\"},\"line\":{\"color\":\"white\"}},\"header\":{\"fill\":{\"color\":\"#C8D4E3\"},\"line\":{\"color\":\"white\"}},\"type\":\"table\"}]},\"layout\":{\"annotationdefaults\":{\"arrowcolor\":\"#2a3f5f\",\"arrowhead\":0,\"arrowwidth\":1},\"autotypenumbers\":\"strict\",\"coloraxis\":{\"colorbar\":{\"outlinewidth\":0,\"ticks\":\"\"}},\"colorscale\":{\"diverging\":[[0,\"#8e0152\"],[0.1,\"#c51b7d\"],[0.2,\"#de77ae\"],[0.3,\"#f1b6da\"],[0.4,\"#fde0ef\"],[0.5,\"#f7f7f7\"],[0.6,\"#e6f5d0\"],[0.7,\"#b8e186\"],[0.8,\"#7fbc41\"],[0.9,\"#4d9221\"],[1,\"#276419\"]],\"sequential\":[[0.0,\"#0d0887\"],[0.1111111111111111,\"#46039f\"],[0.2222222222222222,\"#7201a8\"],[0.3333333333333333,\"#9c179e\"],[0.4444444444444444,\"#bd3786\"],[0.5555555555555556,\"#d8576b\"],[0.6666666666666666,\"#ed7953\"],[0.7777777777777778,\"#fb9f3a\"],[0.8888888888888888,\"#fdca26\"],[1.0,\"#f0f921\"]],\"sequentialminus\":[[0.0,\"#0d0887\"],[0.1111111111111111,\"#46039f\"],[0.2222222222222222,\"#7201a8\"],[0.3333333333333333,\"#9c179e\"],[0.4444444444444444,\"#bd3786\"],[0.5555555555555556,\"#d8576b\"],[0.6666666666666666,\"#ed7953\"],[0.7777777777777778,\"#fb9f3a\"],[0.8888888888888888,\"#fdca26\"],[1.0,\"#f0f921\"]]},\"colorway\":[\"#636efa\",\"#EF553B\",\"#00cc96\",\"#ab63fa\",\"#FFA15A\",\"#19d3f3\",\"#FF6692\",\"#B6E880\",\"#FF97FF\",\"#FECB52\"],\"font\":{\"color\":\"#2a3f5f\"},\"geo\":{\"bgcolor\":\"white\",\"lakecolor\":\"white\",\"landcolor\":\"#E5ECF6\",\"showlakes\":true,\"showland\":true,\"subunitcolor\":\"white\"},\"hoverlabel\":{\"align\":\"left\"},\"hovermode\":\"closest\",\"mapbox\":{\"style\":\"light\"},\"paper_bgcolor\":\"white\",\"plot_bgcolor\":\"#E5ECF6\",\"polar\":{\"angularaxis\":{\"gridcolor\":\"white\",\"linecolor\":\"white\",\"ticks\":\"\"},\"bgcolor\":\"#E5ECF6\",\"radialaxis\":{\"gridcolor\":\"white\",\"linecolor\":\"white\",\"ticks\":\"\"}},\"scene\":{\"xaxis\":{\"backgroundcolor\":\"#E5ECF6\",\"gridcolor\":\"white\",\"gridwidth\":2,\"linecolor\":\"white\",\"showbackground\":true,\"ticks\":\"\",\"zerolinecolor\":\"white\"},\"yaxis\":{\"backgroundcolor\":\"#E5ECF6\",\"gridcolor\":\"white\",\"gridwidth\":2,\"linecolor\":\"white\",\"showbackground\":true,\"ticks\":\"\",\"zerolinecolor\":\"white\"},\"zaxis\":{\"backgroundcolor\":\"#E5ECF6\",\"gridcolor\":\"white\",\"gridwidth\":2,\"linecolor\":\"white\",\"showbackground\":true,\"ticks\":\"\",\"zerolinecolor\":\"white\"}},\"shapedefaults\":{\"line\":{\"color\":\"#2a3f5f\"}},\"ternary\":{\"aaxis\":{\"gridcolor\":\"white\",\"linecolor\":\"white\",\"ticks\":\"\"},\"baxis\":{\"gridcolor\":\"white\",\"linecolor\":\"white\",\"ticks\":\"\"},\"bgcolor\":\"#E5ECF6\",\"caxis\":{\"gridcolor\":\"white\",\"linecolor\":\"white\",\"ticks\":\"\"}},\"title\":{\"x\":0.05},\"xaxis\":{\"automargin\":true,\"gridcolor\":\"white\",\"linecolor\":\"white\",\"ticks\":\"\",\"title\":{\"standoff\":15},\"zerolinecolor\":\"white\",\"zerolinewidth\":2},\"yaxis\":{\"automargin\":true,\"gridcolor\":\"white\",\"linecolor\":\"white\",\"ticks\":\"\",\"title\":{\"standoff\":15},\"zerolinecolor\":\"white\",\"zerolinewidth\":2}}},\"legend\":{\"tracegroupgap\":0},\"title\":{\"text\":\"Porcentage por Canal Ingreso\"}},                        {\"responsive\": true}                    ).then(function(){\n",
       "                            \n",
       "var gd = document.getElementById('7ea4e8f7-7716-4e72-9929-90344337a008');\n",
       "var x = new MutationObserver(function (mutations, observer) {{\n",
       "        var display = window.getComputedStyle(gd).display;\n",
       "        if (!display || display === 'none') {{\n",
       "            console.log([gd, 'removed!']);\n",
       "            Plotly.purge(gd);\n",
       "            observer.disconnect();\n",
       "        }}\n",
       "}});\n",
       "\n",
       "// Listen for the removal of the full notebook cells\n",
       "var notebookContainer = gd.closest('#notebook-container');\n",
       "if (notebookContainer) {{\n",
       "    x.observe(notebookContainer, {childList: true});\n",
       "}}\n",
       "\n",
       "// Listen for the clearing of the current output cell\n",
       "var outputEl = gd.closest('.output');\n",
       "if (outputEl) {{\n",
       "    x.observe(outputEl, {childList: true});\n",
       "}}\n",
       "\n",
       "                        })                };                });            </script>        </div>"
      ]
     },
     "metadata": {},
     "output_type": "display_data"
    }
   ],
   "source": [
    "total = np.sum(data_temp['N° Reclamo'])\n",
    "data_temp['per'] = data_temp['N° Reclamo']/total*100\n",
    "\n",
    "data_temp.to_excel(\"canal_pie.xlsx\") \n",
    "fig = px.pie(data_temp, values='per', names='Canal Ingreso', title='Porcentage por Canal Ingreso')\n",
    "fig.show()"
   ]
  },
  {
   "cell_type": "code",
   "execution_count": 180,
   "id": "0858ff62",
   "metadata": {
    "scrolled": true
   },
   "outputs": [
    {
     "data": {
      "application/vnd.plotly.v1+json": {
       "config": {
        "plotlyServerURL": "https://plot.ly"
       },
       "data": [
        {
         "branchvalues": "total",
         "customdata": [
          [
           -1,
           3608
          ],
          [
           1,
           191
          ],
          [
           2,
           7054
          ],
          [
           3,
           26015
          ],
          [
           4,
           55
          ],
          [
           6,
           35285
          ],
          [
           7,
           121
          ],
          [
           8,
           500
          ],
          [
           9,
           55
          ],
          [
           15,
           537
          ],
          [
           17,
           6
          ],
          [
           19,
           201
          ],
          [
           21,
           90
          ],
          [
           22,
           95
          ],
          [
           23,
           39
          ],
          [
           27,
           427
          ],
          [
           28,
           98005
          ],
          [
           30,
           6088
          ],
          [
           33,
           88
          ],
          [
           34,
           191
          ],
          [
           38,
           1149
          ],
          [
           39,
           12186
          ],
          [
           107,
           1
          ],
          [
           108,
           1
          ],
          [
           111,
           10
          ],
          [
           999,
           9
          ],
          [
           "(?)",
           61338.0343268735
          ]
         ],
         "domain": {
          "x": [
           0,
           1
          ],
          "y": [
           0,
           1
          ]
         },
         "hovertemplate": "labels=%{label}<br>N° Reclamo_sum=%{value}<br>parent=%{parent}<br>id=%{id}<br>Cod Motivo SBS=%{customdata[0]}<br>N° Reclamo=%{color}<extra></extra>",
         "ids": [
          "Codigo de reclamo/-1",
          "Codigo de reclamo/1",
          "Codigo de reclamo/2",
          "Codigo de reclamo/3",
          "Codigo de reclamo/4",
          "Codigo de reclamo/6",
          "Codigo de reclamo/7",
          "Codigo de reclamo/8",
          "Codigo de reclamo/9",
          "Codigo de reclamo/15",
          "Codigo de reclamo/17",
          "Codigo de reclamo/19",
          "Codigo de reclamo/21",
          "Codigo de reclamo/22",
          "Codigo de reclamo/23",
          "Codigo de reclamo/27",
          "Codigo de reclamo/28",
          "Codigo de reclamo/30",
          "Codigo de reclamo/33",
          "Codigo de reclamo/34",
          "Codigo de reclamo/38",
          "Codigo de reclamo/39",
          "Codigo de reclamo/107",
          "Codigo de reclamo/108",
          "Codigo de reclamo/111",
          "Codigo de reclamo/999",
          "Codigo de reclamo"
         ],
         "labels": [
          "-1",
          "1",
          "2",
          "3",
          "4",
          "6",
          "7",
          "8",
          "9",
          "15",
          "17",
          "19",
          "21",
          "22",
          "23",
          "27",
          "28",
          "30",
          "33",
          "34",
          "38",
          "39",
          "107",
          "108",
          "111",
          "999",
          "Codigo de reclamo"
         ],
         "marker": {
          "coloraxis": "coloraxis",
          "colors": [
           3608,
           191,
           7054,
           26015,
           55,
           35285,
           121,
           500,
           55,
           537,
           6,
           201,
           90,
           95,
           39,
           427,
           98005,
           6088,
           88,
           191,
           1149,
           12186,
           1,
           1,
           10,
           9,
           61338.0343268735
          ]
         },
         "name": "",
         "parents": [
          "Codigo de reclamo",
          "Codigo de reclamo",
          "Codigo de reclamo",
          "Codigo de reclamo",
          "Codigo de reclamo",
          "Codigo de reclamo",
          "Codigo de reclamo",
          "Codigo de reclamo",
          "Codigo de reclamo",
          "Codigo de reclamo",
          "Codigo de reclamo",
          "Codigo de reclamo",
          "Codigo de reclamo",
          "Codigo de reclamo",
          "Codigo de reclamo",
          "Codigo de reclamo",
          "Codigo de reclamo",
          "Codigo de reclamo",
          "Codigo de reclamo",
          "Codigo de reclamo",
          "Codigo de reclamo",
          "Codigo de reclamo",
          "Codigo de reclamo",
          "Codigo de reclamo",
          "Codigo de reclamo",
          "Codigo de reclamo",
          ""
         ],
         "type": "treemap",
         "values": [
          3608,
          191,
          7054,
          26015,
          55,
          35285,
          121,
          500,
          55,
          537,
          6,
          201,
          90,
          95,
          39,
          427,
          98005,
          6088,
          88,
          191,
          1149,
          12186,
          1,
          1,
          10,
          9,
          192007
         ]
        }
       ],
       "layout": {
        "coloraxis": {
         "colorbar": {
          "title": {
           "text": "N° Reclamo"
          }
         },
         "colorscale": [
          [
           0,
           "#0d0887"
          ],
          [
           0.1111111111111111,
           "#46039f"
          ],
          [
           0.2222222222222222,
           "#7201a8"
          ],
          [
           0.3333333333333333,
           "#9c179e"
          ],
          [
           0.4444444444444444,
           "#bd3786"
          ],
          [
           0.5555555555555556,
           "#d8576b"
          ],
          [
           0.6666666666666666,
           "#ed7953"
          ],
          [
           0.7777777777777778,
           "#fb9f3a"
          ],
          [
           0.8888888888888888,
           "#fdca26"
          ],
          [
           1,
           "#f0f921"
          ]
         ]
        },
        "legend": {
         "tracegroupgap": 0
        },
        "margin": {
         "t": 60
        },
        "template": {
         "data": {
          "bar": [
           {
            "error_x": {
             "color": "#2a3f5f"
            },
            "error_y": {
             "color": "#2a3f5f"
            },
            "marker": {
             "line": {
              "color": "#E5ECF6",
              "width": 0.5
             },
             "pattern": {
              "fillmode": "overlay",
              "size": 10,
              "solidity": 0.2
             }
            },
            "type": "bar"
           }
          ],
          "barpolar": [
           {
            "marker": {
             "line": {
              "color": "#E5ECF6",
              "width": 0.5
             },
             "pattern": {
              "fillmode": "overlay",
              "size": 10,
              "solidity": 0.2
             }
            },
            "type": "barpolar"
           }
          ],
          "carpet": [
           {
            "aaxis": {
             "endlinecolor": "#2a3f5f",
             "gridcolor": "white",
             "linecolor": "white",
             "minorgridcolor": "white",
             "startlinecolor": "#2a3f5f"
            },
            "baxis": {
             "endlinecolor": "#2a3f5f",
             "gridcolor": "white",
             "linecolor": "white",
             "minorgridcolor": "white",
             "startlinecolor": "#2a3f5f"
            },
            "type": "carpet"
           }
          ],
          "choropleth": [
           {
            "colorbar": {
             "outlinewidth": 0,
             "ticks": ""
            },
            "type": "choropleth"
           }
          ],
          "contour": [
           {
            "colorbar": {
             "outlinewidth": 0,
             "ticks": ""
            },
            "colorscale": [
             [
              0,
              "#0d0887"
             ],
             [
              0.1111111111111111,
              "#46039f"
             ],
             [
              0.2222222222222222,
              "#7201a8"
             ],
             [
              0.3333333333333333,
              "#9c179e"
             ],
             [
              0.4444444444444444,
              "#bd3786"
             ],
             [
              0.5555555555555556,
              "#d8576b"
             ],
             [
              0.6666666666666666,
              "#ed7953"
             ],
             [
              0.7777777777777778,
              "#fb9f3a"
             ],
             [
              0.8888888888888888,
              "#fdca26"
             ],
             [
              1,
              "#f0f921"
             ]
            ],
            "type": "contour"
           }
          ],
          "contourcarpet": [
           {
            "colorbar": {
             "outlinewidth": 0,
             "ticks": ""
            },
            "type": "contourcarpet"
           }
          ],
          "heatmap": [
           {
            "colorbar": {
             "outlinewidth": 0,
             "ticks": ""
            },
            "colorscale": [
             [
              0,
              "#0d0887"
             ],
             [
              0.1111111111111111,
              "#46039f"
             ],
             [
              0.2222222222222222,
              "#7201a8"
             ],
             [
              0.3333333333333333,
              "#9c179e"
             ],
             [
              0.4444444444444444,
              "#bd3786"
             ],
             [
              0.5555555555555556,
              "#d8576b"
             ],
             [
              0.6666666666666666,
              "#ed7953"
             ],
             [
              0.7777777777777778,
              "#fb9f3a"
             ],
             [
              0.8888888888888888,
              "#fdca26"
             ],
             [
              1,
              "#f0f921"
             ]
            ],
            "type": "heatmap"
           }
          ],
          "heatmapgl": [
           {
            "colorbar": {
             "outlinewidth": 0,
             "ticks": ""
            },
            "colorscale": [
             [
              0,
              "#0d0887"
             ],
             [
              0.1111111111111111,
              "#46039f"
             ],
             [
              0.2222222222222222,
              "#7201a8"
             ],
             [
              0.3333333333333333,
              "#9c179e"
             ],
             [
              0.4444444444444444,
              "#bd3786"
             ],
             [
              0.5555555555555556,
              "#d8576b"
             ],
             [
              0.6666666666666666,
              "#ed7953"
             ],
             [
              0.7777777777777778,
              "#fb9f3a"
             ],
             [
              0.8888888888888888,
              "#fdca26"
             ],
             [
              1,
              "#f0f921"
             ]
            ],
            "type": "heatmapgl"
           }
          ],
          "histogram": [
           {
            "marker": {
             "pattern": {
              "fillmode": "overlay",
              "size": 10,
              "solidity": 0.2
             }
            },
            "type": "histogram"
           }
          ],
          "histogram2d": [
           {
            "colorbar": {
             "outlinewidth": 0,
             "ticks": ""
            },
            "colorscale": [
             [
              0,
              "#0d0887"
             ],
             [
              0.1111111111111111,
              "#46039f"
             ],
             [
              0.2222222222222222,
              "#7201a8"
             ],
             [
              0.3333333333333333,
              "#9c179e"
             ],
             [
              0.4444444444444444,
              "#bd3786"
             ],
             [
              0.5555555555555556,
              "#d8576b"
             ],
             [
              0.6666666666666666,
              "#ed7953"
             ],
             [
              0.7777777777777778,
              "#fb9f3a"
             ],
             [
              0.8888888888888888,
              "#fdca26"
             ],
             [
              1,
              "#f0f921"
             ]
            ],
            "type": "histogram2d"
           }
          ],
          "histogram2dcontour": [
           {
            "colorbar": {
             "outlinewidth": 0,
             "ticks": ""
            },
            "colorscale": [
             [
              0,
              "#0d0887"
             ],
             [
              0.1111111111111111,
              "#46039f"
             ],
             [
              0.2222222222222222,
              "#7201a8"
             ],
             [
              0.3333333333333333,
              "#9c179e"
             ],
             [
              0.4444444444444444,
              "#bd3786"
             ],
             [
              0.5555555555555556,
              "#d8576b"
             ],
             [
              0.6666666666666666,
              "#ed7953"
             ],
             [
              0.7777777777777778,
              "#fb9f3a"
             ],
             [
              0.8888888888888888,
              "#fdca26"
             ],
             [
              1,
              "#f0f921"
             ]
            ],
            "type": "histogram2dcontour"
           }
          ],
          "mesh3d": [
           {
            "colorbar": {
             "outlinewidth": 0,
             "ticks": ""
            },
            "type": "mesh3d"
           }
          ],
          "parcoords": [
           {
            "line": {
             "colorbar": {
              "outlinewidth": 0,
              "ticks": ""
             }
            },
            "type": "parcoords"
           }
          ],
          "pie": [
           {
            "automargin": true,
            "type": "pie"
           }
          ],
          "scatter": [
           {
            "marker": {
             "colorbar": {
              "outlinewidth": 0,
              "ticks": ""
             }
            },
            "type": "scatter"
           }
          ],
          "scatter3d": [
           {
            "line": {
             "colorbar": {
              "outlinewidth": 0,
              "ticks": ""
             }
            },
            "marker": {
             "colorbar": {
              "outlinewidth": 0,
              "ticks": ""
             }
            },
            "type": "scatter3d"
           }
          ],
          "scattercarpet": [
           {
            "marker": {
             "colorbar": {
              "outlinewidth": 0,
              "ticks": ""
             }
            },
            "type": "scattercarpet"
           }
          ],
          "scattergeo": [
           {
            "marker": {
             "colorbar": {
              "outlinewidth": 0,
              "ticks": ""
             }
            },
            "type": "scattergeo"
           }
          ],
          "scattergl": [
           {
            "marker": {
             "colorbar": {
              "outlinewidth": 0,
              "ticks": ""
             }
            },
            "type": "scattergl"
           }
          ],
          "scattermapbox": [
           {
            "marker": {
             "colorbar": {
              "outlinewidth": 0,
              "ticks": ""
             }
            },
            "type": "scattermapbox"
           }
          ],
          "scatterpolar": [
           {
            "marker": {
             "colorbar": {
              "outlinewidth": 0,
              "ticks": ""
             }
            },
            "type": "scatterpolar"
           }
          ],
          "scatterpolargl": [
           {
            "marker": {
             "colorbar": {
              "outlinewidth": 0,
              "ticks": ""
             }
            },
            "type": "scatterpolargl"
           }
          ],
          "scatterternary": [
           {
            "marker": {
             "colorbar": {
              "outlinewidth": 0,
              "ticks": ""
             }
            },
            "type": "scatterternary"
           }
          ],
          "surface": [
           {
            "colorbar": {
             "outlinewidth": 0,
             "ticks": ""
            },
            "colorscale": [
             [
              0,
              "#0d0887"
             ],
             [
              0.1111111111111111,
              "#46039f"
             ],
             [
              0.2222222222222222,
              "#7201a8"
             ],
             [
              0.3333333333333333,
              "#9c179e"
             ],
             [
              0.4444444444444444,
              "#bd3786"
             ],
             [
              0.5555555555555556,
              "#d8576b"
             ],
             [
              0.6666666666666666,
              "#ed7953"
             ],
             [
              0.7777777777777778,
              "#fb9f3a"
             ],
             [
              0.8888888888888888,
              "#fdca26"
             ],
             [
              1,
              "#f0f921"
             ]
            ],
            "type": "surface"
           }
          ],
          "table": [
           {
            "cells": {
             "fill": {
              "color": "#EBF0F8"
             },
             "line": {
              "color": "white"
             }
            },
            "header": {
             "fill": {
              "color": "#C8D4E3"
             },
             "line": {
              "color": "white"
             }
            },
            "type": "table"
           }
          ]
         },
         "layout": {
          "annotationdefaults": {
           "arrowcolor": "#2a3f5f",
           "arrowhead": 0,
           "arrowwidth": 1
          },
          "autotypenumbers": "strict",
          "coloraxis": {
           "colorbar": {
            "outlinewidth": 0,
            "ticks": ""
           }
          },
          "colorscale": {
           "diverging": [
            [
             0,
             "#8e0152"
            ],
            [
             0.1,
             "#c51b7d"
            ],
            [
             0.2,
             "#de77ae"
            ],
            [
             0.3,
             "#f1b6da"
            ],
            [
             0.4,
             "#fde0ef"
            ],
            [
             0.5,
             "#f7f7f7"
            ],
            [
             0.6,
             "#e6f5d0"
            ],
            [
             0.7,
             "#b8e186"
            ],
            [
             0.8,
             "#7fbc41"
            ],
            [
             0.9,
             "#4d9221"
            ],
            [
             1,
             "#276419"
            ]
           ],
           "sequential": [
            [
             0,
             "#0d0887"
            ],
            [
             0.1111111111111111,
             "#46039f"
            ],
            [
             0.2222222222222222,
             "#7201a8"
            ],
            [
             0.3333333333333333,
             "#9c179e"
            ],
            [
             0.4444444444444444,
             "#bd3786"
            ],
            [
             0.5555555555555556,
             "#d8576b"
            ],
            [
             0.6666666666666666,
             "#ed7953"
            ],
            [
             0.7777777777777778,
             "#fb9f3a"
            ],
            [
             0.8888888888888888,
             "#fdca26"
            ],
            [
             1,
             "#f0f921"
            ]
           ],
           "sequentialminus": [
            [
             0,
             "#0d0887"
            ],
            [
             0.1111111111111111,
             "#46039f"
            ],
            [
             0.2222222222222222,
             "#7201a8"
            ],
            [
             0.3333333333333333,
             "#9c179e"
            ],
            [
             0.4444444444444444,
             "#bd3786"
            ],
            [
             0.5555555555555556,
             "#d8576b"
            ],
            [
             0.6666666666666666,
             "#ed7953"
            ],
            [
             0.7777777777777778,
             "#fb9f3a"
            ],
            [
             0.8888888888888888,
             "#fdca26"
            ],
            [
             1,
             "#f0f921"
            ]
           ]
          },
          "colorway": [
           "#636efa",
           "#EF553B",
           "#00cc96",
           "#ab63fa",
           "#FFA15A",
           "#19d3f3",
           "#FF6692",
           "#B6E880",
           "#FF97FF",
           "#FECB52"
          ],
          "font": {
           "color": "#2a3f5f"
          },
          "geo": {
           "bgcolor": "white",
           "lakecolor": "white",
           "landcolor": "#E5ECF6",
           "showlakes": true,
           "showland": true,
           "subunitcolor": "white"
          },
          "hoverlabel": {
           "align": "left"
          },
          "hovermode": "closest",
          "mapbox": {
           "style": "light"
          },
          "paper_bgcolor": "white",
          "plot_bgcolor": "#E5ECF6",
          "polar": {
           "angularaxis": {
            "gridcolor": "white",
            "linecolor": "white",
            "ticks": ""
           },
           "bgcolor": "#E5ECF6",
           "radialaxis": {
            "gridcolor": "white",
            "linecolor": "white",
            "ticks": ""
           }
          },
          "scene": {
           "xaxis": {
            "backgroundcolor": "#E5ECF6",
            "gridcolor": "white",
            "gridwidth": 2,
            "linecolor": "white",
            "showbackground": true,
            "ticks": "",
            "zerolinecolor": "white"
           },
           "yaxis": {
            "backgroundcolor": "#E5ECF6",
            "gridcolor": "white",
            "gridwidth": 2,
            "linecolor": "white",
            "showbackground": true,
            "ticks": "",
            "zerolinecolor": "white"
           },
           "zaxis": {
            "backgroundcolor": "#E5ECF6",
            "gridcolor": "white",
            "gridwidth": 2,
            "linecolor": "white",
            "showbackground": true,
            "ticks": "",
            "zerolinecolor": "white"
           }
          },
          "shapedefaults": {
           "line": {
            "color": "#2a3f5f"
           }
          },
          "ternary": {
           "aaxis": {
            "gridcolor": "white",
            "linecolor": "white",
            "ticks": ""
           },
           "baxis": {
            "gridcolor": "white",
            "linecolor": "white",
            "ticks": ""
           },
           "bgcolor": "#E5ECF6",
           "caxis": {
            "gridcolor": "white",
            "linecolor": "white",
            "ticks": ""
           }
          },
          "title": {
           "x": 0.05
          },
          "xaxis": {
           "automargin": true,
           "gridcolor": "white",
           "linecolor": "white",
           "ticks": "",
           "title": {
            "standoff": 15
           },
           "zerolinecolor": "white",
           "zerolinewidth": 2
          },
          "yaxis": {
           "automargin": true,
           "gridcolor": "white",
           "linecolor": "white",
           "ticks": "",
           "title": {
            "standoff": 15
           },
           "zerolinecolor": "white",
           "zerolinewidth": 2
          }
         }
        }
       }
      },
      "text/html": [
       "<div>                            <div id=\"aba87cfc-0b06-41cd-8b17-2606f6f432cc\" class=\"plotly-graph-div\" style=\"height:525px; width:100%;\"></div>            <script type=\"text/javascript\">                require([\"plotly\"], function(Plotly) {                    window.PLOTLYENV=window.PLOTLYENV || {};                                    if (document.getElementById(\"aba87cfc-0b06-41cd-8b17-2606f6f432cc\")) {                    Plotly.newPlot(                        \"aba87cfc-0b06-41cd-8b17-2606f6f432cc\",                        [{\"branchvalues\":\"total\",\"customdata\":[[-1,3608.0],[1,191.0],[2,7054.0],[3,26015.0],[4,55.0],[6,35285.0],[7,121.0],[8,500.0],[9,55.0],[15,537.0],[17,6.0],[19,201.0],[21,90.0],[22,95.0],[23,39.0],[27,427.0],[28,98005.0],[30,6088.0],[33,88.0],[34,191.0],[38,1149.0],[39,12186.0],[107,1.0],[108,1.0],[111,10.0],[999,9.0],[\"(?)\",61338.0343268735]],\"domain\":{\"x\":[0.0,1.0],\"y\":[0.0,1.0]},\"hovertemplate\":\"labels=%{label}<br>N\\u00b0 Reclamo_sum=%{value}<br>parent=%{parent}<br>id=%{id}<br>Cod Motivo SBS=%{customdata[0]}<br>N\\u00b0 Reclamo=%{color}<extra></extra>\",\"ids\":[\"Codigo de reclamo/-1\",\"Codigo de reclamo/1\",\"Codigo de reclamo/2\",\"Codigo de reclamo/3\",\"Codigo de reclamo/4\",\"Codigo de reclamo/6\",\"Codigo de reclamo/7\",\"Codigo de reclamo/8\",\"Codigo de reclamo/9\",\"Codigo de reclamo/15\",\"Codigo de reclamo/17\",\"Codigo de reclamo/19\",\"Codigo de reclamo/21\",\"Codigo de reclamo/22\",\"Codigo de reclamo/23\",\"Codigo de reclamo/27\",\"Codigo de reclamo/28\",\"Codigo de reclamo/30\",\"Codigo de reclamo/33\",\"Codigo de reclamo/34\",\"Codigo de reclamo/38\",\"Codigo de reclamo/39\",\"Codigo de reclamo/107\",\"Codigo de reclamo/108\",\"Codigo de reclamo/111\",\"Codigo de reclamo/999\",\"Codigo de reclamo\"],\"labels\":[\"-1\",\"1\",\"2\",\"3\",\"4\",\"6\",\"7\",\"8\",\"9\",\"15\",\"17\",\"19\",\"21\",\"22\",\"23\",\"27\",\"28\",\"30\",\"33\",\"34\",\"38\",\"39\",\"107\",\"108\",\"111\",\"999\",\"Codigo de reclamo\"],\"marker\":{\"coloraxis\":\"coloraxis\",\"colors\":[3608.0,191.0,7054.0,26015.0,55.0,35285.0,121.0,500.0,55.0,537.0,6.0,201.0,90.0,95.0,39.0,427.0,98005.0,6088.0,88.0,191.0,1149.0,12186.0,1.0,1.0,10.0,9.0,61338.0343268735]},\"name\":\"\",\"parents\":[\"Codigo de reclamo\",\"Codigo de reclamo\",\"Codigo de reclamo\",\"Codigo de reclamo\",\"Codigo de reclamo\",\"Codigo de reclamo\",\"Codigo de reclamo\",\"Codigo de reclamo\",\"Codigo de reclamo\",\"Codigo de reclamo\",\"Codigo de reclamo\",\"Codigo de reclamo\",\"Codigo de reclamo\",\"Codigo de reclamo\",\"Codigo de reclamo\",\"Codigo de reclamo\",\"Codigo de reclamo\",\"Codigo de reclamo\",\"Codigo de reclamo\",\"Codigo de reclamo\",\"Codigo de reclamo\",\"Codigo de reclamo\",\"Codigo de reclamo\",\"Codigo de reclamo\",\"Codigo de reclamo\",\"Codigo de reclamo\",\"\"],\"values\":[3608,191,7054,26015,55,35285,121,500,55,537,6,201,90,95,39,427,98005,6088,88,191,1149,12186,1,1,10,9,192007],\"type\":\"treemap\"}],                        {\"template\":{\"data\":{\"bar\":[{\"error_x\":{\"color\":\"#2a3f5f\"},\"error_y\":{\"color\":\"#2a3f5f\"},\"marker\":{\"line\":{\"color\":\"#E5ECF6\",\"width\":0.5},\"pattern\":{\"fillmode\":\"overlay\",\"size\":10,\"solidity\":0.2}},\"type\":\"bar\"}],\"barpolar\":[{\"marker\":{\"line\":{\"color\":\"#E5ECF6\",\"width\":0.5},\"pattern\":{\"fillmode\":\"overlay\",\"size\":10,\"solidity\":0.2}},\"type\":\"barpolar\"}],\"carpet\":[{\"aaxis\":{\"endlinecolor\":\"#2a3f5f\",\"gridcolor\":\"white\",\"linecolor\":\"white\",\"minorgridcolor\":\"white\",\"startlinecolor\":\"#2a3f5f\"},\"baxis\":{\"endlinecolor\":\"#2a3f5f\",\"gridcolor\":\"white\",\"linecolor\":\"white\",\"minorgridcolor\":\"white\",\"startlinecolor\":\"#2a3f5f\"},\"type\":\"carpet\"}],\"choropleth\":[{\"colorbar\":{\"outlinewidth\":0,\"ticks\":\"\"},\"type\":\"choropleth\"}],\"contour\":[{\"colorbar\":{\"outlinewidth\":0,\"ticks\":\"\"},\"colorscale\":[[0.0,\"#0d0887\"],[0.1111111111111111,\"#46039f\"],[0.2222222222222222,\"#7201a8\"],[0.3333333333333333,\"#9c179e\"],[0.4444444444444444,\"#bd3786\"],[0.5555555555555556,\"#d8576b\"],[0.6666666666666666,\"#ed7953\"],[0.7777777777777778,\"#fb9f3a\"],[0.8888888888888888,\"#fdca26\"],[1.0,\"#f0f921\"]],\"type\":\"contour\"}],\"contourcarpet\":[{\"colorbar\":{\"outlinewidth\":0,\"ticks\":\"\"},\"type\":\"contourcarpet\"}],\"heatmap\":[{\"colorbar\":{\"outlinewidth\":0,\"ticks\":\"\"},\"colorscale\":[[0.0,\"#0d0887\"],[0.1111111111111111,\"#46039f\"],[0.2222222222222222,\"#7201a8\"],[0.3333333333333333,\"#9c179e\"],[0.4444444444444444,\"#bd3786\"],[0.5555555555555556,\"#d8576b\"],[0.6666666666666666,\"#ed7953\"],[0.7777777777777778,\"#fb9f3a\"],[0.8888888888888888,\"#fdca26\"],[1.0,\"#f0f921\"]],\"type\":\"heatmap\"}],\"heatmapgl\":[{\"colorbar\":{\"outlinewidth\":0,\"ticks\":\"\"},\"colorscale\":[[0.0,\"#0d0887\"],[0.1111111111111111,\"#46039f\"],[0.2222222222222222,\"#7201a8\"],[0.3333333333333333,\"#9c179e\"],[0.4444444444444444,\"#bd3786\"],[0.5555555555555556,\"#d8576b\"],[0.6666666666666666,\"#ed7953\"],[0.7777777777777778,\"#fb9f3a\"],[0.8888888888888888,\"#fdca26\"],[1.0,\"#f0f921\"]],\"type\":\"heatmapgl\"}],\"histogram\":[{\"marker\":{\"pattern\":{\"fillmode\":\"overlay\",\"size\":10,\"solidity\":0.2}},\"type\":\"histogram\"}],\"histogram2d\":[{\"colorbar\":{\"outlinewidth\":0,\"ticks\":\"\"},\"colorscale\":[[0.0,\"#0d0887\"],[0.1111111111111111,\"#46039f\"],[0.2222222222222222,\"#7201a8\"],[0.3333333333333333,\"#9c179e\"],[0.4444444444444444,\"#bd3786\"],[0.5555555555555556,\"#d8576b\"],[0.6666666666666666,\"#ed7953\"],[0.7777777777777778,\"#fb9f3a\"],[0.8888888888888888,\"#fdca26\"],[1.0,\"#f0f921\"]],\"type\":\"histogram2d\"}],\"histogram2dcontour\":[{\"colorbar\":{\"outlinewidth\":0,\"ticks\":\"\"},\"colorscale\":[[0.0,\"#0d0887\"],[0.1111111111111111,\"#46039f\"],[0.2222222222222222,\"#7201a8\"],[0.3333333333333333,\"#9c179e\"],[0.4444444444444444,\"#bd3786\"],[0.5555555555555556,\"#d8576b\"],[0.6666666666666666,\"#ed7953\"],[0.7777777777777778,\"#fb9f3a\"],[0.8888888888888888,\"#fdca26\"],[1.0,\"#f0f921\"]],\"type\":\"histogram2dcontour\"}],\"mesh3d\":[{\"colorbar\":{\"outlinewidth\":0,\"ticks\":\"\"},\"type\":\"mesh3d\"}],\"parcoords\":[{\"line\":{\"colorbar\":{\"outlinewidth\":0,\"ticks\":\"\"}},\"type\":\"parcoords\"}],\"pie\":[{\"automargin\":true,\"type\":\"pie\"}],\"scatter\":[{\"marker\":{\"colorbar\":{\"outlinewidth\":0,\"ticks\":\"\"}},\"type\":\"scatter\"}],\"scatter3d\":[{\"line\":{\"colorbar\":{\"outlinewidth\":0,\"ticks\":\"\"}},\"marker\":{\"colorbar\":{\"outlinewidth\":0,\"ticks\":\"\"}},\"type\":\"scatter3d\"}],\"scattercarpet\":[{\"marker\":{\"colorbar\":{\"outlinewidth\":0,\"ticks\":\"\"}},\"type\":\"scattercarpet\"}],\"scattergeo\":[{\"marker\":{\"colorbar\":{\"outlinewidth\":0,\"ticks\":\"\"}},\"type\":\"scattergeo\"}],\"scattergl\":[{\"marker\":{\"colorbar\":{\"outlinewidth\":0,\"ticks\":\"\"}},\"type\":\"scattergl\"}],\"scattermapbox\":[{\"marker\":{\"colorbar\":{\"outlinewidth\":0,\"ticks\":\"\"}},\"type\":\"scattermapbox\"}],\"scatterpolar\":[{\"marker\":{\"colorbar\":{\"outlinewidth\":0,\"ticks\":\"\"}},\"type\":\"scatterpolar\"}],\"scatterpolargl\":[{\"marker\":{\"colorbar\":{\"outlinewidth\":0,\"ticks\":\"\"}},\"type\":\"scatterpolargl\"}],\"scatterternary\":[{\"marker\":{\"colorbar\":{\"outlinewidth\":0,\"ticks\":\"\"}},\"type\":\"scatterternary\"}],\"surface\":[{\"colorbar\":{\"outlinewidth\":0,\"ticks\":\"\"},\"colorscale\":[[0.0,\"#0d0887\"],[0.1111111111111111,\"#46039f\"],[0.2222222222222222,\"#7201a8\"],[0.3333333333333333,\"#9c179e\"],[0.4444444444444444,\"#bd3786\"],[0.5555555555555556,\"#d8576b\"],[0.6666666666666666,\"#ed7953\"],[0.7777777777777778,\"#fb9f3a\"],[0.8888888888888888,\"#fdca26\"],[1.0,\"#f0f921\"]],\"type\":\"surface\"}],\"table\":[{\"cells\":{\"fill\":{\"color\":\"#EBF0F8\"},\"line\":{\"color\":\"white\"}},\"header\":{\"fill\":{\"color\":\"#C8D4E3\"},\"line\":{\"color\":\"white\"}},\"type\":\"table\"}]},\"layout\":{\"annotationdefaults\":{\"arrowcolor\":\"#2a3f5f\",\"arrowhead\":0,\"arrowwidth\":1},\"autotypenumbers\":\"strict\",\"coloraxis\":{\"colorbar\":{\"outlinewidth\":0,\"ticks\":\"\"}},\"colorscale\":{\"diverging\":[[0,\"#8e0152\"],[0.1,\"#c51b7d\"],[0.2,\"#de77ae\"],[0.3,\"#f1b6da\"],[0.4,\"#fde0ef\"],[0.5,\"#f7f7f7\"],[0.6,\"#e6f5d0\"],[0.7,\"#b8e186\"],[0.8,\"#7fbc41\"],[0.9,\"#4d9221\"],[1,\"#276419\"]],\"sequential\":[[0.0,\"#0d0887\"],[0.1111111111111111,\"#46039f\"],[0.2222222222222222,\"#7201a8\"],[0.3333333333333333,\"#9c179e\"],[0.4444444444444444,\"#bd3786\"],[0.5555555555555556,\"#d8576b\"],[0.6666666666666666,\"#ed7953\"],[0.7777777777777778,\"#fb9f3a\"],[0.8888888888888888,\"#fdca26\"],[1.0,\"#f0f921\"]],\"sequentialminus\":[[0.0,\"#0d0887\"],[0.1111111111111111,\"#46039f\"],[0.2222222222222222,\"#7201a8\"],[0.3333333333333333,\"#9c179e\"],[0.4444444444444444,\"#bd3786\"],[0.5555555555555556,\"#d8576b\"],[0.6666666666666666,\"#ed7953\"],[0.7777777777777778,\"#fb9f3a\"],[0.8888888888888888,\"#fdca26\"],[1.0,\"#f0f921\"]]},\"colorway\":[\"#636efa\",\"#EF553B\",\"#00cc96\",\"#ab63fa\",\"#FFA15A\",\"#19d3f3\",\"#FF6692\",\"#B6E880\",\"#FF97FF\",\"#FECB52\"],\"font\":{\"color\":\"#2a3f5f\"},\"geo\":{\"bgcolor\":\"white\",\"lakecolor\":\"white\",\"landcolor\":\"#E5ECF6\",\"showlakes\":true,\"showland\":true,\"subunitcolor\":\"white\"},\"hoverlabel\":{\"align\":\"left\"},\"hovermode\":\"closest\",\"mapbox\":{\"style\":\"light\"},\"paper_bgcolor\":\"white\",\"plot_bgcolor\":\"#E5ECF6\",\"polar\":{\"angularaxis\":{\"gridcolor\":\"white\",\"linecolor\":\"white\",\"ticks\":\"\"},\"bgcolor\":\"#E5ECF6\",\"radialaxis\":{\"gridcolor\":\"white\",\"linecolor\":\"white\",\"ticks\":\"\"}},\"scene\":{\"xaxis\":{\"backgroundcolor\":\"#E5ECF6\",\"gridcolor\":\"white\",\"gridwidth\":2,\"linecolor\":\"white\",\"showbackground\":true,\"ticks\":\"\",\"zerolinecolor\":\"white\"},\"yaxis\":{\"backgroundcolor\":\"#E5ECF6\",\"gridcolor\":\"white\",\"gridwidth\":2,\"linecolor\":\"white\",\"showbackground\":true,\"ticks\":\"\",\"zerolinecolor\":\"white\"},\"zaxis\":{\"backgroundcolor\":\"#E5ECF6\",\"gridcolor\":\"white\",\"gridwidth\":2,\"linecolor\":\"white\",\"showbackground\":true,\"ticks\":\"\",\"zerolinecolor\":\"white\"}},\"shapedefaults\":{\"line\":{\"color\":\"#2a3f5f\"}},\"ternary\":{\"aaxis\":{\"gridcolor\":\"white\",\"linecolor\":\"white\",\"ticks\":\"\"},\"baxis\":{\"gridcolor\":\"white\",\"linecolor\":\"white\",\"ticks\":\"\"},\"bgcolor\":\"#E5ECF6\",\"caxis\":{\"gridcolor\":\"white\",\"linecolor\":\"white\",\"ticks\":\"\"}},\"title\":{\"x\":0.05},\"xaxis\":{\"automargin\":true,\"gridcolor\":\"white\",\"linecolor\":\"white\",\"ticks\":\"\",\"title\":{\"standoff\":15},\"zerolinecolor\":\"white\",\"zerolinewidth\":2},\"yaxis\":{\"automargin\":true,\"gridcolor\":\"white\",\"linecolor\":\"white\",\"ticks\":\"\",\"title\":{\"standoff\":15},\"zerolinecolor\":\"white\",\"zerolinewidth\":2}}},\"coloraxis\":{\"colorbar\":{\"title\":{\"text\":\"N\\u00b0 Reclamo\"}},\"colorscale\":[[0.0,\"#0d0887\"],[0.1111111111111111,\"#46039f\"],[0.2222222222222222,\"#7201a8\"],[0.3333333333333333,\"#9c179e\"],[0.4444444444444444,\"#bd3786\"],[0.5555555555555556,\"#d8576b\"],[0.6666666666666666,\"#ed7953\"],[0.7777777777777778,\"#fb9f3a\"],[0.8888888888888888,\"#fdca26\"],[1.0,\"#f0f921\"]]},\"legend\":{\"tracegroupgap\":0},\"margin\":{\"t\":60}},                        {\"responsive\": true}                    ).then(function(){\n",
       "                            \n",
       "var gd = document.getElementById('aba87cfc-0b06-41cd-8b17-2606f6f432cc');\n",
       "var x = new MutationObserver(function (mutations, observer) {{\n",
       "        var display = window.getComputedStyle(gd).display;\n",
       "        if (!display || display === 'none') {{\n",
       "            console.log([gd, 'removed!']);\n",
       "            Plotly.purge(gd);\n",
       "            observer.disconnect();\n",
       "        }}\n",
       "}});\n",
       "\n",
       "// Listen for the removal of the full notebook cells\n",
       "var notebookContainer = gd.closest('#notebook-container');\n",
       "if (notebookContainer) {{\n",
       "    x.observe(notebookContainer, {childList: true});\n",
       "}}\n",
       "\n",
       "// Listen for the clearing of the current output cell\n",
       "var outputEl = gd.closest('.output');\n",
       "if (outputEl) {{\n",
       "    x.observe(outputEl, {childList: true});\n",
       "}}\n",
       "\n",
       "                        })                };                });            </script>        </div>"
      ]
     },
     "metadata": {},
     "output_type": "display_data"
    }
   ],
   "source": [
    "data_temp = datos_preprocessed.groupby(['Cod Motivo SBS']).agg({ 'N° Reclamo': \"count\"})\n",
    "data_temp = data_temp.sort_values(by=['N° Reclamo'], ascending = False).reset_index()\n",
    "\n",
    "fig = px.treemap(data_temp, path=[px.Constant('Codigo de reclamo'),'Cod Motivo SBS'], values='N° Reclamo',\n",
    "                  color='N° Reclamo', hover_data=['Cod Motivo SBS'])\n",
    "fig.show()"
   ]
  },
  {
   "cell_type": "code",
   "execution_count": 181,
   "id": "002c4268",
   "metadata": {},
   "outputs": [
    {
     "data": {
      "application/vnd.plotly.v1+json": {
       "config": {
        "plotlyServerURL": "https://plot.ly"
       },
       "data": [
        {
         "domain": {
          "x": [
           0,
           1
          ],
          "y": [
           0,
           1
          ]
         },
         "hovertemplate": "motivo=%{label}<br>per=%{value}<extra></extra>",
         "labels": [
          "COBRO INDEBIDO DE INTERESES,COMISIONES,PORTES,TARIFAS Y OTROS CARGOS  * general",
          "FALLAS DEL SISTEMA INFORMATICO QUE DIFICULTAN OPERACIONES Y SERVICIOS",
          "INADECUADA ATENCION AL USUARIO",
          "INADECUADA O INSUFICIENTE INFORMACION SOBRE OPERACIONES, PRODUCTOS Y/O SERVICIOS",
          "Otros",
          "PRCA - NO DISPENSÓ EFECTIVO Y/O VOUCHER",
          "TRANSACCION NO PROCESADA / MAL REALIZADA"
         ],
         "legendgroup": "",
         "name": "",
         "showlegend": true,
         "type": "pie",
         "values": [
          13.808459705200136,
          3.2314396573230217,
          6.468187198445852,
          3.7441812323844608,
          1.9989490390076379,
          52.01991518001687,
          18.728867987622014
         ]
        }
       ],
       "layout": {
        "legend": {
         "tracegroupgap": 0
        },
        "template": {
         "data": {
          "bar": [
           {
            "error_x": {
             "color": "#2a3f5f"
            },
            "error_y": {
             "color": "#2a3f5f"
            },
            "marker": {
             "line": {
              "color": "#E5ECF6",
              "width": 0.5
             },
             "pattern": {
              "fillmode": "overlay",
              "size": 10,
              "solidity": 0.2
             }
            },
            "type": "bar"
           }
          ],
          "barpolar": [
           {
            "marker": {
             "line": {
              "color": "#E5ECF6",
              "width": 0.5
             },
             "pattern": {
              "fillmode": "overlay",
              "size": 10,
              "solidity": 0.2
             }
            },
            "type": "barpolar"
           }
          ],
          "carpet": [
           {
            "aaxis": {
             "endlinecolor": "#2a3f5f",
             "gridcolor": "white",
             "linecolor": "white",
             "minorgridcolor": "white",
             "startlinecolor": "#2a3f5f"
            },
            "baxis": {
             "endlinecolor": "#2a3f5f",
             "gridcolor": "white",
             "linecolor": "white",
             "minorgridcolor": "white",
             "startlinecolor": "#2a3f5f"
            },
            "type": "carpet"
           }
          ],
          "choropleth": [
           {
            "colorbar": {
             "outlinewidth": 0,
             "ticks": ""
            },
            "type": "choropleth"
           }
          ],
          "contour": [
           {
            "colorbar": {
             "outlinewidth": 0,
             "ticks": ""
            },
            "colorscale": [
             [
              0,
              "#0d0887"
             ],
             [
              0.1111111111111111,
              "#46039f"
             ],
             [
              0.2222222222222222,
              "#7201a8"
             ],
             [
              0.3333333333333333,
              "#9c179e"
             ],
             [
              0.4444444444444444,
              "#bd3786"
             ],
             [
              0.5555555555555556,
              "#d8576b"
             ],
             [
              0.6666666666666666,
              "#ed7953"
             ],
             [
              0.7777777777777778,
              "#fb9f3a"
             ],
             [
              0.8888888888888888,
              "#fdca26"
             ],
             [
              1,
              "#f0f921"
             ]
            ],
            "type": "contour"
           }
          ],
          "contourcarpet": [
           {
            "colorbar": {
             "outlinewidth": 0,
             "ticks": ""
            },
            "type": "contourcarpet"
           }
          ],
          "heatmap": [
           {
            "colorbar": {
             "outlinewidth": 0,
             "ticks": ""
            },
            "colorscale": [
             [
              0,
              "#0d0887"
             ],
             [
              0.1111111111111111,
              "#46039f"
             ],
             [
              0.2222222222222222,
              "#7201a8"
             ],
             [
              0.3333333333333333,
              "#9c179e"
             ],
             [
              0.4444444444444444,
              "#bd3786"
             ],
             [
              0.5555555555555556,
              "#d8576b"
             ],
             [
              0.6666666666666666,
              "#ed7953"
             ],
             [
              0.7777777777777778,
              "#fb9f3a"
             ],
             [
              0.8888888888888888,
              "#fdca26"
             ],
             [
              1,
              "#f0f921"
             ]
            ],
            "type": "heatmap"
           }
          ],
          "heatmapgl": [
           {
            "colorbar": {
             "outlinewidth": 0,
             "ticks": ""
            },
            "colorscale": [
             [
              0,
              "#0d0887"
             ],
             [
              0.1111111111111111,
              "#46039f"
             ],
             [
              0.2222222222222222,
              "#7201a8"
             ],
             [
              0.3333333333333333,
              "#9c179e"
             ],
             [
              0.4444444444444444,
              "#bd3786"
             ],
             [
              0.5555555555555556,
              "#d8576b"
             ],
             [
              0.6666666666666666,
              "#ed7953"
             ],
             [
              0.7777777777777778,
              "#fb9f3a"
             ],
             [
              0.8888888888888888,
              "#fdca26"
             ],
             [
              1,
              "#f0f921"
             ]
            ],
            "type": "heatmapgl"
           }
          ],
          "histogram": [
           {
            "marker": {
             "pattern": {
              "fillmode": "overlay",
              "size": 10,
              "solidity": 0.2
             }
            },
            "type": "histogram"
           }
          ],
          "histogram2d": [
           {
            "colorbar": {
             "outlinewidth": 0,
             "ticks": ""
            },
            "colorscale": [
             [
              0,
              "#0d0887"
             ],
             [
              0.1111111111111111,
              "#46039f"
             ],
             [
              0.2222222222222222,
              "#7201a8"
             ],
             [
              0.3333333333333333,
              "#9c179e"
             ],
             [
              0.4444444444444444,
              "#bd3786"
             ],
             [
              0.5555555555555556,
              "#d8576b"
             ],
             [
              0.6666666666666666,
              "#ed7953"
             ],
             [
              0.7777777777777778,
              "#fb9f3a"
             ],
             [
              0.8888888888888888,
              "#fdca26"
             ],
             [
              1,
              "#f0f921"
             ]
            ],
            "type": "histogram2d"
           }
          ],
          "histogram2dcontour": [
           {
            "colorbar": {
             "outlinewidth": 0,
             "ticks": ""
            },
            "colorscale": [
             [
              0,
              "#0d0887"
             ],
             [
              0.1111111111111111,
              "#46039f"
             ],
             [
              0.2222222222222222,
              "#7201a8"
             ],
             [
              0.3333333333333333,
              "#9c179e"
             ],
             [
              0.4444444444444444,
              "#bd3786"
             ],
             [
              0.5555555555555556,
              "#d8576b"
             ],
             [
              0.6666666666666666,
              "#ed7953"
             ],
             [
              0.7777777777777778,
              "#fb9f3a"
             ],
             [
              0.8888888888888888,
              "#fdca26"
             ],
             [
              1,
              "#f0f921"
             ]
            ],
            "type": "histogram2dcontour"
           }
          ],
          "mesh3d": [
           {
            "colorbar": {
             "outlinewidth": 0,
             "ticks": ""
            },
            "type": "mesh3d"
           }
          ],
          "parcoords": [
           {
            "line": {
             "colorbar": {
              "outlinewidth": 0,
              "ticks": ""
             }
            },
            "type": "parcoords"
           }
          ],
          "pie": [
           {
            "automargin": true,
            "type": "pie"
           }
          ],
          "scatter": [
           {
            "marker": {
             "colorbar": {
              "outlinewidth": 0,
              "ticks": ""
             }
            },
            "type": "scatter"
           }
          ],
          "scatter3d": [
           {
            "line": {
             "colorbar": {
              "outlinewidth": 0,
              "ticks": ""
             }
            },
            "marker": {
             "colorbar": {
              "outlinewidth": 0,
              "ticks": ""
             }
            },
            "type": "scatter3d"
           }
          ],
          "scattercarpet": [
           {
            "marker": {
             "colorbar": {
              "outlinewidth": 0,
              "ticks": ""
             }
            },
            "type": "scattercarpet"
           }
          ],
          "scattergeo": [
           {
            "marker": {
             "colorbar": {
              "outlinewidth": 0,
              "ticks": ""
             }
            },
            "type": "scattergeo"
           }
          ],
          "scattergl": [
           {
            "marker": {
             "colorbar": {
              "outlinewidth": 0,
              "ticks": ""
             }
            },
            "type": "scattergl"
           }
          ],
          "scattermapbox": [
           {
            "marker": {
             "colorbar": {
              "outlinewidth": 0,
              "ticks": ""
             }
            },
            "type": "scattermapbox"
           }
          ],
          "scatterpolar": [
           {
            "marker": {
             "colorbar": {
              "outlinewidth": 0,
              "ticks": ""
             }
            },
            "type": "scatterpolar"
           }
          ],
          "scatterpolargl": [
           {
            "marker": {
             "colorbar": {
              "outlinewidth": 0,
              "ticks": ""
             }
            },
            "type": "scatterpolargl"
           }
          ],
          "scatterternary": [
           {
            "marker": {
             "colorbar": {
              "outlinewidth": 0,
              "ticks": ""
             }
            },
            "type": "scatterternary"
           }
          ],
          "surface": [
           {
            "colorbar": {
             "outlinewidth": 0,
             "ticks": ""
            },
            "colorscale": [
             [
              0,
              "#0d0887"
             ],
             [
              0.1111111111111111,
              "#46039f"
             ],
             [
              0.2222222222222222,
              "#7201a8"
             ],
             [
              0.3333333333333333,
              "#9c179e"
             ],
             [
              0.4444444444444444,
              "#bd3786"
             ],
             [
              0.5555555555555556,
              "#d8576b"
             ],
             [
              0.6666666666666666,
              "#ed7953"
             ],
             [
              0.7777777777777778,
              "#fb9f3a"
             ],
             [
              0.8888888888888888,
              "#fdca26"
             ],
             [
              1,
              "#f0f921"
             ]
            ],
            "type": "surface"
           }
          ],
          "table": [
           {
            "cells": {
             "fill": {
              "color": "#EBF0F8"
             },
             "line": {
              "color": "white"
             }
            },
            "header": {
             "fill": {
              "color": "#C8D4E3"
             },
             "line": {
              "color": "white"
             }
            },
            "type": "table"
           }
          ]
         },
         "layout": {
          "annotationdefaults": {
           "arrowcolor": "#2a3f5f",
           "arrowhead": 0,
           "arrowwidth": 1
          },
          "autotypenumbers": "strict",
          "coloraxis": {
           "colorbar": {
            "outlinewidth": 0,
            "ticks": ""
           }
          },
          "colorscale": {
           "diverging": [
            [
             0,
             "#8e0152"
            ],
            [
             0.1,
             "#c51b7d"
            ],
            [
             0.2,
             "#de77ae"
            ],
            [
             0.3,
             "#f1b6da"
            ],
            [
             0.4,
             "#fde0ef"
            ],
            [
             0.5,
             "#f7f7f7"
            ],
            [
             0.6,
             "#e6f5d0"
            ],
            [
             0.7,
             "#b8e186"
            ],
            [
             0.8,
             "#7fbc41"
            ],
            [
             0.9,
             "#4d9221"
            ],
            [
             1,
             "#276419"
            ]
           ],
           "sequential": [
            [
             0,
             "#0d0887"
            ],
            [
             0.1111111111111111,
             "#46039f"
            ],
            [
             0.2222222222222222,
             "#7201a8"
            ],
            [
             0.3333333333333333,
             "#9c179e"
            ],
            [
             0.4444444444444444,
             "#bd3786"
            ],
            [
             0.5555555555555556,
             "#d8576b"
            ],
            [
             0.6666666666666666,
             "#ed7953"
            ],
            [
             0.7777777777777778,
             "#fb9f3a"
            ],
            [
             0.8888888888888888,
             "#fdca26"
            ],
            [
             1,
             "#f0f921"
            ]
           ],
           "sequentialminus": [
            [
             0,
             "#0d0887"
            ],
            [
             0.1111111111111111,
             "#46039f"
            ],
            [
             0.2222222222222222,
             "#7201a8"
            ],
            [
             0.3333333333333333,
             "#9c179e"
            ],
            [
             0.4444444444444444,
             "#bd3786"
            ],
            [
             0.5555555555555556,
             "#d8576b"
            ],
            [
             0.6666666666666666,
             "#ed7953"
            ],
            [
             0.7777777777777778,
             "#fb9f3a"
            ],
            [
             0.8888888888888888,
             "#fdca26"
            ],
            [
             1,
             "#f0f921"
            ]
           ]
          },
          "colorway": [
           "#636efa",
           "#EF553B",
           "#00cc96",
           "#ab63fa",
           "#FFA15A",
           "#19d3f3",
           "#FF6692",
           "#B6E880",
           "#FF97FF",
           "#FECB52"
          ],
          "font": {
           "color": "#2a3f5f"
          },
          "geo": {
           "bgcolor": "white",
           "lakecolor": "white",
           "landcolor": "#E5ECF6",
           "showlakes": true,
           "showland": true,
           "subunitcolor": "white"
          },
          "hoverlabel": {
           "align": "left"
          },
          "hovermode": "closest",
          "mapbox": {
           "style": "light"
          },
          "paper_bgcolor": "white",
          "plot_bgcolor": "#E5ECF6",
          "polar": {
           "angularaxis": {
            "gridcolor": "white",
            "linecolor": "white",
            "ticks": ""
           },
           "bgcolor": "#E5ECF6",
           "radialaxis": {
            "gridcolor": "white",
            "linecolor": "white",
            "ticks": ""
           }
          },
          "scene": {
           "xaxis": {
            "backgroundcolor": "#E5ECF6",
            "gridcolor": "white",
            "gridwidth": 2,
            "linecolor": "white",
            "showbackground": true,
            "ticks": "",
            "zerolinecolor": "white"
           },
           "yaxis": {
            "backgroundcolor": "#E5ECF6",
            "gridcolor": "white",
            "gridwidth": 2,
            "linecolor": "white",
            "showbackground": true,
            "ticks": "",
            "zerolinecolor": "white"
           },
           "zaxis": {
            "backgroundcolor": "#E5ECF6",
            "gridcolor": "white",
            "gridwidth": 2,
            "linecolor": "white",
            "showbackground": true,
            "ticks": "",
            "zerolinecolor": "white"
           }
          },
          "shapedefaults": {
           "line": {
            "color": "#2a3f5f"
           }
          },
          "ternary": {
           "aaxis": {
            "gridcolor": "white",
            "linecolor": "white",
            "ticks": ""
           },
           "baxis": {
            "gridcolor": "white",
            "linecolor": "white",
            "ticks": ""
           },
           "bgcolor": "#E5ECF6",
           "caxis": {
            "gridcolor": "white",
            "linecolor": "white",
            "ticks": ""
           }
          },
          "title": {
           "x": 0.05
          },
          "xaxis": {
           "automargin": true,
           "gridcolor": "white",
           "linecolor": "white",
           "ticks": "",
           "title": {
            "standoff": 15
           },
           "zerolinecolor": "white",
           "zerolinewidth": 2
          },
          "yaxis": {
           "automargin": true,
           "gridcolor": "white",
           "linecolor": "white",
           "ticks": "",
           "title": {
            "standoff": 15
           },
           "zerolinecolor": "white",
           "zerolinewidth": 2
          }
         }
        },
        "title": {
         "text": "Porcentaje por Motivo"
        }
       }
      },
      "text/html": [
       "<div>                            <div id=\"b158b97f-eb92-4e78-a62c-2fefbe6ce72b\" class=\"plotly-graph-div\" style=\"height:525px; width:100%;\"></div>            <script type=\"text/javascript\">                require([\"plotly\"], function(Plotly) {                    window.PLOTLYENV=window.PLOTLYENV || {};                                    if (document.getElementById(\"b158b97f-eb92-4e78-a62c-2fefbe6ce72b\")) {                    Plotly.newPlot(                        \"b158b97f-eb92-4e78-a62c-2fefbe6ce72b\",                        [{\"domain\":{\"x\":[0.0,1.0],\"y\":[0.0,1.0]},\"hovertemplate\":\"motivo=%{label}<br>per=%{value}<extra></extra>\",\"labels\":[\"COBRO INDEBIDO DE INTERESES,COMISIONES,PORTES,TARIFAS Y OTROS CARGOS  * general\",\"FALLAS DEL SISTEMA INFORMATICO QUE DIFICULTAN OPERACIONES Y SERVICIOS\",\"INADECUADA ATENCION AL USUARIO\",\"INADECUADA O INSUFICIENTE INFORMACION SOBRE OPERACIONES, PRODUCTOS Y/O SERVICIOS\",\"Otros\",\"PRCA - NO DISPENS\\u00d3 EFECTIVO Y/O VOUCHER\",\"TRANSACCION NO PROCESADA / MAL REALIZADA\"],\"legendgroup\":\"\",\"name\":\"\",\"showlegend\":true,\"values\":[13.808459705200136,3.2314396573230217,6.468187198445852,3.7441812323844608,1.9989490390076379,52.01991518001687,18.728867987622014],\"type\":\"pie\"}],                        {\"template\":{\"data\":{\"bar\":[{\"error_x\":{\"color\":\"#2a3f5f\"},\"error_y\":{\"color\":\"#2a3f5f\"},\"marker\":{\"line\":{\"color\":\"#E5ECF6\",\"width\":0.5},\"pattern\":{\"fillmode\":\"overlay\",\"size\":10,\"solidity\":0.2}},\"type\":\"bar\"}],\"barpolar\":[{\"marker\":{\"line\":{\"color\":\"#E5ECF6\",\"width\":0.5},\"pattern\":{\"fillmode\":\"overlay\",\"size\":10,\"solidity\":0.2}},\"type\":\"barpolar\"}],\"carpet\":[{\"aaxis\":{\"endlinecolor\":\"#2a3f5f\",\"gridcolor\":\"white\",\"linecolor\":\"white\",\"minorgridcolor\":\"white\",\"startlinecolor\":\"#2a3f5f\"},\"baxis\":{\"endlinecolor\":\"#2a3f5f\",\"gridcolor\":\"white\",\"linecolor\":\"white\",\"minorgridcolor\":\"white\",\"startlinecolor\":\"#2a3f5f\"},\"type\":\"carpet\"}],\"choropleth\":[{\"colorbar\":{\"outlinewidth\":0,\"ticks\":\"\"},\"type\":\"choropleth\"}],\"contour\":[{\"colorbar\":{\"outlinewidth\":0,\"ticks\":\"\"},\"colorscale\":[[0.0,\"#0d0887\"],[0.1111111111111111,\"#46039f\"],[0.2222222222222222,\"#7201a8\"],[0.3333333333333333,\"#9c179e\"],[0.4444444444444444,\"#bd3786\"],[0.5555555555555556,\"#d8576b\"],[0.6666666666666666,\"#ed7953\"],[0.7777777777777778,\"#fb9f3a\"],[0.8888888888888888,\"#fdca26\"],[1.0,\"#f0f921\"]],\"type\":\"contour\"}],\"contourcarpet\":[{\"colorbar\":{\"outlinewidth\":0,\"ticks\":\"\"},\"type\":\"contourcarpet\"}],\"heatmap\":[{\"colorbar\":{\"outlinewidth\":0,\"ticks\":\"\"},\"colorscale\":[[0.0,\"#0d0887\"],[0.1111111111111111,\"#46039f\"],[0.2222222222222222,\"#7201a8\"],[0.3333333333333333,\"#9c179e\"],[0.4444444444444444,\"#bd3786\"],[0.5555555555555556,\"#d8576b\"],[0.6666666666666666,\"#ed7953\"],[0.7777777777777778,\"#fb9f3a\"],[0.8888888888888888,\"#fdca26\"],[1.0,\"#f0f921\"]],\"type\":\"heatmap\"}],\"heatmapgl\":[{\"colorbar\":{\"outlinewidth\":0,\"ticks\":\"\"},\"colorscale\":[[0.0,\"#0d0887\"],[0.1111111111111111,\"#46039f\"],[0.2222222222222222,\"#7201a8\"],[0.3333333333333333,\"#9c179e\"],[0.4444444444444444,\"#bd3786\"],[0.5555555555555556,\"#d8576b\"],[0.6666666666666666,\"#ed7953\"],[0.7777777777777778,\"#fb9f3a\"],[0.8888888888888888,\"#fdca26\"],[1.0,\"#f0f921\"]],\"type\":\"heatmapgl\"}],\"histogram\":[{\"marker\":{\"pattern\":{\"fillmode\":\"overlay\",\"size\":10,\"solidity\":0.2}},\"type\":\"histogram\"}],\"histogram2d\":[{\"colorbar\":{\"outlinewidth\":0,\"ticks\":\"\"},\"colorscale\":[[0.0,\"#0d0887\"],[0.1111111111111111,\"#46039f\"],[0.2222222222222222,\"#7201a8\"],[0.3333333333333333,\"#9c179e\"],[0.4444444444444444,\"#bd3786\"],[0.5555555555555556,\"#d8576b\"],[0.6666666666666666,\"#ed7953\"],[0.7777777777777778,\"#fb9f3a\"],[0.8888888888888888,\"#fdca26\"],[1.0,\"#f0f921\"]],\"type\":\"histogram2d\"}],\"histogram2dcontour\":[{\"colorbar\":{\"outlinewidth\":0,\"ticks\":\"\"},\"colorscale\":[[0.0,\"#0d0887\"],[0.1111111111111111,\"#46039f\"],[0.2222222222222222,\"#7201a8\"],[0.3333333333333333,\"#9c179e\"],[0.4444444444444444,\"#bd3786\"],[0.5555555555555556,\"#d8576b\"],[0.6666666666666666,\"#ed7953\"],[0.7777777777777778,\"#fb9f3a\"],[0.8888888888888888,\"#fdca26\"],[1.0,\"#f0f921\"]],\"type\":\"histogram2dcontour\"}],\"mesh3d\":[{\"colorbar\":{\"outlinewidth\":0,\"ticks\":\"\"},\"type\":\"mesh3d\"}],\"parcoords\":[{\"line\":{\"colorbar\":{\"outlinewidth\":0,\"ticks\":\"\"}},\"type\":\"parcoords\"}],\"pie\":[{\"automargin\":true,\"type\":\"pie\"}],\"scatter\":[{\"marker\":{\"colorbar\":{\"outlinewidth\":0,\"ticks\":\"\"}},\"type\":\"scatter\"}],\"scatter3d\":[{\"line\":{\"colorbar\":{\"outlinewidth\":0,\"ticks\":\"\"}},\"marker\":{\"colorbar\":{\"outlinewidth\":0,\"ticks\":\"\"}},\"type\":\"scatter3d\"}],\"scattercarpet\":[{\"marker\":{\"colorbar\":{\"outlinewidth\":0,\"ticks\":\"\"}},\"type\":\"scattercarpet\"}],\"scattergeo\":[{\"marker\":{\"colorbar\":{\"outlinewidth\":0,\"ticks\":\"\"}},\"type\":\"scattergeo\"}],\"scattergl\":[{\"marker\":{\"colorbar\":{\"outlinewidth\":0,\"ticks\":\"\"}},\"type\":\"scattergl\"}],\"scattermapbox\":[{\"marker\":{\"colorbar\":{\"outlinewidth\":0,\"ticks\":\"\"}},\"type\":\"scattermapbox\"}],\"scatterpolar\":[{\"marker\":{\"colorbar\":{\"outlinewidth\":0,\"ticks\":\"\"}},\"type\":\"scatterpolar\"}],\"scatterpolargl\":[{\"marker\":{\"colorbar\":{\"outlinewidth\":0,\"ticks\":\"\"}},\"type\":\"scatterpolargl\"}],\"scatterternary\":[{\"marker\":{\"colorbar\":{\"outlinewidth\":0,\"ticks\":\"\"}},\"type\":\"scatterternary\"}],\"surface\":[{\"colorbar\":{\"outlinewidth\":0,\"ticks\":\"\"},\"colorscale\":[[0.0,\"#0d0887\"],[0.1111111111111111,\"#46039f\"],[0.2222222222222222,\"#7201a8\"],[0.3333333333333333,\"#9c179e\"],[0.4444444444444444,\"#bd3786\"],[0.5555555555555556,\"#d8576b\"],[0.6666666666666666,\"#ed7953\"],[0.7777777777777778,\"#fb9f3a\"],[0.8888888888888888,\"#fdca26\"],[1.0,\"#f0f921\"]],\"type\":\"surface\"}],\"table\":[{\"cells\":{\"fill\":{\"color\":\"#EBF0F8\"},\"line\":{\"color\":\"white\"}},\"header\":{\"fill\":{\"color\":\"#C8D4E3\"},\"line\":{\"color\":\"white\"}},\"type\":\"table\"}]},\"layout\":{\"annotationdefaults\":{\"arrowcolor\":\"#2a3f5f\",\"arrowhead\":0,\"arrowwidth\":1},\"autotypenumbers\":\"strict\",\"coloraxis\":{\"colorbar\":{\"outlinewidth\":0,\"ticks\":\"\"}},\"colorscale\":{\"diverging\":[[0,\"#8e0152\"],[0.1,\"#c51b7d\"],[0.2,\"#de77ae\"],[0.3,\"#f1b6da\"],[0.4,\"#fde0ef\"],[0.5,\"#f7f7f7\"],[0.6,\"#e6f5d0\"],[0.7,\"#b8e186\"],[0.8,\"#7fbc41\"],[0.9,\"#4d9221\"],[1,\"#276419\"]],\"sequential\":[[0.0,\"#0d0887\"],[0.1111111111111111,\"#46039f\"],[0.2222222222222222,\"#7201a8\"],[0.3333333333333333,\"#9c179e\"],[0.4444444444444444,\"#bd3786\"],[0.5555555555555556,\"#d8576b\"],[0.6666666666666666,\"#ed7953\"],[0.7777777777777778,\"#fb9f3a\"],[0.8888888888888888,\"#fdca26\"],[1.0,\"#f0f921\"]],\"sequentialminus\":[[0.0,\"#0d0887\"],[0.1111111111111111,\"#46039f\"],[0.2222222222222222,\"#7201a8\"],[0.3333333333333333,\"#9c179e\"],[0.4444444444444444,\"#bd3786\"],[0.5555555555555556,\"#d8576b\"],[0.6666666666666666,\"#ed7953\"],[0.7777777777777778,\"#fb9f3a\"],[0.8888888888888888,\"#fdca26\"],[1.0,\"#f0f921\"]]},\"colorway\":[\"#636efa\",\"#EF553B\",\"#00cc96\",\"#ab63fa\",\"#FFA15A\",\"#19d3f3\",\"#FF6692\",\"#B6E880\",\"#FF97FF\",\"#FECB52\"],\"font\":{\"color\":\"#2a3f5f\"},\"geo\":{\"bgcolor\":\"white\",\"lakecolor\":\"white\",\"landcolor\":\"#E5ECF6\",\"showlakes\":true,\"showland\":true,\"subunitcolor\":\"white\"},\"hoverlabel\":{\"align\":\"left\"},\"hovermode\":\"closest\",\"mapbox\":{\"style\":\"light\"},\"paper_bgcolor\":\"white\",\"plot_bgcolor\":\"#E5ECF6\",\"polar\":{\"angularaxis\":{\"gridcolor\":\"white\",\"linecolor\":\"white\",\"ticks\":\"\"},\"bgcolor\":\"#E5ECF6\",\"radialaxis\":{\"gridcolor\":\"white\",\"linecolor\":\"white\",\"ticks\":\"\"}},\"scene\":{\"xaxis\":{\"backgroundcolor\":\"#E5ECF6\",\"gridcolor\":\"white\",\"gridwidth\":2,\"linecolor\":\"white\",\"showbackground\":true,\"ticks\":\"\",\"zerolinecolor\":\"white\"},\"yaxis\":{\"backgroundcolor\":\"#E5ECF6\",\"gridcolor\":\"white\",\"gridwidth\":2,\"linecolor\":\"white\",\"showbackground\":true,\"ticks\":\"\",\"zerolinecolor\":\"white\"},\"zaxis\":{\"backgroundcolor\":\"#E5ECF6\",\"gridcolor\":\"white\",\"gridwidth\":2,\"linecolor\":\"white\",\"showbackground\":true,\"ticks\":\"\",\"zerolinecolor\":\"white\"}},\"shapedefaults\":{\"line\":{\"color\":\"#2a3f5f\"}},\"ternary\":{\"aaxis\":{\"gridcolor\":\"white\",\"linecolor\":\"white\",\"ticks\":\"\"},\"baxis\":{\"gridcolor\":\"white\",\"linecolor\":\"white\",\"ticks\":\"\"},\"bgcolor\":\"#E5ECF6\",\"caxis\":{\"gridcolor\":\"white\",\"linecolor\":\"white\",\"ticks\":\"\"}},\"title\":{\"x\":0.05},\"xaxis\":{\"automargin\":true,\"gridcolor\":\"white\",\"linecolor\":\"white\",\"ticks\":\"\",\"title\":{\"standoff\":15},\"zerolinecolor\":\"white\",\"zerolinewidth\":2},\"yaxis\":{\"automargin\":true,\"gridcolor\":\"white\",\"linecolor\":\"white\",\"ticks\":\"\",\"title\":{\"standoff\":15},\"zerolinecolor\":\"white\",\"zerolinewidth\":2}}},\"legend\":{\"tracegroupgap\":0},\"title\":{\"text\":\"Porcentaje por Motivo\"}},                        {\"responsive\": true}                    ).then(function(){\n",
       "                            \n",
       "var gd = document.getElementById('b158b97f-eb92-4e78-a62c-2fefbe6ce72b');\n",
       "var x = new MutationObserver(function (mutations, observer) {{\n",
       "        var display = window.getComputedStyle(gd).display;\n",
       "        if (!display || display === 'none') {{\n",
       "            console.log([gd, 'removed!']);\n",
       "            Plotly.purge(gd);\n",
       "            observer.disconnect();\n",
       "        }}\n",
       "}});\n",
       "\n",
       "// Listen for the removal of the full notebook cells\n",
       "var notebookContainer = gd.closest('#notebook-container');\n",
       "if (notebookContainer) {{\n",
       "    x.observe(notebookContainer, {childList: true});\n",
       "}}\n",
       "\n",
       "// Listen for the clearing of the current output cell\n",
       "var outputEl = gd.closest('.output');\n",
       "if (outputEl) {{\n",
       "    x.observe(outputEl, {childList: true});\n",
       "}}\n",
       "\n",
       "                        })                };                });            </script>        </div>"
      ]
     },
     "metadata": {},
     "output_type": "display_data"
    }
   ],
   "source": [
    "data_temp = datos_preprocessed.groupby(['Motivo Corregido']).agg({ 'N° Reclamo': \"count\"})\n",
    "data_temp = data_temp.sort_values(by=['N° Reclamo'], ascending = False).reset_index()\n",
    "\n",
    "total = np.sum(data_temp['N° Reclamo'])\n",
    "data_temp['per'] = data_temp['N° Reclamo']/total*100\n",
    "data_temp = data_temp.sort_values(by=['per'], ascending = False)\n",
    "\n",
    "# fig = px.pie(data_temp, values='per', names='Cod Motivo SBS', title='Porcentage por Motivo')\n",
    "# fig.show()\n",
    "\n",
    "data_temp['motivo'] = data_temp.apply(lambda x: x['Motivo Corregido'] if x['per'] >= 2 else 'Otros', axis=1)\n",
    "data_temp = data_temp.groupby(['motivo']).agg({ 'per': \"sum\"}).reset_index()\n",
    "\n",
    "data_temp.to_excel(\"motivos_pie.xlsx\")\n",
    "\n",
    "fig = px.pie(data_temp, values='per', names='motivo', title='Porcentaje por Motivo')\n",
    "fig.show()"
   ]
  },
  {
   "cell_type": "code",
   "execution_count": null,
   "id": "5f4c4940",
   "metadata": {},
   "outputs": [],
   "source": []
  },
  {
   "cell_type": "code",
   "execution_count": 182,
   "id": "9209eff1",
   "metadata": {
    "scrolled": true
   },
   "outputs": [
    {
     "data": {
      "application/vnd.plotly.v1+json": {
       "config": {
        "plotlyServerURL": "https://plot.ly"
       },
       "data": [
        {
         "branchvalues": "total",
         "customdata": [
          [
           -1,
           14
          ],
          [
           2,
           996
          ],
          [
           5,
           2780
          ],
          [
           6,
           27911
          ],
          [
           7,
           170
          ],
          [
           8,
           14
          ],
          [
           9,
           4535
          ],
          [
           11,
           735
          ],
          [
           12,
           34
          ],
          [
           17,
           322
          ],
          [
           18,
           12
          ],
          [
           27,
           1112
          ],
          [
           28,
           534
          ],
          [
           29,
           20724
          ],
          [
           96,
           16780
          ],
          [
           102,
           115291
          ],
          [
           999,
           43
          ],
          [
           "(?)",
           77151.22817918097
          ]
         ],
         "domain": {
          "x": [
           0,
           1
          ],
          "y": [
           0,
           1
          ]
         },
         "hovertemplate": "labels=%{label}<br>N° Reclamo_sum=%{value}<br>parent=%{parent}<br>id=%{id}<br>Cod Servicio SBS=%{customdata[0]}<br>N° Reclamo=%{color}<extra></extra>",
         "ids": [
          "Codigo de reclamo/-1",
          "Codigo de reclamo/2",
          "Codigo de reclamo/5",
          "Codigo de reclamo/6",
          "Codigo de reclamo/7",
          "Codigo de reclamo/8",
          "Codigo de reclamo/9",
          "Codigo de reclamo/11",
          "Codigo de reclamo/12",
          "Codigo de reclamo/17",
          "Codigo de reclamo/18",
          "Codigo de reclamo/27",
          "Codigo de reclamo/28",
          "Codigo de reclamo/29",
          "Codigo de reclamo/96",
          "Codigo de reclamo/102",
          "Codigo de reclamo/999",
          "Codigo de reclamo"
         ],
         "labels": [
          "-1",
          "2",
          "5",
          "6",
          "7",
          "8",
          "9",
          "11",
          "12",
          "17",
          "18",
          "27",
          "28",
          "29",
          "96",
          "102",
          "999",
          "Codigo de reclamo"
         ],
         "marker": {
          "coloraxis": "coloraxis",
          "colors": [
           14,
           996,
           2780,
           27911,
           170,
           14,
           4535,
           735,
           34,
           322,
           12,
           1112,
           534,
           20724,
           16780,
           115291,
           43,
           77151.22817918097
          ]
         },
         "name": "",
         "parents": [
          "Codigo de reclamo",
          "Codigo de reclamo",
          "Codigo de reclamo",
          "Codigo de reclamo",
          "Codigo de reclamo",
          "Codigo de reclamo",
          "Codigo de reclamo",
          "Codigo de reclamo",
          "Codigo de reclamo",
          "Codigo de reclamo",
          "Codigo de reclamo",
          "Codigo de reclamo",
          "Codigo de reclamo",
          "Codigo de reclamo",
          "Codigo de reclamo",
          "Codigo de reclamo",
          "Codigo de reclamo",
          ""
         ],
         "type": "treemap",
         "values": [
          14,
          996,
          2780,
          27911,
          170,
          14,
          4535,
          735,
          34,
          322,
          12,
          1112,
          534,
          20724,
          16780,
          115291,
          43,
          192007
         ]
        }
       ],
       "layout": {
        "coloraxis": {
         "colorbar": {
          "title": {
           "text": "N° Reclamo"
          }
         },
         "colorscale": [
          [
           0,
           "#0d0887"
          ],
          [
           0.1111111111111111,
           "#46039f"
          ],
          [
           0.2222222222222222,
           "#7201a8"
          ],
          [
           0.3333333333333333,
           "#9c179e"
          ],
          [
           0.4444444444444444,
           "#bd3786"
          ],
          [
           0.5555555555555556,
           "#d8576b"
          ],
          [
           0.6666666666666666,
           "#ed7953"
          ],
          [
           0.7777777777777778,
           "#fb9f3a"
          ],
          [
           0.8888888888888888,
           "#fdca26"
          ],
          [
           1,
           "#f0f921"
          ]
         ]
        },
        "legend": {
         "tracegroupgap": 0
        },
        "margin": {
         "t": 60
        },
        "template": {
         "data": {
          "bar": [
           {
            "error_x": {
             "color": "#2a3f5f"
            },
            "error_y": {
             "color": "#2a3f5f"
            },
            "marker": {
             "line": {
              "color": "#E5ECF6",
              "width": 0.5
             },
             "pattern": {
              "fillmode": "overlay",
              "size": 10,
              "solidity": 0.2
             }
            },
            "type": "bar"
           }
          ],
          "barpolar": [
           {
            "marker": {
             "line": {
              "color": "#E5ECF6",
              "width": 0.5
             },
             "pattern": {
              "fillmode": "overlay",
              "size": 10,
              "solidity": 0.2
             }
            },
            "type": "barpolar"
           }
          ],
          "carpet": [
           {
            "aaxis": {
             "endlinecolor": "#2a3f5f",
             "gridcolor": "white",
             "linecolor": "white",
             "minorgridcolor": "white",
             "startlinecolor": "#2a3f5f"
            },
            "baxis": {
             "endlinecolor": "#2a3f5f",
             "gridcolor": "white",
             "linecolor": "white",
             "minorgridcolor": "white",
             "startlinecolor": "#2a3f5f"
            },
            "type": "carpet"
           }
          ],
          "choropleth": [
           {
            "colorbar": {
             "outlinewidth": 0,
             "ticks": ""
            },
            "type": "choropleth"
           }
          ],
          "contour": [
           {
            "colorbar": {
             "outlinewidth": 0,
             "ticks": ""
            },
            "colorscale": [
             [
              0,
              "#0d0887"
             ],
             [
              0.1111111111111111,
              "#46039f"
             ],
             [
              0.2222222222222222,
              "#7201a8"
             ],
             [
              0.3333333333333333,
              "#9c179e"
             ],
             [
              0.4444444444444444,
              "#bd3786"
             ],
             [
              0.5555555555555556,
              "#d8576b"
             ],
             [
              0.6666666666666666,
              "#ed7953"
             ],
             [
              0.7777777777777778,
              "#fb9f3a"
             ],
             [
              0.8888888888888888,
              "#fdca26"
             ],
             [
              1,
              "#f0f921"
             ]
            ],
            "type": "contour"
           }
          ],
          "contourcarpet": [
           {
            "colorbar": {
             "outlinewidth": 0,
             "ticks": ""
            },
            "type": "contourcarpet"
           }
          ],
          "heatmap": [
           {
            "colorbar": {
             "outlinewidth": 0,
             "ticks": ""
            },
            "colorscale": [
             [
              0,
              "#0d0887"
             ],
             [
              0.1111111111111111,
              "#46039f"
             ],
             [
              0.2222222222222222,
              "#7201a8"
             ],
             [
              0.3333333333333333,
              "#9c179e"
             ],
             [
              0.4444444444444444,
              "#bd3786"
             ],
             [
              0.5555555555555556,
              "#d8576b"
             ],
             [
              0.6666666666666666,
              "#ed7953"
             ],
             [
              0.7777777777777778,
              "#fb9f3a"
             ],
             [
              0.8888888888888888,
              "#fdca26"
             ],
             [
              1,
              "#f0f921"
             ]
            ],
            "type": "heatmap"
           }
          ],
          "heatmapgl": [
           {
            "colorbar": {
             "outlinewidth": 0,
             "ticks": ""
            },
            "colorscale": [
             [
              0,
              "#0d0887"
             ],
             [
              0.1111111111111111,
              "#46039f"
             ],
             [
              0.2222222222222222,
              "#7201a8"
             ],
             [
              0.3333333333333333,
              "#9c179e"
             ],
             [
              0.4444444444444444,
              "#bd3786"
             ],
             [
              0.5555555555555556,
              "#d8576b"
             ],
             [
              0.6666666666666666,
              "#ed7953"
             ],
             [
              0.7777777777777778,
              "#fb9f3a"
             ],
             [
              0.8888888888888888,
              "#fdca26"
             ],
             [
              1,
              "#f0f921"
             ]
            ],
            "type": "heatmapgl"
           }
          ],
          "histogram": [
           {
            "marker": {
             "pattern": {
              "fillmode": "overlay",
              "size": 10,
              "solidity": 0.2
             }
            },
            "type": "histogram"
           }
          ],
          "histogram2d": [
           {
            "colorbar": {
             "outlinewidth": 0,
             "ticks": ""
            },
            "colorscale": [
             [
              0,
              "#0d0887"
             ],
             [
              0.1111111111111111,
              "#46039f"
             ],
             [
              0.2222222222222222,
              "#7201a8"
             ],
             [
              0.3333333333333333,
              "#9c179e"
             ],
             [
              0.4444444444444444,
              "#bd3786"
             ],
             [
              0.5555555555555556,
              "#d8576b"
             ],
             [
              0.6666666666666666,
              "#ed7953"
             ],
             [
              0.7777777777777778,
              "#fb9f3a"
             ],
             [
              0.8888888888888888,
              "#fdca26"
             ],
             [
              1,
              "#f0f921"
             ]
            ],
            "type": "histogram2d"
           }
          ],
          "histogram2dcontour": [
           {
            "colorbar": {
             "outlinewidth": 0,
             "ticks": ""
            },
            "colorscale": [
             [
              0,
              "#0d0887"
             ],
             [
              0.1111111111111111,
              "#46039f"
             ],
             [
              0.2222222222222222,
              "#7201a8"
             ],
             [
              0.3333333333333333,
              "#9c179e"
             ],
             [
              0.4444444444444444,
              "#bd3786"
             ],
             [
              0.5555555555555556,
              "#d8576b"
             ],
             [
              0.6666666666666666,
              "#ed7953"
             ],
             [
              0.7777777777777778,
              "#fb9f3a"
             ],
             [
              0.8888888888888888,
              "#fdca26"
             ],
             [
              1,
              "#f0f921"
             ]
            ],
            "type": "histogram2dcontour"
           }
          ],
          "mesh3d": [
           {
            "colorbar": {
             "outlinewidth": 0,
             "ticks": ""
            },
            "type": "mesh3d"
           }
          ],
          "parcoords": [
           {
            "line": {
             "colorbar": {
              "outlinewidth": 0,
              "ticks": ""
             }
            },
            "type": "parcoords"
           }
          ],
          "pie": [
           {
            "automargin": true,
            "type": "pie"
           }
          ],
          "scatter": [
           {
            "marker": {
             "colorbar": {
              "outlinewidth": 0,
              "ticks": ""
             }
            },
            "type": "scatter"
           }
          ],
          "scatter3d": [
           {
            "line": {
             "colorbar": {
              "outlinewidth": 0,
              "ticks": ""
             }
            },
            "marker": {
             "colorbar": {
              "outlinewidth": 0,
              "ticks": ""
             }
            },
            "type": "scatter3d"
           }
          ],
          "scattercarpet": [
           {
            "marker": {
             "colorbar": {
              "outlinewidth": 0,
              "ticks": ""
             }
            },
            "type": "scattercarpet"
           }
          ],
          "scattergeo": [
           {
            "marker": {
             "colorbar": {
              "outlinewidth": 0,
              "ticks": ""
             }
            },
            "type": "scattergeo"
           }
          ],
          "scattergl": [
           {
            "marker": {
             "colorbar": {
              "outlinewidth": 0,
              "ticks": ""
             }
            },
            "type": "scattergl"
           }
          ],
          "scattermapbox": [
           {
            "marker": {
             "colorbar": {
              "outlinewidth": 0,
              "ticks": ""
             }
            },
            "type": "scattermapbox"
           }
          ],
          "scatterpolar": [
           {
            "marker": {
             "colorbar": {
              "outlinewidth": 0,
              "ticks": ""
             }
            },
            "type": "scatterpolar"
           }
          ],
          "scatterpolargl": [
           {
            "marker": {
             "colorbar": {
              "outlinewidth": 0,
              "ticks": ""
             }
            },
            "type": "scatterpolargl"
           }
          ],
          "scatterternary": [
           {
            "marker": {
             "colorbar": {
              "outlinewidth": 0,
              "ticks": ""
             }
            },
            "type": "scatterternary"
           }
          ],
          "surface": [
           {
            "colorbar": {
             "outlinewidth": 0,
             "ticks": ""
            },
            "colorscale": [
             [
              0,
              "#0d0887"
             ],
             [
              0.1111111111111111,
              "#46039f"
             ],
             [
              0.2222222222222222,
              "#7201a8"
             ],
             [
              0.3333333333333333,
              "#9c179e"
             ],
             [
              0.4444444444444444,
              "#bd3786"
             ],
             [
              0.5555555555555556,
              "#d8576b"
             ],
             [
              0.6666666666666666,
              "#ed7953"
             ],
             [
              0.7777777777777778,
              "#fb9f3a"
             ],
             [
              0.8888888888888888,
              "#fdca26"
             ],
             [
              1,
              "#f0f921"
             ]
            ],
            "type": "surface"
           }
          ],
          "table": [
           {
            "cells": {
             "fill": {
              "color": "#EBF0F8"
             },
             "line": {
              "color": "white"
             }
            },
            "header": {
             "fill": {
              "color": "#C8D4E3"
             },
             "line": {
              "color": "white"
             }
            },
            "type": "table"
           }
          ]
         },
         "layout": {
          "annotationdefaults": {
           "arrowcolor": "#2a3f5f",
           "arrowhead": 0,
           "arrowwidth": 1
          },
          "autotypenumbers": "strict",
          "coloraxis": {
           "colorbar": {
            "outlinewidth": 0,
            "ticks": ""
           }
          },
          "colorscale": {
           "diverging": [
            [
             0,
             "#8e0152"
            ],
            [
             0.1,
             "#c51b7d"
            ],
            [
             0.2,
             "#de77ae"
            ],
            [
             0.3,
             "#f1b6da"
            ],
            [
             0.4,
             "#fde0ef"
            ],
            [
             0.5,
             "#f7f7f7"
            ],
            [
             0.6,
             "#e6f5d0"
            ],
            [
             0.7,
             "#b8e186"
            ],
            [
             0.8,
             "#7fbc41"
            ],
            [
             0.9,
             "#4d9221"
            ],
            [
             1,
             "#276419"
            ]
           ],
           "sequential": [
            [
             0,
             "#0d0887"
            ],
            [
             0.1111111111111111,
             "#46039f"
            ],
            [
             0.2222222222222222,
             "#7201a8"
            ],
            [
             0.3333333333333333,
             "#9c179e"
            ],
            [
             0.4444444444444444,
             "#bd3786"
            ],
            [
             0.5555555555555556,
             "#d8576b"
            ],
            [
             0.6666666666666666,
             "#ed7953"
            ],
            [
             0.7777777777777778,
             "#fb9f3a"
            ],
            [
             0.8888888888888888,
             "#fdca26"
            ],
            [
             1,
             "#f0f921"
            ]
           ],
           "sequentialminus": [
            [
             0,
             "#0d0887"
            ],
            [
             0.1111111111111111,
             "#46039f"
            ],
            [
             0.2222222222222222,
             "#7201a8"
            ],
            [
             0.3333333333333333,
             "#9c179e"
            ],
            [
             0.4444444444444444,
             "#bd3786"
            ],
            [
             0.5555555555555556,
             "#d8576b"
            ],
            [
             0.6666666666666666,
             "#ed7953"
            ],
            [
             0.7777777777777778,
             "#fb9f3a"
            ],
            [
             0.8888888888888888,
             "#fdca26"
            ],
            [
             1,
             "#f0f921"
            ]
           ]
          },
          "colorway": [
           "#636efa",
           "#EF553B",
           "#00cc96",
           "#ab63fa",
           "#FFA15A",
           "#19d3f3",
           "#FF6692",
           "#B6E880",
           "#FF97FF",
           "#FECB52"
          ],
          "font": {
           "color": "#2a3f5f"
          },
          "geo": {
           "bgcolor": "white",
           "lakecolor": "white",
           "landcolor": "#E5ECF6",
           "showlakes": true,
           "showland": true,
           "subunitcolor": "white"
          },
          "hoverlabel": {
           "align": "left"
          },
          "hovermode": "closest",
          "mapbox": {
           "style": "light"
          },
          "paper_bgcolor": "white",
          "plot_bgcolor": "#E5ECF6",
          "polar": {
           "angularaxis": {
            "gridcolor": "white",
            "linecolor": "white",
            "ticks": ""
           },
           "bgcolor": "#E5ECF6",
           "radialaxis": {
            "gridcolor": "white",
            "linecolor": "white",
            "ticks": ""
           }
          },
          "scene": {
           "xaxis": {
            "backgroundcolor": "#E5ECF6",
            "gridcolor": "white",
            "gridwidth": 2,
            "linecolor": "white",
            "showbackground": true,
            "ticks": "",
            "zerolinecolor": "white"
           },
           "yaxis": {
            "backgroundcolor": "#E5ECF6",
            "gridcolor": "white",
            "gridwidth": 2,
            "linecolor": "white",
            "showbackground": true,
            "ticks": "",
            "zerolinecolor": "white"
           },
           "zaxis": {
            "backgroundcolor": "#E5ECF6",
            "gridcolor": "white",
            "gridwidth": 2,
            "linecolor": "white",
            "showbackground": true,
            "ticks": "",
            "zerolinecolor": "white"
           }
          },
          "shapedefaults": {
           "line": {
            "color": "#2a3f5f"
           }
          },
          "ternary": {
           "aaxis": {
            "gridcolor": "white",
            "linecolor": "white",
            "ticks": ""
           },
           "baxis": {
            "gridcolor": "white",
            "linecolor": "white",
            "ticks": ""
           },
           "bgcolor": "#E5ECF6",
           "caxis": {
            "gridcolor": "white",
            "linecolor": "white",
            "ticks": ""
           }
          },
          "title": {
           "x": 0.05
          },
          "xaxis": {
           "automargin": true,
           "gridcolor": "white",
           "linecolor": "white",
           "ticks": "",
           "title": {
            "standoff": 15
           },
           "zerolinecolor": "white",
           "zerolinewidth": 2
          },
          "yaxis": {
           "automargin": true,
           "gridcolor": "white",
           "linecolor": "white",
           "ticks": "",
           "title": {
            "standoff": 15
           },
           "zerolinecolor": "white",
           "zerolinewidth": 2
          }
         }
        }
       }
      },
      "text/html": [
       "<div>                            <div id=\"66af08dd-9bf3-4516-b0a1-3e962bf5b096\" class=\"plotly-graph-div\" style=\"height:525px; width:100%;\"></div>            <script type=\"text/javascript\">                require([\"plotly\"], function(Plotly) {                    window.PLOTLYENV=window.PLOTLYENV || {};                                    if (document.getElementById(\"66af08dd-9bf3-4516-b0a1-3e962bf5b096\")) {                    Plotly.newPlot(                        \"66af08dd-9bf3-4516-b0a1-3e962bf5b096\",                        [{\"branchvalues\":\"total\",\"customdata\":[[-1,14.0],[2,996.0],[5,2780.0],[6,27911.0],[7,170.0],[8,14.0],[9,4535.0],[11,735.0],[12,34.0],[17,322.0],[18,12.0],[27,1112.0],[28,534.0],[29,20724.0],[96,16780.0],[102,115291.0],[999,43.0],[\"(?)\",77151.22817918097]],\"domain\":{\"x\":[0.0,1.0],\"y\":[0.0,1.0]},\"hovertemplate\":\"labels=%{label}<br>N\\u00b0 Reclamo_sum=%{value}<br>parent=%{parent}<br>id=%{id}<br>Cod Servicio SBS=%{customdata[0]}<br>N\\u00b0 Reclamo=%{color}<extra></extra>\",\"ids\":[\"Codigo de reclamo/-1\",\"Codigo de reclamo/2\",\"Codigo de reclamo/5\",\"Codigo de reclamo/6\",\"Codigo de reclamo/7\",\"Codigo de reclamo/8\",\"Codigo de reclamo/9\",\"Codigo de reclamo/11\",\"Codigo de reclamo/12\",\"Codigo de reclamo/17\",\"Codigo de reclamo/18\",\"Codigo de reclamo/27\",\"Codigo de reclamo/28\",\"Codigo de reclamo/29\",\"Codigo de reclamo/96\",\"Codigo de reclamo/102\",\"Codigo de reclamo/999\",\"Codigo de reclamo\"],\"labels\":[\"-1\",\"2\",\"5\",\"6\",\"7\",\"8\",\"9\",\"11\",\"12\",\"17\",\"18\",\"27\",\"28\",\"29\",\"96\",\"102\",\"999\",\"Codigo de reclamo\"],\"marker\":{\"coloraxis\":\"coloraxis\",\"colors\":[14.0,996.0,2780.0,27911.0,170.0,14.0,4535.0,735.0,34.0,322.0,12.0,1112.0,534.0,20724.0,16780.0,115291.0,43.0,77151.22817918097]},\"name\":\"\",\"parents\":[\"Codigo de reclamo\",\"Codigo de reclamo\",\"Codigo de reclamo\",\"Codigo de reclamo\",\"Codigo de reclamo\",\"Codigo de reclamo\",\"Codigo de reclamo\",\"Codigo de reclamo\",\"Codigo de reclamo\",\"Codigo de reclamo\",\"Codigo de reclamo\",\"Codigo de reclamo\",\"Codigo de reclamo\",\"Codigo de reclamo\",\"Codigo de reclamo\",\"Codigo de reclamo\",\"Codigo de reclamo\",\"\"],\"values\":[14,996,2780,27911,170,14,4535,735,34,322,12,1112,534,20724,16780,115291,43,192007],\"type\":\"treemap\"}],                        {\"template\":{\"data\":{\"bar\":[{\"error_x\":{\"color\":\"#2a3f5f\"},\"error_y\":{\"color\":\"#2a3f5f\"},\"marker\":{\"line\":{\"color\":\"#E5ECF6\",\"width\":0.5},\"pattern\":{\"fillmode\":\"overlay\",\"size\":10,\"solidity\":0.2}},\"type\":\"bar\"}],\"barpolar\":[{\"marker\":{\"line\":{\"color\":\"#E5ECF6\",\"width\":0.5},\"pattern\":{\"fillmode\":\"overlay\",\"size\":10,\"solidity\":0.2}},\"type\":\"barpolar\"}],\"carpet\":[{\"aaxis\":{\"endlinecolor\":\"#2a3f5f\",\"gridcolor\":\"white\",\"linecolor\":\"white\",\"minorgridcolor\":\"white\",\"startlinecolor\":\"#2a3f5f\"},\"baxis\":{\"endlinecolor\":\"#2a3f5f\",\"gridcolor\":\"white\",\"linecolor\":\"white\",\"minorgridcolor\":\"white\",\"startlinecolor\":\"#2a3f5f\"},\"type\":\"carpet\"}],\"choropleth\":[{\"colorbar\":{\"outlinewidth\":0,\"ticks\":\"\"},\"type\":\"choropleth\"}],\"contour\":[{\"colorbar\":{\"outlinewidth\":0,\"ticks\":\"\"},\"colorscale\":[[0.0,\"#0d0887\"],[0.1111111111111111,\"#46039f\"],[0.2222222222222222,\"#7201a8\"],[0.3333333333333333,\"#9c179e\"],[0.4444444444444444,\"#bd3786\"],[0.5555555555555556,\"#d8576b\"],[0.6666666666666666,\"#ed7953\"],[0.7777777777777778,\"#fb9f3a\"],[0.8888888888888888,\"#fdca26\"],[1.0,\"#f0f921\"]],\"type\":\"contour\"}],\"contourcarpet\":[{\"colorbar\":{\"outlinewidth\":0,\"ticks\":\"\"},\"type\":\"contourcarpet\"}],\"heatmap\":[{\"colorbar\":{\"outlinewidth\":0,\"ticks\":\"\"},\"colorscale\":[[0.0,\"#0d0887\"],[0.1111111111111111,\"#46039f\"],[0.2222222222222222,\"#7201a8\"],[0.3333333333333333,\"#9c179e\"],[0.4444444444444444,\"#bd3786\"],[0.5555555555555556,\"#d8576b\"],[0.6666666666666666,\"#ed7953\"],[0.7777777777777778,\"#fb9f3a\"],[0.8888888888888888,\"#fdca26\"],[1.0,\"#f0f921\"]],\"type\":\"heatmap\"}],\"heatmapgl\":[{\"colorbar\":{\"outlinewidth\":0,\"ticks\":\"\"},\"colorscale\":[[0.0,\"#0d0887\"],[0.1111111111111111,\"#46039f\"],[0.2222222222222222,\"#7201a8\"],[0.3333333333333333,\"#9c179e\"],[0.4444444444444444,\"#bd3786\"],[0.5555555555555556,\"#d8576b\"],[0.6666666666666666,\"#ed7953\"],[0.7777777777777778,\"#fb9f3a\"],[0.8888888888888888,\"#fdca26\"],[1.0,\"#f0f921\"]],\"type\":\"heatmapgl\"}],\"histogram\":[{\"marker\":{\"pattern\":{\"fillmode\":\"overlay\",\"size\":10,\"solidity\":0.2}},\"type\":\"histogram\"}],\"histogram2d\":[{\"colorbar\":{\"outlinewidth\":0,\"ticks\":\"\"},\"colorscale\":[[0.0,\"#0d0887\"],[0.1111111111111111,\"#46039f\"],[0.2222222222222222,\"#7201a8\"],[0.3333333333333333,\"#9c179e\"],[0.4444444444444444,\"#bd3786\"],[0.5555555555555556,\"#d8576b\"],[0.6666666666666666,\"#ed7953\"],[0.7777777777777778,\"#fb9f3a\"],[0.8888888888888888,\"#fdca26\"],[1.0,\"#f0f921\"]],\"type\":\"histogram2d\"}],\"histogram2dcontour\":[{\"colorbar\":{\"outlinewidth\":0,\"ticks\":\"\"},\"colorscale\":[[0.0,\"#0d0887\"],[0.1111111111111111,\"#46039f\"],[0.2222222222222222,\"#7201a8\"],[0.3333333333333333,\"#9c179e\"],[0.4444444444444444,\"#bd3786\"],[0.5555555555555556,\"#d8576b\"],[0.6666666666666666,\"#ed7953\"],[0.7777777777777778,\"#fb9f3a\"],[0.8888888888888888,\"#fdca26\"],[1.0,\"#f0f921\"]],\"type\":\"histogram2dcontour\"}],\"mesh3d\":[{\"colorbar\":{\"outlinewidth\":0,\"ticks\":\"\"},\"type\":\"mesh3d\"}],\"parcoords\":[{\"line\":{\"colorbar\":{\"outlinewidth\":0,\"ticks\":\"\"}},\"type\":\"parcoords\"}],\"pie\":[{\"automargin\":true,\"type\":\"pie\"}],\"scatter\":[{\"marker\":{\"colorbar\":{\"outlinewidth\":0,\"ticks\":\"\"}},\"type\":\"scatter\"}],\"scatter3d\":[{\"line\":{\"colorbar\":{\"outlinewidth\":0,\"ticks\":\"\"}},\"marker\":{\"colorbar\":{\"outlinewidth\":0,\"ticks\":\"\"}},\"type\":\"scatter3d\"}],\"scattercarpet\":[{\"marker\":{\"colorbar\":{\"outlinewidth\":0,\"ticks\":\"\"}},\"type\":\"scattercarpet\"}],\"scattergeo\":[{\"marker\":{\"colorbar\":{\"outlinewidth\":0,\"ticks\":\"\"}},\"type\":\"scattergeo\"}],\"scattergl\":[{\"marker\":{\"colorbar\":{\"outlinewidth\":0,\"ticks\":\"\"}},\"type\":\"scattergl\"}],\"scattermapbox\":[{\"marker\":{\"colorbar\":{\"outlinewidth\":0,\"ticks\":\"\"}},\"type\":\"scattermapbox\"}],\"scatterpolar\":[{\"marker\":{\"colorbar\":{\"outlinewidth\":0,\"ticks\":\"\"}},\"type\":\"scatterpolar\"}],\"scatterpolargl\":[{\"marker\":{\"colorbar\":{\"outlinewidth\":0,\"ticks\":\"\"}},\"type\":\"scatterpolargl\"}],\"scatterternary\":[{\"marker\":{\"colorbar\":{\"outlinewidth\":0,\"ticks\":\"\"}},\"type\":\"scatterternary\"}],\"surface\":[{\"colorbar\":{\"outlinewidth\":0,\"ticks\":\"\"},\"colorscale\":[[0.0,\"#0d0887\"],[0.1111111111111111,\"#46039f\"],[0.2222222222222222,\"#7201a8\"],[0.3333333333333333,\"#9c179e\"],[0.4444444444444444,\"#bd3786\"],[0.5555555555555556,\"#d8576b\"],[0.6666666666666666,\"#ed7953\"],[0.7777777777777778,\"#fb9f3a\"],[0.8888888888888888,\"#fdca26\"],[1.0,\"#f0f921\"]],\"type\":\"surface\"}],\"table\":[{\"cells\":{\"fill\":{\"color\":\"#EBF0F8\"},\"line\":{\"color\":\"white\"}},\"header\":{\"fill\":{\"color\":\"#C8D4E3\"},\"line\":{\"color\":\"white\"}},\"type\":\"table\"}]},\"layout\":{\"annotationdefaults\":{\"arrowcolor\":\"#2a3f5f\",\"arrowhead\":0,\"arrowwidth\":1},\"autotypenumbers\":\"strict\",\"coloraxis\":{\"colorbar\":{\"outlinewidth\":0,\"ticks\":\"\"}},\"colorscale\":{\"diverging\":[[0,\"#8e0152\"],[0.1,\"#c51b7d\"],[0.2,\"#de77ae\"],[0.3,\"#f1b6da\"],[0.4,\"#fde0ef\"],[0.5,\"#f7f7f7\"],[0.6,\"#e6f5d0\"],[0.7,\"#b8e186\"],[0.8,\"#7fbc41\"],[0.9,\"#4d9221\"],[1,\"#276419\"]],\"sequential\":[[0.0,\"#0d0887\"],[0.1111111111111111,\"#46039f\"],[0.2222222222222222,\"#7201a8\"],[0.3333333333333333,\"#9c179e\"],[0.4444444444444444,\"#bd3786\"],[0.5555555555555556,\"#d8576b\"],[0.6666666666666666,\"#ed7953\"],[0.7777777777777778,\"#fb9f3a\"],[0.8888888888888888,\"#fdca26\"],[1.0,\"#f0f921\"]],\"sequentialminus\":[[0.0,\"#0d0887\"],[0.1111111111111111,\"#46039f\"],[0.2222222222222222,\"#7201a8\"],[0.3333333333333333,\"#9c179e\"],[0.4444444444444444,\"#bd3786\"],[0.5555555555555556,\"#d8576b\"],[0.6666666666666666,\"#ed7953\"],[0.7777777777777778,\"#fb9f3a\"],[0.8888888888888888,\"#fdca26\"],[1.0,\"#f0f921\"]]},\"colorway\":[\"#636efa\",\"#EF553B\",\"#00cc96\",\"#ab63fa\",\"#FFA15A\",\"#19d3f3\",\"#FF6692\",\"#B6E880\",\"#FF97FF\",\"#FECB52\"],\"font\":{\"color\":\"#2a3f5f\"},\"geo\":{\"bgcolor\":\"white\",\"lakecolor\":\"white\",\"landcolor\":\"#E5ECF6\",\"showlakes\":true,\"showland\":true,\"subunitcolor\":\"white\"},\"hoverlabel\":{\"align\":\"left\"},\"hovermode\":\"closest\",\"mapbox\":{\"style\":\"light\"},\"paper_bgcolor\":\"white\",\"plot_bgcolor\":\"#E5ECF6\",\"polar\":{\"angularaxis\":{\"gridcolor\":\"white\",\"linecolor\":\"white\",\"ticks\":\"\"},\"bgcolor\":\"#E5ECF6\",\"radialaxis\":{\"gridcolor\":\"white\",\"linecolor\":\"white\",\"ticks\":\"\"}},\"scene\":{\"xaxis\":{\"backgroundcolor\":\"#E5ECF6\",\"gridcolor\":\"white\",\"gridwidth\":2,\"linecolor\":\"white\",\"showbackground\":true,\"ticks\":\"\",\"zerolinecolor\":\"white\"},\"yaxis\":{\"backgroundcolor\":\"#E5ECF6\",\"gridcolor\":\"white\",\"gridwidth\":2,\"linecolor\":\"white\",\"showbackground\":true,\"ticks\":\"\",\"zerolinecolor\":\"white\"},\"zaxis\":{\"backgroundcolor\":\"#E5ECF6\",\"gridcolor\":\"white\",\"gridwidth\":2,\"linecolor\":\"white\",\"showbackground\":true,\"ticks\":\"\",\"zerolinecolor\":\"white\"}},\"shapedefaults\":{\"line\":{\"color\":\"#2a3f5f\"}},\"ternary\":{\"aaxis\":{\"gridcolor\":\"white\",\"linecolor\":\"white\",\"ticks\":\"\"},\"baxis\":{\"gridcolor\":\"white\",\"linecolor\":\"white\",\"ticks\":\"\"},\"bgcolor\":\"#E5ECF6\",\"caxis\":{\"gridcolor\":\"white\",\"linecolor\":\"white\",\"ticks\":\"\"}},\"title\":{\"x\":0.05},\"xaxis\":{\"automargin\":true,\"gridcolor\":\"white\",\"linecolor\":\"white\",\"ticks\":\"\",\"title\":{\"standoff\":15},\"zerolinecolor\":\"white\",\"zerolinewidth\":2},\"yaxis\":{\"automargin\":true,\"gridcolor\":\"white\",\"linecolor\":\"white\",\"ticks\":\"\",\"title\":{\"standoff\":15},\"zerolinecolor\":\"white\",\"zerolinewidth\":2}}},\"coloraxis\":{\"colorbar\":{\"title\":{\"text\":\"N\\u00b0 Reclamo\"}},\"colorscale\":[[0.0,\"#0d0887\"],[0.1111111111111111,\"#46039f\"],[0.2222222222222222,\"#7201a8\"],[0.3333333333333333,\"#9c179e\"],[0.4444444444444444,\"#bd3786\"],[0.5555555555555556,\"#d8576b\"],[0.6666666666666666,\"#ed7953\"],[0.7777777777777778,\"#fb9f3a\"],[0.8888888888888888,\"#fdca26\"],[1.0,\"#f0f921\"]]},\"legend\":{\"tracegroupgap\":0},\"margin\":{\"t\":60}},                        {\"responsive\": true}                    ).then(function(){\n",
       "                            \n",
       "var gd = document.getElementById('66af08dd-9bf3-4516-b0a1-3e962bf5b096');\n",
       "var x = new MutationObserver(function (mutations, observer) {{\n",
       "        var display = window.getComputedStyle(gd).display;\n",
       "        if (!display || display === 'none') {{\n",
       "            console.log([gd, 'removed!']);\n",
       "            Plotly.purge(gd);\n",
       "            observer.disconnect();\n",
       "        }}\n",
       "}});\n",
       "\n",
       "// Listen for the removal of the full notebook cells\n",
       "var notebookContainer = gd.closest('#notebook-container');\n",
       "if (notebookContainer) {{\n",
       "    x.observe(notebookContainer, {childList: true});\n",
       "}}\n",
       "\n",
       "// Listen for the clearing of the current output cell\n",
       "var outputEl = gd.closest('.output');\n",
       "if (outputEl) {{\n",
       "    x.observe(outputEl, {childList: true});\n",
       "}}\n",
       "\n",
       "                        })                };                });            </script>        </div>"
      ]
     },
     "metadata": {},
     "output_type": "display_data"
    }
   ],
   "source": [
    "data_temp = datos_preprocessed.groupby(['Cod Servicio SBS']).agg({ 'N° Reclamo': \"count\"})\n",
    "data_temp = data_temp.sort_values(by=['N° Reclamo'], ascending = False).reset_index()\n",
    "\n",
    "fig = px.treemap(data_temp, path=[px.Constant('Codigo de reclamo'),'Cod Servicio SBS'], values='N° Reclamo',\n",
    "                  color='N° Reclamo', hover_data=['Cod Servicio SBS'])\n",
    "fig.show()\n",
    "\n",
    "# Diagrama pie"
   ]
  },
  {
   "cell_type": "code",
   "execution_count": 183,
   "id": "f3d21276",
   "metadata": {
    "scrolled": true
   },
   "outputs": [
    {
     "data": {
      "application/vnd.plotly.v1+json": {
       "config": {
        "plotlyServerURL": "https://plot.ly"
       },
       "data": [
        {
         "domain": {
          "x": [
           0,
           1
          ],
          "y": [
           0,
           1
          ]
         },
         "hovertemplate": "servicio=%{label}<br>per=%{value}<extra></extra>",
         "labels": [
          "CREDITOS DE CONSUMO - PRESTAMOS MULTIRED",
          "CUENTA DE AHORRO (DESTINADA A DEPÓSITO DE REMUNERACIONES)",
          "Otros",
          "SERVICIO DE ATENCION AL USUARIO",
          "SERVICIOS VARIOS   ",
          "TARJETA DE DEBITO - VISA"
         ],
         "legendgroup": "",
         "name": "",
         "showlegend": true,
         "type": "pie",
         "values": [
          2.362065283630132,
          60.049585141124936,
          3.516794883146782,
          8.739901975592861,
          10.794143536483102,
          14.537509180022187
         ]
        }
       ],
       "layout": {
        "legend": {
         "tracegroupgap": 0
        },
        "template": {
         "data": {
          "bar": [
           {
            "error_x": {
             "color": "#2a3f5f"
            },
            "error_y": {
             "color": "#2a3f5f"
            },
            "marker": {
             "line": {
              "color": "#E5ECF6",
              "width": 0.5
             },
             "pattern": {
              "fillmode": "overlay",
              "size": 10,
              "solidity": 0.2
             }
            },
            "type": "bar"
           }
          ],
          "barpolar": [
           {
            "marker": {
             "line": {
              "color": "#E5ECF6",
              "width": 0.5
             },
             "pattern": {
              "fillmode": "overlay",
              "size": 10,
              "solidity": 0.2
             }
            },
            "type": "barpolar"
           }
          ],
          "carpet": [
           {
            "aaxis": {
             "endlinecolor": "#2a3f5f",
             "gridcolor": "white",
             "linecolor": "white",
             "minorgridcolor": "white",
             "startlinecolor": "#2a3f5f"
            },
            "baxis": {
             "endlinecolor": "#2a3f5f",
             "gridcolor": "white",
             "linecolor": "white",
             "minorgridcolor": "white",
             "startlinecolor": "#2a3f5f"
            },
            "type": "carpet"
           }
          ],
          "choropleth": [
           {
            "colorbar": {
             "outlinewidth": 0,
             "ticks": ""
            },
            "type": "choropleth"
           }
          ],
          "contour": [
           {
            "colorbar": {
             "outlinewidth": 0,
             "ticks": ""
            },
            "colorscale": [
             [
              0,
              "#0d0887"
             ],
             [
              0.1111111111111111,
              "#46039f"
             ],
             [
              0.2222222222222222,
              "#7201a8"
             ],
             [
              0.3333333333333333,
              "#9c179e"
             ],
             [
              0.4444444444444444,
              "#bd3786"
             ],
             [
              0.5555555555555556,
              "#d8576b"
             ],
             [
              0.6666666666666666,
              "#ed7953"
             ],
             [
              0.7777777777777778,
              "#fb9f3a"
             ],
             [
              0.8888888888888888,
              "#fdca26"
             ],
             [
              1,
              "#f0f921"
             ]
            ],
            "type": "contour"
           }
          ],
          "contourcarpet": [
           {
            "colorbar": {
             "outlinewidth": 0,
             "ticks": ""
            },
            "type": "contourcarpet"
           }
          ],
          "heatmap": [
           {
            "colorbar": {
             "outlinewidth": 0,
             "ticks": ""
            },
            "colorscale": [
             [
              0,
              "#0d0887"
             ],
             [
              0.1111111111111111,
              "#46039f"
             ],
             [
              0.2222222222222222,
              "#7201a8"
             ],
             [
              0.3333333333333333,
              "#9c179e"
             ],
             [
              0.4444444444444444,
              "#bd3786"
             ],
             [
              0.5555555555555556,
              "#d8576b"
             ],
             [
              0.6666666666666666,
              "#ed7953"
             ],
             [
              0.7777777777777778,
              "#fb9f3a"
             ],
             [
              0.8888888888888888,
              "#fdca26"
             ],
             [
              1,
              "#f0f921"
             ]
            ],
            "type": "heatmap"
           }
          ],
          "heatmapgl": [
           {
            "colorbar": {
             "outlinewidth": 0,
             "ticks": ""
            },
            "colorscale": [
             [
              0,
              "#0d0887"
             ],
             [
              0.1111111111111111,
              "#46039f"
             ],
             [
              0.2222222222222222,
              "#7201a8"
             ],
             [
              0.3333333333333333,
              "#9c179e"
             ],
             [
              0.4444444444444444,
              "#bd3786"
             ],
             [
              0.5555555555555556,
              "#d8576b"
             ],
             [
              0.6666666666666666,
              "#ed7953"
             ],
             [
              0.7777777777777778,
              "#fb9f3a"
             ],
             [
              0.8888888888888888,
              "#fdca26"
             ],
             [
              1,
              "#f0f921"
             ]
            ],
            "type": "heatmapgl"
           }
          ],
          "histogram": [
           {
            "marker": {
             "pattern": {
              "fillmode": "overlay",
              "size": 10,
              "solidity": 0.2
             }
            },
            "type": "histogram"
           }
          ],
          "histogram2d": [
           {
            "colorbar": {
             "outlinewidth": 0,
             "ticks": ""
            },
            "colorscale": [
             [
              0,
              "#0d0887"
             ],
             [
              0.1111111111111111,
              "#46039f"
             ],
             [
              0.2222222222222222,
              "#7201a8"
             ],
             [
              0.3333333333333333,
              "#9c179e"
             ],
             [
              0.4444444444444444,
              "#bd3786"
             ],
             [
              0.5555555555555556,
              "#d8576b"
             ],
             [
              0.6666666666666666,
              "#ed7953"
             ],
             [
              0.7777777777777778,
              "#fb9f3a"
             ],
             [
              0.8888888888888888,
              "#fdca26"
             ],
             [
              1,
              "#f0f921"
             ]
            ],
            "type": "histogram2d"
           }
          ],
          "histogram2dcontour": [
           {
            "colorbar": {
             "outlinewidth": 0,
             "ticks": ""
            },
            "colorscale": [
             [
              0,
              "#0d0887"
             ],
             [
              0.1111111111111111,
              "#46039f"
             ],
             [
              0.2222222222222222,
              "#7201a8"
             ],
             [
              0.3333333333333333,
              "#9c179e"
             ],
             [
              0.4444444444444444,
              "#bd3786"
             ],
             [
              0.5555555555555556,
              "#d8576b"
             ],
             [
              0.6666666666666666,
              "#ed7953"
             ],
             [
              0.7777777777777778,
              "#fb9f3a"
             ],
             [
              0.8888888888888888,
              "#fdca26"
             ],
             [
              1,
              "#f0f921"
             ]
            ],
            "type": "histogram2dcontour"
           }
          ],
          "mesh3d": [
           {
            "colorbar": {
             "outlinewidth": 0,
             "ticks": ""
            },
            "type": "mesh3d"
           }
          ],
          "parcoords": [
           {
            "line": {
             "colorbar": {
              "outlinewidth": 0,
              "ticks": ""
             }
            },
            "type": "parcoords"
           }
          ],
          "pie": [
           {
            "automargin": true,
            "type": "pie"
           }
          ],
          "scatter": [
           {
            "marker": {
             "colorbar": {
              "outlinewidth": 0,
              "ticks": ""
             }
            },
            "type": "scatter"
           }
          ],
          "scatter3d": [
           {
            "line": {
             "colorbar": {
              "outlinewidth": 0,
              "ticks": ""
             }
            },
            "marker": {
             "colorbar": {
              "outlinewidth": 0,
              "ticks": ""
             }
            },
            "type": "scatter3d"
           }
          ],
          "scattercarpet": [
           {
            "marker": {
             "colorbar": {
              "outlinewidth": 0,
              "ticks": ""
             }
            },
            "type": "scattercarpet"
           }
          ],
          "scattergeo": [
           {
            "marker": {
             "colorbar": {
              "outlinewidth": 0,
              "ticks": ""
             }
            },
            "type": "scattergeo"
           }
          ],
          "scattergl": [
           {
            "marker": {
             "colorbar": {
              "outlinewidth": 0,
              "ticks": ""
             }
            },
            "type": "scattergl"
           }
          ],
          "scattermapbox": [
           {
            "marker": {
             "colorbar": {
              "outlinewidth": 0,
              "ticks": ""
             }
            },
            "type": "scattermapbox"
           }
          ],
          "scatterpolar": [
           {
            "marker": {
             "colorbar": {
              "outlinewidth": 0,
              "ticks": ""
             }
            },
            "type": "scatterpolar"
           }
          ],
          "scatterpolargl": [
           {
            "marker": {
             "colorbar": {
              "outlinewidth": 0,
              "ticks": ""
             }
            },
            "type": "scatterpolargl"
           }
          ],
          "scatterternary": [
           {
            "marker": {
             "colorbar": {
              "outlinewidth": 0,
              "ticks": ""
             }
            },
            "type": "scatterternary"
           }
          ],
          "surface": [
           {
            "colorbar": {
             "outlinewidth": 0,
             "ticks": ""
            },
            "colorscale": [
             [
              0,
              "#0d0887"
             ],
             [
              0.1111111111111111,
              "#46039f"
             ],
             [
              0.2222222222222222,
              "#7201a8"
             ],
             [
              0.3333333333333333,
              "#9c179e"
             ],
             [
              0.4444444444444444,
              "#bd3786"
             ],
             [
              0.5555555555555556,
              "#d8576b"
             ],
             [
              0.6666666666666666,
              "#ed7953"
             ],
             [
              0.7777777777777778,
              "#fb9f3a"
             ],
             [
              0.8888888888888888,
              "#fdca26"
             ],
             [
              1,
              "#f0f921"
             ]
            ],
            "type": "surface"
           }
          ],
          "table": [
           {
            "cells": {
             "fill": {
              "color": "#EBF0F8"
             },
             "line": {
              "color": "white"
             }
            },
            "header": {
             "fill": {
              "color": "#C8D4E3"
             },
             "line": {
              "color": "white"
             }
            },
            "type": "table"
           }
          ]
         },
         "layout": {
          "annotationdefaults": {
           "arrowcolor": "#2a3f5f",
           "arrowhead": 0,
           "arrowwidth": 1
          },
          "autotypenumbers": "strict",
          "coloraxis": {
           "colorbar": {
            "outlinewidth": 0,
            "ticks": ""
           }
          },
          "colorscale": {
           "diverging": [
            [
             0,
             "#8e0152"
            ],
            [
             0.1,
             "#c51b7d"
            ],
            [
             0.2,
             "#de77ae"
            ],
            [
             0.3,
             "#f1b6da"
            ],
            [
             0.4,
             "#fde0ef"
            ],
            [
             0.5,
             "#f7f7f7"
            ],
            [
             0.6,
             "#e6f5d0"
            ],
            [
             0.7,
             "#b8e186"
            ],
            [
             0.8,
             "#7fbc41"
            ],
            [
             0.9,
             "#4d9221"
            ],
            [
             1,
             "#276419"
            ]
           ],
           "sequential": [
            [
             0,
             "#0d0887"
            ],
            [
             0.1111111111111111,
             "#46039f"
            ],
            [
             0.2222222222222222,
             "#7201a8"
            ],
            [
             0.3333333333333333,
             "#9c179e"
            ],
            [
             0.4444444444444444,
             "#bd3786"
            ],
            [
             0.5555555555555556,
             "#d8576b"
            ],
            [
             0.6666666666666666,
             "#ed7953"
            ],
            [
             0.7777777777777778,
             "#fb9f3a"
            ],
            [
             0.8888888888888888,
             "#fdca26"
            ],
            [
             1,
             "#f0f921"
            ]
           ],
           "sequentialminus": [
            [
             0,
             "#0d0887"
            ],
            [
             0.1111111111111111,
             "#46039f"
            ],
            [
             0.2222222222222222,
             "#7201a8"
            ],
            [
             0.3333333333333333,
             "#9c179e"
            ],
            [
             0.4444444444444444,
             "#bd3786"
            ],
            [
             0.5555555555555556,
             "#d8576b"
            ],
            [
             0.6666666666666666,
             "#ed7953"
            ],
            [
             0.7777777777777778,
             "#fb9f3a"
            ],
            [
             0.8888888888888888,
             "#fdca26"
            ],
            [
             1,
             "#f0f921"
            ]
           ]
          },
          "colorway": [
           "#636efa",
           "#EF553B",
           "#00cc96",
           "#ab63fa",
           "#FFA15A",
           "#19d3f3",
           "#FF6692",
           "#B6E880",
           "#FF97FF",
           "#FECB52"
          ],
          "font": {
           "color": "#2a3f5f"
          },
          "geo": {
           "bgcolor": "white",
           "lakecolor": "white",
           "landcolor": "#E5ECF6",
           "showlakes": true,
           "showland": true,
           "subunitcolor": "white"
          },
          "hoverlabel": {
           "align": "left"
          },
          "hovermode": "closest",
          "mapbox": {
           "style": "light"
          },
          "paper_bgcolor": "white",
          "plot_bgcolor": "#E5ECF6",
          "polar": {
           "angularaxis": {
            "gridcolor": "white",
            "linecolor": "white",
            "ticks": ""
           },
           "bgcolor": "#E5ECF6",
           "radialaxis": {
            "gridcolor": "white",
            "linecolor": "white",
            "ticks": ""
           }
          },
          "scene": {
           "xaxis": {
            "backgroundcolor": "#E5ECF6",
            "gridcolor": "white",
            "gridwidth": 2,
            "linecolor": "white",
            "showbackground": true,
            "ticks": "",
            "zerolinecolor": "white"
           },
           "yaxis": {
            "backgroundcolor": "#E5ECF6",
            "gridcolor": "white",
            "gridwidth": 2,
            "linecolor": "white",
            "showbackground": true,
            "ticks": "",
            "zerolinecolor": "white"
           },
           "zaxis": {
            "backgroundcolor": "#E5ECF6",
            "gridcolor": "white",
            "gridwidth": 2,
            "linecolor": "white",
            "showbackground": true,
            "ticks": "",
            "zerolinecolor": "white"
           }
          },
          "shapedefaults": {
           "line": {
            "color": "#2a3f5f"
           }
          },
          "ternary": {
           "aaxis": {
            "gridcolor": "white",
            "linecolor": "white",
            "ticks": ""
           },
           "baxis": {
            "gridcolor": "white",
            "linecolor": "white",
            "ticks": ""
           },
           "bgcolor": "#E5ECF6",
           "caxis": {
            "gridcolor": "white",
            "linecolor": "white",
            "ticks": ""
           }
          },
          "title": {
           "x": 0.05
          },
          "xaxis": {
           "automargin": true,
           "gridcolor": "white",
           "linecolor": "white",
           "ticks": "",
           "title": {
            "standoff": 15
           },
           "zerolinecolor": "white",
           "zerolinewidth": 2
          },
          "yaxis": {
           "automargin": true,
           "gridcolor": "white",
           "linecolor": "white",
           "ticks": "",
           "title": {
            "standoff": 15
           },
           "zerolinecolor": "white",
           "zerolinewidth": 2
          }
         }
        },
        "title": {
         "text": "Porcentaje por Servicio"
        }
       }
      },
      "text/html": [
       "<div>                            <div id=\"fb32d564-5470-41a1-a576-b5b78b5dc4ec\" class=\"plotly-graph-div\" style=\"height:525px; width:100%;\"></div>            <script type=\"text/javascript\">                require([\"plotly\"], function(Plotly) {                    window.PLOTLYENV=window.PLOTLYENV || {};                                    if (document.getElementById(\"fb32d564-5470-41a1-a576-b5b78b5dc4ec\")) {                    Plotly.newPlot(                        \"fb32d564-5470-41a1-a576-b5b78b5dc4ec\",                        [{\"domain\":{\"x\":[0.0,1.0],\"y\":[0.0,1.0]},\"hovertemplate\":\"servicio=%{label}<br>per=%{value}<extra></extra>\",\"labels\":[\"CREDITOS DE CONSUMO - PRESTAMOS MULTIRED\",\"CUENTA DE AHORRO (DESTINADA A DEP\\u00d3SITO DE REMUNERACIONES)\",\"Otros\",\"SERVICIO DE ATENCION AL USUARIO\",\"SERVICIOS VARIOS   \",\"TARJETA DE DEBITO - VISA\"],\"legendgroup\":\"\",\"name\":\"\",\"showlegend\":true,\"values\":[2.362065283630132,60.049585141124936,3.516794883146782,8.739901975592861,10.794143536483102,14.537509180022187],\"type\":\"pie\"}],                        {\"template\":{\"data\":{\"bar\":[{\"error_x\":{\"color\":\"#2a3f5f\"},\"error_y\":{\"color\":\"#2a3f5f\"},\"marker\":{\"line\":{\"color\":\"#E5ECF6\",\"width\":0.5},\"pattern\":{\"fillmode\":\"overlay\",\"size\":10,\"solidity\":0.2}},\"type\":\"bar\"}],\"barpolar\":[{\"marker\":{\"line\":{\"color\":\"#E5ECF6\",\"width\":0.5},\"pattern\":{\"fillmode\":\"overlay\",\"size\":10,\"solidity\":0.2}},\"type\":\"barpolar\"}],\"carpet\":[{\"aaxis\":{\"endlinecolor\":\"#2a3f5f\",\"gridcolor\":\"white\",\"linecolor\":\"white\",\"minorgridcolor\":\"white\",\"startlinecolor\":\"#2a3f5f\"},\"baxis\":{\"endlinecolor\":\"#2a3f5f\",\"gridcolor\":\"white\",\"linecolor\":\"white\",\"minorgridcolor\":\"white\",\"startlinecolor\":\"#2a3f5f\"},\"type\":\"carpet\"}],\"choropleth\":[{\"colorbar\":{\"outlinewidth\":0,\"ticks\":\"\"},\"type\":\"choropleth\"}],\"contour\":[{\"colorbar\":{\"outlinewidth\":0,\"ticks\":\"\"},\"colorscale\":[[0.0,\"#0d0887\"],[0.1111111111111111,\"#46039f\"],[0.2222222222222222,\"#7201a8\"],[0.3333333333333333,\"#9c179e\"],[0.4444444444444444,\"#bd3786\"],[0.5555555555555556,\"#d8576b\"],[0.6666666666666666,\"#ed7953\"],[0.7777777777777778,\"#fb9f3a\"],[0.8888888888888888,\"#fdca26\"],[1.0,\"#f0f921\"]],\"type\":\"contour\"}],\"contourcarpet\":[{\"colorbar\":{\"outlinewidth\":0,\"ticks\":\"\"},\"type\":\"contourcarpet\"}],\"heatmap\":[{\"colorbar\":{\"outlinewidth\":0,\"ticks\":\"\"},\"colorscale\":[[0.0,\"#0d0887\"],[0.1111111111111111,\"#46039f\"],[0.2222222222222222,\"#7201a8\"],[0.3333333333333333,\"#9c179e\"],[0.4444444444444444,\"#bd3786\"],[0.5555555555555556,\"#d8576b\"],[0.6666666666666666,\"#ed7953\"],[0.7777777777777778,\"#fb9f3a\"],[0.8888888888888888,\"#fdca26\"],[1.0,\"#f0f921\"]],\"type\":\"heatmap\"}],\"heatmapgl\":[{\"colorbar\":{\"outlinewidth\":0,\"ticks\":\"\"},\"colorscale\":[[0.0,\"#0d0887\"],[0.1111111111111111,\"#46039f\"],[0.2222222222222222,\"#7201a8\"],[0.3333333333333333,\"#9c179e\"],[0.4444444444444444,\"#bd3786\"],[0.5555555555555556,\"#d8576b\"],[0.6666666666666666,\"#ed7953\"],[0.7777777777777778,\"#fb9f3a\"],[0.8888888888888888,\"#fdca26\"],[1.0,\"#f0f921\"]],\"type\":\"heatmapgl\"}],\"histogram\":[{\"marker\":{\"pattern\":{\"fillmode\":\"overlay\",\"size\":10,\"solidity\":0.2}},\"type\":\"histogram\"}],\"histogram2d\":[{\"colorbar\":{\"outlinewidth\":0,\"ticks\":\"\"},\"colorscale\":[[0.0,\"#0d0887\"],[0.1111111111111111,\"#46039f\"],[0.2222222222222222,\"#7201a8\"],[0.3333333333333333,\"#9c179e\"],[0.4444444444444444,\"#bd3786\"],[0.5555555555555556,\"#d8576b\"],[0.6666666666666666,\"#ed7953\"],[0.7777777777777778,\"#fb9f3a\"],[0.8888888888888888,\"#fdca26\"],[1.0,\"#f0f921\"]],\"type\":\"histogram2d\"}],\"histogram2dcontour\":[{\"colorbar\":{\"outlinewidth\":0,\"ticks\":\"\"},\"colorscale\":[[0.0,\"#0d0887\"],[0.1111111111111111,\"#46039f\"],[0.2222222222222222,\"#7201a8\"],[0.3333333333333333,\"#9c179e\"],[0.4444444444444444,\"#bd3786\"],[0.5555555555555556,\"#d8576b\"],[0.6666666666666666,\"#ed7953\"],[0.7777777777777778,\"#fb9f3a\"],[0.8888888888888888,\"#fdca26\"],[1.0,\"#f0f921\"]],\"type\":\"histogram2dcontour\"}],\"mesh3d\":[{\"colorbar\":{\"outlinewidth\":0,\"ticks\":\"\"},\"type\":\"mesh3d\"}],\"parcoords\":[{\"line\":{\"colorbar\":{\"outlinewidth\":0,\"ticks\":\"\"}},\"type\":\"parcoords\"}],\"pie\":[{\"automargin\":true,\"type\":\"pie\"}],\"scatter\":[{\"marker\":{\"colorbar\":{\"outlinewidth\":0,\"ticks\":\"\"}},\"type\":\"scatter\"}],\"scatter3d\":[{\"line\":{\"colorbar\":{\"outlinewidth\":0,\"ticks\":\"\"}},\"marker\":{\"colorbar\":{\"outlinewidth\":0,\"ticks\":\"\"}},\"type\":\"scatter3d\"}],\"scattercarpet\":[{\"marker\":{\"colorbar\":{\"outlinewidth\":0,\"ticks\":\"\"}},\"type\":\"scattercarpet\"}],\"scattergeo\":[{\"marker\":{\"colorbar\":{\"outlinewidth\":0,\"ticks\":\"\"}},\"type\":\"scattergeo\"}],\"scattergl\":[{\"marker\":{\"colorbar\":{\"outlinewidth\":0,\"ticks\":\"\"}},\"type\":\"scattergl\"}],\"scattermapbox\":[{\"marker\":{\"colorbar\":{\"outlinewidth\":0,\"ticks\":\"\"}},\"type\":\"scattermapbox\"}],\"scatterpolar\":[{\"marker\":{\"colorbar\":{\"outlinewidth\":0,\"ticks\":\"\"}},\"type\":\"scatterpolar\"}],\"scatterpolargl\":[{\"marker\":{\"colorbar\":{\"outlinewidth\":0,\"ticks\":\"\"}},\"type\":\"scatterpolargl\"}],\"scatterternary\":[{\"marker\":{\"colorbar\":{\"outlinewidth\":0,\"ticks\":\"\"}},\"type\":\"scatterternary\"}],\"surface\":[{\"colorbar\":{\"outlinewidth\":0,\"ticks\":\"\"},\"colorscale\":[[0.0,\"#0d0887\"],[0.1111111111111111,\"#46039f\"],[0.2222222222222222,\"#7201a8\"],[0.3333333333333333,\"#9c179e\"],[0.4444444444444444,\"#bd3786\"],[0.5555555555555556,\"#d8576b\"],[0.6666666666666666,\"#ed7953\"],[0.7777777777777778,\"#fb9f3a\"],[0.8888888888888888,\"#fdca26\"],[1.0,\"#f0f921\"]],\"type\":\"surface\"}],\"table\":[{\"cells\":{\"fill\":{\"color\":\"#EBF0F8\"},\"line\":{\"color\":\"white\"}},\"header\":{\"fill\":{\"color\":\"#C8D4E3\"},\"line\":{\"color\":\"white\"}},\"type\":\"table\"}]},\"layout\":{\"annotationdefaults\":{\"arrowcolor\":\"#2a3f5f\",\"arrowhead\":0,\"arrowwidth\":1},\"autotypenumbers\":\"strict\",\"coloraxis\":{\"colorbar\":{\"outlinewidth\":0,\"ticks\":\"\"}},\"colorscale\":{\"diverging\":[[0,\"#8e0152\"],[0.1,\"#c51b7d\"],[0.2,\"#de77ae\"],[0.3,\"#f1b6da\"],[0.4,\"#fde0ef\"],[0.5,\"#f7f7f7\"],[0.6,\"#e6f5d0\"],[0.7,\"#b8e186\"],[0.8,\"#7fbc41\"],[0.9,\"#4d9221\"],[1,\"#276419\"]],\"sequential\":[[0.0,\"#0d0887\"],[0.1111111111111111,\"#46039f\"],[0.2222222222222222,\"#7201a8\"],[0.3333333333333333,\"#9c179e\"],[0.4444444444444444,\"#bd3786\"],[0.5555555555555556,\"#d8576b\"],[0.6666666666666666,\"#ed7953\"],[0.7777777777777778,\"#fb9f3a\"],[0.8888888888888888,\"#fdca26\"],[1.0,\"#f0f921\"]],\"sequentialminus\":[[0.0,\"#0d0887\"],[0.1111111111111111,\"#46039f\"],[0.2222222222222222,\"#7201a8\"],[0.3333333333333333,\"#9c179e\"],[0.4444444444444444,\"#bd3786\"],[0.5555555555555556,\"#d8576b\"],[0.6666666666666666,\"#ed7953\"],[0.7777777777777778,\"#fb9f3a\"],[0.8888888888888888,\"#fdca26\"],[1.0,\"#f0f921\"]]},\"colorway\":[\"#636efa\",\"#EF553B\",\"#00cc96\",\"#ab63fa\",\"#FFA15A\",\"#19d3f3\",\"#FF6692\",\"#B6E880\",\"#FF97FF\",\"#FECB52\"],\"font\":{\"color\":\"#2a3f5f\"},\"geo\":{\"bgcolor\":\"white\",\"lakecolor\":\"white\",\"landcolor\":\"#E5ECF6\",\"showlakes\":true,\"showland\":true,\"subunitcolor\":\"white\"},\"hoverlabel\":{\"align\":\"left\"},\"hovermode\":\"closest\",\"mapbox\":{\"style\":\"light\"},\"paper_bgcolor\":\"white\",\"plot_bgcolor\":\"#E5ECF6\",\"polar\":{\"angularaxis\":{\"gridcolor\":\"white\",\"linecolor\":\"white\",\"ticks\":\"\"},\"bgcolor\":\"#E5ECF6\",\"radialaxis\":{\"gridcolor\":\"white\",\"linecolor\":\"white\",\"ticks\":\"\"}},\"scene\":{\"xaxis\":{\"backgroundcolor\":\"#E5ECF6\",\"gridcolor\":\"white\",\"gridwidth\":2,\"linecolor\":\"white\",\"showbackground\":true,\"ticks\":\"\",\"zerolinecolor\":\"white\"},\"yaxis\":{\"backgroundcolor\":\"#E5ECF6\",\"gridcolor\":\"white\",\"gridwidth\":2,\"linecolor\":\"white\",\"showbackground\":true,\"ticks\":\"\",\"zerolinecolor\":\"white\"},\"zaxis\":{\"backgroundcolor\":\"#E5ECF6\",\"gridcolor\":\"white\",\"gridwidth\":2,\"linecolor\":\"white\",\"showbackground\":true,\"ticks\":\"\",\"zerolinecolor\":\"white\"}},\"shapedefaults\":{\"line\":{\"color\":\"#2a3f5f\"}},\"ternary\":{\"aaxis\":{\"gridcolor\":\"white\",\"linecolor\":\"white\",\"ticks\":\"\"},\"baxis\":{\"gridcolor\":\"white\",\"linecolor\":\"white\",\"ticks\":\"\"},\"bgcolor\":\"#E5ECF6\",\"caxis\":{\"gridcolor\":\"white\",\"linecolor\":\"white\",\"ticks\":\"\"}},\"title\":{\"x\":0.05},\"xaxis\":{\"automargin\":true,\"gridcolor\":\"white\",\"linecolor\":\"white\",\"ticks\":\"\",\"title\":{\"standoff\":15},\"zerolinecolor\":\"white\",\"zerolinewidth\":2},\"yaxis\":{\"automargin\":true,\"gridcolor\":\"white\",\"linecolor\":\"white\",\"ticks\":\"\",\"title\":{\"standoff\":15},\"zerolinecolor\":\"white\",\"zerolinewidth\":2}}},\"legend\":{\"tracegroupgap\":0},\"title\":{\"text\":\"Porcentaje por Servicio\"}},                        {\"responsive\": true}                    ).then(function(){\n",
       "                            \n",
       "var gd = document.getElementById('fb32d564-5470-41a1-a576-b5b78b5dc4ec');\n",
       "var x = new MutationObserver(function (mutations, observer) {{\n",
       "        var display = window.getComputedStyle(gd).display;\n",
       "        if (!display || display === 'none') {{\n",
       "            console.log([gd, 'removed!']);\n",
       "            Plotly.purge(gd);\n",
       "            observer.disconnect();\n",
       "        }}\n",
       "}});\n",
       "\n",
       "// Listen for the removal of the full notebook cells\n",
       "var notebookContainer = gd.closest('#notebook-container');\n",
       "if (notebookContainer) {{\n",
       "    x.observe(notebookContainer, {childList: true});\n",
       "}}\n",
       "\n",
       "// Listen for the clearing of the current output cell\n",
       "var outputEl = gd.closest('.output');\n",
       "if (outputEl) {{\n",
       "    x.observe(outputEl, {childList: true});\n",
       "}}\n",
       "\n",
       "                        })                };                });            </script>        </div>"
      ]
     },
     "metadata": {},
     "output_type": "display_data"
    }
   ],
   "source": [
    "data_temp = datos_preprocessed.groupby(['Servicio Corregido']).agg({ 'N° Reclamo': \"count\"})\n",
    "data_temp = data_temp.sort_values(by=['N° Reclamo'], ascending = False).reset_index()\n",
    "\n",
    "total = np.sum(data_temp['N° Reclamo'])\n",
    "data_temp['per'] = data_temp['N° Reclamo']/total*100\n",
    "data_temp = data_temp.sort_values(by=['per'], ascending = False)\n",
    "\n",
    "data_temp['servicio'] = data_temp.apply(lambda x: x['Servicio Corregido'] if x['per'] >= 2 else 'Otros', axis=1)\n",
    "data_temp = data_temp.groupby(['servicio']).agg({ 'per': \"sum\"}).reset_index()\n",
    "\n",
    "data_temp\n",
    "data_temp.to_excel(\"servicio_pie.xlsx\")\n",
    "fig = px.pie(data_temp, values='per', names='servicio', title='Porcentaje por Servicio')\n",
    "fig.show()"
   ]
  },
  {
   "cell_type": "code",
   "execution_count": 49,
   "id": "0197cf1c",
   "metadata": {},
   "outputs": [
    {
     "data": {
      "application/vnd.plotly.v1+json": {
       "config": {
        "plotlyServerURL": "https://plot.ly"
       },
       "data": [
        {
         "domain": {
          "x": [
           0,
           1
          ],
          "y": [
           0,
           1
          ]
         },
         "hovertemplate": "Cod Servicio SBS=%{label}<br>per=%{value}<extra></extra>",
         "labels": [
          102,
          6,
          29,
          96,
          9,
          5,
          27,
          2,
          11,
          28,
          17,
          7,
          999,
          12,
          8,
          -1,
          18
         ],
         "legendgroup": "",
         "name": "",
         "showlegend": true,
         "type": "pie",
         "values": [
          60.045206685172936,
          14.536449191956544,
          10.793356492211222,
          8.739264714307291,
          2.361893055982334,
          1.4478638799627097,
          0.5791455519850839,
          0.518731087929086,
          0.38279854380309053,
          0.27811486039571476,
          0.16770221918992537,
          0.08853843870275563,
          0.022395016848344072,
          0.017707687740551124,
          0.00729140083434458,
          0.00729140083434458,
          0.006249772143723926
         ]
        }
       ],
       "layout": {
        "legend": {
         "tracegroupgap": 0
        },
        "template": {
         "data": {
          "bar": [
           {
            "error_x": {
             "color": "#2a3f5f"
            },
            "error_y": {
             "color": "#2a3f5f"
            },
            "marker": {
             "line": {
              "color": "#E5ECF6",
              "width": 0.5
             },
             "pattern": {
              "fillmode": "overlay",
              "size": 10,
              "solidity": 0.2
             }
            },
            "type": "bar"
           }
          ],
          "barpolar": [
           {
            "marker": {
             "line": {
              "color": "#E5ECF6",
              "width": 0.5
             },
             "pattern": {
              "fillmode": "overlay",
              "size": 10,
              "solidity": 0.2
             }
            },
            "type": "barpolar"
           }
          ],
          "carpet": [
           {
            "aaxis": {
             "endlinecolor": "#2a3f5f",
             "gridcolor": "white",
             "linecolor": "white",
             "minorgridcolor": "white",
             "startlinecolor": "#2a3f5f"
            },
            "baxis": {
             "endlinecolor": "#2a3f5f",
             "gridcolor": "white",
             "linecolor": "white",
             "minorgridcolor": "white",
             "startlinecolor": "#2a3f5f"
            },
            "type": "carpet"
           }
          ],
          "choropleth": [
           {
            "colorbar": {
             "outlinewidth": 0,
             "ticks": ""
            },
            "type": "choropleth"
           }
          ],
          "contour": [
           {
            "colorbar": {
             "outlinewidth": 0,
             "ticks": ""
            },
            "colorscale": [
             [
              0,
              "#0d0887"
             ],
             [
              0.1111111111111111,
              "#46039f"
             ],
             [
              0.2222222222222222,
              "#7201a8"
             ],
             [
              0.3333333333333333,
              "#9c179e"
             ],
             [
              0.4444444444444444,
              "#bd3786"
             ],
             [
              0.5555555555555556,
              "#d8576b"
             ],
             [
              0.6666666666666666,
              "#ed7953"
             ],
             [
              0.7777777777777778,
              "#fb9f3a"
             ],
             [
              0.8888888888888888,
              "#fdca26"
             ],
             [
              1,
              "#f0f921"
             ]
            ],
            "type": "contour"
           }
          ],
          "contourcarpet": [
           {
            "colorbar": {
             "outlinewidth": 0,
             "ticks": ""
            },
            "type": "contourcarpet"
           }
          ],
          "heatmap": [
           {
            "colorbar": {
             "outlinewidth": 0,
             "ticks": ""
            },
            "colorscale": [
             [
              0,
              "#0d0887"
             ],
             [
              0.1111111111111111,
              "#46039f"
             ],
             [
              0.2222222222222222,
              "#7201a8"
             ],
             [
              0.3333333333333333,
              "#9c179e"
             ],
             [
              0.4444444444444444,
              "#bd3786"
             ],
             [
              0.5555555555555556,
              "#d8576b"
             ],
             [
              0.6666666666666666,
              "#ed7953"
             ],
             [
              0.7777777777777778,
              "#fb9f3a"
             ],
             [
              0.8888888888888888,
              "#fdca26"
             ],
             [
              1,
              "#f0f921"
             ]
            ],
            "type": "heatmap"
           }
          ],
          "heatmapgl": [
           {
            "colorbar": {
             "outlinewidth": 0,
             "ticks": ""
            },
            "colorscale": [
             [
              0,
              "#0d0887"
             ],
             [
              0.1111111111111111,
              "#46039f"
             ],
             [
              0.2222222222222222,
              "#7201a8"
             ],
             [
              0.3333333333333333,
              "#9c179e"
             ],
             [
              0.4444444444444444,
              "#bd3786"
             ],
             [
              0.5555555555555556,
              "#d8576b"
             ],
             [
              0.6666666666666666,
              "#ed7953"
             ],
             [
              0.7777777777777778,
              "#fb9f3a"
             ],
             [
              0.8888888888888888,
              "#fdca26"
             ],
             [
              1,
              "#f0f921"
             ]
            ],
            "type": "heatmapgl"
           }
          ],
          "histogram": [
           {
            "marker": {
             "pattern": {
              "fillmode": "overlay",
              "size": 10,
              "solidity": 0.2
             }
            },
            "type": "histogram"
           }
          ],
          "histogram2d": [
           {
            "colorbar": {
             "outlinewidth": 0,
             "ticks": ""
            },
            "colorscale": [
             [
              0,
              "#0d0887"
             ],
             [
              0.1111111111111111,
              "#46039f"
             ],
             [
              0.2222222222222222,
              "#7201a8"
             ],
             [
              0.3333333333333333,
              "#9c179e"
             ],
             [
              0.4444444444444444,
              "#bd3786"
             ],
             [
              0.5555555555555556,
              "#d8576b"
             ],
             [
              0.6666666666666666,
              "#ed7953"
             ],
             [
              0.7777777777777778,
              "#fb9f3a"
             ],
             [
              0.8888888888888888,
              "#fdca26"
             ],
             [
              1,
              "#f0f921"
             ]
            ],
            "type": "histogram2d"
           }
          ],
          "histogram2dcontour": [
           {
            "colorbar": {
             "outlinewidth": 0,
             "ticks": ""
            },
            "colorscale": [
             [
              0,
              "#0d0887"
             ],
             [
              0.1111111111111111,
              "#46039f"
             ],
             [
              0.2222222222222222,
              "#7201a8"
             ],
             [
              0.3333333333333333,
              "#9c179e"
             ],
             [
              0.4444444444444444,
              "#bd3786"
             ],
             [
              0.5555555555555556,
              "#d8576b"
             ],
             [
              0.6666666666666666,
              "#ed7953"
             ],
             [
              0.7777777777777778,
              "#fb9f3a"
             ],
             [
              0.8888888888888888,
              "#fdca26"
             ],
             [
              1,
              "#f0f921"
             ]
            ],
            "type": "histogram2dcontour"
           }
          ],
          "mesh3d": [
           {
            "colorbar": {
             "outlinewidth": 0,
             "ticks": ""
            },
            "type": "mesh3d"
           }
          ],
          "parcoords": [
           {
            "line": {
             "colorbar": {
              "outlinewidth": 0,
              "ticks": ""
             }
            },
            "type": "parcoords"
           }
          ],
          "pie": [
           {
            "automargin": true,
            "type": "pie"
           }
          ],
          "scatter": [
           {
            "marker": {
             "colorbar": {
              "outlinewidth": 0,
              "ticks": ""
             }
            },
            "type": "scatter"
           }
          ],
          "scatter3d": [
           {
            "line": {
             "colorbar": {
              "outlinewidth": 0,
              "ticks": ""
             }
            },
            "marker": {
             "colorbar": {
              "outlinewidth": 0,
              "ticks": ""
             }
            },
            "type": "scatter3d"
           }
          ],
          "scattercarpet": [
           {
            "marker": {
             "colorbar": {
              "outlinewidth": 0,
              "ticks": ""
             }
            },
            "type": "scattercarpet"
           }
          ],
          "scattergeo": [
           {
            "marker": {
             "colorbar": {
              "outlinewidth": 0,
              "ticks": ""
             }
            },
            "type": "scattergeo"
           }
          ],
          "scattergl": [
           {
            "marker": {
             "colorbar": {
              "outlinewidth": 0,
              "ticks": ""
             }
            },
            "type": "scattergl"
           }
          ],
          "scattermapbox": [
           {
            "marker": {
             "colorbar": {
              "outlinewidth": 0,
              "ticks": ""
             }
            },
            "type": "scattermapbox"
           }
          ],
          "scatterpolar": [
           {
            "marker": {
             "colorbar": {
              "outlinewidth": 0,
              "ticks": ""
             }
            },
            "type": "scatterpolar"
           }
          ],
          "scatterpolargl": [
           {
            "marker": {
             "colorbar": {
              "outlinewidth": 0,
              "ticks": ""
             }
            },
            "type": "scatterpolargl"
           }
          ],
          "scatterternary": [
           {
            "marker": {
             "colorbar": {
              "outlinewidth": 0,
              "ticks": ""
             }
            },
            "type": "scatterternary"
           }
          ],
          "surface": [
           {
            "colorbar": {
             "outlinewidth": 0,
             "ticks": ""
            },
            "colorscale": [
             [
              0,
              "#0d0887"
             ],
             [
              0.1111111111111111,
              "#46039f"
             ],
             [
              0.2222222222222222,
              "#7201a8"
             ],
             [
              0.3333333333333333,
              "#9c179e"
             ],
             [
              0.4444444444444444,
              "#bd3786"
             ],
             [
              0.5555555555555556,
              "#d8576b"
             ],
             [
              0.6666666666666666,
              "#ed7953"
             ],
             [
              0.7777777777777778,
              "#fb9f3a"
             ],
             [
              0.8888888888888888,
              "#fdca26"
             ],
             [
              1,
              "#f0f921"
             ]
            ],
            "type": "surface"
           }
          ],
          "table": [
           {
            "cells": {
             "fill": {
              "color": "#EBF0F8"
             },
             "line": {
              "color": "white"
             }
            },
            "header": {
             "fill": {
              "color": "#C8D4E3"
             },
             "line": {
              "color": "white"
             }
            },
            "type": "table"
           }
          ]
         },
         "layout": {
          "annotationdefaults": {
           "arrowcolor": "#2a3f5f",
           "arrowhead": 0,
           "arrowwidth": 1
          },
          "autotypenumbers": "strict",
          "coloraxis": {
           "colorbar": {
            "outlinewidth": 0,
            "ticks": ""
           }
          },
          "colorscale": {
           "diverging": [
            [
             0,
             "#8e0152"
            ],
            [
             0.1,
             "#c51b7d"
            ],
            [
             0.2,
             "#de77ae"
            ],
            [
             0.3,
             "#f1b6da"
            ],
            [
             0.4,
             "#fde0ef"
            ],
            [
             0.5,
             "#f7f7f7"
            ],
            [
             0.6,
             "#e6f5d0"
            ],
            [
             0.7,
             "#b8e186"
            ],
            [
             0.8,
             "#7fbc41"
            ],
            [
             0.9,
             "#4d9221"
            ],
            [
             1,
             "#276419"
            ]
           ],
           "sequential": [
            [
             0,
             "#0d0887"
            ],
            [
             0.1111111111111111,
             "#46039f"
            ],
            [
             0.2222222222222222,
             "#7201a8"
            ],
            [
             0.3333333333333333,
             "#9c179e"
            ],
            [
             0.4444444444444444,
             "#bd3786"
            ],
            [
             0.5555555555555556,
             "#d8576b"
            ],
            [
             0.6666666666666666,
             "#ed7953"
            ],
            [
             0.7777777777777778,
             "#fb9f3a"
            ],
            [
             0.8888888888888888,
             "#fdca26"
            ],
            [
             1,
             "#f0f921"
            ]
           ],
           "sequentialminus": [
            [
             0,
             "#0d0887"
            ],
            [
             0.1111111111111111,
             "#46039f"
            ],
            [
             0.2222222222222222,
             "#7201a8"
            ],
            [
             0.3333333333333333,
             "#9c179e"
            ],
            [
             0.4444444444444444,
             "#bd3786"
            ],
            [
             0.5555555555555556,
             "#d8576b"
            ],
            [
             0.6666666666666666,
             "#ed7953"
            ],
            [
             0.7777777777777778,
             "#fb9f3a"
            ],
            [
             0.8888888888888888,
             "#fdca26"
            ],
            [
             1,
             "#f0f921"
            ]
           ]
          },
          "colorway": [
           "#636efa",
           "#EF553B",
           "#00cc96",
           "#ab63fa",
           "#FFA15A",
           "#19d3f3",
           "#FF6692",
           "#B6E880",
           "#FF97FF",
           "#FECB52"
          ],
          "font": {
           "color": "#2a3f5f"
          },
          "geo": {
           "bgcolor": "white",
           "lakecolor": "white",
           "landcolor": "#E5ECF6",
           "showlakes": true,
           "showland": true,
           "subunitcolor": "white"
          },
          "hoverlabel": {
           "align": "left"
          },
          "hovermode": "closest",
          "mapbox": {
           "style": "light"
          },
          "paper_bgcolor": "white",
          "plot_bgcolor": "#E5ECF6",
          "polar": {
           "angularaxis": {
            "gridcolor": "white",
            "linecolor": "white",
            "ticks": ""
           },
           "bgcolor": "#E5ECF6",
           "radialaxis": {
            "gridcolor": "white",
            "linecolor": "white",
            "ticks": ""
           }
          },
          "scene": {
           "xaxis": {
            "backgroundcolor": "#E5ECF6",
            "gridcolor": "white",
            "gridwidth": 2,
            "linecolor": "white",
            "showbackground": true,
            "ticks": "",
            "zerolinecolor": "white"
           },
           "yaxis": {
            "backgroundcolor": "#E5ECF6",
            "gridcolor": "white",
            "gridwidth": 2,
            "linecolor": "white",
            "showbackground": true,
            "ticks": "",
            "zerolinecolor": "white"
           },
           "zaxis": {
            "backgroundcolor": "#E5ECF6",
            "gridcolor": "white",
            "gridwidth": 2,
            "linecolor": "white",
            "showbackground": true,
            "ticks": "",
            "zerolinecolor": "white"
           }
          },
          "shapedefaults": {
           "line": {
            "color": "#2a3f5f"
           }
          },
          "ternary": {
           "aaxis": {
            "gridcolor": "white",
            "linecolor": "white",
            "ticks": ""
           },
           "baxis": {
            "gridcolor": "white",
            "linecolor": "white",
            "ticks": ""
           },
           "bgcolor": "#E5ECF6",
           "caxis": {
            "gridcolor": "white",
            "linecolor": "white",
            "ticks": ""
           }
          },
          "title": {
           "x": 0.05
          },
          "xaxis": {
           "automargin": true,
           "gridcolor": "white",
           "linecolor": "white",
           "ticks": "",
           "title": {
            "standoff": 15
           },
           "zerolinecolor": "white",
           "zerolinewidth": 2
          },
          "yaxis": {
           "automargin": true,
           "gridcolor": "white",
           "linecolor": "white",
           "ticks": "",
           "title": {
            "standoff": 15
           },
           "zerolinecolor": "white",
           "zerolinewidth": 2
          }
         }
        },
        "title": {
         "text": "Percentage of type services"
        }
       }
      },
      "text/html": [
       "<div>                            <div id=\"023fc6cf-a5f2-4efa-9fc7-ed6406fd7911\" class=\"plotly-graph-div\" style=\"height:525px; width:100%;\"></div>            <script type=\"text/javascript\">                require([\"plotly\"], function(Plotly) {                    window.PLOTLYENV=window.PLOTLYENV || {};                                    if (document.getElementById(\"023fc6cf-a5f2-4efa-9fc7-ed6406fd7911\")) {                    Plotly.newPlot(                        \"023fc6cf-a5f2-4efa-9fc7-ed6406fd7911\",                        [{\"domain\":{\"x\":[0.0,1.0],\"y\":[0.0,1.0]},\"hovertemplate\":\"Cod Servicio SBS=%{label}<br>per=%{value}<extra></extra>\",\"labels\":[102,6,29,96,9,5,27,2,11,28,17,7,999,12,8,-1,18],\"legendgroup\":\"\",\"name\":\"\",\"showlegend\":true,\"values\":[60.045206685172936,14.536449191956544,10.793356492211222,8.739264714307291,2.361893055982334,1.4478638799627097,0.5791455519850839,0.518731087929086,0.38279854380309053,0.27811486039571476,0.16770221918992537,0.08853843870275563,0.022395016848344072,0.017707687740551124,0.00729140083434458,0.00729140083434458,0.006249772143723926],\"type\":\"pie\"}],                        {\"template\":{\"data\":{\"bar\":[{\"error_x\":{\"color\":\"#2a3f5f\"},\"error_y\":{\"color\":\"#2a3f5f\"},\"marker\":{\"line\":{\"color\":\"#E5ECF6\",\"width\":0.5},\"pattern\":{\"fillmode\":\"overlay\",\"size\":10,\"solidity\":0.2}},\"type\":\"bar\"}],\"barpolar\":[{\"marker\":{\"line\":{\"color\":\"#E5ECF6\",\"width\":0.5},\"pattern\":{\"fillmode\":\"overlay\",\"size\":10,\"solidity\":0.2}},\"type\":\"barpolar\"}],\"carpet\":[{\"aaxis\":{\"endlinecolor\":\"#2a3f5f\",\"gridcolor\":\"white\",\"linecolor\":\"white\",\"minorgridcolor\":\"white\",\"startlinecolor\":\"#2a3f5f\"},\"baxis\":{\"endlinecolor\":\"#2a3f5f\",\"gridcolor\":\"white\",\"linecolor\":\"white\",\"minorgridcolor\":\"white\",\"startlinecolor\":\"#2a3f5f\"},\"type\":\"carpet\"}],\"choropleth\":[{\"colorbar\":{\"outlinewidth\":0,\"ticks\":\"\"},\"type\":\"choropleth\"}],\"contour\":[{\"colorbar\":{\"outlinewidth\":0,\"ticks\":\"\"},\"colorscale\":[[0.0,\"#0d0887\"],[0.1111111111111111,\"#46039f\"],[0.2222222222222222,\"#7201a8\"],[0.3333333333333333,\"#9c179e\"],[0.4444444444444444,\"#bd3786\"],[0.5555555555555556,\"#d8576b\"],[0.6666666666666666,\"#ed7953\"],[0.7777777777777778,\"#fb9f3a\"],[0.8888888888888888,\"#fdca26\"],[1.0,\"#f0f921\"]],\"type\":\"contour\"}],\"contourcarpet\":[{\"colorbar\":{\"outlinewidth\":0,\"ticks\":\"\"},\"type\":\"contourcarpet\"}],\"heatmap\":[{\"colorbar\":{\"outlinewidth\":0,\"ticks\":\"\"},\"colorscale\":[[0.0,\"#0d0887\"],[0.1111111111111111,\"#46039f\"],[0.2222222222222222,\"#7201a8\"],[0.3333333333333333,\"#9c179e\"],[0.4444444444444444,\"#bd3786\"],[0.5555555555555556,\"#d8576b\"],[0.6666666666666666,\"#ed7953\"],[0.7777777777777778,\"#fb9f3a\"],[0.8888888888888888,\"#fdca26\"],[1.0,\"#f0f921\"]],\"type\":\"heatmap\"}],\"heatmapgl\":[{\"colorbar\":{\"outlinewidth\":0,\"ticks\":\"\"},\"colorscale\":[[0.0,\"#0d0887\"],[0.1111111111111111,\"#46039f\"],[0.2222222222222222,\"#7201a8\"],[0.3333333333333333,\"#9c179e\"],[0.4444444444444444,\"#bd3786\"],[0.5555555555555556,\"#d8576b\"],[0.6666666666666666,\"#ed7953\"],[0.7777777777777778,\"#fb9f3a\"],[0.8888888888888888,\"#fdca26\"],[1.0,\"#f0f921\"]],\"type\":\"heatmapgl\"}],\"histogram\":[{\"marker\":{\"pattern\":{\"fillmode\":\"overlay\",\"size\":10,\"solidity\":0.2}},\"type\":\"histogram\"}],\"histogram2d\":[{\"colorbar\":{\"outlinewidth\":0,\"ticks\":\"\"},\"colorscale\":[[0.0,\"#0d0887\"],[0.1111111111111111,\"#46039f\"],[0.2222222222222222,\"#7201a8\"],[0.3333333333333333,\"#9c179e\"],[0.4444444444444444,\"#bd3786\"],[0.5555555555555556,\"#d8576b\"],[0.6666666666666666,\"#ed7953\"],[0.7777777777777778,\"#fb9f3a\"],[0.8888888888888888,\"#fdca26\"],[1.0,\"#f0f921\"]],\"type\":\"histogram2d\"}],\"histogram2dcontour\":[{\"colorbar\":{\"outlinewidth\":0,\"ticks\":\"\"},\"colorscale\":[[0.0,\"#0d0887\"],[0.1111111111111111,\"#46039f\"],[0.2222222222222222,\"#7201a8\"],[0.3333333333333333,\"#9c179e\"],[0.4444444444444444,\"#bd3786\"],[0.5555555555555556,\"#d8576b\"],[0.6666666666666666,\"#ed7953\"],[0.7777777777777778,\"#fb9f3a\"],[0.8888888888888888,\"#fdca26\"],[1.0,\"#f0f921\"]],\"type\":\"histogram2dcontour\"}],\"mesh3d\":[{\"colorbar\":{\"outlinewidth\":0,\"ticks\":\"\"},\"type\":\"mesh3d\"}],\"parcoords\":[{\"line\":{\"colorbar\":{\"outlinewidth\":0,\"ticks\":\"\"}},\"type\":\"parcoords\"}],\"pie\":[{\"automargin\":true,\"type\":\"pie\"}],\"scatter\":[{\"marker\":{\"colorbar\":{\"outlinewidth\":0,\"ticks\":\"\"}},\"type\":\"scatter\"}],\"scatter3d\":[{\"line\":{\"colorbar\":{\"outlinewidth\":0,\"ticks\":\"\"}},\"marker\":{\"colorbar\":{\"outlinewidth\":0,\"ticks\":\"\"}},\"type\":\"scatter3d\"}],\"scattercarpet\":[{\"marker\":{\"colorbar\":{\"outlinewidth\":0,\"ticks\":\"\"}},\"type\":\"scattercarpet\"}],\"scattergeo\":[{\"marker\":{\"colorbar\":{\"outlinewidth\":0,\"ticks\":\"\"}},\"type\":\"scattergeo\"}],\"scattergl\":[{\"marker\":{\"colorbar\":{\"outlinewidth\":0,\"ticks\":\"\"}},\"type\":\"scattergl\"}],\"scattermapbox\":[{\"marker\":{\"colorbar\":{\"outlinewidth\":0,\"ticks\":\"\"}},\"type\":\"scattermapbox\"}],\"scatterpolar\":[{\"marker\":{\"colorbar\":{\"outlinewidth\":0,\"ticks\":\"\"}},\"type\":\"scatterpolar\"}],\"scatterpolargl\":[{\"marker\":{\"colorbar\":{\"outlinewidth\":0,\"ticks\":\"\"}},\"type\":\"scatterpolargl\"}],\"scatterternary\":[{\"marker\":{\"colorbar\":{\"outlinewidth\":0,\"ticks\":\"\"}},\"type\":\"scatterternary\"}],\"surface\":[{\"colorbar\":{\"outlinewidth\":0,\"ticks\":\"\"},\"colorscale\":[[0.0,\"#0d0887\"],[0.1111111111111111,\"#46039f\"],[0.2222222222222222,\"#7201a8\"],[0.3333333333333333,\"#9c179e\"],[0.4444444444444444,\"#bd3786\"],[0.5555555555555556,\"#d8576b\"],[0.6666666666666666,\"#ed7953\"],[0.7777777777777778,\"#fb9f3a\"],[0.8888888888888888,\"#fdca26\"],[1.0,\"#f0f921\"]],\"type\":\"surface\"}],\"table\":[{\"cells\":{\"fill\":{\"color\":\"#EBF0F8\"},\"line\":{\"color\":\"white\"}},\"header\":{\"fill\":{\"color\":\"#C8D4E3\"},\"line\":{\"color\":\"white\"}},\"type\":\"table\"}]},\"layout\":{\"annotationdefaults\":{\"arrowcolor\":\"#2a3f5f\",\"arrowhead\":0,\"arrowwidth\":1},\"autotypenumbers\":\"strict\",\"coloraxis\":{\"colorbar\":{\"outlinewidth\":0,\"ticks\":\"\"}},\"colorscale\":{\"diverging\":[[0,\"#8e0152\"],[0.1,\"#c51b7d\"],[0.2,\"#de77ae\"],[0.3,\"#f1b6da\"],[0.4,\"#fde0ef\"],[0.5,\"#f7f7f7\"],[0.6,\"#e6f5d0\"],[0.7,\"#b8e186\"],[0.8,\"#7fbc41\"],[0.9,\"#4d9221\"],[1,\"#276419\"]],\"sequential\":[[0.0,\"#0d0887\"],[0.1111111111111111,\"#46039f\"],[0.2222222222222222,\"#7201a8\"],[0.3333333333333333,\"#9c179e\"],[0.4444444444444444,\"#bd3786\"],[0.5555555555555556,\"#d8576b\"],[0.6666666666666666,\"#ed7953\"],[0.7777777777777778,\"#fb9f3a\"],[0.8888888888888888,\"#fdca26\"],[1.0,\"#f0f921\"]],\"sequentialminus\":[[0.0,\"#0d0887\"],[0.1111111111111111,\"#46039f\"],[0.2222222222222222,\"#7201a8\"],[0.3333333333333333,\"#9c179e\"],[0.4444444444444444,\"#bd3786\"],[0.5555555555555556,\"#d8576b\"],[0.6666666666666666,\"#ed7953\"],[0.7777777777777778,\"#fb9f3a\"],[0.8888888888888888,\"#fdca26\"],[1.0,\"#f0f921\"]]},\"colorway\":[\"#636efa\",\"#EF553B\",\"#00cc96\",\"#ab63fa\",\"#FFA15A\",\"#19d3f3\",\"#FF6692\",\"#B6E880\",\"#FF97FF\",\"#FECB52\"],\"font\":{\"color\":\"#2a3f5f\"},\"geo\":{\"bgcolor\":\"white\",\"lakecolor\":\"white\",\"landcolor\":\"#E5ECF6\",\"showlakes\":true,\"showland\":true,\"subunitcolor\":\"white\"},\"hoverlabel\":{\"align\":\"left\"},\"hovermode\":\"closest\",\"mapbox\":{\"style\":\"light\"},\"paper_bgcolor\":\"white\",\"plot_bgcolor\":\"#E5ECF6\",\"polar\":{\"angularaxis\":{\"gridcolor\":\"white\",\"linecolor\":\"white\",\"ticks\":\"\"},\"bgcolor\":\"#E5ECF6\",\"radialaxis\":{\"gridcolor\":\"white\",\"linecolor\":\"white\",\"ticks\":\"\"}},\"scene\":{\"xaxis\":{\"backgroundcolor\":\"#E5ECF6\",\"gridcolor\":\"white\",\"gridwidth\":2,\"linecolor\":\"white\",\"showbackground\":true,\"ticks\":\"\",\"zerolinecolor\":\"white\"},\"yaxis\":{\"backgroundcolor\":\"#E5ECF6\",\"gridcolor\":\"white\",\"gridwidth\":2,\"linecolor\":\"white\",\"showbackground\":true,\"ticks\":\"\",\"zerolinecolor\":\"white\"},\"zaxis\":{\"backgroundcolor\":\"#E5ECF6\",\"gridcolor\":\"white\",\"gridwidth\":2,\"linecolor\":\"white\",\"showbackground\":true,\"ticks\":\"\",\"zerolinecolor\":\"white\"}},\"shapedefaults\":{\"line\":{\"color\":\"#2a3f5f\"}},\"ternary\":{\"aaxis\":{\"gridcolor\":\"white\",\"linecolor\":\"white\",\"ticks\":\"\"},\"baxis\":{\"gridcolor\":\"white\",\"linecolor\":\"white\",\"ticks\":\"\"},\"bgcolor\":\"#E5ECF6\",\"caxis\":{\"gridcolor\":\"white\",\"linecolor\":\"white\",\"ticks\":\"\"}},\"title\":{\"x\":0.05},\"xaxis\":{\"automargin\":true,\"gridcolor\":\"white\",\"linecolor\":\"white\",\"ticks\":\"\",\"title\":{\"standoff\":15},\"zerolinecolor\":\"white\",\"zerolinewidth\":2},\"yaxis\":{\"automargin\":true,\"gridcolor\":\"white\",\"linecolor\":\"white\",\"ticks\":\"\",\"title\":{\"standoff\":15},\"zerolinecolor\":\"white\",\"zerolinewidth\":2}}},\"legend\":{\"tracegroupgap\":0},\"title\":{\"text\":\"Percentage of type services\"}},                        {\"responsive\": true}                    ).then(function(){\n",
       "                            \n",
       "var gd = document.getElementById('023fc6cf-a5f2-4efa-9fc7-ed6406fd7911');\n",
       "var x = new MutationObserver(function (mutations, observer) {{\n",
       "        var display = window.getComputedStyle(gd).display;\n",
       "        if (!display || display === 'none') {{\n",
       "            console.log([gd, 'removed!']);\n",
       "            Plotly.purge(gd);\n",
       "            observer.disconnect();\n",
       "        }}\n",
       "}});\n",
       "\n",
       "// Listen for the removal of the full notebook cells\n",
       "var notebookContainer = gd.closest('#notebook-container');\n",
       "if (notebookContainer) {{\n",
       "    x.observe(notebookContainer, {childList: true});\n",
       "}}\n",
       "\n",
       "// Listen for the clearing of the current output cell\n",
       "var outputEl = gd.closest('.output');\n",
       "if (outputEl) {{\n",
       "    x.observe(outputEl, {childList: true});\n",
       "}}\n",
       "\n",
       "                        })                };                });            </script>        </div>"
      ]
     },
     "metadata": {},
     "output_type": "display_data"
    }
   ],
   "source": [
    "total = np.sum(data_temp['N° Reclamo'])\n",
    "data_temp['per'] = data_temp['N° Reclamo']/total*100\n",
    "\n",
    "fig = px.pie(data_temp, values='per', names='Cod Servicio SBS', title='Percentage of type services')\n",
    "fig.show()"
   ]
  },
  {
   "cell_type": "code",
   "execution_count": null,
   "id": "7d59b382",
   "metadata": {},
   "outputs": [],
   "source": []
  },
  {
   "cell_type": "code",
   "execution_count": 29,
   "id": "53a6314c",
   "metadata": {
    "scrolled": false
   },
   "outputs": [
    {
     "data": {
      "application/vnd.plotly.v1+json": {
       "config": {
        "plotlyServerURL": "https://plot.ly"
       },
       "data": [
        {
         "branchvalues": "total",
         "customdata": [
          [
           2,
           -1,
           368
          ],
          [
           6,
           -1,
           1564
          ],
          [
           7,
           -1,
           54
          ],
          [
           8,
           -1,
           7
          ],
          [
           9,
           -1,
           1196
          ],
          [
           11,
           -1,
           162
          ],
          [
           17,
           -1,
           39
          ],
          [
           27,
           -1,
           140
          ],
          [
           28,
           -1,
           66
          ],
          [
           999,
           -1,
           12
          ],
          [
           -1,
           1,
           1
          ],
          [
           2,
           1,
           1
          ],
          [
           5,
           1,
           54
          ],
          [
           6,
           1,
           13
          ],
          [
           7,
           1,
           5
          ],
          [
           9,
           1,
           85
          ],
          [
           27,
           1,
           1
          ],
          [
           28,
           1,
           1
          ],
          [
           29,
           1,
           2
          ],
          [
           96,
           1,
           3
          ],
          [
           102,
           1,
           25
          ],
          [
           -1,
           2,
           2
          ],
          [
           2,
           2,
           37
          ],
          [
           5,
           2,
           32
          ],
          [
           6,
           2,
           213
          ],
          [
           7,
           2,
           9
          ],
          [
           9,
           2,
           84
          ],
          [
           11,
           2,
           12
          ],
          [
           12,
           2,
           3
          ],
          [
           17,
           2,
           35
          ],
          [
           18,
           2,
           1
          ],
          [
           27,
           2,
           75
          ],
          [
           28,
           2,
           23
          ],
          [
           29,
           2,
           672
          ],
          [
           96,
           2,
           5182
          ],
          [
           102,
           2,
           673
          ],
          [
           999,
           2,
           1
          ],
          [
           -1,
           3,
           3
          ],
          [
           2,
           3,
           65
          ],
          [
           5,
           3,
           1380
          ],
          [
           6,
           3,
           8968
          ],
          [
           7,
           3,
           38
          ],
          [
           8,
           3,
           3
          ],
          [
           9,
           3,
           2322
          ],
          [
           11,
           3,
           114
          ],
          [
           12,
           3,
           10
          ],
          [
           17,
           3,
           30
          ],
          [
           27,
           3,
           135
          ],
          [
           28,
           3,
           71
          ],
          [
           29,
           3,
           2659
          ],
          [
           96,
           3,
           159
          ],
          [
           102,
           3,
           10051
          ],
          [
           999,
           3,
           7
          ],
          [
           2,
           4,
           1
          ],
          [
           5,
           4,
           2
          ],
          [
           7,
           4,
           3
          ],
          [
           9,
           4,
           42
          ],
          [
           102,
           4,
           7
          ],
          [
           -1,
           6,
           6
          ],
          [
           2,
           6,
           213
          ],
          [
           5,
           6,
           676
          ],
          [
           6,
           6,
           7346
          ],
          [
           7,
           6,
           22
          ],
          [
           8,
           6,
           4
          ],
          [
           9,
           6,
           453
          ],
          [
           11,
           6,
           367
          ],
          [
           12,
           6,
           10
          ],
          [
           17,
           6,
           74
          ],
          [
           18,
           6,
           6
          ],
          [
           27,
           6,
           567
          ],
          [
           28,
           6,
           268
          ],
          [
           29,
           6,
           5917
          ],
          [
           96,
           6,
           573
          ],
          [
           102,
           6,
           18767
          ],
          [
           999,
           6,
           16
          ],
          [
           2,
           7,
           6
          ],
          [
           5,
           7,
           7
          ],
          [
           6,
           7,
           50
          ],
          [
           29,
           7,
           10
          ],
          [
           96,
           7,
           1
          ],
          [
           102,
           7,
           47
          ],
          [
           2,
           8,
           30
          ],
          [
           5,
           8,
           9
          ],
          [
           6,
           8,
           184
          ],
          [
           27,
           8,
           1
          ],
          [
           96,
           8,
           11
          ],
          [
           102,
           8,
           265
          ],
          [
           2,
           9,
           7
          ],
          [
           17,
           9,
           47
          ],
          [
           102,
           9,
           1
          ],
          [
           5,
           15,
           166
          ],
          [
           6,
           15,
           299
          ],
          [
           9,
           15,
           1
          ],
          [
           11,
           15,
           2
          ],
          [
           96,
           15,
           41
          ],
          [
           102,
           15,
           28
          ],
          [
           2,
           17,
           1
          ],
          [
           6,
           17,
           1
          ],
          [
           17,
           17,
           1
          ],
          [
           102,
           17,
           3
          ],
          [
           2,
           19,
           50
          ],
          [
           5,
           19,
           1
          ],
          [
           6,
           19,
           20
          ],
          [
           7,
           19,
           20
          ],
          [
           9,
           19,
           24
          ],
          [
           29,
           19,
           1
          ],
          [
           96,
           19,
           6
          ],
          [
           102,
           19,
           79
          ],
          [
           2,
           21,
           1
          ],
          [
           5,
           21,
           19
          ],
          [
           6,
           21,
           7
          ],
          [
           9,
           21,
           7
          ],
          [
           11,
           21,
           1
          ],
          [
           96,
           21,
           8
          ],
          [
           102,
           21,
           47
          ],
          [
           5,
           22,
           3
          ],
          [
           9,
           22,
           92
          ],
          [
           9,
           23,
           39
          ],
          [
           2,
           27,
           1
          ],
          [
           5,
           27,
           6
          ],
          [
           6,
           27,
           15
          ],
          [
           18,
           27,
           3
          ],
          [
           27,
           27,
           14
          ],
          [
           28,
           27,
           4
          ],
          [
           29,
           27,
           74
          ],
          [
           96,
           27,
           285
          ],
          [
           102,
           27,
           25
          ],
          [
           -1,
           28,
           1
          ],
          [
           2,
           28,
           8
          ],
          [
           5,
           28,
           242
          ],
          [
           6,
           28,
           7549
          ],
          [
           7,
           28,
           1
          ],
          [
           9,
           28,
           24
          ],
          [
           11,
           28,
           5
          ],
          [
           12,
           28,
           1
          ],
          [
           17,
           28,
           4
          ],
          [
           27,
           28,
           13
          ],
          [
           28,
           28,
           3
          ],
          [
           29,
           28,
           10063
          ],
          [
           96,
           28,
           75
          ],
          [
           102,
           28,
           80016
          ],
          [
           -1,
           30,
           1
          ],
          [
           2,
           30,
           86
          ],
          [
           5,
           30,
           18
          ],
          [
           6,
           30,
           592
          ],
          [
           9,
           30,
           17
          ],
          [
           11,
           30,
           39
          ],
          [
           12,
           30,
           1
          ],
          [
           17,
           30,
           7
          ],
          [
           18,
           30,
           2
          ],
          [
           27,
           30,
           84
          ],
          [
           28,
           30,
           63
          ],
          [
           29,
           30,
           861
          ],
          [
           96,
           30,
           459
          ],
          [
           102,
           30,
           3858
          ],
          [
           2,
           33,
           4
          ],
          [
           6,
           33,
           23
          ],
          [
           7,
           33,
           1
          ],
          [
           9,
           33,
           2
          ],
          [
           29,
           33,
           9
          ],
          [
           96,
           33,
           25
          ],
          [
           102,
           33,
           24
          ],
          [
           2,
           34,
           17
          ],
          [
           5,
           34,
           1
          ],
          [
           6,
           34,
           1
          ],
          [
           7,
           34,
           1
          ],
          [
           9,
           34,
           7
          ],
          [
           11,
           34,
           8
          ],
          [
           12,
           34,
           1
          ],
          [
           17,
           34,
           2
          ],
          [
           27,
           34,
           2
          ],
          [
           29,
           34,
           113
          ],
          [
           96,
           34,
           6
          ],
          [
           102,
           34,
           32
          ],
          [
           5,
           38,
           97
          ],
          [
           6,
           38,
           820
          ],
          [
           96,
           38,
           5
          ],
          [
           102,
           38,
           227
          ],
          [
           2,
           39,
           100
          ],
          [
           5,
           39,
           64
          ],
          [
           6,
           39,
           246
          ],
          [
           7,
           39,
           14
          ],
          [
           9,
           39,
           133
          ],
          [
           11,
           39,
           25
          ],
          [
           12,
           39,
           8
          ],
          [
           17,
           39,
           83
          ],
          [
           27,
           39,
           80
          ],
          [
           28,
           39,
           35
          ],
          [
           29,
           39,
           343
          ],
          [
           96,
           39,
           9940
          ],
          [
           102,
           39,
           1108
          ],
          [
           999,
           39,
           7
          ],
          [
           7,
           107,
           1
          ],
          [
           5,
           108,
           1
          ],
          [
           5,
           111,
           2
          ],
          [
           7,
           111,
           1
          ],
          [
           9,
           111,
           7
          ],
          [
           96,
           999,
           1
          ],
          [
           102,
           999,
           8
          ],
          [
           -1,
           "(?)",
           3.7142857142857144
          ],
          [
           2,
           "(?)",
           208.47590361445782
          ],
          [
           5,
           "(?)",
           886.9827338129496
          ],
          [
           6,
           "(?)",
           6989.291569632045
          ],
          [
           7,
           "(?)",
           32.705882352941174
          ],
          [
           8,
           "(?)",
           5.285714285714286
          ],
          [
           9,
           "(?)",
           1559.5636163175304
          ],
          [
           11,
           "(?)",
           239.88163265306122
          ],
          [
           12,
           "(?)",
           8.117647058823529
          ],
          [
           17,
           "(?)",
           56.80124223602485
          ],
          [
           18,
           "(?)",
           4.166666666666667
          ],
          [
           27,
           "(?)",
           340.61690647482015
          ],
          [
           28,
           "(?)",
           162.86516853932585
          ],
          [
           29,
           "(?)",
           6980.994209612044
          ],
          [
           96,
           "(?)",
           7527.441239570918
          ],
          [
           102,
           "(?)",
           59609.8921251442
          ],
          [
           999,
           "(?)",
           11.604651162790697
          ],
          [
           "(?)",
           "(?)",
           38274.43636429922
          ]
         ],
         "domain": {
          "x": [
           0,
           1
          ],
          "y": [
           0,
           1
          ]
         },
         "hovertemplate": "labels=%{label}<br>N° Reclamo_sum=%{value}<br>parent=%{parent}<br>id=%{id}<br>Cod Servicio SBS=%{customdata[0]}<br>Cod Motivo SBS=%{customdata[1]}<br>N° Reclamo=%{color}<extra></extra>",
         "ids": [
          "Codigo de reclamo/2/-1",
          "Codigo de reclamo/6/-1",
          "Codigo de reclamo/7/-1",
          "Codigo de reclamo/8/-1",
          "Codigo de reclamo/9/-1",
          "Codigo de reclamo/11/-1",
          "Codigo de reclamo/17/-1",
          "Codigo de reclamo/27/-1",
          "Codigo de reclamo/28/-1",
          "Codigo de reclamo/999/-1",
          "Codigo de reclamo/-1/1",
          "Codigo de reclamo/2/1",
          "Codigo de reclamo/5/1",
          "Codigo de reclamo/6/1",
          "Codigo de reclamo/7/1",
          "Codigo de reclamo/9/1",
          "Codigo de reclamo/27/1",
          "Codigo de reclamo/28/1",
          "Codigo de reclamo/29/1",
          "Codigo de reclamo/96/1",
          "Codigo de reclamo/102/1",
          "Codigo de reclamo/-1/2",
          "Codigo de reclamo/2/2",
          "Codigo de reclamo/5/2",
          "Codigo de reclamo/6/2",
          "Codigo de reclamo/7/2",
          "Codigo de reclamo/9/2",
          "Codigo de reclamo/11/2",
          "Codigo de reclamo/12/2",
          "Codigo de reclamo/17/2",
          "Codigo de reclamo/18/2",
          "Codigo de reclamo/27/2",
          "Codigo de reclamo/28/2",
          "Codigo de reclamo/29/2",
          "Codigo de reclamo/96/2",
          "Codigo de reclamo/102/2",
          "Codigo de reclamo/999/2",
          "Codigo de reclamo/-1/3",
          "Codigo de reclamo/2/3",
          "Codigo de reclamo/5/3",
          "Codigo de reclamo/6/3",
          "Codigo de reclamo/7/3",
          "Codigo de reclamo/8/3",
          "Codigo de reclamo/9/3",
          "Codigo de reclamo/11/3",
          "Codigo de reclamo/12/3",
          "Codigo de reclamo/17/3",
          "Codigo de reclamo/27/3",
          "Codigo de reclamo/28/3",
          "Codigo de reclamo/29/3",
          "Codigo de reclamo/96/3",
          "Codigo de reclamo/102/3",
          "Codigo de reclamo/999/3",
          "Codigo de reclamo/2/4",
          "Codigo de reclamo/5/4",
          "Codigo de reclamo/7/4",
          "Codigo de reclamo/9/4",
          "Codigo de reclamo/102/4",
          "Codigo de reclamo/-1/6",
          "Codigo de reclamo/2/6",
          "Codigo de reclamo/5/6",
          "Codigo de reclamo/6/6",
          "Codigo de reclamo/7/6",
          "Codigo de reclamo/8/6",
          "Codigo de reclamo/9/6",
          "Codigo de reclamo/11/6",
          "Codigo de reclamo/12/6",
          "Codigo de reclamo/17/6",
          "Codigo de reclamo/18/6",
          "Codigo de reclamo/27/6",
          "Codigo de reclamo/28/6",
          "Codigo de reclamo/29/6",
          "Codigo de reclamo/96/6",
          "Codigo de reclamo/102/6",
          "Codigo de reclamo/999/6",
          "Codigo de reclamo/2/7",
          "Codigo de reclamo/5/7",
          "Codigo de reclamo/6/7",
          "Codigo de reclamo/29/7",
          "Codigo de reclamo/96/7",
          "Codigo de reclamo/102/7",
          "Codigo de reclamo/2/8",
          "Codigo de reclamo/5/8",
          "Codigo de reclamo/6/8",
          "Codigo de reclamo/27/8",
          "Codigo de reclamo/96/8",
          "Codigo de reclamo/102/8",
          "Codigo de reclamo/2/9",
          "Codigo de reclamo/17/9",
          "Codigo de reclamo/102/9",
          "Codigo de reclamo/5/15",
          "Codigo de reclamo/6/15",
          "Codigo de reclamo/9/15",
          "Codigo de reclamo/11/15",
          "Codigo de reclamo/96/15",
          "Codigo de reclamo/102/15",
          "Codigo de reclamo/2/17",
          "Codigo de reclamo/6/17",
          "Codigo de reclamo/17/17",
          "Codigo de reclamo/102/17",
          "Codigo de reclamo/2/19",
          "Codigo de reclamo/5/19",
          "Codigo de reclamo/6/19",
          "Codigo de reclamo/7/19",
          "Codigo de reclamo/9/19",
          "Codigo de reclamo/29/19",
          "Codigo de reclamo/96/19",
          "Codigo de reclamo/102/19",
          "Codigo de reclamo/2/21",
          "Codigo de reclamo/5/21",
          "Codigo de reclamo/6/21",
          "Codigo de reclamo/9/21",
          "Codigo de reclamo/11/21",
          "Codigo de reclamo/96/21",
          "Codigo de reclamo/102/21",
          "Codigo de reclamo/5/22",
          "Codigo de reclamo/9/22",
          "Codigo de reclamo/9/23",
          "Codigo de reclamo/2/27",
          "Codigo de reclamo/5/27",
          "Codigo de reclamo/6/27",
          "Codigo de reclamo/18/27",
          "Codigo de reclamo/27/27",
          "Codigo de reclamo/28/27",
          "Codigo de reclamo/29/27",
          "Codigo de reclamo/96/27",
          "Codigo de reclamo/102/27",
          "Codigo de reclamo/-1/28",
          "Codigo de reclamo/2/28",
          "Codigo de reclamo/5/28",
          "Codigo de reclamo/6/28",
          "Codigo de reclamo/7/28",
          "Codigo de reclamo/9/28",
          "Codigo de reclamo/11/28",
          "Codigo de reclamo/12/28",
          "Codigo de reclamo/17/28",
          "Codigo de reclamo/27/28",
          "Codigo de reclamo/28/28",
          "Codigo de reclamo/29/28",
          "Codigo de reclamo/96/28",
          "Codigo de reclamo/102/28",
          "Codigo de reclamo/-1/30",
          "Codigo de reclamo/2/30",
          "Codigo de reclamo/5/30",
          "Codigo de reclamo/6/30",
          "Codigo de reclamo/9/30",
          "Codigo de reclamo/11/30",
          "Codigo de reclamo/12/30",
          "Codigo de reclamo/17/30",
          "Codigo de reclamo/18/30",
          "Codigo de reclamo/27/30",
          "Codigo de reclamo/28/30",
          "Codigo de reclamo/29/30",
          "Codigo de reclamo/96/30",
          "Codigo de reclamo/102/30",
          "Codigo de reclamo/2/33",
          "Codigo de reclamo/6/33",
          "Codigo de reclamo/7/33",
          "Codigo de reclamo/9/33",
          "Codigo de reclamo/29/33",
          "Codigo de reclamo/96/33",
          "Codigo de reclamo/102/33",
          "Codigo de reclamo/2/34",
          "Codigo de reclamo/5/34",
          "Codigo de reclamo/6/34",
          "Codigo de reclamo/7/34",
          "Codigo de reclamo/9/34",
          "Codigo de reclamo/11/34",
          "Codigo de reclamo/12/34",
          "Codigo de reclamo/17/34",
          "Codigo de reclamo/27/34",
          "Codigo de reclamo/29/34",
          "Codigo de reclamo/96/34",
          "Codigo de reclamo/102/34",
          "Codigo de reclamo/5/38",
          "Codigo de reclamo/6/38",
          "Codigo de reclamo/96/38",
          "Codigo de reclamo/102/38",
          "Codigo de reclamo/2/39",
          "Codigo de reclamo/5/39",
          "Codigo de reclamo/6/39",
          "Codigo de reclamo/7/39",
          "Codigo de reclamo/9/39",
          "Codigo de reclamo/11/39",
          "Codigo de reclamo/12/39",
          "Codigo de reclamo/17/39",
          "Codigo de reclamo/27/39",
          "Codigo de reclamo/28/39",
          "Codigo de reclamo/29/39",
          "Codigo de reclamo/96/39",
          "Codigo de reclamo/102/39",
          "Codigo de reclamo/999/39",
          "Codigo de reclamo/7/107",
          "Codigo de reclamo/5/108",
          "Codigo de reclamo/5/111",
          "Codigo de reclamo/7/111",
          "Codigo de reclamo/9/111",
          "Codigo de reclamo/96/999",
          "Codigo de reclamo/102/999",
          "Codigo de reclamo/-1",
          "Codigo de reclamo/2",
          "Codigo de reclamo/5",
          "Codigo de reclamo/6",
          "Codigo de reclamo/7",
          "Codigo de reclamo/8",
          "Codigo de reclamo/9",
          "Codigo de reclamo/11",
          "Codigo de reclamo/12",
          "Codigo de reclamo/17",
          "Codigo de reclamo/18",
          "Codigo de reclamo/27",
          "Codigo de reclamo/28",
          "Codigo de reclamo/29",
          "Codigo de reclamo/96",
          "Codigo de reclamo/102",
          "Codigo de reclamo/999",
          "Codigo de reclamo"
         ],
         "labels": [
          "-1",
          "-1",
          "-1",
          "-1",
          "-1",
          "-1",
          "-1",
          "-1",
          "-1",
          "-1",
          "1",
          "1",
          "1",
          "1",
          "1",
          "1",
          "1",
          "1",
          "1",
          "1",
          "1",
          "2",
          "2",
          "2",
          "2",
          "2",
          "2",
          "2",
          "2",
          "2",
          "2",
          "2",
          "2",
          "2",
          "2",
          "2",
          "2",
          "3",
          "3",
          "3",
          "3",
          "3",
          "3",
          "3",
          "3",
          "3",
          "3",
          "3",
          "3",
          "3",
          "3",
          "3",
          "3",
          "4",
          "4",
          "4",
          "4",
          "4",
          "6",
          "6",
          "6",
          "6",
          "6",
          "6",
          "6",
          "6",
          "6",
          "6",
          "6",
          "6",
          "6",
          "6",
          "6",
          "6",
          "6",
          "7",
          "7",
          "7",
          "7",
          "7",
          "7",
          "8",
          "8",
          "8",
          "8",
          "8",
          "8",
          "9",
          "9",
          "9",
          "15",
          "15",
          "15",
          "15",
          "15",
          "15",
          "17",
          "17",
          "17",
          "17",
          "19",
          "19",
          "19",
          "19",
          "19",
          "19",
          "19",
          "19",
          "21",
          "21",
          "21",
          "21",
          "21",
          "21",
          "21",
          "22",
          "22",
          "23",
          "27",
          "27",
          "27",
          "27",
          "27",
          "27",
          "27",
          "27",
          "27",
          "28",
          "28",
          "28",
          "28",
          "28",
          "28",
          "28",
          "28",
          "28",
          "28",
          "28",
          "28",
          "28",
          "28",
          "30",
          "30",
          "30",
          "30",
          "30",
          "30",
          "30",
          "30",
          "30",
          "30",
          "30",
          "30",
          "30",
          "30",
          "33",
          "33",
          "33",
          "33",
          "33",
          "33",
          "33",
          "34",
          "34",
          "34",
          "34",
          "34",
          "34",
          "34",
          "34",
          "34",
          "34",
          "34",
          "34",
          "38",
          "38",
          "38",
          "38",
          "39",
          "39",
          "39",
          "39",
          "39",
          "39",
          "39",
          "39",
          "39",
          "39",
          "39",
          "39",
          "39",
          "39",
          "107",
          "108",
          "111",
          "111",
          "111",
          "999",
          "999",
          "-1",
          "2",
          "5",
          "6",
          "7",
          "8",
          "9",
          "11",
          "12",
          "17",
          "18",
          "27",
          "28",
          "29",
          "96",
          "102",
          "999",
          "Codigo de reclamo"
         ],
         "marker": {
          "coloraxis": "coloraxis",
          "colors": [
           368,
           1564,
           54,
           7,
           1196,
           162,
           39,
           140,
           66,
           12,
           1,
           1,
           54,
           13,
           5,
           85,
           1,
           1,
           2,
           3,
           25,
           2,
           37,
           32,
           213,
           9,
           84,
           12,
           3,
           35,
           1,
           75,
           23,
           672,
           5182,
           673,
           1,
           3,
           65,
           1380,
           8968,
           38,
           3,
           2322,
           114,
           10,
           30,
           135,
           71,
           2659,
           159,
           10051,
           7,
           1,
           2,
           3,
           42,
           7,
           6,
           213,
           676,
           7346,
           22,
           4,
           453,
           367,
           10,
           74,
           6,
           567,
           268,
           5917,
           573,
           18767,
           16,
           6,
           7,
           50,
           10,
           1,
           47,
           30,
           9,
           184,
           1,
           11,
           265,
           7,
           47,
           1,
           166,
           299,
           1,
           2,
           41,
           28,
           1,
           1,
           1,
           3,
           50,
           1,
           20,
           20,
           24,
           1,
           6,
           79,
           1,
           19,
           7,
           7,
           1,
           8,
           47,
           3,
           92,
           39,
           1,
           6,
           15,
           3,
           14,
           4,
           74,
           285,
           25,
           1,
           8,
           242,
           7549,
           1,
           24,
           5,
           1,
           4,
           13,
           3,
           10063,
           75,
           80016,
           1,
           86,
           18,
           592,
           17,
           39,
           1,
           7,
           2,
           84,
           63,
           861,
           459,
           3858,
           4,
           23,
           1,
           2,
           9,
           25,
           24,
           17,
           1,
           1,
           1,
           7,
           8,
           1,
           2,
           2,
           113,
           6,
           32,
           97,
           820,
           5,
           227,
           100,
           64,
           246,
           14,
           133,
           25,
           8,
           83,
           80,
           35,
           343,
           9940,
           1108,
           7,
           1,
           1,
           2,
           1,
           7,
           1,
           8,
           3.7142857142857144,
           208.47590361445782,
           886.9827338129496,
           6989.291569632045,
           32.705882352941174,
           5.285714285714286,
           1559.5636163175304,
           239.88163265306122,
           8.117647058823529,
           56.80124223602485,
           4.166666666666667,
           340.61690647482015,
           162.86516853932585,
           6980.994209612044,
           7527.441239570918,
           59609.8921251442,
           11.604651162790697,
           38274.43636429922
          ]
         },
         "name": "",
         "parents": [
          "Codigo de reclamo/2",
          "Codigo de reclamo/6",
          "Codigo de reclamo/7",
          "Codigo de reclamo/8",
          "Codigo de reclamo/9",
          "Codigo de reclamo/11",
          "Codigo de reclamo/17",
          "Codigo de reclamo/27",
          "Codigo de reclamo/28",
          "Codigo de reclamo/999",
          "Codigo de reclamo/-1",
          "Codigo de reclamo/2",
          "Codigo de reclamo/5",
          "Codigo de reclamo/6",
          "Codigo de reclamo/7",
          "Codigo de reclamo/9",
          "Codigo de reclamo/27",
          "Codigo de reclamo/28",
          "Codigo de reclamo/29",
          "Codigo de reclamo/96",
          "Codigo de reclamo/102",
          "Codigo de reclamo/-1",
          "Codigo de reclamo/2",
          "Codigo de reclamo/5",
          "Codigo de reclamo/6",
          "Codigo de reclamo/7",
          "Codigo de reclamo/9",
          "Codigo de reclamo/11",
          "Codigo de reclamo/12",
          "Codigo de reclamo/17",
          "Codigo de reclamo/18",
          "Codigo de reclamo/27",
          "Codigo de reclamo/28",
          "Codigo de reclamo/29",
          "Codigo de reclamo/96",
          "Codigo de reclamo/102",
          "Codigo de reclamo/999",
          "Codigo de reclamo/-1",
          "Codigo de reclamo/2",
          "Codigo de reclamo/5",
          "Codigo de reclamo/6",
          "Codigo de reclamo/7",
          "Codigo de reclamo/8",
          "Codigo de reclamo/9",
          "Codigo de reclamo/11",
          "Codigo de reclamo/12",
          "Codigo de reclamo/17",
          "Codigo de reclamo/27",
          "Codigo de reclamo/28",
          "Codigo de reclamo/29",
          "Codigo de reclamo/96",
          "Codigo de reclamo/102",
          "Codigo de reclamo/999",
          "Codigo de reclamo/2",
          "Codigo de reclamo/5",
          "Codigo de reclamo/7",
          "Codigo de reclamo/9",
          "Codigo de reclamo/102",
          "Codigo de reclamo/-1",
          "Codigo de reclamo/2",
          "Codigo de reclamo/5",
          "Codigo de reclamo/6",
          "Codigo de reclamo/7",
          "Codigo de reclamo/8",
          "Codigo de reclamo/9",
          "Codigo de reclamo/11",
          "Codigo de reclamo/12",
          "Codigo de reclamo/17",
          "Codigo de reclamo/18",
          "Codigo de reclamo/27",
          "Codigo de reclamo/28",
          "Codigo de reclamo/29",
          "Codigo de reclamo/96",
          "Codigo de reclamo/102",
          "Codigo de reclamo/999",
          "Codigo de reclamo/2",
          "Codigo de reclamo/5",
          "Codigo de reclamo/6",
          "Codigo de reclamo/29",
          "Codigo de reclamo/96",
          "Codigo de reclamo/102",
          "Codigo de reclamo/2",
          "Codigo de reclamo/5",
          "Codigo de reclamo/6",
          "Codigo de reclamo/27",
          "Codigo de reclamo/96",
          "Codigo de reclamo/102",
          "Codigo de reclamo/2",
          "Codigo de reclamo/17",
          "Codigo de reclamo/102",
          "Codigo de reclamo/5",
          "Codigo de reclamo/6",
          "Codigo de reclamo/9",
          "Codigo de reclamo/11",
          "Codigo de reclamo/96",
          "Codigo de reclamo/102",
          "Codigo de reclamo/2",
          "Codigo de reclamo/6",
          "Codigo de reclamo/17",
          "Codigo de reclamo/102",
          "Codigo de reclamo/2",
          "Codigo de reclamo/5",
          "Codigo de reclamo/6",
          "Codigo de reclamo/7",
          "Codigo de reclamo/9",
          "Codigo de reclamo/29",
          "Codigo de reclamo/96",
          "Codigo de reclamo/102",
          "Codigo de reclamo/2",
          "Codigo de reclamo/5",
          "Codigo de reclamo/6",
          "Codigo de reclamo/9",
          "Codigo de reclamo/11",
          "Codigo de reclamo/96",
          "Codigo de reclamo/102",
          "Codigo de reclamo/5",
          "Codigo de reclamo/9",
          "Codigo de reclamo/9",
          "Codigo de reclamo/2",
          "Codigo de reclamo/5",
          "Codigo de reclamo/6",
          "Codigo de reclamo/18",
          "Codigo de reclamo/27",
          "Codigo de reclamo/28",
          "Codigo de reclamo/29",
          "Codigo de reclamo/96",
          "Codigo de reclamo/102",
          "Codigo de reclamo/-1",
          "Codigo de reclamo/2",
          "Codigo de reclamo/5",
          "Codigo de reclamo/6",
          "Codigo de reclamo/7",
          "Codigo de reclamo/9",
          "Codigo de reclamo/11",
          "Codigo de reclamo/12",
          "Codigo de reclamo/17",
          "Codigo de reclamo/27",
          "Codigo de reclamo/28",
          "Codigo de reclamo/29",
          "Codigo de reclamo/96",
          "Codigo de reclamo/102",
          "Codigo de reclamo/-1",
          "Codigo de reclamo/2",
          "Codigo de reclamo/5",
          "Codigo de reclamo/6",
          "Codigo de reclamo/9",
          "Codigo de reclamo/11",
          "Codigo de reclamo/12",
          "Codigo de reclamo/17",
          "Codigo de reclamo/18",
          "Codigo de reclamo/27",
          "Codigo de reclamo/28",
          "Codigo de reclamo/29",
          "Codigo de reclamo/96",
          "Codigo de reclamo/102",
          "Codigo de reclamo/2",
          "Codigo de reclamo/6",
          "Codigo de reclamo/7",
          "Codigo de reclamo/9",
          "Codigo de reclamo/29",
          "Codigo de reclamo/96",
          "Codigo de reclamo/102",
          "Codigo de reclamo/2",
          "Codigo de reclamo/5",
          "Codigo de reclamo/6",
          "Codigo de reclamo/7",
          "Codigo de reclamo/9",
          "Codigo de reclamo/11",
          "Codigo de reclamo/12",
          "Codigo de reclamo/17",
          "Codigo de reclamo/27",
          "Codigo de reclamo/29",
          "Codigo de reclamo/96",
          "Codigo de reclamo/102",
          "Codigo de reclamo/5",
          "Codigo de reclamo/6",
          "Codigo de reclamo/96",
          "Codigo de reclamo/102",
          "Codigo de reclamo/2",
          "Codigo de reclamo/5",
          "Codigo de reclamo/6",
          "Codigo de reclamo/7",
          "Codigo de reclamo/9",
          "Codigo de reclamo/11",
          "Codigo de reclamo/12",
          "Codigo de reclamo/17",
          "Codigo de reclamo/27",
          "Codigo de reclamo/28",
          "Codigo de reclamo/29",
          "Codigo de reclamo/96",
          "Codigo de reclamo/102",
          "Codigo de reclamo/999",
          "Codigo de reclamo/7",
          "Codigo de reclamo/5",
          "Codigo de reclamo/5",
          "Codigo de reclamo/7",
          "Codigo de reclamo/9",
          "Codigo de reclamo/96",
          "Codigo de reclamo/102",
          "Codigo de reclamo",
          "Codigo de reclamo",
          "Codigo de reclamo",
          "Codigo de reclamo",
          "Codigo de reclamo",
          "Codigo de reclamo",
          "Codigo de reclamo",
          "Codigo de reclamo",
          "Codigo de reclamo",
          "Codigo de reclamo",
          "Codigo de reclamo",
          "Codigo de reclamo",
          "Codigo de reclamo",
          "Codigo de reclamo",
          "Codigo de reclamo",
          "Codigo de reclamo",
          "Codigo de reclamo",
          ""
         ],
         "type": "treemap",
         "values": [
          368,
          1564,
          54,
          7,
          1196,
          162,
          39,
          140,
          66,
          12,
          1,
          1,
          54,
          13,
          5,
          85,
          1,
          1,
          2,
          3,
          25,
          2,
          37,
          32,
          213,
          9,
          84,
          12,
          3,
          35,
          1,
          75,
          23,
          672,
          5182,
          673,
          1,
          3,
          65,
          1380,
          8968,
          38,
          3,
          2322,
          114,
          10,
          30,
          135,
          71,
          2659,
          159,
          10051,
          7,
          1,
          2,
          3,
          42,
          7,
          6,
          213,
          676,
          7346,
          22,
          4,
          453,
          367,
          10,
          74,
          6,
          567,
          268,
          5917,
          573,
          18767,
          16,
          6,
          7,
          50,
          10,
          1,
          47,
          30,
          9,
          184,
          1,
          11,
          265,
          7,
          47,
          1,
          166,
          299,
          1,
          2,
          41,
          28,
          1,
          1,
          1,
          3,
          50,
          1,
          20,
          20,
          24,
          1,
          6,
          79,
          1,
          19,
          7,
          7,
          1,
          8,
          47,
          3,
          92,
          39,
          1,
          6,
          15,
          3,
          14,
          4,
          74,
          285,
          25,
          1,
          8,
          242,
          7549,
          1,
          24,
          5,
          1,
          4,
          13,
          3,
          10063,
          75,
          80016,
          1,
          86,
          18,
          592,
          17,
          39,
          1,
          7,
          2,
          84,
          63,
          861,
          459,
          3858,
          4,
          23,
          1,
          2,
          9,
          25,
          24,
          17,
          1,
          1,
          1,
          7,
          8,
          1,
          2,
          2,
          113,
          6,
          32,
          97,
          820,
          5,
          227,
          100,
          64,
          246,
          14,
          133,
          25,
          8,
          83,
          80,
          35,
          343,
          9940,
          1108,
          7,
          1,
          1,
          2,
          1,
          7,
          1,
          8,
          14,
          996,
          2780,
          27911,
          170,
          14,
          4535,
          735,
          34,
          322,
          12,
          1112,
          534,
          20724,
          16780,
          115291,
          43,
          192007
         ]
        }
       ],
       "layout": {
        "coloraxis": {
         "colorbar": {
          "title": {
           "text": "N° Reclamo"
          }
         },
         "colorscale": [
          [
           0,
           "#0d0887"
          ],
          [
           0.1111111111111111,
           "#46039f"
          ],
          [
           0.2222222222222222,
           "#7201a8"
          ],
          [
           0.3333333333333333,
           "#9c179e"
          ],
          [
           0.4444444444444444,
           "#bd3786"
          ],
          [
           0.5555555555555556,
           "#d8576b"
          ],
          [
           0.6666666666666666,
           "#ed7953"
          ],
          [
           0.7777777777777778,
           "#fb9f3a"
          ],
          [
           0.8888888888888888,
           "#fdca26"
          ],
          [
           1,
           "#f0f921"
          ]
         ]
        },
        "legend": {
         "tracegroupgap": 0
        },
        "margin": {
         "t": 60
        },
        "template": {
         "data": {
          "bar": [
           {
            "error_x": {
             "color": "#2a3f5f"
            },
            "error_y": {
             "color": "#2a3f5f"
            },
            "marker": {
             "line": {
              "color": "#E5ECF6",
              "width": 0.5
             },
             "pattern": {
              "fillmode": "overlay",
              "size": 10,
              "solidity": 0.2
             }
            },
            "type": "bar"
           }
          ],
          "barpolar": [
           {
            "marker": {
             "line": {
              "color": "#E5ECF6",
              "width": 0.5
             },
             "pattern": {
              "fillmode": "overlay",
              "size": 10,
              "solidity": 0.2
             }
            },
            "type": "barpolar"
           }
          ],
          "carpet": [
           {
            "aaxis": {
             "endlinecolor": "#2a3f5f",
             "gridcolor": "white",
             "linecolor": "white",
             "minorgridcolor": "white",
             "startlinecolor": "#2a3f5f"
            },
            "baxis": {
             "endlinecolor": "#2a3f5f",
             "gridcolor": "white",
             "linecolor": "white",
             "minorgridcolor": "white",
             "startlinecolor": "#2a3f5f"
            },
            "type": "carpet"
           }
          ],
          "choropleth": [
           {
            "colorbar": {
             "outlinewidth": 0,
             "ticks": ""
            },
            "type": "choropleth"
           }
          ],
          "contour": [
           {
            "colorbar": {
             "outlinewidth": 0,
             "ticks": ""
            },
            "colorscale": [
             [
              0,
              "#0d0887"
             ],
             [
              0.1111111111111111,
              "#46039f"
             ],
             [
              0.2222222222222222,
              "#7201a8"
             ],
             [
              0.3333333333333333,
              "#9c179e"
             ],
             [
              0.4444444444444444,
              "#bd3786"
             ],
             [
              0.5555555555555556,
              "#d8576b"
             ],
             [
              0.6666666666666666,
              "#ed7953"
             ],
             [
              0.7777777777777778,
              "#fb9f3a"
             ],
             [
              0.8888888888888888,
              "#fdca26"
             ],
             [
              1,
              "#f0f921"
             ]
            ],
            "type": "contour"
           }
          ],
          "contourcarpet": [
           {
            "colorbar": {
             "outlinewidth": 0,
             "ticks": ""
            },
            "type": "contourcarpet"
           }
          ],
          "heatmap": [
           {
            "colorbar": {
             "outlinewidth": 0,
             "ticks": ""
            },
            "colorscale": [
             [
              0,
              "#0d0887"
             ],
             [
              0.1111111111111111,
              "#46039f"
             ],
             [
              0.2222222222222222,
              "#7201a8"
             ],
             [
              0.3333333333333333,
              "#9c179e"
             ],
             [
              0.4444444444444444,
              "#bd3786"
             ],
             [
              0.5555555555555556,
              "#d8576b"
             ],
             [
              0.6666666666666666,
              "#ed7953"
             ],
             [
              0.7777777777777778,
              "#fb9f3a"
             ],
             [
              0.8888888888888888,
              "#fdca26"
             ],
             [
              1,
              "#f0f921"
             ]
            ],
            "type": "heatmap"
           }
          ],
          "heatmapgl": [
           {
            "colorbar": {
             "outlinewidth": 0,
             "ticks": ""
            },
            "colorscale": [
             [
              0,
              "#0d0887"
             ],
             [
              0.1111111111111111,
              "#46039f"
             ],
             [
              0.2222222222222222,
              "#7201a8"
             ],
             [
              0.3333333333333333,
              "#9c179e"
             ],
             [
              0.4444444444444444,
              "#bd3786"
             ],
             [
              0.5555555555555556,
              "#d8576b"
             ],
             [
              0.6666666666666666,
              "#ed7953"
             ],
             [
              0.7777777777777778,
              "#fb9f3a"
             ],
             [
              0.8888888888888888,
              "#fdca26"
             ],
             [
              1,
              "#f0f921"
             ]
            ],
            "type": "heatmapgl"
           }
          ],
          "histogram": [
           {
            "marker": {
             "pattern": {
              "fillmode": "overlay",
              "size": 10,
              "solidity": 0.2
             }
            },
            "type": "histogram"
           }
          ],
          "histogram2d": [
           {
            "colorbar": {
             "outlinewidth": 0,
             "ticks": ""
            },
            "colorscale": [
             [
              0,
              "#0d0887"
             ],
             [
              0.1111111111111111,
              "#46039f"
             ],
             [
              0.2222222222222222,
              "#7201a8"
             ],
             [
              0.3333333333333333,
              "#9c179e"
             ],
             [
              0.4444444444444444,
              "#bd3786"
             ],
             [
              0.5555555555555556,
              "#d8576b"
             ],
             [
              0.6666666666666666,
              "#ed7953"
             ],
             [
              0.7777777777777778,
              "#fb9f3a"
             ],
             [
              0.8888888888888888,
              "#fdca26"
             ],
             [
              1,
              "#f0f921"
             ]
            ],
            "type": "histogram2d"
           }
          ],
          "histogram2dcontour": [
           {
            "colorbar": {
             "outlinewidth": 0,
             "ticks": ""
            },
            "colorscale": [
             [
              0,
              "#0d0887"
             ],
             [
              0.1111111111111111,
              "#46039f"
             ],
             [
              0.2222222222222222,
              "#7201a8"
             ],
             [
              0.3333333333333333,
              "#9c179e"
             ],
             [
              0.4444444444444444,
              "#bd3786"
             ],
             [
              0.5555555555555556,
              "#d8576b"
             ],
             [
              0.6666666666666666,
              "#ed7953"
             ],
             [
              0.7777777777777778,
              "#fb9f3a"
             ],
             [
              0.8888888888888888,
              "#fdca26"
             ],
             [
              1,
              "#f0f921"
             ]
            ],
            "type": "histogram2dcontour"
           }
          ],
          "mesh3d": [
           {
            "colorbar": {
             "outlinewidth": 0,
             "ticks": ""
            },
            "type": "mesh3d"
           }
          ],
          "parcoords": [
           {
            "line": {
             "colorbar": {
              "outlinewidth": 0,
              "ticks": ""
             }
            },
            "type": "parcoords"
           }
          ],
          "pie": [
           {
            "automargin": true,
            "type": "pie"
           }
          ],
          "scatter": [
           {
            "marker": {
             "colorbar": {
              "outlinewidth": 0,
              "ticks": ""
             }
            },
            "type": "scatter"
           }
          ],
          "scatter3d": [
           {
            "line": {
             "colorbar": {
              "outlinewidth": 0,
              "ticks": ""
             }
            },
            "marker": {
             "colorbar": {
              "outlinewidth": 0,
              "ticks": ""
             }
            },
            "type": "scatter3d"
           }
          ],
          "scattercarpet": [
           {
            "marker": {
             "colorbar": {
              "outlinewidth": 0,
              "ticks": ""
             }
            },
            "type": "scattercarpet"
           }
          ],
          "scattergeo": [
           {
            "marker": {
             "colorbar": {
              "outlinewidth": 0,
              "ticks": ""
             }
            },
            "type": "scattergeo"
           }
          ],
          "scattergl": [
           {
            "marker": {
             "colorbar": {
              "outlinewidth": 0,
              "ticks": ""
             }
            },
            "type": "scattergl"
           }
          ],
          "scattermapbox": [
           {
            "marker": {
             "colorbar": {
              "outlinewidth": 0,
              "ticks": ""
             }
            },
            "type": "scattermapbox"
           }
          ],
          "scatterpolar": [
           {
            "marker": {
             "colorbar": {
              "outlinewidth": 0,
              "ticks": ""
             }
            },
            "type": "scatterpolar"
           }
          ],
          "scatterpolargl": [
           {
            "marker": {
             "colorbar": {
              "outlinewidth": 0,
              "ticks": ""
             }
            },
            "type": "scatterpolargl"
           }
          ],
          "scatterternary": [
           {
            "marker": {
             "colorbar": {
              "outlinewidth": 0,
              "ticks": ""
             }
            },
            "type": "scatterternary"
           }
          ],
          "surface": [
           {
            "colorbar": {
             "outlinewidth": 0,
             "ticks": ""
            },
            "colorscale": [
             [
              0,
              "#0d0887"
             ],
             [
              0.1111111111111111,
              "#46039f"
             ],
             [
              0.2222222222222222,
              "#7201a8"
             ],
             [
              0.3333333333333333,
              "#9c179e"
             ],
             [
              0.4444444444444444,
              "#bd3786"
             ],
             [
              0.5555555555555556,
              "#d8576b"
             ],
             [
              0.6666666666666666,
              "#ed7953"
             ],
             [
              0.7777777777777778,
              "#fb9f3a"
             ],
             [
              0.8888888888888888,
              "#fdca26"
             ],
             [
              1,
              "#f0f921"
             ]
            ],
            "type": "surface"
           }
          ],
          "table": [
           {
            "cells": {
             "fill": {
              "color": "#EBF0F8"
             },
             "line": {
              "color": "white"
             }
            },
            "header": {
             "fill": {
              "color": "#C8D4E3"
             },
             "line": {
              "color": "white"
             }
            },
            "type": "table"
           }
          ]
         },
         "layout": {
          "annotationdefaults": {
           "arrowcolor": "#2a3f5f",
           "arrowhead": 0,
           "arrowwidth": 1
          },
          "autotypenumbers": "strict",
          "coloraxis": {
           "colorbar": {
            "outlinewidth": 0,
            "ticks": ""
           }
          },
          "colorscale": {
           "diverging": [
            [
             0,
             "#8e0152"
            ],
            [
             0.1,
             "#c51b7d"
            ],
            [
             0.2,
             "#de77ae"
            ],
            [
             0.3,
             "#f1b6da"
            ],
            [
             0.4,
             "#fde0ef"
            ],
            [
             0.5,
             "#f7f7f7"
            ],
            [
             0.6,
             "#e6f5d0"
            ],
            [
             0.7,
             "#b8e186"
            ],
            [
             0.8,
             "#7fbc41"
            ],
            [
             0.9,
             "#4d9221"
            ],
            [
             1,
             "#276419"
            ]
           ],
           "sequential": [
            [
             0,
             "#0d0887"
            ],
            [
             0.1111111111111111,
             "#46039f"
            ],
            [
             0.2222222222222222,
             "#7201a8"
            ],
            [
             0.3333333333333333,
             "#9c179e"
            ],
            [
             0.4444444444444444,
             "#bd3786"
            ],
            [
             0.5555555555555556,
             "#d8576b"
            ],
            [
             0.6666666666666666,
             "#ed7953"
            ],
            [
             0.7777777777777778,
             "#fb9f3a"
            ],
            [
             0.8888888888888888,
             "#fdca26"
            ],
            [
             1,
             "#f0f921"
            ]
           ],
           "sequentialminus": [
            [
             0,
             "#0d0887"
            ],
            [
             0.1111111111111111,
             "#46039f"
            ],
            [
             0.2222222222222222,
             "#7201a8"
            ],
            [
             0.3333333333333333,
             "#9c179e"
            ],
            [
             0.4444444444444444,
             "#bd3786"
            ],
            [
             0.5555555555555556,
             "#d8576b"
            ],
            [
             0.6666666666666666,
             "#ed7953"
            ],
            [
             0.7777777777777778,
             "#fb9f3a"
            ],
            [
             0.8888888888888888,
             "#fdca26"
            ],
            [
             1,
             "#f0f921"
            ]
           ]
          },
          "colorway": [
           "#636efa",
           "#EF553B",
           "#00cc96",
           "#ab63fa",
           "#FFA15A",
           "#19d3f3",
           "#FF6692",
           "#B6E880",
           "#FF97FF",
           "#FECB52"
          ],
          "font": {
           "color": "#2a3f5f"
          },
          "geo": {
           "bgcolor": "white",
           "lakecolor": "white",
           "landcolor": "#E5ECF6",
           "showlakes": true,
           "showland": true,
           "subunitcolor": "white"
          },
          "hoverlabel": {
           "align": "left"
          },
          "hovermode": "closest",
          "mapbox": {
           "style": "light"
          },
          "paper_bgcolor": "white",
          "plot_bgcolor": "#E5ECF6",
          "polar": {
           "angularaxis": {
            "gridcolor": "white",
            "linecolor": "white",
            "ticks": ""
           },
           "bgcolor": "#E5ECF6",
           "radialaxis": {
            "gridcolor": "white",
            "linecolor": "white",
            "ticks": ""
           }
          },
          "scene": {
           "xaxis": {
            "backgroundcolor": "#E5ECF6",
            "gridcolor": "white",
            "gridwidth": 2,
            "linecolor": "white",
            "showbackground": true,
            "ticks": "",
            "zerolinecolor": "white"
           },
           "yaxis": {
            "backgroundcolor": "#E5ECF6",
            "gridcolor": "white",
            "gridwidth": 2,
            "linecolor": "white",
            "showbackground": true,
            "ticks": "",
            "zerolinecolor": "white"
           },
           "zaxis": {
            "backgroundcolor": "#E5ECF6",
            "gridcolor": "white",
            "gridwidth": 2,
            "linecolor": "white",
            "showbackground": true,
            "ticks": "",
            "zerolinecolor": "white"
           }
          },
          "shapedefaults": {
           "line": {
            "color": "#2a3f5f"
           }
          },
          "ternary": {
           "aaxis": {
            "gridcolor": "white",
            "linecolor": "white",
            "ticks": ""
           },
           "baxis": {
            "gridcolor": "white",
            "linecolor": "white",
            "ticks": ""
           },
           "bgcolor": "#E5ECF6",
           "caxis": {
            "gridcolor": "white",
            "linecolor": "white",
            "ticks": ""
           }
          },
          "title": {
           "x": 0.05
          },
          "xaxis": {
           "automargin": true,
           "gridcolor": "white",
           "linecolor": "white",
           "ticks": "",
           "title": {
            "standoff": 15
           },
           "zerolinecolor": "white",
           "zerolinewidth": 2
          },
          "yaxis": {
           "automargin": true,
           "gridcolor": "white",
           "linecolor": "white",
           "ticks": "",
           "title": {
            "standoff": 15
           },
           "zerolinecolor": "white",
           "zerolinewidth": 2
          }
         }
        }
       }
      },
      "text/html": [
       "<div>                            <div id=\"4e2e7916-b79c-4ad4-b5e2-ea86fec0c37a\" class=\"plotly-graph-div\" style=\"height:525px; width:100%;\"></div>            <script type=\"text/javascript\">                require([\"plotly\"], function(Plotly) {                    window.PLOTLYENV=window.PLOTLYENV || {};                                    if (document.getElementById(\"4e2e7916-b79c-4ad4-b5e2-ea86fec0c37a\")) {                    Plotly.newPlot(                        \"4e2e7916-b79c-4ad4-b5e2-ea86fec0c37a\",                        [{\"branchvalues\":\"total\",\"customdata\":[[2,-1,368.0],[6,-1,1564.0],[7,-1,54.0],[8,-1,7.0],[9,-1,1196.0],[11,-1,162.0],[17,-1,39.0],[27,-1,140.0],[28,-1,66.0],[999,-1,12.0],[-1,1,1.0],[2,1,1.0],[5,1,54.0],[6,1,13.0],[7,1,5.0],[9,1,85.0],[27,1,1.0],[28,1,1.0],[29,1,2.0],[96,1,3.0],[102,1,25.0],[-1,2,2.0],[2,2,37.0],[5,2,32.0],[6,2,213.0],[7,2,9.0],[9,2,84.0],[11,2,12.0],[12,2,3.0],[17,2,35.0],[18,2,1.0],[27,2,75.0],[28,2,23.0],[29,2,672.0],[96,2,5182.0],[102,2,673.0],[999,2,1.0],[-1,3,3.0],[2,3,65.0],[5,3,1380.0],[6,3,8968.0],[7,3,38.0],[8,3,3.0],[9,3,2322.0],[11,3,114.0],[12,3,10.0],[17,3,30.0],[27,3,135.0],[28,3,71.0],[29,3,2659.0],[96,3,159.0],[102,3,10051.0],[999,3,7.0],[2,4,1.0],[5,4,2.0],[7,4,3.0],[9,4,42.0],[102,4,7.0],[-1,6,6.0],[2,6,213.0],[5,6,676.0],[6,6,7346.0],[7,6,22.0],[8,6,4.0],[9,6,453.0],[11,6,367.0],[12,6,10.0],[17,6,74.0],[18,6,6.0],[27,6,567.0],[28,6,268.0],[29,6,5917.0],[96,6,573.0],[102,6,18767.0],[999,6,16.0],[2,7,6.0],[5,7,7.0],[6,7,50.0],[29,7,10.0],[96,7,1.0],[102,7,47.0],[2,8,30.0],[5,8,9.0],[6,8,184.0],[27,8,1.0],[96,8,11.0],[102,8,265.0],[2,9,7.0],[17,9,47.0],[102,9,1.0],[5,15,166.0],[6,15,299.0],[9,15,1.0],[11,15,2.0],[96,15,41.0],[102,15,28.0],[2,17,1.0],[6,17,1.0],[17,17,1.0],[102,17,3.0],[2,19,50.0],[5,19,1.0],[6,19,20.0],[7,19,20.0],[9,19,24.0],[29,19,1.0],[96,19,6.0],[102,19,79.0],[2,21,1.0],[5,21,19.0],[6,21,7.0],[9,21,7.0],[11,21,1.0],[96,21,8.0],[102,21,47.0],[5,22,3.0],[9,22,92.0],[9,23,39.0],[2,27,1.0],[5,27,6.0],[6,27,15.0],[18,27,3.0],[27,27,14.0],[28,27,4.0],[29,27,74.0],[96,27,285.0],[102,27,25.0],[-1,28,1.0],[2,28,8.0],[5,28,242.0],[6,28,7549.0],[7,28,1.0],[9,28,24.0],[11,28,5.0],[12,28,1.0],[17,28,4.0],[27,28,13.0],[28,28,3.0],[29,28,10063.0],[96,28,75.0],[102,28,80016.0],[-1,30,1.0],[2,30,86.0],[5,30,18.0],[6,30,592.0],[9,30,17.0],[11,30,39.0],[12,30,1.0],[17,30,7.0],[18,30,2.0],[27,30,84.0],[28,30,63.0],[29,30,861.0],[96,30,459.0],[102,30,3858.0],[2,33,4.0],[6,33,23.0],[7,33,1.0],[9,33,2.0],[29,33,9.0],[96,33,25.0],[102,33,24.0],[2,34,17.0],[5,34,1.0],[6,34,1.0],[7,34,1.0],[9,34,7.0],[11,34,8.0],[12,34,1.0],[17,34,2.0],[27,34,2.0],[29,34,113.0],[96,34,6.0],[102,34,32.0],[5,38,97.0],[6,38,820.0],[96,38,5.0],[102,38,227.0],[2,39,100.0],[5,39,64.0],[6,39,246.0],[7,39,14.0],[9,39,133.0],[11,39,25.0],[12,39,8.0],[17,39,83.0],[27,39,80.0],[28,39,35.0],[29,39,343.0],[96,39,9940.0],[102,39,1108.0],[999,39,7.0],[7,107,1.0],[5,108,1.0],[5,111,2.0],[7,111,1.0],[9,111,7.0],[96,999,1.0],[102,999,8.0],[-1,\"(?)\",3.7142857142857144],[2,\"(?)\",208.47590361445782],[5,\"(?)\",886.9827338129496],[6,\"(?)\",6989.291569632045],[7,\"(?)\",32.705882352941174],[8,\"(?)\",5.285714285714286],[9,\"(?)\",1559.5636163175304],[11,\"(?)\",239.88163265306122],[12,\"(?)\",8.117647058823529],[17,\"(?)\",56.80124223602485],[18,\"(?)\",4.166666666666667],[27,\"(?)\",340.61690647482015],[28,\"(?)\",162.86516853932585],[29,\"(?)\",6980.994209612044],[96,\"(?)\",7527.441239570918],[102,\"(?)\",59609.8921251442],[999,\"(?)\",11.604651162790697],[\"(?)\",\"(?)\",38274.43636429922]],\"domain\":{\"x\":[0.0,1.0],\"y\":[0.0,1.0]},\"hovertemplate\":\"labels=%{label}<br>N\\u00b0 Reclamo_sum=%{value}<br>parent=%{parent}<br>id=%{id}<br>Cod Servicio SBS=%{customdata[0]}<br>Cod Motivo SBS=%{customdata[1]}<br>N\\u00b0 Reclamo=%{color}<extra></extra>\",\"ids\":[\"Codigo de reclamo/2/-1\",\"Codigo de reclamo/6/-1\",\"Codigo de reclamo/7/-1\",\"Codigo de reclamo/8/-1\",\"Codigo de reclamo/9/-1\",\"Codigo de reclamo/11/-1\",\"Codigo de reclamo/17/-1\",\"Codigo de reclamo/27/-1\",\"Codigo de reclamo/28/-1\",\"Codigo de reclamo/999/-1\",\"Codigo de reclamo/-1/1\",\"Codigo de reclamo/2/1\",\"Codigo de reclamo/5/1\",\"Codigo de reclamo/6/1\",\"Codigo de reclamo/7/1\",\"Codigo de reclamo/9/1\",\"Codigo de reclamo/27/1\",\"Codigo de reclamo/28/1\",\"Codigo de reclamo/29/1\",\"Codigo de reclamo/96/1\",\"Codigo de reclamo/102/1\",\"Codigo de reclamo/-1/2\",\"Codigo de reclamo/2/2\",\"Codigo de reclamo/5/2\",\"Codigo de reclamo/6/2\",\"Codigo de reclamo/7/2\",\"Codigo de reclamo/9/2\",\"Codigo de reclamo/11/2\",\"Codigo de reclamo/12/2\",\"Codigo de reclamo/17/2\",\"Codigo de reclamo/18/2\",\"Codigo de reclamo/27/2\",\"Codigo de reclamo/28/2\",\"Codigo de reclamo/29/2\",\"Codigo de reclamo/96/2\",\"Codigo de reclamo/102/2\",\"Codigo de reclamo/999/2\",\"Codigo de reclamo/-1/3\",\"Codigo de reclamo/2/3\",\"Codigo de reclamo/5/3\",\"Codigo de reclamo/6/3\",\"Codigo de reclamo/7/3\",\"Codigo de reclamo/8/3\",\"Codigo de reclamo/9/3\",\"Codigo de reclamo/11/3\",\"Codigo de reclamo/12/3\",\"Codigo de reclamo/17/3\",\"Codigo de reclamo/27/3\",\"Codigo de reclamo/28/3\",\"Codigo de reclamo/29/3\",\"Codigo de reclamo/96/3\",\"Codigo de reclamo/102/3\",\"Codigo de reclamo/999/3\",\"Codigo de reclamo/2/4\",\"Codigo de reclamo/5/4\",\"Codigo de reclamo/7/4\",\"Codigo de reclamo/9/4\",\"Codigo de reclamo/102/4\",\"Codigo de reclamo/-1/6\",\"Codigo de reclamo/2/6\",\"Codigo de reclamo/5/6\",\"Codigo de reclamo/6/6\",\"Codigo de reclamo/7/6\",\"Codigo de reclamo/8/6\",\"Codigo de reclamo/9/6\",\"Codigo de reclamo/11/6\",\"Codigo de reclamo/12/6\",\"Codigo de reclamo/17/6\",\"Codigo de reclamo/18/6\",\"Codigo de reclamo/27/6\",\"Codigo de reclamo/28/6\",\"Codigo de reclamo/29/6\",\"Codigo de reclamo/96/6\",\"Codigo de reclamo/102/6\",\"Codigo de reclamo/999/6\",\"Codigo de reclamo/2/7\",\"Codigo de reclamo/5/7\",\"Codigo de reclamo/6/7\",\"Codigo de reclamo/29/7\",\"Codigo de reclamo/96/7\",\"Codigo de reclamo/102/7\",\"Codigo de reclamo/2/8\",\"Codigo de reclamo/5/8\",\"Codigo de reclamo/6/8\",\"Codigo de reclamo/27/8\",\"Codigo de reclamo/96/8\",\"Codigo de reclamo/102/8\",\"Codigo de reclamo/2/9\",\"Codigo de reclamo/17/9\",\"Codigo de reclamo/102/9\",\"Codigo de reclamo/5/15\",\"Codigo de reclamo/6/15\",\"Codigo de reclamo/9/15\",\"Codigo de reclamo/11/15\",\"Codigo de reclamo/96/15\",\"Codigo de reclamo/102/15\",\"Codigo de reclamo/2/17\",\"Codigo de reclamo/6/17\",\"Codigo de reclamo/17/17\",\"Codigo de reclamo/102/17\",\"Codigo de reclamo/2/19\",\"Codigo de reclamo/5/19\",\"Codigo de reclamo/6/19\",\"Codigo de reclamo/7/19\",\"Codigo de reclamo/9/19\",\"Codigo de reclamo/29/19\",\"Codigo de reclamo/96/19\",\"Codigo de reclamo/102/19\",\"Codigo de reclamo/2/21\",\"Codigo de reclamo/5/21\",\"Codigo de reclamo/6/21\",\"Codigo de reclamo/9/21\",\"Codigo de reclamo/11/21\",\"Codigo de reclamo/96/21\",\"Codigo de reclamo/102/21\",\"Codigo de reclamo/5/22\",\"Codigo de reclamo/9/22\",\"Codigo de reclamo/9/23\",\"Codigo de reclamo/2/27\",\"Codigo de reclamo/5/27\",\"Codigo de reclamo/6/27\",\"Codigo de reclamo/18/27\",\"Codigo de reclamo/27/27\",\"Codigo de reclamo/28/27\",\"Codigo de reclamo/29/27\",\"Codigo de reclamo/96/27\",\"Codigo de reclamo/102/27\",\"Codigo de reclamo/-1/28\",\"Codigo de reclamo/2/28\",\"Codigo de reclamo/5/28\",\"Codigo de reclamo/6/28\",\"Codigo de reclamo/7/28\",\"Codigo de reclamo/9/28\",\"Codigo de reclamo/11/28\",\"Codigo de reclamo/12/28\",\"Codigo de reclamo/17/28\",\"Codigo de reclamo/27/28\",\"Codigo de reclamo/28/28\",\"Codigo de reclamo/29/28\",\"Codigo de reclamo/96/28\",\"Codigo de reclamo/102/28\",\"Codigo de reclamo/-1/30\",\"Codigo de reclamo/2/30\",\"Codigo de reclamo/5/30\",\"Codigo de reclamo/6/30\",\"Codigo de reclamo/9/30\",\"Codigo de reclamo/11/30\",\"Codigo de reclamo/12/30\",\"Codigo de reclamo/17/30\",\"Codigo de reclamo/18/30\",\"Codigo de reclamo/27/30\",\"Codigo de reclamo/28/30\",\"Codigo de reclamo/29/30\",\"Codigo de reclamo/96/30\",\"Codigo de reclamo/102/30\",\"Codigo de reclamo/2/33\",\"Codigo de reclamo/6/33\",\"Codigo de reclamo/7/33\",\"Codigo de reclamo/9/33\",\"Codigo de reclamo/29/33\",\"Codigo de reclamo/96/33\",\"Codigo de reclamo/102/33\",\"Codigo de reclamo/2/34\",\"Codigo de reclamo/5/34\",\"Codigo de reclamo/6/34\",\"Codigo de reclamo/7/34\",\"Codigo de reclamo/9/34\",\"Codigo de reclamo/11/34\",\"Codigo de reclamo/12/34\",\"Codigo de reclamo/17/34\",\"Codigo de reclamo/27/34\",\"Codigo de reclamo/29/34\",\"Codigo de reclamo/96/34\",\"Codigo de reclamo/102/34\",\"Codigo de reclamo/5/38\",\"Codigo de reclamo/6/38\",\"Codigo de reclamo/96/38\",\"Codigo de reclamo/102/38\",\"Codigo de reclamo/2/39\",\"Codigo de reclamo/5/39\",\"Codigo de reclamo/6/39\",\"Codigo de reclamo/7/39\",\"Codigo de reclamo/9/39\",\"Codigo de reclamo/11/39\",\"Codigo de reclamo/12/39\",\"Codigo de reclamo/17/39\",\"Codigo de reclamo/27/39\",\"Codigo de reclamo/28/39\",\"Codigo de reclamo/29/39\",\"Codigo de reclamo/96/39\",\"Codigo de reclamo/102/39\",\"Codigo de reclamo/999/39\",\"Codigo de reclamo/7/107\",\"Codigo de reclamo/5/108\",\"Codigo de reclamo/5/111\",\"Codigo de reclamo/7/111\",\"Codigo de reclamo/9/111\",\"Codigo de reclamo/96/999\",\"Codigo de reclamo/102/999\",\"Codigo de reclamo/-1\",\"Codigo de reclamo/2\",\"Codigo de reclamo/5\",\"Codigo de reclamo/6\",\"Codigo de reclamo/7\",\"Codigo de reclamo/8\",\"Codigo de reclamo/9\",\"Codigo de reclamo/11\",\"Codigo de reclamo/12\",\"Codigo de reclamo/17\",\"Codigo de reclamo/18\",\"Codigo de reclamo/27\",\"Codigo de reclamo/28\",\"Codigo de reclamo/29\",\"Codigo de reclamo/96\",\"Codigo de reclamo/102\",\"Codigo de reclamo/999\",\"Codigo de reclamo\"],\"labels\":[\"-1\",\"-1\",\"-1\",\"-1\",\"-1\",\"-1\",\"-1\",\"-1\",\"-1\",\"-1\",\"1\",\"1\",\"1\",\"1\",\"1\",\"1\",\"1\",\"1\",\"1\",\"1\",\"1\",\"2\",\"2\",\"2\",\"2\",\"2\",\"2\",\"2\",\"2\",\"2\",\"2\",\"2\",\"2\",\"2\",\"2\",\"2\",\"2\",\"3\",\"3\",\"3\",\"3\",\"3\",\"3\",\"3\",\"3\",\"3\",\"3\",\"3\",\"3\",\"3\",\"3\",\"3\",\"3\",\"4\",\"4\",\"4\",\"4\",\"4\",\"6\",\"6\",\"6\",\"6\",\"6\",\"6\",\"6\",\"6\",\"6\",\"6\",\"6\",\"6\",\"6\",\"6\",\"6\",\"6\",\"6\",\"7\",\"7\",\"7\",\"7\",\"7\",\"7\",\"8\",\"8\",\"8\",\"8\",\"8\",\"8\",\"9\",\"9\",\"9\",\"15\",\"15\",\"15\",\"15\",\"15\",\"15\",\"17\",\"17\",\"17\",\"17\",\"19\",\"19\",\"19\",\"19\",\"19\",\"19\",\"19\",\"19\",\"21\",\"21\",\"21\",\"21\",\"21\",\"21\",\"21\",\"22\",\"22\",\"23\",\"27\",\"27\",\"27\",\"27\",\"27\",\"27\",\"27\",\"27\",\"27\",\"28\",\"28\",\"28\",\"28\",\"28\",\"28\",\"28\",\"28\",\"28\",\"28\",\"28\",\"28\",\"28\",\"28\",\"30\",\"30\",\"30\",\"30\",\"30\",\"30\",\"30\",\"30\",\"30\",\"30\",\"30\",\"30\",\"30\",\"30\",\"33\",\"33\",\"33\",\"33\",\"33\",\"33\",\"33\",\"34\",\"34\",\"34\",\"34\",\"34\",\"34\",\"34\",\"34\",\"34\",\"34\",\"34\",\"34\",\"38\",\"38\",\"38\",\"38\",\"39\",\"39\",\"39\",\"39\",\"39\",\"39\",\"39\",\"39\",\"39\",\"39\",\"39\",\"39\",\"39\",\"39\",\"107\",\"108\",\"111\",\"111\",\"111\",\"999\",\"999\",\"-1\",\"2\",\"5\",\"6\",\"7\",\"8\",\"9\",\"11\",\"12\",\"17\",\"18\",\"27\",\"28\",\"29\",\"96\",\"102\",\"999\",\"Codigo de reclamo\"],\"marker\":{\"coloraxis\":\"coloraxis\",\"colors\":[368.0,1564.0,54.0,7.0,1196.0,162.0,39.0,140.0,66.0,12.0,1.0,1.0,54.0,13.0,5.0,85.0,1.0,1.0,2.0,3.0,25.0,2.0,37.0,32.0,213.0,9.0,84.0,12.0,3.0,35.0,1.0,75.0,23.0,672.0,5182.0,673.0,1.0,3.0,65.0,1380.0,8968.0,38.0,3.0,2322.0,114.0,10.0,30.0,135.0,71.0,2659.0,159.0,10051.0,7.0,1.0,2.0,3.0,42.0,7.0,6.0,213.0,676.0,7346.0,22.0,4.0,453.0,367.0,10.0,74.0,6.0,567.0,268.0,5917.0,573.0,18767.0,16.0,6.0,7.0,50.0,10.0,1.0,47.0,30.0,9.0,184.0,1.0,11.0,265.0,7.0,47.0,1.0,166.0,299.0,1.0,2.0,41.0,28.0,1.0,1.0,1.0,3.0,50.0,1.0,20.0,20.0,24.0,1.0,6.0,79.0,1.0,19.0,7.0,7.0,1.0,8.0,47.0,3.0,92.0,39.0,1.0,6.0,15.0,3.0,14.0,4.0,74.0,285.0,25.0,1.0,8.0,242.0,7549.0,1.0,24.0,5.0,1.0,4.0,13.0,3.0,10063.0,75.0,80016.0,1.0,86.0,18.0,592.0,17.0,39.0,1.0,7.0,2.0,84.0,63.0,861.0,459.0,3858.0,4.0,23.0,1.0,2.0,9.0,25.0,24.0,17.0,1.0,1.0,1.0,7.0,8.0,1.0,2.0,2.0,113.0,6.0,32.0,97.0,820.0,5.0,227.0,100.0,64.0,246.0,14.0,133.0,25.0,8.0,83.0,80.0,35.0,343.0,9940.0,1108.0,7.0,1.0,1.0,2.0,1.0,7.0,1.0,8.0,3.7142857142857144,208.47590361445782,886.9827338129496,6989.291569632045,32.705882352941174,5.285714285714286,1559.5636163175304,239.88163265306122,8.117647058823529,56.80124223602485,4.166666666666667,340.61690647482015,162.86516853932585,6980.994209612044,7527.441239570918,59609.8921251442,11.604651162790697,38274.43636429922]},\"name\":\"\",\"parents\":[\"Codigo de reclamo/2\",\"Codigo de reclamo/6\",\"Codigo de reclamo/7\",\"Codigo de reclamo/8\",\"Codigo de reclamo/9\",\"Codigo de reclamo/11\",\"Codigo de reclamo/17\",\"Codigo de reclamo/27\",\"Codigo de reclamo/28\",\"Codigo de reclamo/999\",\"Codigo de reclamo/-1\",\"Codigo de reclamo/2\",\"Codigo de reclamo/5\",\"Codigo de reclamo/6\",\"Codigo de reclamo/7\",\"Codigo de reclamo/9\",\"Codigo de reclamo/27\",\"Codigo de reclamo/28\",\"Codigo de reclamo/29\",\"Codigo de reclamo/96\",\"Codigo de reclamo/102\",\"Codigo de reclamo/-1\",\"Codigo de reclamo/2\",\"Codigo de reclamo/5\",\"Codigo de reclamo/6\",\"Codigo de reclamo/7\",\"Codigo de reclamo/9\",\"Codigo de reclamo/11\",\"Codigo de reclamo/12\",\"Codigo de reclamo/17\",\"Codigo de reclamo/18\",\"Codigo de reclamo/27\",\"Codigo de reclamo/28\",\"Codigo de reclamo/29\",\"Codigo de reclamo/96\",\"Codigo de reclamo/102\",\"Codigo de reclamo/999\",\"Codigo de reclamo/-1\",\"Codigo de reclamo/2\",\"Codigo de reclamo/5\",\"Codigo de reclamo/6\",\"Codigo de reclamo/7\",\"Codigo de reclamo/8\",\"Codigo de reclamo/9\",\"Codigo de reclamo/11\",\"Codigo de reclamo/12\",\"Codigo de reclamo/17\",\"Codigo de reclamo/27\",\"Codigo de reclamo/28\",\"Codigo de reclamo/29\",\"Codigo de reclamo/96\",\"Codigo de reclamo/102\",\"Codigo de reclamo/999\",\"Codigo de reclamo/2\",\"Codigo de reclamo/5\",\"Codigo de reclamo/7\",\"Codigo de reclamo/9\",\"Codigo de reclamo/102\",\"Codigo de reclamo/-1\",\"Codigo de reclamo/2\",\"Codigo de reclamo/5\",\"Codigo de reclamo/6\",\"Codigo de reclamo/7\",\"Codigo de reclamo/8\",\"Codigo de reclamo/9\",\"Codigo de reclamo/11\",\"Codigo de reclamo/12\",\"Codigo de reclamo/17\",\"Codigo de reclamo/18\",\"Codigo de reclamo/27\",\"Codigo de reclamo/28\",\"Codigo de reclamo/29\",\"Codigo de reclamo/96\",\"Codigo de reclamo/102\",\"Codigo de reclamo/999\",\"Codigo de reclamo/2\",\"Codigo de reclamo/5\",\"Codigo de reclamo/6\",\"Codigo de reclamo/29\",\"Codigo de reclamo/96\",\"Codigo de reclamo/102\",\"Codigo de reclamo/2\",\"Codigo de reclamo/5\",\"Codigo de reclamo/6\",\"Codigo de reclamo/27\",\"Codigo de reclamo/96\",\"Codigo de reclamo/102\",\"Codigo de reclamo/2\",\"Codigo de reclamo/17\",\"Codigo de reclamo/102\",\"Codigo de reclamo/5\",\"Codigo de reclamo/6\",\"Codigo de reclamo/9\",\"Codigo de reclamo/11\",\"Codigo de reclamo/96\",\"Codigo de reclamo/102\",\"Codigo de reclamo/2\",\"Codigo de reclamo/6\",\"Codigo de reclamo/17\",\"Codigo de reclamo/102\",\"Codigo de reclamo/2\",\"Codigo de reclamo/5\",\"Codigo de reclamo/6\",\"Codigo de reclamo/7\",\"Codigo de reclamo/9\",\"Codigo de reclamo/29\",\"Codigo de reclamo/96\",\"Codigo de reclamo/102\",\"Codigo de reclamo/2\",\"Codigo de reclamo/5\",\"Codigo de reclamo/6\",\"Codigo de reclamo/9\",\"Codigo de reclamo/11\",\"Codigo de reclamo/96\",\"Codigo de reclamo/102\",\"Codigo de reclamo/5\",\"Codigo de reclamo/9\",\"Codigo de reclamo/9\",\"Codigo de reclamo/2\",\"Codigo de reclamo/5\",\"Codigo de reclamo/6\",\"Codigo de reclamo/18\",\"Codigo de reclamo/27\",\"Codigo de reclamo/28\",\"Codigo de reclamo/29\",\"Codigo de reclamo/96\",\"Codigo de reclamo/102\",\"Codigo de reclamo/-1\",\"Codigo de reclamo/2\",\"Codigo de reclamo/5\",\"Codigo de reclamo/6\",\"Codigo de reclamo/7\",\"Codigo de reclamo/9\",\"Codigo de reclamo/11\",\"Codigo de reclamo/12\",\"Codigo de reclamo/17\",\"Codigo de reclamo/27\",\"Codigo de reclamo/28\",\"Codigo de reclamo/29\",\"Codigo de reclamo/96\",\"Codigo de reclamo/102\",\"Codigo de reclamo/-1\",\"Codigo de reclamo/2\",\"Codigo de reclamo/5\",\"Codigo de reclamo/6\",\"Codigo de reclamo/9\",\"Codigo de reclamo/11\",\"Codigo de reclamo/12\",\"Codigo de reclamo/17\",\"Codigo de reclamo/18\",\"Codigo de reclamo/27\",\"Codigo de reclamo/28\",\"Codigo de reclamo/29\",\"Codigo de reclamo/96\",\"Codigo de reclamo/102\",\"Codigo de reclamo/2\",\"Codigo de reclamo/6\",\"Codigo de reclamo/7\",\"Codigo de reclamo/9\",\"Codigo de reclamo/29\",\"Codigo de reclamo/96\",\"Codigo de reclamo/102\",\"Codigo de reclamo/2\",\"Codigo de reclamo/5\",\"Codigo de reclamo/6\",\"Codigo de reclamo/7\",\"Codigo de reclamo/9\",\"Codigo de reclamo/11\",\"Codigo de reclamo/12\",\"Codigo de reclamo/17\",\"Codigo de reclamo/27\",\"Codigo de reclamo/29\",\"Codigo de reclamo/96\",\"Codigo de reclamo/102\",\"Codigo de reclamo/5\",\"Codigo de reclamo/6\",\"Codigo de reclamo/96\",\"Codigo de reclamo/102\",\"Codigo de reclamo/2\",\"Codigo de reclamo/5\",\"Codigo de reclamo/6\",\"Codigo de reclamo/7\",\"Codigo de reclamo/9\",\"Codigo de reclamo/11\",\"Codigo de reclamo/12\",\"Codigo de reclamo/17\",\"Codigo de reclamo/27\",\"Codigo de reclamo/28\",\"Codigo de reclamo/29\",\"Codigo de reclamo/96\",\"Codigo de reclamo/102\",\"Codigo de reclamo/999\",\"Codigo de reclamo/7\",\"Codigo de reclamo/5\",\"Codigo de reclamo/5\",\"Codigo de reclamo/7\",\"Codigo de reclamo/9\",\"Codigo de reclamo/96\",\"Codigo de reclamo/102\",\"Codigo de reclamo\",\"Codigo de reclamo\",\"Codigo de reclamo\",\"Codigo de reclamo\",\"Codigo de reclamo\",\"Codigo de reclamo\",\"Codigo de reclamo\",\"Codigo de reclamo\",\"Codigo de reclamo\",\"Codigo de reclamo\",\"Codigo de reclamo\",\"Codigo de reclamo\",\"Codigo de reclamo\",\"Codigo de reclamo\",\"Codigo de reclamo\",\"Codigo de reclamo\",\"Codigo de reclamo\",\"\"],\"values\":[368,1564,54,7,1196,162,39,140,66,12,1,1,54,13,5,85,1,1,2,3,25,2,37,32,213,9,84,12,3,35,1,75,23,672,5182,673,1,3,65,1380,8968,38,3,2322,114,10,30,135,71,2659,159,10051,7,1,2,3,42,7,6,213,676,7346,22,4,453,367,10,74,6,567,268,5917,573,18767,16,6,7,50,10,1,47,30,9,184,1,11,265,7,47,1,166,299,1,2,41,28,1,1,1,3,50,1,20,20,24,1,6,79,1,19,7,7,1,8,47,3,92,39,1,6,15,3,14,4,74,285,25,1,8,242,7549,1,24,5,1,4,13,3,10063,75,80016,1,86,18,592,17,39,1,7,2,84,63,861,459,3858,4,23,1,2,9,25,24,17,1,1,1,7,8,1,2,2,113,6,32,97,820,5,227,100,64,246,14,133,25,8,83,80,35,343,9940,1108,7,1,1,2,1,7,1,8,14,996,2780,27911,170,14,4535,735,34,322,12,1112,534,20724,16780,115291,43,192007],\"type\":\"treemap\"}],                        {\"template\":{\"data\":{\"bar\":[{\"error_x\":{\"color\":\"#2a3f5f\"},\"error_y\":{\"color\":\"#2a3f5f\"},\"marker\":{\"line\":{\"color\":\"#E5ECF6\",\"width\":0.5},\"pattern\":{\"fillmode\":\"overlay\",\"size\":10,\"solidity\":0.2}},\"type\":\"bar\"}],\"barpolar\":[{\"marker\":{\"line\":{\"color\":\"#E5ECF6\",\"width\":0.5},\"pattern\":{\"fillmode\":\"overlay\",\"size\":10,\"solidity\":0.2}},\"type\":\"barpolar\"}],\"carpet\":[{\"aaxis\":{\"endlinecolor\":\"#2a3f5f\",\"gridcolor\":\"white\",\"linecolor\":\"white\",\"minorgridcolor\":\"white\",\"startlinecolor\":\"#2a3f5f\"},\"baxis\":{\"endlinecolor\":\"#2a3f5f\",\"gridcolor\":\"white\",\"linecolor\":\"white\",\"minorgridcolor\":\"white\",\"startlinecolor\":\"#2a3f5f\"},\"type\":\"carpet\"}],\"choropleth\":[{\"colorbar\":{\"outlinewidth\":0,\"ticks\":\"\"},\"type\":\"choropleth\"}],\"contour\":[{\"colorbar\":{\"outlinewidth\":0,\"ticks\":\"\"},\"colorscale\":[[0.0,\"#0d0887\"],[0.1111111111111111,\"#46039f\"],[0.2222222222222222,\"#7201a8\"],[0.3333333333333333,\"#9c179e\"],[0.4444444444444444,\"#bd3786\"],[0.5555555555555556,\"#d8576b\"],[0.6666666666666666,\"#ed7953\"],[0.7777777777777778,\"#fb9f3a\"],[0.8888888888888888,\"#fdca26\"],[1.0,\"#f0f921\"]],\"type\":\"contour\"}],\"contourcarpet\":[{\"colorbar\":{\"outlinewidth\":0,\"ticks\":\"\"},\"type\":\"contourcarpet\"}],\"heatmap\":[{\"colorbar\":{\"outlinewidth\":0,\"ticks\":\"\"},\"colorscale\":[[0.0,\"#0d0887\"],[0.1111111111111111,\"#46039f\"],[0.2222222222222222,\"#7201a8\"],[0.3333333333333333,\"#9c179e\"],[0.4444444444444444,\"#bd3786\"],[0.5555555555555556,\"#d8576b\"],[0.6666666666666666,\"#ed7953\"],[0.7777777777777778,\"#fb9f3a\"],[0.8888888888888888,\"#fdca26\"],[1.0,\"#f0f921\"]],\"type\":\"heatmap\"}],\"heatmapgl\":[{\"colorbar\":{\"outlinewidth\":0,\"ticks\":\"\"},\"colorscale\":[[0.0,\"#0d0887\"],[0.1111111111111111,\"#46039f\"],[0.2222222222222222,\"#7201a8\"],[0.3333333333333333,\"#9c179e\"],[0.4444444444444444,\"#bd3786\"],[0.5555555555555556,\"#d8576b\"],[0.6666666666666666,\"#ed7953\"],[0.7777777777777778,\"#fb9f3a\"],[0.8888888888888888,\"#fdca26\"],[1.0,\"#f0f921\"]],\"type\":\"heatmapgl\"}],\"histogram\":[{\"marker\":{\"pattern\":{\"fillmode\":\"overlay\",\"size\":10,\"solidity\":0.2}},\"type\":\"histogram\"}],\"histogram2d\":[{\"colorbar\":{\"outlinewidth\":0,\"ticks\":\"\"},\"colorscale\":[[0.0,\"#0d0887\"],[0.1111111111111111,\"#46039f\"],[0.2222222222222222,\"#7201a8\"],[0.3333333333333333,\"#9c179e\"],[0.4444444444444444,\"#bd3786\"],[0.5555555555555556,\"#d8576b\"],[0.6666666666666666,\"#ed7953\"],[0.7777777777777778,\"#fb9f3a\"],[0.8888888888888888,\"#fdca26\"],[1.0,\"#f0f921\"]],\"type\":\"histogram2d\"}],\"histogram2dcontour\":[{\"colorbar\":{\"outlinewidth\":0,\"ticks\":\"\"},\"colorscale\":[[0.0,\"#0d0887\"],[0.1111111111111111,\"#46039f\"],[0.2222222222222222,\"#7201a8\"],[0.3333333333333333,\"#9c179e\"],[0.4444444444444444,\"#bd3786\"],[0.5555555555555556,\"#d8576b\"],[0.6666666666666666,\"#ed7953\"],[0.7777777777777778,\"#fb9f3a\"],[0.8888888888888888,\"#fdca26\"],[1.0,\"#f0f921\"]],\"type\":\"histogram2dcontour\"}],\"mesh3d\":[{\"colorbar\":{\"outlinewidth\":0,\"ticks\":\"\"},\"type\":\"mesh3d\"}],\"parcoords\":[{\"line\":{\"colorbar\":{\"outlinewidth\":0,\"ticks\":\"\"}},\"type\":\"parcoords\"}],\"pie\":[{\"automargin\":true,\"type\":\"pie\"}],\"scatter\":[{\"marker\":{\"colorbar\":{\"outlinewidth\":0,\"ticks\":\"\"}},\"type\":\"scatter\"}],\"scatter3d\":[{\"line\":{\"colorbar\":{\"outlinewidth\":0,\"ticks\":\"\"}},\"marker\":{\"colorbar\":{\"outlinewidth\":0,\"ticks\":\"\"}},\"type\":\"scatter3d\"}],\"scattercarpet\":[{\"marker\":{\"colorbar\":{\"outlinewidth\":0,\"ticks\":\"\"}},\"type\":\"scattercarpet\"}],\"scattergeo\":[{\"marker\":{\"colorbar\":{\"outlinewidth\":0,\"ticks\":\"\"}},\"type\":\"scattergeo\"}],\"scattergl\":[{\"marker\":{\"colorbar\":{\"outlinewidth\":0,\"ticks\":\"\"}},\"type\":\"scattergl\"}],\"scattermapbox\":[{\"marker\":{\"colorbar\":{\"outlinewidth\":0,\"ticks\":\"\"}},\"type\":\"scattermapbox\"}],\"scatterpolar\":[{\"marker\":{\"colorbar\":{\"outlinewidth\":0,\"ticks\":\"\"}},\"type\":\"scatterpolar\"}],\"scatterpolargl\":[{\"marker\":{\"colorbar\":{\"outlinewidth\":0,\"ticks\":\"\"}},\"type\":\"scatterpolargl\"}],\"scatterternary\":[{\"marker\":{\"colorbar\":{\"outlinewidth\":0,\"ticks\":\"\"}},\"type\":\"scatterternary\"}],\"surface\":[{\"colorbar\":{\"outlinewidth\":0,\"ticks\":\"\"},\"colorscale\":[[0.0,\"#0d0887\"],[0.1111111111111111,\"#46039f\"],[0.2222222222222222,\"#7201a8\"],[0.3333333333333333,\"#9c179e\"],[0.4444444444444444,\"#bd3786\"],[0.5555555555555556,\"#d8576b\"],[0.6666666666666666,\"#ed7953\"],[0.7777777777777778,\"#fb9f3a\"],[0.8888888888888888,\"#fdca26\"],[1.0,\"#f0f921\"]],\"type\":\"surface\"}],\"table\":[{\"cells\":{\"fill\":{\"color\":\"#EBF0F8\"},\"line\":{\"color\":\"white\"}},\"header\":{\"fill\":{\"color\":\"#C8D4E3\"},\"line\":{\"color\":\"white\"}},\"type\":\"table\"}]},\"layout\":{\"annotationdefaults\":{\"arrowcolor\":\"#2a3f5f\",\"arrowhead\":0,\"arrowwidth\":1},\"autotypenumbers\":\"strict\",\"coloraxis\":{\"colorbar\":{\"outlinewidth\":0,\"ticks\":\"\"}},\"colorscale\":{\"diverging\":[[0,\"#8e0152\"],[0.1,\"#c51b7d\"],[0.2,\"#de77ae\"],[0.3,\"#f1b6da\"],[0.4,\"#fde0ef\"],[0.5,\"#f7f7f7\"],[0.6,\"#e6f5d0\"],[0.7,\"#b8e186\"],[0.8,\"#7fbc41\"],[0.9,\"#4d9221\"],[1,\"#276419\"]],\"sequential\":[[0.0,\"#0d0887\"],[0.1111111111111111,\"#46039f\"],[0.2222222222222222,\"#7201a8\"],[0.3333333333333333,\"#9c179e\"],[0.4444444444444444,\"#bd3786\"],[0.5555555555555556,\"#d8576b\"],[0.6666666666666666,\"#ed7953\"],[0.7777777777777778,\"#fb9f3a\"],[0.8888888888888888,\"#fdca26\"],[1.0,\"#f0f921\"]],\"sequentialminus\":[[0.0,\"#0d0887\"],[0.1111111111111111,\"#46039f\"],[0.2222222222222222,\"#7201a8\"],[0.3333333333333333,\"#9c179e\"],[0.4444444444444444,\"#bd3786\"],[0.5555555555555556,\"#d8576b\"],[0.6666666666666666,\"#ed7953\"],[0.7777777777777778,\"#fb9f3a\"],[0.8888888888888888,\"#fdca26\"],[1.0,\"#f0f921\"]]},\"colorway\":[\"#636efa\",\"#EF553B\",\"#00cc96\",\"#ab63fa\",\"#FFA15A\",\"#19d3f3\",\"#FF6692\",\"#B6E880\",\"#FF97FF\",\"#FECB52\"],\"font\":{\"color\":\"#2a3f5f\"},\"geo\":{\"bgcolor\":\"white\",\"lakecolor\":\"white\",\"landcolor\":\"#E5ECF6\",\"showlakes\":true,\"showland\":true,\"subunitcolor\":\"white\"},\"hoverlabel\":{\"align\":\"left\"},\"hovermode\":\"closest\",\"mapbox\":{\"style\":\"light\"},\"paper_bgcolor\":\"white\",\"plot_bgcolor\":\"#E5ECF6\",\"polar\":{\"angularaxis\":{\"gridcolor\":\"white\",\"linecolor\":\"white\",\"ticks\":\"\"},\"bgcolor\":\"#E5ECF6\",\"radialaxis\":{\"gridcolor\":\"white\",\"linecolor\":\"white\",\"ticks\":\"\"}},\"scene\":{\"xaxis\":{\"backgroundcolor\":\"#E5ECF6\",\"gridcolor\":\"white\",\"gridwidth\":2,\"linecolor\":\"white\",\"showbackground\":true,\"ticks\":\"\",\"zerolinecolor\":\"white\"},\"yaxis\":{\"backgroundcolor\":\"#E5ECF6\",\"gridcolor\":\"white\",\"gridwidth\":2,\"linecolor\":\"white\",\"showbackground\":true,\"ticks\":\"\",\"zerolinecolor\":\"white\"},\"zaxis\":{\"backgroundcolor\":\"#E5ECF6\",\"gridcolor\":\"white\",\"gridwidth\":2,\"linecolor\":\"white\",\"showbackground\":true,\"ticks\":\"\",\"zerolinecolor\":\"white\"}},\"shapedefaults\":{\"line\":{\"color\":\"#2a3f5f\"}},\"ternary\":{\"aaxis\":{\"gridcolor\":\"white\",\"linecolor\":\"white\",\"ticks\":\"\"},\"baxis\":{\"gridcolor\":\"white\",\"linecolor\":\"white\",\"ticks\":\"\"},\"bgcolor\":\"#E5ECF6\",\"caxis\":{\"gridcolor\":\"white\",\"linecolor\":\"white\",\"ticks\":\"\"}},\"title\":{\"x\":0.05},\"xaxis\":{\"automargin\":true,\"gridcolor\":\"white\",\"linecolor\":\"white\",\"ticks\":\"\",\"title\":{\"standoff\":15},\"zerolinecolor\":\"white\",\"zerolinewidth\":2},\"yaxis\":{\"automargin\":true,\"gridcolor\":\"white\",\"linecolor\":\"white\",\"ticks\":\"\",\"title\":{\"standoff\":15},\"zerolinecolor\":\"white\",\"zerolinewidth\":2}}},\"coloraxis\":{\"colorbar\":{\"title\":{\"text\":\"N\\u00b0 Reclamo\"}},\"colorscale\":[[0.0,\"#0d0887\"],[0.1111111111111111,\"#46039f\"],[0.2222222222222222,\"#7201a8\"],[0.3333333333333333,\"#9c179e\"],[0.4444444444444444,\"#bd3786\"],[0.5555555555555556,\"#d8576b\"],[0.6666666666666666,\"#ed7953\"],[0.7777777777777778,\"#fb9f3a\"],[0.8888888888888888,\"#fdca26\"],[1.0,\"#f0f921\"]]},\"legend\":{\"tracegroupgap\":0},\"margin\":{\"t\":60}},                        {\"responsive\": true}                    ).then(function(){\n",
       "                            \n",
       "var gd = document.getElementById('4e2e7916-b79c-4ad4-b5e2-ea86fec0c37a');\n",
       "var x = new MutationObserver(function (mutations, observer) {{\n",
       "        var display = window.getComputedStyle(gd).display;\n",
       "        if (!display || display === 'none') {{\n",
       "            console.log([gd, 'removed!']);\n",
       "            Plotly.purge(gd);\n",
       "            observer.disconnect();\n",
       "        }}\n",
       "}});\n",
       "\n",
       "// Listen for the removal of the full notebook cells\n",
       "var notebookContainer = gd.closest('#notebook-container');\n",
       "if (notebookContainer) {{\n",
       "    x.observe(notebookContainer, {childList: true});\n",
       "}}\n",
       "\n",
       "// Listen for the clearing of the current output cell\n",
       "var outputEl = gd.closest('.output');\n",
       "if (outputEl) {{\n",
       "    x.observe(outputEl, {childList: true});\n",
       "}}\n",
       "\n",
       "                        })                };                });            </script>        </div>"
      ]
     },
     "metadata": {},
     "output_type": "display_data"
    }
   ],
   "source": [
    "data_temp = datos_preprocessed.groupby(['Cod Servicio SBS','Cod Motivo SBS']).agg({ 'N° Reclamo': \"count\"})\n",
    "data_temp = data_temp.sort_values(by=['N° Reclamo'], ascending = False).reset_index()\n",
    "\n",
    "fig = px.treemap(data_temp, path=[px.Constant('Codigo de reclamo'),'Cod Servicio SBS','Cod Motivo SBS'], values='N° Reclamo',\n",
    "                  color='N° Reclamo', hover_data=['Cod Servicio SBS','Cod Motivo SBS'])\n",
    "fig.show()"
   ]
  },
  {
   "cell_type": "code",
   "execution_count": 30,
   "id": "8bdc0653",
   "metadata": {
    "scrolled": false
   },
   "outputs": [
    {
     "data": {
      "application/vnd.plotly.v1+json": {
       "config": {
        "plotlyServerURL": "https://plot.ly"
       },
       "data": [
        {
         "branchvalues": "total",
         "customdata": [
          [
           1,
           -1,
           1
          ],
          [
           2,
           -1,
           2
          ],
          [
           3,
           -1,
           3
          ],
          [
           6,
           -1,
           6
          ],
          [
           28,
           -1,
           1
          ],
          [
           30,
           -1,
           1
          ],
          [
           -1,
           2,
           368
          ],
          [
           1,
           2,
           1
          ],
          [
           2,
           2,
           37
          ],
          [
           3,
           2,
           65
          ],
          [
           4,
           2,
           1
          ],
          [
           6,
           2,
           213
          ],
          [
           7,
           2,
           6
          ],
          [
           8,
           2,
           30
          ],
          [
           9,
           2,
           7
          ],
          [
           17,
           2,
           1
          ],
          [
           19,
           2,
           50
          ],
          [
           21,
           2,
           1
          ],
          [
           27,
           2,
           1
          ],
          [
           28,
           2,
           8
          ],
          [
           30,
           2,
           86
          ],
          [
           33,
           2,
           4
          ],
          [
           34,
           2,
           17
          ],
          [
           39,
           2,
           100
          ],
          [
           1,
           5,
           54
          ],
          [
           2,
           5,
           32
          ],
          [
           3,
           5,
           1380
          ],
          [
           4,
           5,
           2
          ],
          [
           6,
           5,
           676
          ],
          [
           7,
           5,
           7
          ],
          [
           8,
           5,
           9
          ],
          [
           15,
           5,
           166
          ],
          [
           19,
           5,
           1
          ],
          [
           21,
           5,
           19
          ],
          [
           22,
           5,
           3
          ],
          [
           27,
           5,
           6
          ],
          [
           28,
           5,
           242
          ],
          [
           30,
           5,
           18
          ],
          [
           34,
           5,
           1
          ],
          [
           38,
           5,
           97
          ],
          [
           39,
           5,
           64
          ],
          [
           108,
           5,
           1
          ],
          [
           111,
           5,
           2
          ],
          [
           -1,
           6,
           1564
          ],
          [
           1,
           6,
           13
          ],
          [
           2,
           6,
           213
          ],
          [
           3,
           6,
           8968
          ],
          [
           6,
           6,
           7346
          ],
          [
           7,
           6,
           50
          ],
          [
           8,
           6,
           184
          ],
          [
           15,
           6,
           299
          ],
          [
           17,
           6,
           1
          ],
          [
           19,
           6,
           20
          ],
          [
           21,
           6,
           7
          ],
          [
           27,
           6,
           15
          ],
          [
           28,
           6,
           7549
          ],
          [
           30,
           6,
           592
          ],
          [
           33,
           6,
           23
          ],
          [
           34,
           6,
           1
          ],
          [
           38,
           6,
           820
          ],
          [
           39,
           6,
           246
          ],
          [
           -1,
           7,
           54
          ],
          [
           1,
           7,
           5
          ],
          [
           2,
           7,
           9
          ],
          [
           3,
           7,
           38
          ],
          [
           4,
           7,
           3
          ],
          [
           6,
           7,
           22
          ],
          [
           19,
           7,
           20
          ],
          [
           28,
           7,
           1
          ],
          [
           33,
           7,
           1
          ],
          [
           34,
           7,
           1
          ],
          [
           39,
           7,
           14
          ],
          [
           107,
           7,
           1
          ],
          [
           111,
           7,
           1
          ],
          [
           -1,
           8,
           7
          ],
          [
           3,
           8,
           3
          ],
          [
           6,
           8,
           4
          ],
          [
           -1,
           9,
           1196
          ],
          [
           1,
           9,
           85
          ],
          [
           2,
           9,
           84
          ],
          [
           3,
           9,
           2322
          ],
          [
           4,
           9,
           42
          ],
          [
           6,
           9,
           453
          ],
          [
           15,
           9,
           1
          ],
          [
           19,
           9,
           24
          ],
          [
           21,
           9,
           7
          ],
          [
           22,
           9,
           92
          ],
          [
           23,
           9,
           39
          ],
          [
           28,
           9,
           24
          ],
          [
           30,
           9,
           17
          ],
          [
           33,
           9,
           2
          ],
          [
           34,
           9,
           7
          ],
          [
           39,
           9,
           133
          ],
          [
           111,
           9,
           7
          ],
          [
           -1,
           11,
           162
          ],
          [
           2,
           11,
           12
          ],
          [
           3,
           11,
           114
          ],
          [
           6,
           11,
           367
          ],
          [
           15,
           11,
           2
          ],
          [
           21,
           11,
           1
          ],
          [
           28,
           11,
           5
          ],
          [
           30,
           11,
           39
          ],
          [
           34,
           11,
           8
          ],
          [
           39,
           11,
           25
          ],
          [
           2,
           12,
           3
          ],
          [
           3,
           12,
           10
          ],
          [
           6,
           12,
           10
          ],
          [
           28,
           12,
           1
          ],
          [
           30,
           12,
           1
          ],
          [
           34,
           12,
           1
          ],
          [
           39,
           12,
           8
          ],
          [
           -1,
           17,
           39
          ],
          [
           2,
           17,
           35
          ],
          [
           3,
           17,
           30
          ],
          [
           6,
           17,
           74
          ],
          [
           9,
           17,
           47
          ],
          [
           17,
           17,
           1
          ],
          [
           28,
           17,
           4
          ],
          [
           30,
           17,
           7
          ],
          [
           34,
           17,
           2
          ],
          [
           39,
           17,
           83
          ],
          [
           2,
           18,
           1
          ],
          [
           6,
           18,
           6
          ],
          [
           27,
           18,
           3
          ],
          [
           30,
           18,
           2
          ],
          [
           -1,
           27,
           140
          ],
          [
           1,
           27,
           1
          ],
          [
           2,
           27,
           75
          ],
          [
           3,
           27,
           135
          ],
          [
           6,
           27,
           567
          ],
          [
           8,
           27,
           1
          ],
          [
           27,
           27,
           14
          ],
          [
           28,
           27,
           13
          ],
          [
           30,
           27,
           84
          ],
          [
           34,
           27,
           2
          ],
          [
           39,
           27,
           80
          ],
          [
           -1,
           28,
           66
          ],
          [
           1,
           28,
           1
          ],
          [
           2,
           28,
           23
          ],
          [
           3,
           28,
           71
          ],
          [
           6,
           28,
           268
          ],
          [
           27,
           28,
           4
          ],
          [
           28,
           28,
           3
          ],
          [
           30,
           28,
           63
          ],
          [
           39,
           28,
           35
          ],
          [
           1,
           29,
           2
          ],
          [
           2,
           29,
           672
          ],
          [
           3,
           29,
           2659
          ],
          [
           6,
           29,
           5917
          ],
          [
           7,
           29,
           10
          ],
          [
           19,
           29,
           1
          ],
          [
           27,
           29,
           74
          ],
          [
           28,
           29,
           10063
          ],
          [
           30,
           29,
           861
          ],
          [
           33,
           29,
           9
          ],
          [
           34,
           29,
           113
          ],
          [
           39,
           29,
           343
          ],
          [
           1,
           96,
           3
          ],
          [
           2,
           96,
           5182
          ],
          [
           3,
           96,
           159
          ],
          [
           6,
           96,
           573
          ],
          [
           7,
           96,
           1
          ],
          [
           8,
           96,
           11
          ],
          [
           15,
           96,
           41
          ],
          [
           19,
           96,
           6
          ],
          [
           21,
           96,
           8
          ],
          [
           27,
           96,
           285
          ],
          [
           28,
           96,
           75
          ],
          [
           30,
           96,
           459
          ],
          [
           33,
           96,
           25
          ],
          [
           34,
           96,
           6
          ],
          [
           38,
           96,
           5
          ],
          [
           39,
           96,
           9940
          ],
          [
           999,
           96,
           1
          ],
          [
           1,
           102,
           25
          ],
          [
           2,
           102,
           673
          ],
          [
           3,
           102,
           10051
          ],
          [
           4,
           102,
           7
          ],
          [
           6,
           102,
           18767
          ],
          [
           7,
           102,
           47
          ],
          [
           8,
           102,
           265
          ],
          [
           9,
           102,
           1
          ],
          [
           15,
           102,
           28
          ],
          [
           17,
           102,
           3
          ],
          [
           19,
           102,
           79
          ],
          [
           21,
           102,
           47
          ],
          [
           27,
           102,
           25
          ],
          [
           28,
           102,
           80016
          ],
          [
           30,
           102,
           3858
          ],
          [
           33,
           102,
           24
          ],
          [
           34,
           102,
           32
          ],
          [
           38,
           102,
           227
          ],
          [
           39,
           102,
           1108
          ],
          [
           999,
           102,
           8
          ],
          [
           -1,
           999,
           12
          ],
          [
           2,
           999,
           1
          ],
          [
           3,
           999,
           7
          ],
          [
           6,
           999,
           16
          ],
          [
           39,
           999,
           7
          ],
          [
           -1,
           "(?)",
           1127.1524390243903
          ],
          [
           1,
           "(?)",
           57.47120418848168
          ],
          [
           2,
           "(?)",
           3943.872129288347
          ],
          [
           3,
           "(?)",
           7529.589429175476
          ],
          [
           4,
           "(?)",
           33.21818181818182
          ],
          [
           6,
           "(?)",
           12547.688337820604
          ],
          [
           7,
           "(?)",
           40.45454545454545
          ],
          [
           8,
           "(?)",
           210.368
          ],
          [
           9,
           "(?)",
           41.07272727272727
          ],
          [
           15,
           "(?)",
           222.39664804469274
          ],
          [
           17,
           "(?)",
           2
          ],
          [
           19,
           "(?)",
           50.52238805970149
          ],
          [
           21,
           "(?)",
           30.377777777777776
          ],
          [
           22,
           "(?)",
           89.18947368421053
          ],
          [
           23,
           9,
           39
          ],
          [
           27,
           "(?)",
           205.6416861826698
          ],
          [
           28,
           "(?)",
           66944.30566807816
          ],
          [
           30,
           "(?)",
           2662.161629434954
          ],
          [
           33,
           "(?)",
           20.818181818181817
          ],
          [
           34,
           "(?)",
           74.57068062827226
          ],
          [
           38,
           "(?)",
           638.2619669277633
          ],
          [
           39,
           "(?)",
           8227.20022977187
          ],
          [
           107,
           7,
           1
          ],
          [
           108,
           5,
           1
          ],
          [
           111,
           "(?)",
           5.4
          ],
          [
           999,
           "(?)",
           7.222222222222222
          ],
          [
           "(?)",
           "(?)",
           38274.43636429922
          ]
         ],
         "domain": {
          "x": [
           0,
           1
          ],
          "y": [
           0,
           1
          ]
         },
         "hovertemplate": "labels=%{label}<br>N° Reclamo_sum=%{value}<br>parent=%{parent}<br>id=%{id}<br>Cod Motivo SBS=%{customdata[0]}<br>Cod Servicio SBS=%{customdata[1]}<br>N° Reclamo=%{color}<extra></extra>",
         "ids": [
          "Codigo de reclamo/1/-1",
          "Codigo de reclamo/2/-1",
          "Codigo de reclamo/3/-1",
          "Codigo de reclamo/6/-1",
          "Codigo de reclamo/28/-1",
          "Codigo de reclamo/30/-1",
          "Codigo de reclamo/-1/2",
          "Codigo de reclamo/1/2",
          "Codigo de reclamo/2/2",
          "Codigo de reclamo/3/2",
          "Codigo de reclamo/4/2",
          "Codigo de reclamo/6/2",
          "Codigo de reclamo/7/2",
          "Codigo de reclamo/8/2",
          "Codigo de reclamo/9/2",
          "Codigo de reclamo/17/2",
          "Codigo de reclamo/19/2",
          "Codigo de reclamo/21/2",
          "Codigo de reclamo/27/2",
          "Codigo de reclamo/28/2",
          "Codigo de reclamo/30/2",
          "Codigo de reclamo/33/2",
          "Codigo de reclamo/34/2",
          "Codigo de reclamo/39/2",
          "Codigo de reclamo/1/5",
          "Codigo de reclamo/2/5",
          "Codigo de reclamo/3/5",
          "Codigo de reclamo/4/5",
          "Codigo de reclamo/6/5",
          "Codigo de reclamo/7/5",
          "Codigo de reclamo/8/5",
          "Codigo de reclamo/15/5",
          "Codigo de reclamo/19/5",
          "Codigo de reclamo/21/5",
          "Codigo de reclamo/22/5",
          "Codigo de reclamo/27/5",
          "Codigo de reclamo/28/5",
          "Codigo de reclamo/30/5",
          "Codigo de reclamo/34/5",
          "Codigo de reclamo/38/5",
          "Codigo de reclamo/39/5",
          "Codigo de reclamo/108/5",
          "Codigo de reclamo/111/5",
          "Codigo de reclamo/-1/6",
          "Codigo de reclamo/1/6",
          "Codigo de reclamo/2/6",
          "Codigo de reclamo/3/6",
          "Codigo de reclamo/6/6",
          "Codigo de reclamo/7/6",
          "Codigo de reclamo/8/6",
          "Codigo de reclamo/15/6",
          "Codigo de reclamo/17/6",
          "Codigo de reclamo/19/6",
          "Codigo de reclamo/21/6",
          "Codigo de reclamo/27/6",
          "Codigo de reclamo/28/6",
          "Codigo de reclamo/30/6",
          "Codigo de reclamo/33/6",
          "Codigo de reclamo/34/6",
          "Codigo de reclamo/38/6",
          "Codigo de reclamo/39/6",
          "Codigo de reclamo/-1/7",
          "Codigo de reclamo/1/7",
          "Codigo de reclamo/2/7",
          "Codigo de reclamo/3/7",
          "Codigo de reclamo/4/7",
          "Codigo de reclamo/6/7",
          "Codigo de reclamo/19/7",
          "Codigo de reclamo/28/7",
          "Codigo de reclamo/33/7",
          "Codigo de reclamo/34/7",
          "Codigo de reclamo/39/7",
          "Codigo de reclamo/107/7",
          "Codigo de reclamo/111/7",
          "Codigo de reclamo/-1/8",
          "Codigo de reclamo/3/8",
          "Codigo de reclamo/6/8",
          "Codigo de reclamo/-1/9",
          "Codigo de reclamo/1/9",
          "Codigo de reclamo/2/9",
          "Codigo de reclamo/3/9",
          "Codigo de reclamo/4/9",
          "Codigo de reclamo/6/9",
          "Codigo de reclamo/15/9",
          "Codigo de reclamo/19/9",
          "Codigo de reclamo/21/9",
          "Codigo de reclamo/22/9",
          "Codigo de reclamo/23/9",
          "Codigo de reclamo/28/9",
          "Codigo de reclamo/30/9",
          "Codigo de reclamo/33/9",
          "Codigo de reclamo/34/9",
          "Codigo de reclamo/39/9",
          "Codigo de reclamo/111/9",
          "Codigo de reclamo/-1/11",
          "Codigo de reclamo/2/11",
          "Codigo de reclamo/3/11",
          "Codigo de reclamo/6/11",
          "Codigo de reclamo/15/11",
          "Codigo de reclamo/21/11",
          "Codigo de reclamo/28/11",
          "Codigo de reclamo/30/11",
          "Codigo de reclamo/34/11",
          "Codigo de reclamo/39/11",
          "Codigo de reclamo/2/12",
          "Codigo de reclamo/3/12",
          "Codigo de reclamo/6/12",
          "Codigo de reclamo/28/12",
          "Codigo de reclamo/30/12",
          "Codigo de reclamo/34/12",
          "Codigo de reclamo/39/12",
          "Codigo de reclamo/-1/17",
          "Codigo de reclamo/2/17",
          "Codigo de reclamo/3/17",
          "Codigo de reclamo/6/17",
          "Codigo de reclamo/9/17",
          "Codigo de reclamo/17/17",
          "Codigo de reclamo/28/17",
          "Codigo de reclamo/30/17",
          "Codigo de reclamo/34/17",
          "Codigo de reclamo/39/17",
          "Codigo de reclamo/2/18",
          "Codigo de reclamo/6/18",
          "Codigo de reclamo/27/18",
          "Codigo de reclamo/30/18",
          "Codigo de reclamo/-1/27",
          "Codigo de reclamo/1/27",
          "Codigo de reclamo/2/27",
          "Codigo de reclamo/3/27",
          "Codigo de reclamo/6/27",
          "Codigo de reclamo/8/27",
          "Codigo de reclamo/27/27",
          "Codigo de reclamo/28/27",
          "Codigo de reclamo/30/27",
          "Codigo de reclamo/34/27",
          "Codigo de reclamo/39/27",
          "Codigo de reclamo/-1/28",
          "Codigo de reclamo/1/28",
          "Codigo de reclamo/2/28",
          "Codigo de reclamo/3/28",
          "Codigo de reclamo/6/28",
          "Codigo de reclamo/27/28",
          "Codigo de reclamo/28/28",
          "Codigo de reclamo/30/28",
          "Codigo de reclamo/39/28",
          "Codigo de reclamo/1/29",
          "Codigo de reclamo/2/29",
          "Codigo de reclamo/3/29",
          "Codigo de reclamo/6/29",
          "Codigo de reclamo/7/29",
          "Codigo de reclamo/19/29",
          "Codigo de reclamo/27/29",
          "Codigo de reclamo/28/29",
          "Codigo de reclamo/30/29",
          "Codigo de reclamo/33/29",
          "Codigo de reclamo/34/29",
          "Codigo de reclamo/39/29",
          "Codigo de reclamo/1/96",
          "Codigo de reclamo/2/96",
          "Codigo de reclamo/3/96",
          "Codigo de reclamo/6/96",
          "Codigo de reclamo/7/96",
          "Codigo de reclamo/8/96",
          "Codigo de reclamo/15/96",
          "Codigo de reclamo/19/96",
          "Codigo de reclamo/21/96",
          "Codigo de reclamo/27/96",
          "Codigo de reclamo/28/96",
          "Codigo de reclamo/30/96",
          "Codigo de reclamo/33/96",
          "Codigo de reclamo/34/96",
          "Codigo de reclamo/38/96",
          "Codigo de reclamo/39/96",
          "Codigo de reclamo/999/96",
          "Codigo de reclamo/1/102",
          "Codigo de reclamo/2/102",
          "Codigo de reclamo/3/102",
          "Codigo de reclamo/4/102",
          "Codigo de reclamo/6/102",
          "Codigo de reclamo/7/102",
          "Codigo de reclamo/8/102",
          "Codigo de reclamo/9/102",
          "Codigo de reclamo/15/102",
          "Codigo de reclamo/17/102",
          "Codigo de reclamo/19/102",
          "Codigo de reclamo/21/102",
          "Codigo de reclamo/27/102",
          "Codigo de reclamo/28/102",
          "Codigo de reclamo/30/102",
          "Codigo de reclamo/33/102",
          "Codigo de reclamo/34/102",
          "Codigo de reclamo/38/102",
          "Codigo de reclamo/39/102",
          "Codigo de reclamo/999/102",
          "Codigo de reclamo/-1/999",
          "Codigo de reclamo/2/999",
          "Codigo de reclamo/3/999",
          "Codigo de reclamo/6/999",
          "Codigo de reclamo/39/999",
          "Codigo de reclamo/-1",
          "Codigo de reclamo/1",
          "Codigo de reclamo/2",
          "Codigo de reclamo/3",
          "Codigo de reclamo/4",
          "Codigo de reclamo/6",
          "Codigo de reclamo/7",
          "Codigo de reclamo/8",
          "Codigo de reclamo/9",
          "Codigo de reclamo/15",
          "Codigo de reclamo/17",
          "Codigo de reclamo/19",
          "Codigo de reclamo/21",
          "Codigo de reclamo/22",
          "Codigo de reclamo/23",
          "Codigo de reclamo/27",
          "Codigo de reclamo/28",
          "Codigo de reclamo/30",
          "Codigo de reclamo/33",
          "Codigo de reclamo/34",
          "Codigo de reclamo/38",
          "Codigo de reclamo/39",
          "Codigo de reclamo/107",
          "Codigo de reclamo/108",
          "Codigo de reclamo/111",
          "Codigo de reclamo/999",
          "Codigo de reclamo"
         ],
         "labels": [
          "-1",
          "-1",
          "-1",
          "-1",
          "-1",
          "-1",
          "2",
          "2",
          "2",
          "2",
          "2",
          "2",
          "2",
          "2",
          "2",
          "2",
          "2",
          "2",
          "2",
          "2",
          "2",
          "2",
          "2",
          "2",
          "5",
          "5",
          "5",
          "5",
          "5",
          "5",
          "5",
          "5",
          "5",
          "5",
          "5",
          "5",
          "5",
          "5",
          "5",
          "5",
          "5",
          "5",
          "5",
          "6",
          "6",
          "6",
          "6",
          "6",
          "6",
          "6",
          "6",
          "6",
          "6",
          "6",
          "6",
          "6",
          "6",
          "6",
          "6",
          "6",
          "6",
          "7",
          "7",
          "7",
          "7",
          "7",
          "7",
          "7",
          "7",
          "7",
          "7",
          "7",
          "7",
          "7",
          "8",
          "8",
          "8",
          "9",
          "9",
          "9",
          "9",
          "9",
          "9",
          "9",
          "9",
          "9",
          "9",
          "9",
          "9",
          "9",
          "9",
          "9",
          "9",
          "9",
          "11",
          "11",
          "11",
          "11",
          "11",
          "11",
          "11",
          "11",
          "11",
          "11",
          "12",
          "12",
          "12",
          "12",
          "12",
          "12",
          "12",
          "17",
          "17",
          "17",
          "17",
          "17",
          "17",
          "17",
          "17",
          "17",
          "17",
          "18",
          "18",
          "18",
          "18",
          "27",
          "27",
          "27",
          "27",
          "27",
          "27",
          "27",
          "27",
          "27",
          "27",
          "27",
          "28",
          "28",
          "28",
          "28",
          "28",
          "28",
          "28",
          "28",
          "28",
          "29",
          "29",
          "29",
          "29",
          "29",
          "29",
          "29",
          "29",
          "29",
          "29",
          "29",
          "29",
          "96",
          "96",
          "96",
          "96",
          "96",
          "96",
          "96",
          "96",
          "96",
          "96",
          "96",
          "96",
          "96",
          "96",
          "96",
          "96",
          "96",
          "102",
          "102",
          "102",
          "102",
          "102",
          "102",
          "102",
          "102",
          "102",
          "102",
          "102",
          "102",
          "102",
          "102",
          "102",
          "102",
          "102",
          "102",
          "102",
          "102",
          "999",
          "999",
          "999",
          "999",
          "999",
          "-1",
          "1",
          "2",
          "3",
          "4",
          "6",
          "7",
          "8",
          "9",
          "15",
          "17",
          "19",
          "21",
          "22",
          "23",
          "27",
          "28",
          "30",
          "33",
          "34",
          "38",
          "39",
          "107",
          "108",
          "111",
          "999",
          "Codigo de reclamo"
         ],
         "marker": {
          "coloraxis": "coloraxis",
          "colors": [
           1,
           2,
           3,
           6,
           1,
           1,
           368,
           1,
           37,
           65,
           1,
           213,
           6,
           30,
           7,
           1,
           50,
           1,
           1,
           8,
           86,
           4,
           17,
           100,
           54,
           32,
           1380,
           2,
           676,
           7,
           9,
           166,
           1,
           19,
           3,
           6,
           242,
           18,
           1,
           97,
           64,
           1,
           2,
           1564,
           13,
           213,
           8968,
           7346,
           50,
           184,
           299,
           1,
           20,
           7,
           15,
           7549,
           592,
           23,
           1,
           820,
           246,
           54,
           5,
           9,
           38,
           3,
           22,
           20,
           1,
           1,
           1,
           14,
           1,
           1,
           7,
           3,
           4,
           1196,
           85,
           84,
           2322,
           42,
           453,
           1,
           24,
           7,
           92,
           39,
           24,
           17,
           2,
           7,
           133,
           7,
           162,
           12,
           114,
           367,
           2,
           1,
           5,
           39,
           8,
           25,
           3,
           10,
           10,
           1,
           1,
           1,
           8,
           39,
           35,
           30,
           74,
           47,
           1,
           4,
           7,
           2,
           83,
           1,
           6,
           3,
           2,
           140,
           1,
           75,
           135,
           567,
           1,
           14,
           13,
           84,
           2,
           80,
           66,
           1,
           23,
           71,
           268,
           4,
           3,
           63,
           35,
           2,
           672,
           2659,
           5917,
           10,
           1,
           74,
           10063,
           861,
           9,
           113,
           343,
           3,
           5182,
           159,
           573,
           1,
           11,
           41,
           6,
           8,
           285,
           75,
           459,
           25,
           6,
           5,
           9940,
           1,
           25,
           673,
           10051,
           7,
           18767,
           47,
           265,
           1,
           28,
           3,
           79,
           47,
           25,
           80016,
           3858,
           24,
           32,
           227,
           1108,
           8,
           12,
           1,
           7,
           16,
           7,
           1127.1524390243903,
           57.47120418848168,
           3943.872129288347,
           7529.589429175476,
           33.21818181818182,
           12547.688337820604,
           40.45454545454545,
           210.368,
           41.07272727272727,
           222.39664804469274,
           2,
           50.52238805970149,
           30.377777777777776,
           89.18947368421053,
           39,
           205.6416861826698,
           66944.30566807816,
           2662.161629434954,
           20.818181818181817,
           74.57068062827226,
           638.2619669277633,
           8227.20022977187,
           1,
           1,
           5.4,
           7.222222222222222,
           38274.43636429922
          ]
         },
         "name": "",
         "parents": [
          "Codigo de reclamo/1",
          "Codigo de reclamo/2",
          "Codigo de reclamo/3",
          "Codigo de reclamo/6",
          "Codigo de reclamo/28",
          "Codigo de reclamo/30",
          "Codigo de reclamo/-1",
          "Codigo de reclamo/1",
          "Codigo de reclamo/2",
          "Codigo de reclamo/3",
          "Codigo de reclamo/4",
          "Codigo de reclamo/6",
          "Codigo de reclamo/7",
          "Codigo de reclamo/8",
          "Codigo de reclamo/9",
          "Codigo de reclamo/17",
          "Codigo de reclamo/19",
          "Codigo de reclamo/21",
          "Codigo de reclamo/27",
          "Codigo de reclamo/28",
          "Codigo de reclamo/30",
          "Codigo de reclamo/33",
          "Codigo de reclamo/34",
          "Codigo de reclamo/39",
          "Codigo de reclamo/1",
          "Codigo de reclamo/2",
          "Codigo de reclamo/3",
          "Codigo de reclamo/4",
          "Codigo de reclamo/6",
          "Codigo de reclamo/7",
          "Codigo de reclamo/8",
          "Codigo de reclamo/15",
          "Codigo de reclamo/19",
          "Codigo de reclamo/21",
          "Codigo de reclamo/22",
          "Codigo de reclamo/27",
          "Codigo de reclamo/28",
          "Codigo de reclamo/30",
          "Codigo de reclamo/34",
          "Codigo de reclamo/38",
          "Codigo de reclamo/39",
          "Codigo de reclamo/108",
          "Codigo de reclamo/111",
          "Codigo de reclamo/-1",
          "Codigo de reclamo/1",
          "Codigo de reclamo/2",
          "Codigo de reclamo/3",
          "Codigo de reclamo/6",
          "Codigo de reclamo/7",
          "Codigo de reclamo/8",
          "Codigo de reclamo/15",
          "Codigo de reclamo/17",
          "Codigo de reclamo/19",
          "Codigo de reclamo/21",
          "Codigo de reclamo/27",
          "Codigo de reclamo/28",
          "Codigo de reclamo/30",
          "Codigo de reclamo/33",
          "Codigo de reclamo/34",
          "Codigo de reclamo/38",
          "Codigo de reclamo/39",
          "Codigo de reclamo/-1",
          "Codigo de reclamo/1",
          "Codigo de reclamo/2",
          "Codigo de reclamo/3",
          "Codigo de reclamo/4",
          "Codigo de reclamo/6",
          "Codigo de reclamo/19",
          "Codigo de reclamo/28",
          "Codigo de reclamo/33",
          "Codigo de reclamo/34",
          "Codigo de reclamo/39",
          "Codigo de reclamo/107",
          "Codigo de reclamo/111",
          "Codigo de reclamo/-1",
          "Codigo de reclamo/3",
          "Codigo de reclamo/6",
          "Codigo de reclamo/-1",
          "Codigo de reclamo/1",
          "Codigo de reclamo/2",
          "Codigo de reclamo/3",
          "Codigo de reclamo/4",
          "Codigo de reclamo/6",
          "Codigo de reclamo/15",
          "Codigo de reclamo/19",
          "Codigo de reclamo/21",
          "Codigo de reclamo/22",
          "Codigo de reclamo/23",
          "Codigo de reclamo/28",
          "Codigo de reclamo/30",
          "Codigo de reclamo/33",
          "Codigo de reclamo/34",
          "Codigo de reclamo/39",
          "Codigo de reclamo/111",
          "Codigo de reclamo/-1",
          "Codigo de reclamo/2",
          "Codigo de reclamo/3",
          "Codigo de reclamo/6",
          "Codigo de reclamo/15",
          "Codigo de reclamo/21",
          "Codigo de reclamo/28",
          "Codigo de reclamo/30",
          "Codigo de reclamo/34",
          "Codigo de reclamo/39",
          "Codigo de reclamo/2",
          "Codigo de reclamo/3",
          "Codigo de reclamo/6",
          "Codigo de reclamo/28",
          "Codigo de reclamo/30",
          "Codigo de reclamo/34",
          "Codigo de reclamo/39",
          "Codigo de reclamo/-1",
          "Codigo de reclamo/2",
          "Codigo de reclamo/3",
          "Codigo de reclamo/6",
          "Codigo de reclamo/9",
          "Codigo de reclamo/17",
          "Codigo de reclamo/28",
          "Codigo de reclamo/30",
          "Codigo de reclamo/34",
          "Codigo de reclamo/39",
          "Codigo de reclamo/2",
          "Codigo de reclamo/6",
          "Codigo de reclamo/27",
          "Codigo de reclamo/30",
          "Codigo de reclamo/-1",
          "Codigo de reclamo/1",
          "Codigo de reclamo/2",
          "Codigo de reclamo/3",
          "Codigo de reclamo/6",
          "Codigo de reclamo/8",
          "Codigo de reclamo/27",
          "Codigo de reclamo/28",
          "Codigo de reclamo/30",
          "Codigo de reclamo/34",
          "Codigo de reclamo/39",
          "Codigo de reclamo/-1",
          "Codigo de reclamo/1",
          "Codigo de reclamo/2",
          "Codigo de reclamo/3",
          "Codigo de reclamo/6",
          "Codigo de reclamo/27",
          "Codigo de reclamo/28",
          "Codigo de reclamo/30",
          "Codigo de reclamo/39",
          "Codigo de reclamo/1",
          "Codigo de reclamo/2",
          "Codigo de reclamo/3",
          "Codigo de reclamo/6",
          "Codigo de reclamo/7",
          "Codigo de reclamo/19",
          "Codigo de reclamo/27",
          "Codigo de reclamo/28",
          "Codigo de reclamo/30",
          "Codigo de reclamo/33",
          "Codigo de reclamo/34",
          "Codigo de reclamo/39",
          "Codigo de reclamo/1",
          "Codigo de reclamo/2",
          "Codigo de reclamo/3",
          "Codigo de reclamo/6",
          "Codigo de reclamo/7",
          "Codigo de reclamo/8",
          "Codigo de reclamo/15",
          "Codigo de reclamo/19",
          "Codigo de reclamo/21",
          "Codigo de reclamo/27",
          "Codigo de reclamo/28",
          "Codigo de reclamo/30",
          "Codigo de reclamo/33",
          "Codigo de reclamo/34",
          "Codigo de reclamo/38",
          "Codigo de reclamo/39",
          "Codigo de reclamo/999",
          "Codigo de reclamo/1",
          "Codigo de reclamo/2",
          "Codigo de reclamo/3",
          "Codigo de reclamo/4",
          "Codigo de reclamo/6",
          "Codigo de reclamo/7",
          "Codigo de reclamo/8",
          "Codigo de reclamo/9",
          "Codigo de reclamo/15",
          "Codigo de reclamo/17",
          "Codigo de reclamo/19",
          "Codigo de reclamo/21",
          "Codigo de reclamo/27",
          "Codigo de reclamo/28",
          "Codigo de reclamo/30",
          "Codigo de reclamo/33",
          "Codigo de reclamo/34",
          "Codigo de reclamo/38",
          "Codigo de reclamo/39",
          "Codigo de reclamo/999",
          "Codigo de reclamo/-1",
          "Codigo de reclamo/2",
          "Codigo de reclamo/3",
          "Codigo de reclamo/6",
          "Codigo de reclamo/39",
          "Codigo de reclamo",
          "Codigo de reclamo",
          "Codigo de reclamo",
          "Codigo de reclamo",
          "Codigo de reclamo",
          "Codigo de reclamo",
          "Codigo de reclamo",
          "Codigo de reclamo",
          "Codigo de reclamo",
          "Codigo de reclamo",
          "Codigo de reclamo",
          "Codigo de reclamo",
          "Codigo de reclamo",
          "Codigo de reclamo",
          "Codigo de reclamo",
          "Codigo de reclamo",
          "Codigo de reclamo",
          "Codigo de reclamo",
          "Codigo de reclamo",
          "Codigo de reclamo",
          "Codigo de reclamo",
          "Codigo de reclamo",
          "Codigo de reclamo",
          "Codigo de reclamo",
          "Codigo de reclamo",
          "Codigo de reclamo",
          ""
         ],
         "type": "treemap",
         "values": [
          1,
          2,
          3,
          6,
          1,
          1,
          368,
          1,
          37,
          65,
          1,
          213,
          6,
          30,
          7,
          1,
          50,
          1,
          1,
          8,
          86,
          4,
          17,
          100,
          54,
          32,
          1380,
          2,
          676,
          7,
          9,
          166,
          1,
          19,
          3,
          6,
          242,
          18,
          1,
          97,
          64,
          1,
          2,
          1564,
          13,
          213,
          8968,
          7346,
          50,
          184,
          299,
          1,
          20,
          7,
          15,
          7549,
          592,
          23,
          1,
          820,
          246,
          54,
          5,
          9,
          38,
          3,
          22,
          20,
          1,
          1,
          1,
          14,
          1,
          1,
          7,
          3,
          4,
          1196,
          85,
          84,
          2322,
          42,
          453,
          1,
          24,
          7,
          92,
          39,
          24,
          17,
          2,
          7,
          133,
          7,
          162,
          12,
          114,
          367,
          2,
          1,
          5,
          39,
          8,
          25,
          3,
          10,
          10,
          1,
          1,
          1,
          8,
          39,
          35,
          30,
          74,
          47,
          1,
          4,
          7,
          2,
          83,
          1,
          6,
          3,
          2,
          140,
          1,
          75,
          135,
          567,
          1,
          14,
          13,
          84,
          2,
          80,
          66,
          1,
          23,
          71,
          268,
          4,
          3,
          63,
          35,
          2,
          672,
          2659,
          5917,
          10,
          1,
          74,
          10063,
          861,
          9,
          113,
          343,
          3,
          5182,
          159,
          573,
          1,
          11,
          41,
          6,
          8,
          285,
          75,
          459,
          25,
          6,
          5,
          9940,
          1,
          25,
          673,
          10051,
          7,
          18767,
          47,
          265,
          1,
          28,
          3,
          79,
          47,
          25,
          80016,
          3858,
          24,
          32,
          227,
          1108,
          8,
          12,
          1,
          7,
          16,
          7,
          3608,
          191,
          7054,
          26015,
          55,
          35285,
          121,
          500,
          55,
          537,
          6,
          201,
          90,
          95,
          39,
          427,
          98005,
          6088,
          88,
          191,
          1149,
          12186,
          1,
          1,
          10,
          9,
          192007
         ]
        }
       ],
       "layout": {
        "coloraxis": {
         "colorbar": {
          "title": {
           "text": "N° Reclamo"
          }
         },
         "colorscale": [
          [
           0,
           "#0d0887"
          ],
          [
           0.1111111111111111,
           "#46039f"
          ],
          [
           0.2222222222222222,
           "#7201a8"
          ],
          [
           0.3333333333333333,
           "#9c179e"
          ],
          [
           0.4444444444444444,
           "#bd3786"
          ],
          [
           0.5555555555555556,
           "#d8576b"
          ],
          [
           0.6666666666666666,
           "#ed7953"
          ],
          [
           0.7777777777777778,
           "#fb9f3a"
          ],
          [
           0.8888888888888888,
           "#fdca26"
          ],
          [
           1,
           "#f0f921"
          ]
         ]
        },
        "legend": {
         "tracegroupgap": 0
        },
        "margin": {
         "t": 60
        },
        "template": {
         "data": {
          "bar": [
           {
            "error_x": {
             "color": "#2a3f5f"
            },
            "error_y": {
             "color": "#2a3f5f"
            },
            "marker": {
             "line": {
              "color": "#E5ECF6",
              "width": 0.5
             },
             "pattern": {
              "fillmode": "overlay",
              "size": 10,
              "solidity": 0.2
             }
            },
            "type": "bar"
           }
          ],
          "barpolar": [
           {
            "marker": {
             "line": {
              "color": "#E5ECF6",
              "width": 0.5
             },
             "pattern": {
              "fillmode": "overlay",
              "size": 10,
              "solidity": 0.2
             }
            },
            "type": "barpolar"
           }
          ],
          "carpet": [
           {
            "aaxis": {
             "endlinecolor": "#2a3f5f",
             "gridcolor": "white",
             "linecolor": "white",
             "minorgridcolor": "white",
             "startlinecolor": "#2a3f5f"
            },
            "baxis": {
             "endlinecolor": "#2a3f5f",
             "gridcolor": "white",
             "linecolor": "white",
             "minorgridcolor": "white",
             "startlinecolor": "#2a3f5f"
            },
            "type": "carpet"
           }
          ],
          "choropleth": [
           {
            "colorbar": {
             "outlinewidth": 0,
             "ticks": ""
            },
            "type": "choropleth"
           }
          ],
          "contour": [
           {
            "colorbar": {
             "outlinewidth": 0,
             "ticks": ""
            },
            "colorscale": [
             [
              0,
              "#0d0887"
             ],
             [
              0.1111111111111111,
              "#46039f"
             ],
             [
              0.2222222222222222,
              "#7201a8"
             ],
             [
              0.3333333333333333,
              "#9c179e"
             ],
             [
              0.4444444444444444,
              "#bd3786"
             ],
             [
              0.5555555555555556,
              "#d8576b"
             ],
             [
              0.6666666666666666,
              "#ed7953"
             ],
             [
              0.7777777777777778,
              "#fb9f3a"
             ],
             [
              0.8888888888888888,
              "#fdca26"
             ],
             [
              1,
              "#f0f921"
             ]
            ],
            "type": "contour"
           }
          ],
          "contourcarpet": [
           {
            "colorbar": {
             "outlinewidth": 0,
             "ticks": ""
            },
            "type": "contourcarpet"
           }
          ],
          "heatmap": [
           {
            "colorbar": {
             "outlinewidth": 0,
             "ticks": ""
            },
            "colorscale": [
             [
              0,
              "#0d0887"
             ],
             [
              0.1111111111111111,
              "#46039f"
             ],
             [
              0.2222222222222222,
              "#7201a8"
             ],
             [
              0.3333333333333333,
              "#9c179e"
             ],
             [
              0.4444444444444444,
              "#bd3786"
             ],
             [
              0.5555555555555556,
              "#d8576b"
             ],
             [
              0.6666666666666666,
              "#ed7953"
             ],
             [
              0.7777777777777778,
              "#fb9f3a"
             ],
             [
              0.8888888888888888,
              "#fdca26"
             ],
             [
              1,
              "#f0f921"
             ]
            ],
            "type": "heatmap"
           }
          ],
          "heatmapgl": [
           {
            "colorbar": {
             "outlinewidth": 0,
             "ticks": ""
            },
            "colorscale": [
             [
              0,
              "#0d0887"
             ],
             [
              0.1111111111111111,
              "#46039f"
             ],
             [
              0.2222222222222222,
              "#7201a8"
             ],
             [
              0.3333333333333333,
              "#9c179e"
             ],
             [
              0.4444444444444444,
              "#bd3786"
             ],
             [
              0.5555555555555556,
              "#d8576b"
             ],
             [
              0.6666666666666666,
              "#ed7953"
             ],
             [
              0.7777777777777778,
              "#fb9f3a"
             ],
             [
              0.8888888888888888,
              "#fdca26"
             ],
             [
              1,
              "#f0f921"
             ]
            ],
            "type": "heatmapgl"
           }
          ],
          "histogram": [
           {
            "marker": {
             "pattern": {
              "fillmode": "overlay",
              "size": 10,
              "solidity": 0.2
             }
            },
            "type": "histogram"
           }
          ],
          "histogram2d": [
           {
            "colorbar": {
             "outlinewidth": 0,
             "ticks": ""
            },
            "colorscale": [
             [
              0,
              "#0d0887"
             ],
             [
              0.1111111111111111,
              "#46039f"
             ],
             [
              0.2222222222222222,
              "#7201a8"
             ],
             [
              0.3333333333333333,
              "#9c179e"
             ],
             [
              0.4444444444444444,
              "#bd3786"
             ],
             [
              0.5555555555555556,
              "#d8576b"
             ],
             [
              0.6666666666666666,
              "#ed7953"
             ],
             [
              0.7777777777777778,
              "#fb9f3a"
             ],
             [
              0.8888888888888888,
              "#fdca26"
             ],
             [
              1,
              "#f0f921"
             ]
            ],
            "type": "histogram2d"
           }
          ],
          "histogram2dcontour": [
           {
            "colorbar": {
             "outlinewidth": 0,
             "ticks": ""
            },
            "colorscale": [
             [
              0,
              "#0d0887"
             ],
             [
              0.1111111111111111,
              "#46039f"
             ],
             [
              0.2222222222222222,
              "#7201a8"
             ],
             [
              0.3333333333333333,
              "#9c179e"
             ],
             [
              0.4444444444444444,
              "#bd3786"
             ],
             [
              0.5555555555555556,
              "#d8576b"
             ],
             [
              0.6666666666666666,
              "#ed7953"
             ],
             [
              0.7777777777777778,
              "#fb9f3a"
             ],
             [
              0.8888888888888888,
              "#fdca26"
             ],
             [
              1,
              "#f0f921"
             ]
            ],
            "type": "histogram2dcontour"
           }
          ],
          "mesh3d": [
           {
            "colorbar": {
             "outlinewidth": 0,
             "ticks": ""
            },
            "type": "mesh3d"
           }
          ],
          "parcoords": [
           {
            "line": {
             "colorbar": {
              "outlinewidth": 0,
              "ticks": ""
             }
            },
            "type": "parcoords"
           }
          ],
          "pie": [
           {
            "automargin": true,
            "type": "pie"
           }
          ],
          "scatter": [
           {
            "marker": {
             "colorbar": {
              "outlinewidth": 0,
              "ticks": ""
             }
            },
            "type": "scatter"
           }
          ],
          "scatter3d": [
           {
            "line": {
             "colorbar": {
              "outlinewidth": 0,
              "ticks": ""
             }
            },
            "marker": {
             "colorbar": {
              "outlinewidth": 0,
              "ticks": ""
             }
            },
            "type": "scatter3d"
           }
          ],
          "scattercarpet": [
           {
            "marker": {
             "colorbar": {
              "outlinewidth": 0,
              "ticks": ""
             }
            },
            "type": "scattercarpet"
           }
          ],
          "scattergeo": [
           {
            "marker": {
             "colorbar": {
              "outlinewidth": 0,
              "ticks": ""
             }
            },
            "type": "scattergeo"
           }
          ],
          "scattergl": [
           {
            "marker": {
             "colorbar": {
              "outlinewidth": 0,
              "ticks": ""
             }
            },
            "type": "scattergl"
           }
          ],
          "scattermapbox": [
           {
            "marker": {
             "colorbar": {
              "outlinewidth": 0,
              "ticks": ""
             }
            },
            "type": "scattermapbox"
           }
          ],
          "scatterpolar": [
           {
            "marker": {
             "colorbar": {
              "outlinewidth": 0,
              "ticks": ""
             }
            },
            "type": "scatterpolar"
           }
          ],
          "scatterpolargl": [
           {
            "marker": {
             "colorbar": {
              "outlinewidth": 0,
              "ticks": ""
             }
            },
            "type": "scatterpolargl"
           }
          ],
          "scatterternary": [
           {
            "marker": {
             "colorbar": {
              "outlinewidth": 0,
              "ticks": ""
             }
            },
            "type": "scatterternary"
           }
          ],
          "surface": [
           {
            "colorbar": {
             "outlinewidth": 0,
             "ticks": ""
            },
            "colorscale": [
             [
              0,
              "#0d0887"
             ],
             [
              0.1111111111111111,
              "#46039f"
             ],
             [
              0.2222222222222222,
              "#7201a8"
             ],
             [
              0.3333333333333333,
              "#9c179e"
             ],
             [
              0.4444444444444444,
              "#bd3786"
             ],
             [
              0.5555555555555556,
              "#d8576b"
             ],
             [
              0.6666666666666666,
              "#ed7953"
             ],
             [
              0.7777777777777778,
              "#fb9f3a"
             ],
             [
              0.8888888888888888,
              "#fdca26"
             ],
             [
              1,
              "#f0f921"
             ]
            ],
            "type": "surface"
           }
          ],
          "table": [
           {
            "cells": {
             "fill": {
              "color": "#EBF0F8"
             },
             "line": {
              "color": "white"
             }
            },
            "header": {
             "fill": {
              "color": "#C8D4E3"
             },
             "line": {
              "color": "white"
             }
            },
            "type": "table"
           }
          ]
         },
         "layout": {
          "annotationdefaults": {
           "arrowcolor": "#2a3f5f",
           "arrowhead": 0,
           "arrowwidth": 1
          },
          "autotypenumbers": "strict",
          "coloraxis": {
           "colorbar": {
            "outlinewidth": 0,
            "ticks": ""
           }
          },
          "colorscale": {
           "diverging": [
            [
             0,
             "#8e0152"
            ],
            [
             0.1,
             "#c51b7d"
            ],
            [
             0.2,
             "#de77ae"
            ],
            [
             0.3,
             "#f1b6da"
            ],
            [
             0.4,
             "#fde0ef"
            ],
            [
             0.5,
             "#f7f7f7"
            ],
            [
             0.6,
             "#e6f5d0"
            ],
            [
             0.7,
             "#b8e186"
            ],
            [
             0.8,
             "#7fbc41"
            ],
            [
             0.9,
             "#4d9221"
            ],
            [
             1,
             "#276419"
            ]
           ],
           "sequential": [
            [
             0,
             "#0d0887"
            ],
            [
             0.1111111111111111,
             "#46039f"
            ],
            [
             0.2222222222222222,
             "#7201a8"
            ],
            [
             0.3333333333333333,
             "#9c179e"
            ],
            [
             0.4444444444444444,
             "#bd3786"
            ],
            [
             0.5555555555555556,
             "#d8576b"
            ],
            [
             0.6666666666666666,
             "#ed7953"
            ],
            [
             0.7777777777777778,
             "#fb9f3a"
            ],
            [
             0.8888888888888888,
             "#fdca26"
            ],
            [
             1,
             "#f0f921"
            ]
           ],
           "sequentialminus": [
            [
             0,
             "#0d0887"
            ],
            [
             0.1111111111111111,
             "#46039f"
            ],
            [
             0.2222222222222222,
             "#7201a8"
            ],
            [
             0.3333333333333333,
             "#9c179e"
            ],
            [
             0.4444444444444444,
             "#bd3786"
            ],
            [
             0.5555555555555556,
             "#d8576b"
            ],
            [
             0.6666666666666666,
             "#ed7953"
            ],
            [
             0.7777777777777778,
             "#fb9f3a"
            ],
            [
             0.8888888888888888,
             "#fdca26"
            ],
            [
             1,
             "#f0f921"
            ]
           ]
          },
          "colorway": [
           "#636efa",
           "#EF553B",
           "#00cc96",
           "#ab63fa",
           "#FFA15A",
           "#19d3f3",
           "#FF6692",
           "#B6E880",
           "#FF97FF",
           "#FECB52"
          ],
          "font": {
           "color": "#2a3f5f"
          },
          "geo": {
           "bgcolor": "white",
           "lakecolor": "white",
           "landcolor": "#E5ECF6",
           "showlakes": true,
           "showland": true,
           "subunitcolor": "white"
          },
          "hoverlabel": {
           "align": "left"
          },
          "hovermode": "closest",
          "mapbox": {
           "style": "light"
          },
          "paper_bgcolor": "white",
          "plot_bgcolor": "#E5ECF6",
          "polar": {
           "angularaxis": {
            "gridcolor": "white",
            "linecolor": "white",
            "ticks": ""
           },
           "bgcolor": "#E5ECF6",
           "radialaxis": {
            "gridcolor": "white",
            "linecolor": "white",
            "ticks": ""
           }
          },
          "scene": {
           "xaxis": {
            "backgroundcolor": "#E5ECF6",
            "gridcolor": "white",
            "gridwidth": 2,
            "linecolor": "white",
            "showbackground": true,
            "ticks": "",
            "zerolinecolor": "white"
           },
           "yaxis": {
            "backgroundcolor": "#E5ECF6",
            "gridcolor": "white",
            "gridwidth": 2,
            "linecolor": "white",
            "showbackground": true,
            "ticks": "",
            "zerolinecolor": "white"
           },
           "zaxis": {
            "backgroundcolor": "#E5ECF6",
            "gridcolor": "white",
            "gridwidth": 2,
            "linecolor": "white",
            "showbackground": true,
            "ticks": "",
            "zerolinecolor": "white"
           }
          },
          "shapedefaults": {
           "line": {
            "color": "#2a3f5f"
           }
          },
          "ternary": {
           "aaxis": {
            "gridcolor": "white",
            "linecolor": "white",
            "ticks": ""
           },
           "baxis": {
            "gridcolor": "white",
            "linecolor": "white",
            "ticks": ""
           },
           "bgcolor": "#E5ECF6",
           "caxis": {
            "gridcolor": "white",
            "linecolor": "white",
            "ticks": ""
           }
          },
          "title": {
           "x": 0.05
          },
          "xaxis": {
           "automargin": true,
           "gridcolor": "white",
           "linecolor": "white",
           "ticks": "",
           "title": {
            "standoff": 15
           },
           "zerolinecolor": "white",
           "zerolinewidth": 2
          },
          "yaxis": {
           "automargin": true,
           "gridcolor": "white",
           "linecolor": "white",
           "ticks": "",
           "title": {
            "standoff": 15
           },
           "zerolinecolor": "white",
           "zerolinewidth": 2
          }
         }
        }
       }
      },
      "text/html": [
       "<div>                            <div id=\"763c8601-d733-4e6b-a57f-f3b1ebe11880\" class=\"plotly-graph-div\" style=\"height:525px; width:100%;\"></div>            <script type=\"text/javascript\">                require([\"plotly\"], function(Plotly) {                    window.PLOTLYENV=window.PLOTLYENV || {};                                    if (document.getElementById(\"763c8601-d733-4e6b-a57f-f3b1ebe11880\")) {                    Plotly.newPlot(                        \"763c8601-d733-4e6b-a57f-f3b1ebe11880\",                        [{\"branchvalues\":\"total\",\"customdata\":[[1,-1,1.0],[2,-1,2.0],[3,-1,3.0],[6,-1,6.0],[28,-1,1.0],[30,-1,1.0],[-1,2,368.0],[1,2,1.0],[2,2,37.0],[3,2,65.0],[4,2,1.0],[6,2,213.0],[7,2,6.0],[8,2,30.0],[9,2,7.0],[17,2,1.0],[19,2,50.0],[21,2,1.0],[27,2,1.0],[28,2,8.0],[30,2,86.0],[33,2,4.0],[34,2,17.0],[39,2,100.0],[1,5,54.0],[2,5,32.0],[3,5,1380.0],[4,5,2.0],[6,5,676.0],[7,5,7.0],[8,5,9.0],[15,5,166.0],[19,5,1.0],[21,5,19.0],[22,5,3.0],[27,5,6.0],[28,5,242.0],[30,5,18.0],[34,5,1.0],[38,5,97.0],[39,5,64.0],[108,5,1.0],[111,5,2.0],[-1,6,1564.0],[1,6,13.0],[2,6,213.0],[3,6,8968.0],[6,6,7346.0],[7,6,50.0],[8,6,184.0],[15,6,299.0],[17,6,1.0],[19,6,20.0],[21,6,7.0],[27,6,15.0],[28,6,7549.0],[30,6,592.0],[33,6,23.0],[34,6,1.0],[38,6,820.0],[39,6,246.0],[-1,7,54.0],[1,7,5.0],[2,7,9.0],[3,7,38.0],[4,7,3.0],[6,7,22.0],[19,7,20.0],[28,7,1.0],[33,7,1.0],[34,7,1.0],[39,7,14.0],[107,7,1.0],[111,7,1.0],[-1,8,7.0],[3,8,3.0],[6,8,4.0],[-1,9,1196.0],[1,9,85.0],[2,9,84.0],[3,9,2322.0],[4,9,42.0],[6,9,453.0],[15,9,1.0],[19,9,24.0],[21,9,7.0],[22,9,92.0],[23,9,39.0],[28,9,24.0],[30,9,17.0],[33,9,2.0],[34,9,7.0],[39,9,133.0],[111,9,7.0],[-1,11,162.0],[2,11,12.0],[3,11,114.0],[6,11,367.0],[15,11,2.0],[21,11,1.0],[28,11,5.0],[30,11,39.0],[34,11,8.0],[39,11,25.0],[2,12,3.0],[3,12,10.0],[6,12,10.0],[28,12,1.0],[30,12,1.0],[34,12,1.0],[39,12,8.0],[-1,17,39.0],[2,17,35.0],[3,17,30.0],[6,17,74.0],[9,17,47.0],[17,17,1.0],[28,17,4.0],[30,17,7.0],[34,17,2.0],[39,17,83.0],[2,18,1.0],[6,18,6.0],[27,18,3.0],[30,18,2.0],[-1,27,140.0],[1,27,1.0],[2,27,75.0],[3,27,135.0],[6,27,567.0],[8,27,1.0],[27,27,14.0],[28,27,13.0],[30,27,84.0],[34,27,2.0],[39,27,80.0],[-1,28,66.0],[1,28,1.0],[2,28,23.0],[3,28,71.0],[6,28,268.0],[27,28,4.0],[28,28,3.0],[30,28,63.0],[39,28,35.0],[1,29,2.0],[2,29,672.0],[3,29,2659.0],[6,29,5917.0],[7,29,10.0],[19,29,1.0],[27,29,74.0],[28,29,10063.0],[30,29,861.0],[33,29,9.0],[34,29,113.0],[39,29,343.0],[1,96,3.0],[2,96,5182.0],[3,96,159.0],[6,96,573.0],[7,96,1.0],[8,96,11.0],[15,96,41.0],[19,96,6.0],[21,96,8.0],[27,96,285.0],[28,96,75.0],[30,96,459.0],[33,96,25.0],[34,96,6.0],[38,96,5.0],[39,96,9940.0],[999,96,1.0],[1,102,25.0],[2,102,673.0],[3,102,10051.0],[4,102,7.0],[6,102,18767.0],[7,102,47.0],[8,102,265.0],[9,102,1.0],[15,102,28.0],[17,102,3.0],[19,102,79.0],[21,102,47.0],[27,102,25.0],[28,102,80016.0],[30,102,3858.0],[33,102,24.0],[34,102,32.0],[38,102,227.0],[39,102,1108.0],[999,102,8.0],[-1,999,12.0],[2,999,1.0],[3,999,7.0],[6,999,16.0],[39,999,7.0],[-1,\"(?)\",1127.1524390243903],[1,\"(?)\",57.47120418848168],[2,\"(?)\",3943.872129288347],[3,\"(?)\",7529.589429175476],[4,\"(?)\",33.21818181818182],[6,\"(?)\",12547.688337820604],[7,\"(?)\",40.45454545454545],[8,\"(?)\",210.368],[9,\"(?)\",41.07272727272727],[15,\"(?)\",222.39664804469274],[17,\"(?)\",2.0],[19,\"(?)\",50.52238805970149],[21,\"(?)\",30.377777777777776],[22,\"(?)\",89.18947368421053],[23,9,39.0],[27,\"(?)\",205.6416861826698],[28,\"(?)\",66944.30566807816],[30,\"(?)\",2662.161629434954],[33,\"(?)\",20.818181818181817],[34,\"(?)\",74.57068062827226],[38,\"(?)\",638.2619669277633],[39,\"(?)\",8227.20022977187],[107,7,1.0],[108,5,1.0],[111,\"(?)\",5.4],[999,\"(?)\",7.222222222222222],[\"(?)\",\"(?)\",38274.43636429922]],\"domain\":{\"x\":[0.0,1.0],\"y\":[0.0,1.0]},\"hovertemplate\":\"labels=%{label}<br>N\\u00b0 Reclamo_sum=%{value}<br>parent=%{parent}<br>id=%{id}<br>Cod Motivo SBS=%{customdata[0]}<br>Cod Servicio SBS=%{customdata[1]}<br>N\\u00b0 Reclamo=%{color}<extra></extra>\",\"ids\":[\"Codigo de reclamo/1/-1\",\"Codigo de reclamo/2/-1\",\"Codigo de reclamo/3/-1\",\"Codigo de reclamo/6/-1\",\"Codigo de reclamo/28/-1\",\"Codigo de reclamo/30/-1\",\"Codigo de reclamo/-1/2\",\"Codigo de reclamo/1/2\",\"Codigo de reclamo/2/2\",\"Codigo de reclamo/3/2\",\"Codigo de reclamo/4/2\",\"Codigo de reclamo/6/2\",\"Codigo de reclamo/7/2\",\"Codigo de reclamo/8/2\",\"Codigo de reclamo/9/2\",\"Codigo de reclamo/17/2\",\"Codigo de reclamo/19/2\",\"Codigo de reclamo/21/2\",\"Codigo de reclamo/27/2\",\"Codigo de reclamo/28/2\",\"Codigo de reclamo/30/2\",\"Codigo de reclamo/33/2\",\"Codigo de reclamo/34/2\",\"Codigo de reclamo/39/2\",\"Codigo de reclamo/1/5\",\"Codigo de reclamo/2/5\",\"Codigo de reclamo/3/5\",\"Codigo de reclamo/4/5\",\"Codigo de reclamo/6/5\",\"Codigo de reclamo/7/5\",\"Codigo de reclamo/8/5\",\"Codigo de reclamo/15/5\",\"Codigo de reclamo/19/5\",\"Codigo de reclamo/21/5\",\"Codigo de reclamo/22/5\",\"Codigo de reclamo/27/5\",\"Codigo de reclamo/28/5\",\"Codigo de reclamo/30/5\",\"Codigo de reclamo/34/5\",\"Codigo de reclamo/38/5\",\"Codigo de reclamo/39/5\",\"Codigo de reclamo/108/5\",\"Codigo de reclamo/111/5\",\"Codigo de reclamo/-1/6\",\"Codigo de reclamo/1/6\",\"Codigo de reclamo/2/6\",\"Codigo de reclamo/3/6\",\"Codigo de reclamo/6/6\",\"Codigo de reclamo/7/6\",\"Codigo de reclamo/8/6\",\"Codigo de reclamo/15/6\",\"Codigo de reclamo/17/6\",\"Codigo de reclamo/19/6\",\"Codigo de reclamo/21/6\",\"Codigo de reclamo/27/6\",\"Codigo de reclamo/28/6\",\"Codigo de reclamo/30/6\",\"Codigo de reclamo/33/6\",\"Codigo de reclamo/34/6\",\"Codigo de reclamo/38/6\",\"Codigo de reclamo/39/6\",\"Codigo de reclamo/-1/7\",\"Codigo de reclamo/1/7\",\"Codigo de reclamo/2/7\",\"Codigo de reclamo/3/7\",\"Codigo de reclamo/4/7\",\"Codigo de reclamo/6/7\",\"Codigo de reclamo/19/7\",\"Codigo de reclamo/28/7\",\"Codigo de reclamo/33/7\",\"Codigo de reclamo/34/7\",\"Codigo de reclamo/39/7\",\"Codigo de reclamo/107/7\",\"Codigo de reclamo/111/7\",\"Codigo de reclamo/-1/8\",\"Codigo de reclamo/3/8\",\"Codigo de reclamo/6/8\",\"Codigo de reclamo/-1/9\",\"Codigo de reclamo/1/9\",\"Codigo de reclamo/2/9\",\"Codigo de reclamo/3/9\",\"Codigo de reclamo/4/9\",\"Codigo de reclamo/6/9\",\"Codigo de reclamo/15/9\",\"Codigo de reclamo/19/9\",\"Codigo de reclamo/21/9\",\"Codigo de reclamo/22/9\",\"Codigo de reclamo/23/9\",\"Codigo de reclamo/28/9\",\"Codigo de reclamo/30/9\",\"Codigo de reclamo/33/9\",\"Codigo de reclamo/34/9\",\"Codigo de reclamo/39/9\",\"Codigo de reclamo/111/9\",\"Codigo de reclamo/-1/11\",\"Codigo de reclamo/2/11\",\"Codigo de reclamo/3/11\",\"Codigo de reclamo/6/11\",\"Codigo de reclamo/15/11\",\"Codigo de reclamo/21/11\",\"Codigo de reclamo/28/11\",\"Codigo de reclamo/30/11\",\"Codigo de reclamo/34/11\",\"Codigo de reclamo/39/11\",\"Codigo de reclamo/2/12\",\"Codigo de reclamo/3/12\",\"Codigo de reclamo/6/12\",\"Codigo de reclamo/28/12\",\"Codigo de reclamo/30/12\",\"Codigo de reclamo/34/12\",\"Codigo de reclamo/39/12\",\"Codigo de reclamo/-1/17\",\"Codigo de reclamo/2/17\",\"Codigo de reclamo/3/17\",\"Codigo de reclamo/6/17\",\"Codigo de reclamo/9/17\",\"Codigo de reclamo/17/17\",\"Codigo de reclamo/28/17\",\"Codigo de reclamo/30/17\",\"Codigo de reclamo/34/17\",\"Codigo de reclamo/39/17\",\"Codigo de reclamo/2/18\",\"Codigo de reclamo/6/18\",\"Codigo de reclamo/27/18\",\"Codigo de reclamo/30/18\",\"Codigo de reclamo/-1/27\",\"Codigo de reclamo/1/27\",\"Codigo de reclamo/2/27\",\"Codigo de reclamo/3/27\",\"Codigo de reclamo/6/27\",\"Codigo de reclamo/8/27\",\"Codigo de reclamo/27/27\",\"Codigo de reclamo/28/27\",\"Codigo de reclamo/30/27\",\"Codigo de reclamo/34/27\",\"Codigo de reclamo/39/27\",\"Codigo de reclamo/-1/28\",\"Codigo de reclamo/1/28\",\"Codigo de reclamo/2/28\",\"Codigo de reclamo/3/28\",\"Codigo de reclamo/6/28\",\"Codigo de reclamo/27/28\",\"Codigo de reclamo/28/28\",\"Codigo de reclamo/30/28\",\"Codigo de reclamo/39/28\",\"Codigo de reclamo/1/29\",\"Codigo de reclamo/2/29\",\"Codigo de reclamo/3/29\",\"Codigo de reclamo/6/29\",\"Codigo de reclamo/7/29\",\"Codigo de reclamo/19/29\",\"Codigo de reclamo/27/29\",\"Codigo de reclamo/28/29\",\"Codigo de reclamo/30/29\",\"Codigo de reclamo/33/29\",\"Codigo de reclamo/34/29\",\"Codigo de reclamo/39/29\",\"Codigo de reclamo/1/96\",\"Codigo de reclamo/2/96\",\"Codigo de reclamo/3/96\",\"Codigo de reclamo/6/96\",\"Codigo de reclamo/7/96\",\"Codigo de reclamo/8/96\",\"Codigo de reclamo/15/96\",\"Codigo de reclamo/19/96\",\"Codigo de reclamo/21/96\",\"Codigo de reclamo/27/96\",\"Codigo de reclamo/28/96\",\"Codigo de reclamo/30/96\",\"Codigo de reclamo/33/96\",\"Codigo de reclamo/34/96\",\"Codigo de reclamo/38/96\",\"Codigo de reclamo/39/96\",\"Codigo de reclamo/999/96\",\"Codigo de reclamo/1/102\",\"Codigo de reclamo/2/102\",\"Codigo de reclamo/3/102\",\"Codigo de reclamo/4/102\",\"Codigo de reclamo/6/102\",\"Codigo de reclamo/7/102\",\"Codigo de reclamo/8/102\",\"Codigo de reclamo/9/102\",\"Codigo de reclamo/15/102\",\"Codigo de reclamo/17/102\",\"Codigo de reclamo/19/102\",\"Codigo de reclamo/21/102\",\"Codigo de reclamo/27/102\",\"Codigo de reclamo/28/102\",\"Codigo de reclamo/30/102\",\"Codigo de reclamo/33/102\",\"Codigo de reclamo/34/102\",\"Codigo de reclamo/38/102\",\"Codigo de reclamo/39/102\",\"Codigo de reclamo/999/102\",\"Codigo de reclamo/-1/999\",\"Codigo de reclamo/2/999\",\"Codigo de reclamo/3/999\",\"Codigo de reclamo/6/999\",\"Codigo de reclamo/39/999\",\"Codigo de reclamo/-1\",\"Codigo de reclamo/1\",\"Codigo de reclamo/2\",\"Codigo de reclamo/3\",\"Codigo de reclamo/4\",\"Codigo de reclamo/6\",\"Codigo de reclamo/7\",\"Codigo de reclamo/8\",\"Codigo de reclamo/9\",\"Codigo de reclamo/15\",\"Codigo de reclamo/17\",\"Codigo de reclamo/19\",\"Codigo de reclamo/21\",\"Codigo de reclamo/22\",\"Codigo de reclamo/23\",\"Codigo de reclamo/27\",\"Codigo de reclamo/28\",\"Codigo de reclamo/30\",\"Codigo de reclamo/33\",\"Codigo de reclamo/34\",\"Codigo de reclamo/38\",\"Codigo de reclamo/39\",\"Codigo de reclamo/107\",\"Codigo de reclamo/108\",\"Codigo de reclamo/111\",\"Codigo de reclamo/999\",\"Codigo de reclamo\"],\"labels\":[\"-1\",\"-1\",\"-1\",\"-1\",\"-1\",\"-1\",\"2\",\"2\",\"2\",\"2\",\"2\",\"2\",\"2\",\"2\",\"2\",\"2\",\"2\",\"2\",\"2\",\"2\",\"2\",\"2\",\"2\",\"2\",\"5\",\"5\",\"5\",\"5\",\"5\",\"5\",\"5\",\"5\",\"5\",\"5\",\"5\",\"5\",\"5\",\"5\",\"5\",\"5\",\"5\",\"5\",\"5\",\"6\",\"6\",\"6\",\"6\",\"6\",\"6\",\"6\",\"6\",\"6\",\"6\",\"6\",\"6\",\"6\",\"6\",\"6\",\"6\",\"6\",\"6\",\"7\",\"7\",\"7\",\"7\",\"7\",\"7\",\"7\",\"7\",\"7\",\"7\",\"7\",\"7\",\"7\",\"8\",\"8\",\"8\",\"9\",\"9\",\"9\",\"9\",\"9\",\"9\",\"9\",\"9\",\"9\",\"9\",\"9\",\"9\",\"9\",\"9\",\"9\",\"9\",\"9\",\"11\",\"11\",\"11\",\"11\",\"11\",\"11\",\"11\",\"11\",\"11\",\"11\",\"12\",\"12\",\"12\",\"12\",\"12\",\"12\",\"12\",\"17\",\"17\",\"17\",\"17\",\"17\",\"17\",\"17\",\"17\",\"17\",\"17\",\"18\",\"18\",\"18\",\"18\",\"27\",\"27\",\"27\",\"27\",\"27\",\"27\",\"27\",\"27\",\"27\",\"27\",\"27\",\"28\",\"28\",\"28\",\"28\",\"28\",\"28\",\"28\",\"28\",\"28\",\"29\",\"29\",\"29\",\"29\",\"29\",\"29\",\"29\",\"29\",\"29\",\"29\",\"29\",\"29\",\"96\",\"96\",\"96\",\"96\",\"96\",\"96\",\"96\",\"96\",\"96\",\"96\",\"96\",\"96\",\"96\",\"96\",\"96\",\"96\",\"96\",\"102\",\"102\",\"102\",\"102\",\"102\",\"102\",\"102\",\"102\",\"102\",\"102\",\"102\",\"102\",\"102\",\"102\",\"102\",\"102\",\"102\",\"102\",\"102\",\"102\",\"999\",\"999\",\"999\",\"999\",\"999\",\"-1\",\"1\",\"2\",\"3\",\"4\",\"6\",\"7\",\"8\",\"9\",\"15\",\"17\",\"19\",\"21\",\"22\",\"23\",\"27\",\"28\",\"30\",\"33\",\"34\",\"38\",\"39\",\"107\",\"108\",\"111\",\"999\",\"Codigo de reclamo\"],\"marker\":{\"coloraxis\":\"coloraxis\",\"colors\":[1.0,2.0,3.0,6.0,1.0,1.0,368.0,1.0,37.0,65.0,1.0,213.0,6.0,30.0,7.0,1.0,50.0,1.0,1.0,8.0,86.0,4.0,17.0,100.0,54.0,32.0,1380.0,2.0,676.0,7.0,9.0,166.0,1.0,19.0,3.0,6.0,242.0,18.0,1.0,97.0,64.0,1.0,2.0,1564.0,13.0,213.0,8968.0,7346.0,50.0,184.0,299.0,1.0,20.0,7.0,15.0,7549.0,592.0,23.0,1.0,820.0,246.0,54.0,5.0,9.0,38.0,3.0,22.0,20.0,1.0,1.0,1.0,14.0,1.0,1.0,7.0,3.0,4.0,1196.0,85.0,84.0,2322.0,42.0,453.0,1.0,24.0,7.0,92.0,39.0,24.0,17.0,2.0,7.0,133.0,7.0,162.0,12.0,114.0,367.0,2.0,1.0,5.0,39.0,8.0,25.0,3.0,10.0,10.0,1.0,1.0,1.0,8.0,39.0,35.0,30.0,74.0,47.0,1.0,4.0,7.0,2.0,83.0,1.0,6.0,3.0,2.0,140.0,1.0,75.0,135.0,567.0,1.0,14.0,13.0,84.0,2.0,80.0,66.0,1.0,23.0,71.0,268.0,4.0,3.0,63.0,35.0,2.0,672.0,2659.0,5917.0,10.0,1.0,74.0,10063.0,861.0,9.0,113.0,343.0,3.0,5182.0,159.0,573.0,1.0,11.0,41.0,6.0,8.0,285.0,75.0,459.0,25.0,6.0,5.0,9940.0,1.0,25.0,673.0,10051.0,7.0,18767.0,47.0,265.0,1.0,28.0,3.0,79.0,47.0,25.0,80016.0,3858.0,24.0,32.0,227.0,1108.0,8.0,12.0,1.0,7.0,16.0,7.0,1127.1524390243903,57.47120418848168,3943.872129288347,7529.589429175476,33.21818181818182,12547.688337820604,40.45454545454545,210.368,41.07272727272727,222.39664804469274,2.0,50.52238805970149,30.377777777777776,89.18947368421053,39.0,205.6416861826698,66944.30566807816,2662.161629434954,20.818181818181817,74.57068062827226,638.2619669277633,8227.20022977187,1.0,1.0,5.4,7.222222222222222,38274.43636429922]},\"name\":\"\",\"parents\":[\"Codigo de reclamo/1\",\"Codigo de reclamo/2\",\"Codigo de reclamo/3\",\"Codigo de reclamo/6\",\"Codigo de reclamo/28\",\"Codigo de reclamo/30\",\"Codigo de reclamo/-1\",\"Codigo de reclamo/1\",\"Codigo de reclamo/2\",\"Codigo de reclamo/3\",\"Codigo de reclamo/4\",\"Codigo de reclamo/6\",\"Codigo de reclamo/7\",\"Codigo de reclamo/8\",\"Codigo de reclamo/9\",\"Codigo de reclamo/17\",\"Codigo de reclamo/19\",\"Codigo de reclamo/21\",\"Codigo de reclamo/27\",\"Codigo de reclamo/28\",\"Codigo de reclamo/30\",\"Codigo de reclamo/33\",\"Codigo de reclamo/34\",\"Codigo de reclamo/39\",\"Codigo de reclamo/1\",\"Codigo de reclamo/2\",\"Codigo de reclamo/3\",\"Codigo de reclamo/4\",\"Codigo de reclamo/6\",\"Codigo de reclamo/7\",\"Codigo de reclamo/8\",\"Codigo de reclamo/15\",\"Codigo de reclamo/19\",\"Codigo de reclamo/21\",\"Codigo de reclamo/22\",\"Codigo de reclamo/27\",\"Codigo de reclamo/28\",\"Codigo de reclamo/30\",\"Codigo de reclamo/34\",\"Codigo de reclamo/38\",\"Codigo de reclamo/39\",\"Codigo de reclamo/108\",\"Codigo de reclamo/111\",\"Codigo de reclamo/-1\",\"Codigo de reclamo/1\",\"Codigo de reclamo/2\",\"Codigo de reclamo/3\",\"Codigo de reclamo/6\",\"Codigo de reclamo/7\",\"Codigo de reclamo/8\",\"Codigo de reclamo/15\",\"Codigo de reclamo/17\",\"Codigo de reclamo/19\",\"Codigo de reclamo/21\",\"Codigo de reclamo/27\",\"Codigo de reclamo/28\",\"Codigo de reclamo/30\",\"Codigo de reclamo/33\",\"Codigo de reclamo/34\",\"Codigo de reclamo/38\",\"Codigo de reclamo/39\",\"Codigo de reclamo/-1\",\"Codigo de reclamo/1\",\"Codigo de reclamo/2\",\"Codigo de reclamo/3\",\"Codigo de reclamo/4\",\"Codigo de reclamo/6\",\"Codigo de reclamo/19\",\"Codigo de reclamo/28\",\"Codigo de reclamo/33\",\"Codigo de reclamo/34\",\"Codigo de reclamo/39\",\"Codigo de reclamo/107\",\"Codigo de reclamo/111\",\"Codigo de reclamo/-1\",\"Codigo de reclamo/3\",\"Codigo de reclamo/6\",\"Codigo de reclamo/-1\",\"Codigo de reclamo/1\",\"Codigo de reclamo/2\",\"Codigo de reclamo/3\",\"Codigo de reclamo/4\",\"Codigo de reclamo/6\",\"Codigo de reclamo/15\",\"Codigo de reclamo/19\",\"Codigo de reclamo/21\",\"Codigo de reclamo/22\",\"Codigo de reclamo/23\",\"Codigo de reclamo/28\",\"Codigo de reclamo/30\",\"Codigo de reclamo/33\",\"Codigo de reclamo/34\",\"Codigo de reclamo/39\",\"Codigo de reclamo/111\",\"Codigo de reclamo/-1\",\"Codigo de reclamo/2\",\"Codigo de reclamo/3\",\"Codigo de reclamo/6\",\"Codigo de reclamo/15\",\"Codigo de reclamo/21\",\"Codigo de reclamo/28\",\"Codigo de reclamo/30\",\"Codigo de reclamo/34\",\"Codigo de reclamo/39\",\"Codigo de reclamo/2\",\"Codigo de reclamo/3\",\"Codigo de reclamo/6\",\"Codigo de reclamo/28\",\"Codigo de reclamo/30\",\"Codigo de reclamo/34\",\"Codigo de reclamo/39\",\"Codigo de reclamo/-1\",\"Codigo de reclamo/2\",\"Codigo de reclamo/3\",\"Codigo de reclamo/6\",\"Codigo de reclamo/9\",\"Codigo de reclamo/17\",\"Codigo de reclamo/28\",\"Codigo de reclamo/30\",\"Codigo de reclamo/34\",\"Codigo de reclamo/39\",\"Codigo de reclamo/2\",\"Codigo de reclamo/6\",\"Codigo de reclamo/27\",\"Codigo de reclamo/30\",\"Codigo de reclamo/-1\",\"Codigo de reclamo/1\",\"Codigo de reclamo/2\",\"Codigo de reclamo/3\",\"Codigo de reclamo/6\",\"Codigo de reclamo/8\",\"Codigo de reclamo/27\",\"Codigo de reclamo/28\",\"Codigo de reclamo/30\",\"Codigo de reclamo/34\",\"Codigo de reclamo/39\",\"Codigo de reclamo/-1\",\"Codigo de reclamo/1\",\"Codigo de reclamo/2\",\"Codigo de reclamo/3\",\"Codigo de reclamo/6\",\"Codigo de reclamo/27\",\"Codigo de reclamo/28\",\"Codigo de reclamo/30\",\"Codigo de reclamo/39\",\"Codigo de reclamo/1\",\"Codigo de reclamo/2\",\"Codigo de reclamo/3\",\"Codigo de reclamo/6\",\"Codigo de reclamo/7\",\"Codigo de reclamo/19\",\"Codigo de reclamo/27\",\"Codigo de reclamo/28\",\"Codigo de reclamo/30\",\"Codigo de reclamo/33\",\"Codigo de reclamo/34\",\"Codigo de reclamo/39\",\"Codigo de reclamo/1\",\"Codigo de reclamo/2\",\"Codigo de reclamo/3\",\"Codigo de reclamo/6\",\"Codigo de reclamo/7\",\"Codigo de reclamo/8\",\"Codigo de reclamo/15\",\"Codigo de reclamo/19\",\"Codigo de reclamo/21\",\"Codigo de reclamo/27\",\"Codigo de reclamo/28\",\"Codigo de reclamo/30\",\"Codigo de reclamo/33\",\"Codigo de reclamo/34\",\"Codigo de reclamo/38\",\"Codigo de reclamo/39\",\"Codigo de reclamo/999\",\"Codigo de reclamo/1\",\"Codigo de reclamo/2\",\"Codigo de reclamo/3\",\"Codigo de reclamo/4\",\"Codigo de reclamo/6\",\"Codigo de reclamo/7\",\"Codigo de reclamo/8\",\"Codigo de reclamo/9\",\"Codigo de reclamo/15\",\"Codigo de reclamo/17\",\"Codigo de reclamo/19\",\"Codigo de reclamo/21\",\"Codigo de reclamo/27\",\"Codigo de reclamo/28\",\"Codigo de reclamo/30\",\"Codigo de reclamo/33\",\"Codigo de reclamo/34\",\"Codigo de reclamo/38\",\"Codigo de reclamo/39\",\"Codigo de reclamo/999\",\"Codigo de reclamo/-1\",\"Codigo de reclamo/2\",\"Codigo de reclamo/3\",\"Codigo de reclamo/6\",\"Codigo de reclamo/39\",\"Codigo de reclamo\",\"Codigo de reclamo\",\"Codigo de reclamo\",\"Codigo de reclamo\",\"Codigo de reclamo\",\"Codigo de reclamo\",\"Codigo de reclamo\",\"Codigo de reclamo\",\"Codigo de reclamo\",\"Codigo de reclamo\",\"Codigo de reclamo\",\"Codigo de reclamo\",\"Codigo de reclamo\",\"Codigo de reclamo\",\"Codigo de reclamo\",\"Codigo de reclamo\",\"Codigo de reclamo\",\"Codigo de reclamo\",\"Codigo de reclamo\",\"Codigo de reclamo\",\"Codigo de reclamo\",\"Codigo de reclamo\",\"Codigo de reclamo\",\"Codigo de reclamo\",\"Codigo de reclamo\",\"Codigo de reclamo\",\"\"],\"values\":[1,2,3,6,1,1,368,1,37,65,1,213,6,30,7,1,50,1,1,8,86,4,17,100,54,32,1380,2,676,7,9,166,1,19,3,6,242,18,1,97,64,1,2,1564,13,213,8968,7346,50,184,299,1,20,7,15,7549,592,23,1,820,246,54,5,9,38,3,22,20,1,1,1,14,1,1,7,3,4,1196,85,84,2322,42,453,1,24,7,92,39,24,17,2,7,133,7,162,12,114,367,2,1,5,39,8,25,3,10,10,1,1,1,8,39,35,30,74,47,1,4,7,2,83,1,6,3,2,140,1,75,135,567,1,14,13,84,2,80,66,1,23,71,268,4,3,63,35,2,672,2659,5917,10,1,74,10063,861,9,113,343,3,5182,159,573,1,11,41,6,8,285,75,459,25,6,5,9940,1,25,673,10051,7,18767,47,265,1,28,3,79,47,25,80016,3858,24,32,227,1108,8,12,1,7,16,7,3608,191,7054,26015,55,35285,121,500,55,537,6,201,90,95,39,427,98005,6088,88,191,1149,12186,1,1,10,9,192007],\"type\":\"treemap\"}],                        {\"template\":{\"data\":{\"bar\":[{\"error_x\":{\"color\":\"#2a3f5f\"},\"error_y\":{\"color\":\"#2a3f5f\"},\"marker\":{\"line\":{\"color\":\"#E5ECF6\",\"width\":0.5},\"pattern\":{\"fillmode\":\"overlay\",\"size\":10,\"solidity\":0.2}},\"type\":\"bar\"}],\"barpolar\":[{\"marker\":{\"line\":{\"color\":\"#E5ECF6\",\"width\":0.5},\"pattern\":{\"fillmode\":\"overlay\",\"size\":10,\"solidity\":0.2}},\"type\":\"barpolar\"}],\"carpet\":[{\"aaxis\":{\"endlinecolor\":\"#2a3f5f\",\"gridcolor\":\"white\",\"linecolor\":\"white\",\"minorgridcolor\":\"white\",\"startlinecolor\":\"#2a3f5f\"},\"baxis\":{\"endlinecolor\":\"#2a3f5f\",\"gridcolor\":\"white\",\"linecolor\":\"white\",\"minorgridcolor\":\"white\",\"startlinecolor\":\"#2a3f5f\"},\"type\":\"carpet\"}],\"choropleth\":[{\"colorbar\":{\"outlinewidth\":0,\"ticks\":\"\"},\"type\":\"choropleth\"}],\"contour\":[{\"colorbar\":{\"outlinewidth\":0,\"ticks\":\"\"},\"colorscale\":[[0.0,\"#0d0887\"],[0.1111111111111111,\"#46039f\"],[0.2222222222222222,\"#7201a8\"],[0.3333333333333333,\"#9c179e\"],[0.4444444444444444,\"#bd3786\"],[0.5555555555555556,\"#d8576b\"],[0.6666666666666666,\"#ed7953\"],[0.7777777777777778,\"#fb9f3a\"],[0.8888888888888888,\"#fdca26\"],[1.0,\"#f0f921\"]],\"type\":\"contour\"}],\"contourcarpet\":[{\"colorbar\":{\"outlinewidth\":0,\"ticks\":\"\"},\"type\":\"contourcarpet\"}],\"heatmap\":[{\"colorbar\":{\"outlinewidth\":0,\"ticks\":\"\"},\"colorscale\":[[0.0,\"#0d0887\"],[0.1111111111111111,\"#46039f\"],[0.2222222222222222,\"#7201a8\"],[0.3333333333333333,\"#9c179e\"],[0.4444444444444444,\"#bd3786\"],[0.5555555555555556,\"#d8576b\"],[0.6666666666666666,\"#ed7953\"],[0.7777777777777778,\"#fb9f3a\"],[0.8888888888888888,\"#fdca26\"],[1.0,\"#f0f921\"]],\"type\":\"heatmap\"}],\"heatmapgl\":[{\"colorbar\":{\"outlinewidth\":0,\"ticks\":\"\"},\"colorscale\":[[0.0,\"#0d0887\"],[0.1111111111111111,\"#46039f\"],[0.2222222222222222,\"#7201a8\"],[0.3333333333333333,\"#9c179e\"],[0.4444444444444444,\"#bd3786\"],[0.5555555555555556,\"#d8576b\"],[0.6666666666666666,\"#ed7953\"],[0.7777777777777778,\"#fb9f3a\"],[0.8888888888888888,\"#fdca26\"],[1.0,\"#f0f921\"]],\"type\":\"heatmapgl\"}],\"histogram\":[{\"marker\":{\"pattern\":{\"fillmode\":\"overlay\",\"size\":10,\"solidity\":0.2}},\"type\":\"histogram\"}],\"histogram2d\":[{\"colorbar\":{\"outlinewidth\":0,\"ticks\":\"\"},\"colorscale\":[[0.0,\"#0d0887\"],[0.1111111111111111,\"#46039f\"],[0.2222222222222222,\"#7201a8\"],[0.3333333333333333,\"#9c179e\"],[0.4444444444444444,\"#bd3786\"],[0.5555555555555556,\"#d8576b\"],[0.6666666666666666,\"#ed7953\"],[0.7777777777777778,\"#fb9f3a\"],[0.8888888888888888,\"#fdca26\"],[1.0,\"#f0f921\"]],\"type\":\"histogram2d\"}],\"histogram2dcontour\":[{\"colorbar\":{\"outlinewidth\":0,\"ticks\":\"\"},\"colorscale\":[[0.0,\"#0d0887\"],[0.1111111111111111,\"#46039f\"],[0.2222222222222222,\"#7201a8\"],[0.3333333333333333,\"#9c179e\"],[0.4444444444444444,\"#bd3786\"],[0.5555555555555556,\"#d8576b\"],[0.6666666666666666,\"#ed7953\"],[0.7777777777777778,\"#fb9f3a\"],[0.8888888888888888,\"#fdca26\"],[1.0,\"#f0f921\"]],\"type\":\"histogram2dcontour\"}],\"mesh3d\":[{\"colorbar\":{\"outlinewidth\":0,\"ticks\":\"\"},\"type\":\"mesh3d\"}],\"parcoords\":[{\"line\":{\"colorbar\":{\"outlinewidth\":0,\"ticks\":\"\"}},\"type\":\"parcoords\"}],\"pie\":[{\"automargin\":true,\"type\":\"pie\"}],\"scatter\":[{\"marker\":{\"colorbar\":{\"outlinewidth\":0,\"ticks\":\"\"}},\"type\":\"scatter\"}],\"scatter3d\":[{\"line\":{\"colorbar\":{\"outlinewidth\":0,\"ticks\":\"\"}},\"marker\":{\"colorbar\":{\"outlinewidth\":0,\"ticks\":\"\"}},\"type\":\"scatter3d\"}],\"scattercarpet\":[{\"marker\":{\"colorbar\":{\"outlinewidth\":0,\"ticks\":\"\"}},\"type\":\"scattercarpet\"}],\"scattergeo\":[{\"marker\":{\"colorbar\":{\"outlinewidth\":0,\"ticks\":\"\"}},\"type\":\"scattergeo\"}],\"scattergl\":[{\"marker\":{\"colorbar\":{\"outlinewidth\":0,\"ticks\":\"\"}},\"type\":\"scattergl\"}],\"scattermapbox\":[{\"marker\":{\"colorbar\":{\"outlinewidth\":0,\"ticks\":\"\"}},\"type\":\"scattermapbox\"}],\"scatterpolar\":[{\"marker\":{\"colorbar\":{\"outlinewidth\":0,\"ticks\":\"\"}},\"type\":\"scatterpolar\"}],\"scatterpolargl\":[{\"marker\":{\"colorbar\":{\"outlinewidth\":0,\"ticks\":\"\"}},\"type\":\"scatterpolargl\"}],\"scatterternary\":[{\"marker\":{\"colorbar\":{\"outlinewidth\":0,\"ticks\":\"\"}},\"type\":\"scatterternary\"}],\"surface\":[{\"colorbar\":{\"outlinewidth\":0,\"ticks\":\"\"},\"colorscale\":[[0.0,\"#0d0887\"],[0.1111111111111111,\"#46039f\"],[0.2222222222222222,\"#7201a8\"],[0.3333333333333333,\"#9c179e\"],[0.4444444444444444,\"#bd3786\"],[0.5555555555555556,\"#d8576b\"],[0.6666666666666666,\"#ed7953\"],[0.7777777777777778,\"#fb9f3a\"],[0.8888888888888888,\"#fdca26\"],[1.0,\"#f0f921\"]],\"type\":\"surface\"}],\"table\":[{\"cells\":{\"fill\":{\"color\":\"#EBF0F8\"},\"line\":{\"color\":\"white\"}},\"header\":{\"fill\":{\"color\":\"#C8D4E3\"},\"line\":{\"color\":\"white\"}},\"type\":\"table\"}]},\"layout\":{\"annotationdefaults\":{\"arrowcolor\":\"#2a3f5f\",\"arrowhead\":0,\"arrowwidth\":1},\"autotypenumbers\":\"strict\",\"coloraxis\":{\"colorbar\":{\"outlinewidth\":0,\"ticks\":\"\"}},\"colorscale\":{\"diverging\":[[0,\"#8e0152\"],[0.1,\"#c51b7d\"],[0.2,\"#de77ae\"],[0.3,\"#f1b6da\"],[0.4,\"#fde0ef\"],[0.5,\"#f7f7f7\"],[0.6,\"#e6f5d0\"],[0.7,\"#b8e186\"],[0.8,\"#7fbc41\"],[0.9,\"#4d9221\"],[1,\"#276419\"]],\"sequential\":[[0.0,\"#0d0887\"],[0.1111111111111111,\"#46039f\"],[0.2222222222222222,\"#7201a8\"],[0.3333333333333333,\"#9c179e\"],[0.4444444444444444,\"#bd3786\"],[0.5555555555555556,\"#d8576b\"],[0.6666666666666666,\"#ed7953\"],[0.7777777777777778,\"#fb9f3a\"],[0.8888888888888888,\"#fdca26\"],[1.0,\"#f0f921\"]],\"sequentialminus\":[[0.0,\"#0d0887\"],[0.1111111111111111,\"#46039f\"],[0.2222222222222222,\"#7201a8\"],[0.3333333333333333,\"#9c179e\"],[0.4444444444444444,\"#bd3786\"],[0.5555555555555556,\"#d8576b\"],[0.6666666666666666,\"#ed7953\"],[0.7777777777777778,\"#fb9f3a\"],[0.8888888888888888,\"#fdca26\"],[1.0,\"#f0f921\"]]},\"colorway\":[\"#636efa\",\"#EF553B\",\"#00cc96\",\"#ab63fa\",\"#FFA15A\",\"#19d3f3\",\"#FF6692\",\"#B6E880\",\"#FF97FF\",\"#FECB52\"],\"font\":{\"color\":\"#2a3f5f\"},\"geo\":{\"bgcolor\":\"white\",\"lakecolor\":\"white\",\"landcolor\":\"#E5ECF6\",\"showlakes\":true,\"showland\":true,\"subunitcolor\":\"white\"},\"hoverlabel\":{\"align\":\"left\"},\"hovermode\":\"closest\",\"mapbox\":{\"style\":\"light\"},\"paper_bgcolor\":\"white\",\"plot_bgcolor\":\"#E5ECF6\",\"polar\":{\"angularaxis\":{\"gridcolor\":\"white\",\"linecolor\":\"white\",\"ticks\":\"\"},\"bgcolor\":\"#E5ECF6\",\"radialaxis\":{\"gridcolor\":\"white\",\"linecolor\":\"white\",\"ticks\":\"\"}},\"scene\":{\"xaxis\":{\"backgroundcolor\":\"#E5ECF6\",\"gridcolor\":\"white\",\"gridwidth\":2,\"linecolor\":\"white\",\"showbackground\":true,\"ticks\":\"\",\"zerolinecolor\":\"white\"},\"yaxis\":{\"backgroundcolor\":\"#E5ECF6\",\"gridcolor\":\"white\",\"gridwidth\":2,\"linecolor\":\"white\",\"showbackground\":true,\"ticks\":\"\",\"zerolinecolor\":\"white\"},\"zaxis\":{\"backgroundcolor\":\"#E5ECF6\",\"gridcolor\":\"white\",\"gridwidth\":2,\"linecolor\":\"white\",\"showbackground\":true,\"ticks\":\"\",\"zerolinecolor\":\"white\"}},\"shapedefaults\":{\"line\":{\"color\":\"#2a3f5f\"}},\"ternary\":{\"aaxis\":{\"gridcolor\":\"white\",\"linecolor\":\"white\",\"ticks\":\"\"},\"baxis\":{\"gridcolor\":\"white\",\"linecolor\":\"white\",\"ticks\":\"\"},\"bgcolor\":\"#E5ECF6\",\"caxis\":{\"gridcolor\":\"white\",\"linecolor\":\"white\",\"ticks\":\"\"}},\"title\":{\"x\":0.05},\"xaxis\":{\"automargin\":true,\"gridcolor\":\"white\",\"linecolor\":\"white\",\"ticks\":\"\",\"title\":{\"standoff\":15},\"zerolinecolor\":\"white\",\"zerolinewidth\":2},\"yaxis\":{\"automargin\":true,\"gridcolor\":\"white\",\"linecolor\":\"white\",\"ticks\":\"\",\"title\":{\"standoff\":15},\"zerolinecolor\":\"white\",\"zerolinewidth\":2}}},\"coloraxis\":{\"colorbar\":{\"title\":{\"text\":\"N\\u00b0 Reclamo\"}},\"colorscale\":[[0.0,\"#0d0887\"],[0.1111111111111111,\"#46039f\"],[0.2222222222222222,\"#7201a8\"],[0.3333333333333333,\"#9c179e\"],[0.4444444444444444,\"#bd3786\"],[0.5555555555555556,\"#d8576b\"],[0.6666666666666666,\"#ed7953\"],[0.7777777777777778,\"#fb9f3a\"],[0.8888888888888888,\"#fdca26\"],[1.0,\"#f0f921\"]]},\"legend\":{\"tracegroupgap\":0},\"margin\":{\"t\":60}},                        {\"responsive\": true}                    ).then(function(){\n",
       "                            \n",
       "var gd = document.getElementById('763c8601-d733-4e6b-a57f-f3b1ebe11880');\n",
       "var x = new MutationObserver(function (mutations, observer) {{\n",
       "        var display = window.getComputedStyle(gd).display;\n",
       "        if (!display || display === 'none') {{\n",
       "            console.log([gd, 'removed!']);\n",
       "            Plotly.purge(gd);\n",
       "            observer.disconnect();\n",
       "        }}\n",
       "}});\n",
       "\n",
       "// Listen for the removal of the full notebook cells\n",
       "var notebookContainer = gd.closest('#notebook-container');\n",
       "if (notebookContainer) {{\n",
       "    x.observe(notebookContainer, {childList: true});\n",
       "}}\n",
       "\n",
       "// Listen for the clearing of the current output cell\n",
       "var outputEl = gd.closest('.output');\n",
       "if (outputEl) {{\n",
       "    x.observe(outputEl, {childList: true});\n",
       "}}\n",
       "\n",
       "                        })                };                });            </script>        </div>"
      ]
     },
     "metadata": {},
     "output_type": "display_data"
    }
   ],
   "source": [
    "data_temp = datos_preprocessed.groupby(['Cod Motivo SBS','Cod Servicio SBS']).agg({ 'N° Reclamo': \"count\"})\n",
    "data_temp = data_temp.sort_values(by=['N° Reclamo'], ascending = False).reset_index()\n",
    "\n",
    "fig = px.treemap(data_temp, path=[px.Constant('Codigo de reclamo'),'Cod Motivo SBS','Cod Servicio SBS'], values='N° Reclamo',\n",
    "                  color='N° Reclamo', hover_data=['Cod Motivo SBS','Cod Servicio SBS'])\n",
    "fig.show()"
   ]
  },
  {
   "cell_type": "code",
   "execution_count": null,
   "id": "a001d3bf",
   "metadata": {
    "scrolled": true
   },
   "outputs": [],
   "source": [
    "# data_temp = datos_preprocessed.groupby(['Trimestre','Nivel','Reclamo/requerim']).agg({'N° Reclamo': \"count\"})\n",
    "# data_temp = data_temp.sort_values(by=['Trimestre']).reset_index()\n",
    "# data_temp.head()"
   ]
  },
  {
   "cell_type": "code",
   "execution_count": 6,
   "id": "9cea658a",
   "metadata": {
    "scrolled": true
   },
   "outputs": [
    {
     "data": {
      "text/html": [
       "<div>\n",
       "<style scoped>\n",
       "    .dataframe tbody tr th:only-of-type {\n",
       "        vertical-align: middle;\n",
       "    }\n",
       "\n",
       "    .dataframe tbody tr th {\n",
       "        vertical-align: top;\n",
       "    }\n",
       "\n",
       "    .dataframe thead th {\n",
       "        text-align: right;\n",
       "    }\n",
       "</style>\n",
       "<table border=\"1\" class=\"dataframe\">\n",
       "  <thead>\n",
       "    <tr style=\"text-align: right;\">\n",
       "      <th></th>\n",
       "      <th>N° Reclamo</th>\n",
       "      <th>Nombre</th>\n",
       "      <th>N° Docum.</th>\n",
       "      <th>Servicio</th>\n",
       "      <th>Cod Motivo</th>\n",
       "      <th>Motivo</th>\n",
       "      <th>Cod. Atm</th>\n",
       "      <th>Det. AtmError</th>\n",
       "      <th>N° Cajero</th>\n",
       "      <th>Monto</th>\n",
       "      <th>...</th>\n",
       "      <th>fecha_fase6</th>\n",
       "      <th>fecha_fase7</th>\n",
       "      <th>Cod Servicio</th>\n",
       "      <th>Cod Motivo SBS</th>\n",
       "      <th>Motivo Corregido</th>\n",
       "      <th>Cod Servicio SBS</th>\n",
       "      <th>Servicio Corregido</th>\n",
       "      <th>Nivel</th>\n",
       "      <th>Tipo</th>\n",
       "      <th>Trimestre</th>\n",
       "    </tr>\n",
       "  </thead>\n",
       "  <tbody>\n",
       "    <tr>\n",
       "      <th>0</th>\n",
       "      <td>023818-7</td>\n",
       "      <td>TORRES SENMACHE PATHY PAMELA</td>\n",
       "      <td>41114765</td>\n",
       "      <td>CUENTA DE AHORRO</td>\n",
       "      <td>10000</td>\n",
       "      <td>ICCC - INCUMPLIMIENTO DE CLAUSULAS DEL CONTRAT...</td>\n",
       "      <td>NaN</td>\n",
       "      <td>NaN</td>\n",
       "      <td>NaN</td>\n",
       "      <td>NaN</td>\n",
       "      <td>...</td>\n",
       "      <td>2018-10-03</td>\n",
       "      <td>2018-10-03</td>\n",
       "      <td>100</td>\n",
       "      <td>1</td>\n",
       "      <td>INCUMPLIMIENTO DE CLAUSULAS DE LOS CONTRATOS, ...</td>\n",
       "      <td>102</td>\n",
       "      <td>CUENTA DE AHORRO (DESTINADA A DEPÓSITO DE REMU...</td>\n",
       "      <td>1er</td>\n",
       "      <td>Informativo</td>\n",
       "      <td>2018-3</td>\n",
       "    </tr>\n",
       "    <tr>\n",
       "      <th>1</th>\n",
       "      <td>002718-4016</td>\n",
       "      <td>CARLOS RIQUELME ROMAN</td>\n",
       "      <td>43471167</td>\n",
       "      <td>CUENTA DE AHORRO</td>\n",
       "      <td>10000</td>\n",
       "      <td>ICCC - INCUMPLIMIENTO DE CLAUSULAS DEL CONTRAT...</td>\n",
       "      <td>NaN</td>\n",
       "      <td>NaN</td>\n",
       "      <td>NaN</td>\n",
       "      <td>NaN</td>\n",
       "      <td>...</td>\n",
       "      <td>2018-09-26</td>\n",
       "      <td>2018-09-26</td>\n",
       "      <td>100</td>\n",
       "      <td>1</td>\n",
       "      <td>INCUMPLIMIENTO DE CLAUSULAS DE LOS CONTRATOS, ...</td>\n",
       "      <td>102</td>\n",
       "      <td>CUENTA DE AHORRO (DESTINADA A DEPÓSITO DE REMU...</td>\n",
       "      <td>1er</td>\n",
       "      <td>Informativo</td>\n",
       "      <td>2018-3</td>\n",
       "    </tr>\n",
       "    <tr>\n",
       "      <th>2</th>\n",
       "      <td>002719-6276</td>\n",
       "      <td>RICARDO ARTURO RIVERA NUÑEZ</td>\n",
       "      <td>30831857</td>\n",
       "      <td>CUENTA DE AHORRO</td>\n",
       "      <td>10000</td>\n",
       "      <td>ICCC - INCUMPLIMIENTO DE CLAUSULAS DEL CONTRAT...</td>\n",
       "      <td>NaN</td>\n",
       "      <td>NaN</td>\n",
       "      <td>NaN</td>\n",
       "      <td>892.74</td>\n",
       "      <td>...</td>\n",
       "      <td>2020-02-10</td>\n",
       "      <td>2020-02-11</td>\n",
       "      <td>100</td>\n",
       "      <td>1</td>\n",
       "      <td>INCUMPLIMIENTO DE CLAUSULAS DE LOS CONTRATOS, ...</td>\n",
       "      <td>102</td>\n",
       "      <td>CUENTA DE AHORRO (DESTINADA A DEPÓSITO DE REMU...</td>\n",
       "      <td>1er</td>\n",
       "      <td>Informativo</td>\n",
       "      <td>2019-4</td>\n",
       "    </tr>\n",
       "    <tr>\n",
       "      <th>3</th>\n",
       "      <td>010119-356</td>\n",
       "      <td>VERAMENDI ANCASI JAVIER</td>\n",
       "      <td>09952556</td>\n",
       "      <td>CUENTA DE AHORRO</td>\n",
       "      <td>10000</td>\n",
       "      <td>ICCC - INCUMPLIMIENTO DE CLAUSULAS DEL CONTRAT...</td>\n",
       "      <td>NaN</td>\n",
       "      <td>NaN</td>\n",
       "      <td>NaN</td>\n",
       "      <td>8000</td>\n",
       "      <td>...</td>\n",
       "      <td>2019-12-20</td>\n",
       "      <td>2019-12-20</td>\n",
       "      <td>100</td>\n",
       "      <td>1</td>\n",
       "      <td>INCUMPLIMIENTO DE CLAUSULAS DE LOS CONTRATOS, ...</td>\n",
       "      <td>102</td>\n",
       "      <td>CUENTA DE AHORRO (DESTINADA A DEPÓSITO DE REMU...</td>\n",
       "      <td>1er</td>\n",
       "      <td>Informativo</td>\n",
       "      <td>2019-4</td>\n",
       "    </tr>\n",
       "    <tr>\n",
       "      <th>4</th>\n",
       "      <td>010119-354</td>\n",
       "      <td>MEDINA RAMOS JOSE LUIS</td>\n",
       "      <td>29353518</td>\n",
       "      <td>CUENTA DE AHORRO</td>\n",
       "      <td>10000</td>\n",
       "      <td>ICCC - INCUMPLIMIENTO DE CLAUSULAS DEL CONTRAT...</td>\n",
       "      <td>NaN</td>\n",
       "      <td>NaN</td>\n",
       "      <td>NaN</td>\n",
       "      <td>NaN</td>\n",
       "      <td>...</td>\n",
       "      <td>2019-11-12</td>\n",
       "      <td>2019-11-12</td>\n",
       "      <td>100</td>\n",
       "      <td>1</td>\n",
       "      <td>INCUMPLIMIENTO DE CLAUSULAS DE LOS CONTRATOS, ...</td>\n",
       "      <td>102</td>\n",
       "      <td>CUENTA DE AHORRO (DESTINADA A DEPÓSITO DE REMU...</td>\n",
       "      <td>1er</td>\n",
       "      <td>Informativo</td>\n",
       "      <td>2019-4</td>\n",
       "    </tr>\n",
       "  </tbody>\n",
       "</table>\n",
       "<p>5 rows × 69 columns</p>\n",
       "</div>"
      ],
      "text/plain": [
       "    N° Reclamo                        Nombre N° Docum.          Servicio  \\\n",
       "0     023818-7  TORRES SENMACHE PATHY PAMELA  41114765  CUENTA DE AHORRO   \n",
       "1  002718-4016         CARLOS RIQUELME ROMAN  43471167  CUENTA DE AHORRO   \n",
       "2  002719-6276   RICARDO ARTURO RIVERA NUÑEZ  30831857  CUENTA DE AHORRO   \n",
       "3   010119-356       VERAMENDI ANCASI JAVIER  09952556  CUENTA DE AHORRO   \n",
       "4   010119-354        MEDINA RAMOS JOSE LUIS  29353518  CUENTA DE AHORRO   \n",
       "\n",
       "  Cod Motivo                                             Motivo  Cod. Atm  \\\n",
       "0      10000  ICCC - INCUMPLIMIENTO DE CLAUSULAS DEL CONTRAT...       NaN   \n",
       "1      10000  ICCC - INCUMPLIMIENTO DE CLAUSULAS DEL CONTRAT...       NaN   \n",
       "2      10000  ICCC - INCUMPLIMIENTO DE CLAUSULAS DEL CONTRAT...       NaN   \n",
       "3      10000  ICCC - INCUMPLIMIENTO DE CLAUSULAS DEL CONTRAT...       NaN   \n",
       "4      10000  ICCC - INCUMPLIMIENTO DE CLAUSULAS DEL CONTRAT...       NaN   \n",
       "\n",
       "  Det. AtmError  N° Cajero   Monto  ... fecha_fase6 fecha_fase7 Cod Servicio  \\\n",
       "0           NaN        NaN     NaN  ...  2018-10-03  2018-10-03          100   \n",
       "1           NaN        NaN     NaN  ...  2018-09-26  2018-09-26          100   \n",
       "2           NaN        NaN  892.74  ...  2020-02-10  2020-02-11          100   \n",
       "3           NaN        NaN    8000  ...  2019-12-20  2019-12-20          100   \n",
       "4           NaN        NaN     NaN  ...  2019-11-12  2019-11-12          100   \n",
       "\n",
       "  Cod Motivo SBS                                   Motivo Corregido  \\\n",
       "0              1  INCUMPLIMIENTO DE CLAUSULAS DE LOS CONTRATOS, ...   \n",
       "1              1  INCUMPLIMIENTO DE CLAUSULAS DE LOS CONTRATOS, ...   \n",
       "2              1  INCUMPLIMIENTO DE CLAUSULAS DE LOS CONTRATOS, ...   \n",
       "3              1  INCUMPLIMIENTO DE CLAUSULAS DE LOS CONTRATOS, ...   \n",
       "4              1  INCUMPLIMIENTO DE CLAUSULAS DE LOS CONTRATOS, ...   \n",
       "\n",
       "  Cod Servicio SBS                                 Servicio Corregido Nivel  \\\n",
       "0              102  CUENTA DE AHORRO (DESTINADA A DEPÓSITO DE REMU...   1er   \n",
       "1              102  CUENTA DE AHORRO (DESTINADA A DEPÓSITO DE REMU...   1er   \n",
       "2              102  CUENTA DE AHORRO (DESTINADA A DEPÓSITO DE REMU...   1er   \n",
       "3              102  CUENTA DE AHORRO (DESTINADA A DEPÓSITO DE REMU...   1er   \n",
       "4              102  CUENTA DE AHORRO (DESTINADA A DEPÓSITO DE REMU...   1er   \n",
       "\n",
       "          Tipo Trimestre  \n",
       "0  Informativo    2018-3  \n",
       "1  Informativo    2018-3  \n",
       "2  Informativo    2019-4  \n",
       "3  Informativo    2019-4  \n",
       "4  Informativo    2019-4  \n",
       "\n",
       "[5 rows x 69 columns]"
      ]
     },
     "execution_count": 6,
     "metadata": {},
     "output_type": "execute_result"
    }
   ],
   "source": [
    "datos_preprocessed.head()"
   ]
  },
  {
   "cell_type": "code",
   "execution_count": 27,
   "id": "8af5f8d7",
   "metadata": {},
   "outputs": [
    {
     "ename": "NameError",
     "evalue": "name 'data_lima_m' is not defined",
     "output_type": "error",
     "traceback": [
      "\u001b[1;31m---------------------------------------------------------------------------\u001b[0m",
      "\u001b[1;31mNameError\u001b[0m                                 Traceback (most recent call last)",
      "\u001b[1;32m<ipython-input-27-72ef38c8603d>\u001b[0m in \u001b[0;36m<module>\u001b[1;34m\u001b[0m\n\u001b[1;32m----> 1\u001b[1;33m \u001b[0mdata_temp\u001b[0m \u001b[1;33m=\u001b[0m \u001b[0mdata_lima_m\u001b[0m\u001b[1;33m.\u001b[0m\u001b[0mgroupby\u001b[0m\u001b[1;33m(\u001b[0m\u001b[1;33m[\u001b[0m\u001b[1;34m'DISTRICT'\u001b[0m\u001b[1;33m,\u001b[0m\u001b[0mDIAGNOSIS_PARAMETER\u001b[0m\u001b[1;33m]\u001b[0m\u001b[1;33m)\u001b[0m\u001b[1;33m.\u001b[0m\u001b[0magg\u001b[0m\u001b[1;33m(\u001b[0m\u001b[1;33m{\u001b[0m \u001b[1;34m'QTY_PEOPLE_SERVED'\u001b[0m\u001b[1;33m:\u001b[0m \u001b[1;34m\"sum\"\u001b[0m\u001b[1;33m}\u001b[0m\u001b[1;33m)\u001b[0m\u001b[1;33m\u001b[0m\u001b[1;33m\u001b[0m\u001b[0m\n\u001b[0m\u001b[0;32m      2\u001b[0m \u001b[0mdata_temp\u001b[0m \u001b[1;33m=\u001b[0m \u001b[0mdata_temp\u001b[0m\u001b[1;33m.\u001b[0m\u001b[0mreset_index\u001b[0m\u001b[1;33m(\u001b[0m\u001b[1;33m)\u001b[0m\u001b[1;33m\u001b[0m\u001b[1;33m\u001b[0m\u001b[0m\n\u001b[0;32m      3\u001b[0m \u001b[0mdata_temp\u001b[0m \u001b[1;33m=\u001b[0m \u001b[0mdata_temp\u001b[0m\u001b[1;33m.\u001b[0m\u001b[0mgroupby\u001b[0m\u001b[1;33m(\u001b[0m\u001b[1;33m[\u001b[0m\u001b[1;34m'DISTRICT'\u001b[0m\u001b[1;33m]\u001b[0m\u001b[1;33m)\u001b[0m\u001b[1;33m.\u001b[0m\u001b[0magg\u001b[0m\u001b[1;33m(\u001b[0m\u001b[1;33m{\u001b[0m \u001b[0mDIAGNOSIS_PARAMETER\u001b[0m\u001b[1;33m:\u001b[0m \u001b[1;34m\"count\"\u001b[0m\u001b[1;33m}\u001b[0m\u001b[1;33m)\u001b[0m\u001b[1;33m\u001b[0m\u001b[1;33m\u001b[0m\u001b[0m\n\u001b[0;32m      4\u001b[0m \u001b[0mdata_temp\u001b[0m \u001b[1;33m=\u001b[0m \u001b[0mdata_temp\u001b[0m\u001b[1;33m.\u001b[0m\u001b[0mreset_index\u001b[0m\u001b[1;33m(\u001b[0m\u001b[1;33m)\u001b[0m\u001b[1;33m\u001b[0m\u001b[1;33m\u001b[0m\u001b[0m\n\u001b[0;32m      5\u001b[0m \u001b[1;33m\u001b[0m\u001b[0m\n",
      "\u001b[1;31mNameError\u001b[0m: name 'data_lima_m' is not defined"
     ]
    }
   ],
   "source": [
    "data_temp = data_lima_m.groupby(['DISTRICT',DIAGNOSIS_PARAMETER]).agg({ 'QTY_PEOPLE_SERVED': \"sum\"})\n",
    "data_temp = data_temp.reset_index()\n",
    "data_temp = data_temp.groupby(['DISTRICT']).agg({ DIAGNOSIS_PARAMETER: \"count\"})\n",
    "data_temp = data_temp.reset_index()\n",
    "\n",
    "fig = px.treemap(data_temp,\n",
    "                 path=[px.Constant('DISTRICTS'),'DISTRICT'],\n",
    "                 values=DIAGNOSIS_PARAMETER,\n",
    "                 color=DIAGNOSIS_PARAMETER,\n",
    "                 hover_data=['DISTRICT'])\n",
    "fig.show()"
   ]
  },
  {
   "cell_type": "markdown",
   "id": "e2cec17c",
   "metadata": {},
   "source": []
  },
  {
   "cell_type": "code",
   "execution_count": null,
   "id": "de98244e",
   "metadata": {},
   "outputs": [],
   "source": [
    "datos_preprocessed['fecha_fase1'].dt.year"
   ]
  },
  {
   "cell_type": "code",
   "execution_count": null,
   "id": "89ddaaf0",
   "metadata": {},
   "outputs": [],
   "source": [
    "datos_preprocessed['fecha_fase1'].dt.quarter"
   ]
  },
  {
   "cell_type": "code",
   "execution_count": null,
   "id": "a599bd8a",
   "metadata": {},
   "outputs": [],
   "source": []
  },
  {
   "cell_type": "code",
   "execution_count": null,
   "id": "d97c957b",
   "metadata": {},
   "outputs": [],
   "source": []
  },
  {
   "cell_type": "markdown",
   "id": "9e89de93",
   "metadata": {},
   "source": [
    "#### Recuperando codigos SBS"
   ]
  },
  {
   "cell_type": "code",
   "execution_count": null,
   "id": "0c02864f",
   "metadata": {},
   "outputs": [],
   "source": []
  },
  {
   "cell_type": "code",
   "execution_count": null,
   "id": "50494e6c",
   "metadata": {},
   "outputs": [],
   "source": []
  },
  {
   "cell_type": "code",
   "execution_count": null,
   "id": "a9696e79",
   "metadata": {},
   "outputs": [],
   "source": []
  }
 ],
 "metadata": {
  "kernelspec": {
   "display_name": "Python 3",
   "language": "python",
   "name": "python3"
  },
  "language_info": {
   "codemirror_mode": {
    "name": "ipython",
    "version": 3
   },
   "file_extension": ".py",
   "mimetype": "text/x-python",
   "name": "python",
   "nbconvert_exporter": "python",
   "pygments_lexer": "ipython3",
   "version": "3.8.8"
  }
 },
 "nbformat": 4,
 "nbformat_minor": 5
}
