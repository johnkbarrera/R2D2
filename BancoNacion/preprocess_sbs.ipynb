{
 "cells": [
  {
   "cell_type": "code",
   "execution_count": 10,
   "id": "554773e0",
   "metadata": {},
   "outputs": [],
   "source": [
    "import os\n",
    "import pandas as pd\n",
    "import numpy as np\n",
    "import math\n",
    "from datetime import datetime"
   ]
  },
  {
   "cell_type": "code",
   "execution_count": 33,
   "id": "a97da5c4",
   "metadata": {},
   "outputs": [
    {
     "name": "stdout",
     "output_type": "stream",
     "text": [
      "3.8.8\n"
     ]
    }
   ],
   "source": [
    "from platform import python_version\n",
    "print(python_version())"
   ]
  },
  {
   "cell_type": "markdown",
   "id": "85113347",
   "metadata": {},
   "source": [
    "### Recuperando datos"
   ]
  },
  {
   "cell_type": "code",
   "execution_count": 11,
   "id": "14cf19d9",
   "metadata": {
    "scrolled": true
   },
   "outputs": [],
   "source": [
    "# Reclamos\n",
    "file_name = 'data/pre_processed_data.csv'\n",
    "datos_reclamos = pd.read_pickle(file_name)\n",
    "\n",
    "# Catalogos BN\n",
    "catalogo_bn_motivo = pd.read_csv('catalogo/catalogo_motivos.csv')\n",
    "catalogo_bn_motivo['Cod Motivo'] = catalogo_bn_motivo['Cod Motivo'].astype(str)\n",
    "\n",
    "catalogo_bn_servicio = pd.read_csv('catalogo/catalogo_servicios.csv')\n",
    "catalogo_bn_servicio['Cod Servicio'] = catalogo_bn_servicio['Cod Servicio'].astype(str)\n",
    "\n",
    "# Catalogos SBS\n",
    "catalogo_sbs_motivo = pd.read_csv('catalogo/catalogo_sbs_motivo.csv')\n",
    "catalogo_sbs_servicio = pd.read_csv('catalogo/catalogo_sbs_motivo.csv')"
   ]
  },
  {
   "cell_type": "markdown",
   "id": "b3f4abf1",
   "metadata": {},
   "source": [
    "#### Recuperando codigos SBS"
   ]
  },
  {
   "cell_type": "code",
   "execution_count": 14,
   "id": "3ad1a7e5",
   "metadata": {},
   "outputs": [],
   "source": [
    "# Merge Motivos\n",
    "datos_reclamos_merged = pd.merge(\n",
    "                            datos_reclamos,\n",
    "                            catalogo_bn_motivo[['Cod Motivo', 'Cod Motivo SBS', 'Motivo Corregido']],\n",
    "                            how=\"left\",\n",
    "                            left_on='Cod Motivo',\n",
    "                            right_on='Cod Motivo',\n",
    "                            sort=True,\n",
    "                            suffixes=(\"_x\", \"_y\"),\n",
    "                        )\n",
    "# Merge servicios\n",
    "datos_reclamos_merged = pd.merge(\n",
    "                            datos_reclamos_merged,\n",
    "                            catalogo_bn_servicio[['Cod Servicio', 'Cod Servicio SBS', 'Servicio Corregido']],\n",
    "                            how=\"left\",\n",
    "                            left_on='Cod Servicio',\n",
    "                            right_on='Cod Servicio',\n",
    "                            sort=True,\n",
    "                            suffixes=(\"_x\", \"_y\"),\n",
    "                        )\n",
    "\n",
    "datos_reclamos_merged['Cod Servicio SBS'] = datos_reclamos_merged['Cod Servicio SBS'].fillna(-1).astype(int)\n",
    "datos_reclamos_merged['Cod Motivo SBS'] = datos_reclamos_merged['Cod Motivo SBS'].fillna(-1).astype(int)\n"
   ]
  },
  {
   "cell_type": "code",
   "execution_count": 15,
   "id": "55c2c092",
   "metadata": {},
   "outputs": [
    {
     "data": {
      "text/plain": [
       "(248058, 248058)"
      ]
     },
     "execution_count": 15,
     "metadata": {},
     "output_type": "execute_result"
    }
   ],
   "source": [
    "len(datos_reclamos), len(datos_reclamos_merged)"
   ]
  },
  {
   "cell_type": "markdown",
   "id": "010bfdff",
   "metadata": {},
   "source": [
    "#### Recuperando detalles SBS"
   ]
  },
  {
   "cell_type": "code",
   "execution_count": 23,
   "id": "b18626ba",
   "metadata": {},
   "outputs": [
    {
     "name": "stderr",
     "output_type": "stream",
     "text": [
      "<ipython-input-23-34b059a8c9d0>:1: UserWarning: DataFrame columns are not unique, some columns will be omitted.\n",
      "  catalogo_sbs_motivo = catalogo_sbs_motivo.set_index('Cod SBS').T.to_dict('dict')\n",
      "<ipython-input-23-34b059a8c9d0>:2: UserWarning: DataFrame columns are not unique, some columns will be omitted.\n",
      "  catalogo_sbs_servicio = catalogo_sbs_servicio.set_index('Cod SBS').T.to_dict('dict')\n"
     ]
    }
   ],
   "source": [
    "catalogo_sbs_motivo = catalogo_sbs_motivo.set_index('Cod SBS').T.to_dict('dict')\n",
    "catalogo_sbs_servicio = catalogo_sbs_servicio.set_index('Cod SBS').T.to_dict('dict')"
   ]
  },
  {
   "cell_type": "code",
   "execution_count": 31,
   "id": "9d250a86",
   "metadata": {},
   "outputs": [],
   "source": [
    "def nivel_reclamo(x,y):\n",
    "    try:\n",
    "        nivel = catalogo_sbs_motivo[x]['Nivel']\n",
    "    except:\n",
    "        try:\n",
    "            nivel = catalogo_sbs_servicio[y]['Nivel']\n",
    "        except:\n",
    "            nivel = None\n",
    "    return nivel\n",
    "\n",
    "def tipo_reclamo(x,y):\n",
    "    try:\n",
    "        tipo = catalogo_sbs_motivo[x]['Tipo']\n",
    "    except:\n",
    "        try:\n",
    "            tipo = catalogo_sbs_servicio[y]['Tipo']\n",
    "        except:\n",
    "            tipo = None\n",
    "    return tipo\n",
    "\n",
    "datos_reclamos_merged['Nivel'] = datos_reclamos_merged.apply(lambda x: nivel_reclamo(x['Cod Motivo SBS'], x['Cod Servicio SBS']), axis=1)\n",
    "datos_reclamos_merged['Tipo'] = datos_reclamos_merged.apply(lambda x: tipo_reclamo(x['Cod Motivo SBS'], x['Cod Servicio SBS']), axis=1)"
   ]
  },
  {
   "cell_type": "code",
   "execution_count": 29,
   "id": "476dc97f",
   "metadata": {
    "scrolled": false
   },
   "outputs": [
    {
     "data": {
      "text/html": [
       "<div>\n",
       "<style scoped>\n",
       "    .dataframe tbody tr th:only-of-type {\n",
       "        vertical-align: middle;\n",
       "    }\n",
       "\n",
       "    .dataframe tbody tr th {\n",
       "        vertical-align: top;\n",
       "    }\n",
       "\n",
       "    .dataframe thead th {\n",
       "        text-align: right;\n",
       "    }\n",
       "</style>\n",
       "<table border=\"1\" class=\"dataframe\">\n",
       "  <thead>\n",
       "    <tr style=\"text-align: right;\">\n",
       "      <th></th>\n",
       "      <th>N° Reclamo</th>\n",
       "      <th>Nombre</th>\n",
       "      <th>N° Docum.</th>\n",
       "      <th>Servicio</th>\n",
       "      <th>Cod Motivo</th>\n",
       "      <th>Motivo</th>\n",
       "      <th>Cod. Atm</th>\n",
       "      <th>Det. AtmError</th>\n",
       "      <th>N° Cajero</th>\n",
       "      <th>Monto</th>\n",
       "      <th>...</th>\n",
       "      <th>fecha_fase6</th>\n",
       "      <th>fecha_fase7</th>\n",
       "      <th>Cod Servicio</th>\n",
       "      <th>Cod Motivo SBS</th>\n",
       "      <th>Motivo Corregido</th>\n",
       "      <th>Cod Servicio SBS</th>\n",
       "      <th>Servicio Corregido</th>\n",
       "      <th>nivel</th>\n",
       "      <th>Nivel</th>\n",
       "      <th>Tipo</th>\n",
       "    </tr>\n",
       "  </thead>\n",
       "  <tbody>\n",
       "    <tr>\n",
       "      <th>0</th>\n",
       "      <td>023818-7</td>\n",
       "      <td>TORRES SENMACHE PATHY PAMELA</td>\n",
       "      <td>41114765</td>\n",
       "      <td>CUENTA DE AHORRO</td>\n",
       "      <td>10000</td>\n",
       "      <td>ICCC - INCUMPLIMIENTO DE CLAUSULAS DEL CONTRAT...</td>\n",
       "      <td>NaN</td>\n",
       "      <td>NaN</td>\n",
       "      <td>NaN</td>\n",
       "      <td>NaN</td>\n",
       "      <td>...</td>\n",
       "      <td>2018-10-03</td>\n",
       "      <td>2018-10-03</td>\n",
       "      <td>100</td>\n",
       "      <td>1</td>\n",
       "      <td>INCUMPLIMIENTO DE CLAUSULAS DE LOS CONTRATOS, ...</td>\n",
       "      <td>102</td>\n",
       "      <td>CUENTA DE AHORRO (DESTINADA A DEPÓSITO DE REMU...</td>\n",
       "      <td>1er</td>\n",
       "      <td>1er</td>\n",
       "      <td>1er</td>\n",
       "    </tr>\n",
       "    <tr>\n",
       "      <th>1</th>\n",
       "      <td>002718-4016</td>\n",
       "      <td>CARLOS RIQUELME ROMAN</td>\n",
       "      <td>43471167</td>\n",
       "      <td>CUENTA DE AHORRO</td>\n",
       "      <td>10000</td>\n",
       "      <td>ICCC - INCUMPLIMIENTO DE CLAUSULAS DEL CONTRAT...</td>\n",
       "      <td>NaN</td>\n",
       "      <td>NaN</td>\n",
       "      <td>NaN</td>\n",
       "      <td>NaN</td>\n",
       "      <td>...</td>\n",
       "      <td>2018-09-26</td>\n",
       "      <td>2018-09-26</td>\n",
       "      <td>100</td>\n",
       "      <td>1</td>\n",
       "      <td>INCUMPLIMIENTO DE CLAUSULAS DE LOS CONTRATOS, ...</td>\n",
       "      <td>102</td>\n",
       "      <td>CUENTA DE AHORRO (DESTINADA A DEPÓSITO DE REMU...</td>\n",
       "      <td>1er</td>\n",
       "      <td>1er</td>\n",
       "      <td>1er</td>\n",
       "    </tr>\n",
       "    <tr>\n",
       "      <th>2</th>\n",
       "      <td>002719-6276</td>\n",
       "      <td>RICARDO ARTURO RIVERA NUÑEZ</td>\n",
       "      <td>30831857</td>\n",
       "      <td>CUENTA DE AHORRO</td>\n",
       "      <td>10000</td>\n",
       "      <td>ICCC - INCUMPLIMIENTO DE CLAUSULAS DEL CONTRAT...</td>\n",
       "      <td>NaN</td>\n",
       "      <td>NaN</td>\n",
       "      <td>NaN</td>\n",
       "      <td>892.74</td>\n",
       "      <td>...</td>\n",
       "      <td>2020-02-10</td>\n",
       "      <td>2020-02-11</td>\n",
       "      <td>100</td>\n",
       "      <td>1</td>\n",
       "      <td>INCUMPLIMIENTO DE CLAUSULAS DE LOS CONTRATOS, ...</td>\n",
       "      <td>102</td>\n",
       "      <td>CUENTA DE AHORRO (DESTINADA A DEPÓSITO DE REMU...</td>\n",
       "      <td>1er</td>\n",
       "      <td>1er</td>\n",
       "      <td>1er</td>\n",
       "    </tr>\n",
       "    <tr>\n",
       "      <th>3</th>\n",
       "      <td>010119-356</td>\n",
       "      <td>VERAMENDI ANCASI JAVIER</td>\n",
       "      <td>09952556</td>\n",
       "      <td>CUENTA DE AHORRO</td>\n",
       "      <td>10000</td>\n",
       "      <td>ICCC - INCUMPLIMIENTO DE CLAUSULAS DEL CONTRAT...</td>\n",
       "      <td>NaN</td>\n",
       "      <td>NaN</td>\n",
       "      <td>NaN</td>\n",
       "      <td>8000</td>\n",
       "      <td>...</td>\n",
       "      <td>2019-12-20</td>\n",
       "      <td>2019-12-20</td>\n",
       "      <td>100</td>\n",
       "      <td>1</td>\n",
       "      <td>INCUMPLIMIENTO DE CLAUSULAS DE LOS CONTRATOS, ...</td>\n",
       "      <td>102</td>\n",
       "      <td>CUENTA DE AHORRO (DESTINADA A DEPÓSITO DE REMU...</td>\n",
       "      <td>1er</td>\n",
       "      <td>1er</td>\n",
       "      <td>1er</td>\n",
       "    </tr>\n",
       "    <tr>\n",
       "      <th>4</th>\n",
       "      <td>010119-354</td>\n",
       "      <td>MEDINA RAMOS JOSE LUIS</td>\n",
       "      <td>29353518</td>\n",
       "      <td>CUENTA DE AHORRO</td>\n",
       "      <td>10000</td>\n",
       "      <td>ICCC - INCUMPLIMIENTO DE CLAUSULAS DEL CONTRAT...</td>\n",
       "      <td>NaN</td>\n",
       "      <td>NaN</td>\n",
       "      <td>NaN</td>\n",
       "      <td>NaN</td>\n",
       "      <td>...</td>\n",
       "      <td>2019-11-12</td>\n",
       "      <td>2019-11-12</td>\n",
       "      <td>100</td>\n",
       "      <td>1</td>\n",
       "      <td>INCUMPLIMIENTO DE CLAUSULAS DE LOS CONTRATOS, ...</td>\n",
       "      <td>102</td>\n",
       "      <td>CUENTA DE AHORRO (DESTINADA A DEPÓSITO DE REMU...</td>\n",
       "      <td>1er</td>\n",
       "      <td>1er</td>\n",
       "      <td>1er</td>\n",
       "    </tr>\n",
       "  </tbody>\n",
       "</table>\n",
       "<p>5 rows × 69 columns</p>\n",
       "</div>"
      ],
      "text/plain": [
       "    N° Reclamo                        Nombre N° Docum.          Servicio  \\\n",
       "0     023818-7  TORRES SENMACHE PATHY PAMELA  41114765  CUENTA DE AHORRO   \n",
       "1  002718-4016         CARLOS RIQUELME ROMAN  43471167  CUENTA DE AHORRO   \n",
       "2  002719-6276   RICARDO ARTURO RIVERA NUÑEZ  30831857  CUENTA DE AHORRO   \n",
       "3   010119-356       VERAMENDI ANCASI JAVIER  09952556  CUENTA DE AHORRO   \n",
       "4   010119-354        MEDINA RAMOS JOSE LUIS  29353518  CUENTA DE AHORRO   \n",
       "\n",
       "  Cod Motivo                                             Motivo  Cod. Atm  \\\n",
       "0      10000  ICCC - INCUMPLIMIENTO DE CLAUSULAS DEL CONTRAT...       NaN   \n",
       "1      10000  ICCC - INCUMPLIMIENTO DE CLAUSULAS DEL CONTRAT...       NaN   \n",
       "2      10000  ICCC - INCUMPLIMIENTO DE CLAUSULAS DEL CONTRAT...       NaN   \n",
       "3      10000  ICCC - INCUMPLIMIENTO DE CLAUSULAS DEL CONTRAT...       NaN   \n",
       "4      10000  ICCC - INCUMPLIMIENTO DE CLAUSULAS DEL CONTRAT...       NaN   \n",
       "\n",
       "  Det. AtmError  N° Cajero   Monto  ... fecha_fase6 fecha_fase7 Cod Servicio  \\\n",
       "0           NaN        NaN     NaN  ...  2018-10-03  2018-10-03          100   \n",
       "1           NaN        NaN     NaN  ...  2018-09-26  2018-09-26          100   \n",
       "2           NaN        NaN  892.74  ...  2020-02-10  2020-02-11          100   \n",
       "3           NaN        NaN    8000  ...  2019-12-20  2019-12-20          100   \n",
       "4           NaN        NaN     NaN  ...  2019-11-12  2019-11-12          100   \n",
       "\n",
       "  Cod Motivo SBS                                   Motivo Corregido  \\\n",
       "0              1  INCUMPLIMIENTO DE CLAUSULAS DE LOS CONTRATOS, ...   \n",
       "1              1  INCUMPLIMIENTO DE CLAUSULAS DE LOS CONTRATOS, ...   \n",
       "2              1  INCUMPLIMIENTO DE CLAUSULAS DE LOS CONTRATOS, ...   \n",
       "3              1  INCUMPLIMIENTO DE CLAUSULAS DE LOS CONTRATOS, ...   \n",
       "4              1  INCUMPLIMIENTO DE CLAUSULAS DE LOS CONTRATOS, ...   \n",
       "\n",
       "  Cod Servicio SBS                                 Servicio Corregido nivel  \\\n",
       "0              102  CUENTA DE AHORRO (DESTINADA A DEPÓSITO DE REMU...   1er   \n",
       "1              102  CUENTA DE AHORRO (DESTINADA A DEPÓSITO DE REMU...   1er   \n",
       "2              102  CUENTA DE AHORRO (DESTINADA A DEPÓSITO DE REMU...   1er   \n",
       "3              102  CUENTA DE AHORRO (DESTINADA A DEPÓSITO DE REMU...   1er   \n",
       "4              102  CUENTA DE AHORRO (DESTINADA A DEPÓSITO DE REMU...   1er   \n",
       "\n",
       "   Nivel Tipo  \n",
       "0    1er  1er  \n",
       "1    1er  1er  \n",
       "2    1er  1er  \n",
       "3    1er  1er  \n",
       "4    1er  1er  \n",
       "\n",
       "[5 rows x 69 columns]"
      ]
     },
     "execution_count": 29,
     "metadata": {},
     "output_type": "execute_result"
    }
   ],
   "source": [
    "datos_reclamos_merged.head()"
   ]
  },
  {
   "cell_type": "markdown",
   "id": "4bfc9f51",
   "metadata": {},
   "source": [
    "### Saving data"
   ]
  },
  {
   "cell_type": "code",
   "execution_count": null,
   "id": "9942cc3c",
   "metadata": {},
   "outputs": [],
   "source": [
    "object_df.to_csv('data/pre_processed_sbs.csv', index=False)  "
   ]
  },
  {
   "cell_type": "code",
   "execution_count": null,
   "id": "85ee91e3",
   "metadata": {},
   "outputs": [],
   "source": []
  },
  {
   "cell_type": "code",
   "execution_count": null,
   "id": "39a15696",
   "metadata": {},
   "outputs": [],
   "source": []
  },
  {
   "cell_type": "code",
   "execution_count": null,
   "id": "5712cdf9",
   "metadata": {},
   "outputs": [],
   "source": []
  },
  {
   "cell_type": "code",
   "execution_count": null,
   "id": "076b9706",
   "metadata": {},
   "outputs": [],
   "source": []
  },
  {
   "cell_type": "code",
   "execution_count": null,
   "id": "3fd5aeb5",
   "metadata": {},
   "outputs": [],
   "source": []
  }
 ],
 "metadata": {
  "kernelspec": {
   "display_name": "Python 3",
   "language": "python",
   "name": "python3"
  },
  "language_info": {
   "codemirror_mode": {
    "name": "ipython",
    "version": 3
   },
   "file_extension": ".py",
   "mimetype": "text/x-python",
   "name": "python",
   "nbconvert_exporter": "python",
   "pygments_lexer": "ipython3",
   "version": "3.8.8"
  }
 },
 "nbformat": 4,
 "nbformat_minor": 5
}
