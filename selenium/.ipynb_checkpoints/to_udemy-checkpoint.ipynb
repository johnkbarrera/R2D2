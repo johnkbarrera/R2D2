{
 "cells": [
  {
   "cell_type": "code",
   "execution_count": null,
   "metadata": {},
   "outputs": [],
   "source": []
  },
  {
   "cell_type": "markdown",
   "metadata": {},
   "source": [
    "# udemy"
   ]
  },
  {
   "cell_type": "code",
   "execution_count": 1,
   "metadata": {},
   "outputs": [],
   "source": [
    "import requests\n",
    "from bs4 import BeautifulSoup\n",
    "\n",
    "import time"
   ]
  },
  {
   "cell_type": "code",
   "execution_count": 2,
   "metadata": {},
   "outputs": [],
   "source": [
    "url = 'https://www.latam.com/es_pe/?gclid=CjwKCAjwrvv3BRAJEiwAhwOdM-uem05ixlsDIGROS6znmYM2WpLcDbwVrbh6lKINOCm4GvQGfvA8_xoC0gQQAvD_BwE&gclsrc=aw.ds'\n",
    "\n",
    "url='https://www.udemy.com/courses/search/?q=bigdata&src=sac&kw=bigdata'\n",
    "\n"
   ]
  },
  {
   "cell_type": "code",
   "execution_count": 3,
   "metadata": {
    "scrolled": true
   },
   "outputs": [
    {
     "data": {
      "text/plain": [
       "200"
      ]
     },
     "execution_count": 3,
     "metadata": {},
     "output_type": "execute_result"
    }
   ],
   "source": [
    "r = requests.get(url)\n",
    "r.status_code"
   ]
  },
  {
   "cell_type": "code",
   "execution_count": null,
   "metadata": {},
   "outputs": [],
   "source": [
    "s = BeautifulSoup(r.text,'lxml')"
   ]
  },
  {
   "cell_type": "code",
   "execution_count": null,
   "metadata": {},
   "outputs": [],
   "source": [
    "#print(s.prettify)"
   ]
  },
  {
   "cell_type": "code",
   "execution_count": 4,
   "metadata": {},
   "outputs": [],
   "source": [
    "from selenium import webdriver"
   ]
  },
  {
   "cell_type": "code",
   "execution_count": 5,
   "metadata": {},
   "outputs": [],
   "source": [
    "#driver = webdriver.Chrome(executable_path = '../chromedriver')\n",
    "# DESCARGAR AQUI: https://chromedriver.storage.googleapis.com/index.html?path=83.0.4103.39/\n",
    "options = webdriver.ChromeOptions()\n",
    "#options.add_argument('--incognito')\n",
    "#options.add_argument(\"--lang=en\")\n",
    "driver = webdriver.Chrome(executable_path = 'chromedriver.exe', options = options)\n",
    "driver.implicitly_wait(30)"
   ]
  },
  {
   "cell_type": "code",
   "execution_count": 6,
   "metadata": {},
   "outputs": [],
   "source": [
    "driver.get(url)"
   ]
  },
  {
   "cell_type": "code",
   "execution_count": 7,
   "metadata": {},
   "outputs": [
    {
     "data": {
      "text/plain": [
       "[<selenium.webdriver.remote.webelement.WebElement (session=\"263f1f226a855f3d19141f7828a0d49b\", element=\"f2a54a4c-7e71-4432-8953-db48d3199594\")>,\n",
       " <selenium.webdriver.remote.webelement.WebElement (session=\"263f1f226a855f3d19141f7828a0d49b\", element=\"0295dab0-65dc-4625-a3a2-c1f5c8f92443\")>,\n",
       " <selenium.webdriver.remote.webelement.WebElement (session=\"263f1f226a855f3d19141f7828a0d49b\", element=\"bcccaf1e-87bd-47f3-b5dc-2c51e2b2bcd3\")>,\n",
       " <selenium.webdriver.remote.webelement.WebElement (session=\"263f1f226a855f3d19141f7828a0d49b\", element=\"383c9ee2-ac87-4961-9848-3586b7fcea03\")>,\n",
       " <selenium.webdriver.remote.webelement.WebElement (session=\"263f1f226a855f3d19141f7828a0d49b\", element=\"ff347c91-9bd9-45ed-be77-222fb21612ec\")>,\n",
       " <selenium.webdriver.remote.webelement.WebElement (session=\"263f1f226a855f3d19141f7828a0d49b\", element=\"0aac1059-6966-4447-af54-2c4b93187020\")>]"
      ]
     },
     "execution_count": 7,
     "metadata": {},
     "output_type": "execute_result"
    }
   ],
   "source": [
    "cursos = driver.find_elements_by_xpath('//div[@class=\"popover--popover--t3rNO popover--popover-hover--14ngr\"]')\n",
    "cursos"
   ]
  },
  {
   "cell_type": "code",
   "execution_count": 12,
   "metadata": {},
   "outputs": [
    {
     "name": "stdout",
     "output_type": "stream",
     "text": [
      "\n",
      "https://www.udemy.com/course/monta-un-cluster-hadoop-big-data-desde-cero/\n",
      "Hadoop Big Data desde cero\n",
      "12,99 US$\n",
      "    ['Introducción a Big Data y Hadoop', '', '33:12']\n",
      "    ['Preparación de la Infraestructura (IMPORTANTE, SOLO NECESARIA SI NO LO TIENES)', '', '42:18']\n",
      "    ['Preparación de Hadoop', '', '46:54']\n",
      "    ['Montar un cluster de un solo nodo. Aprender HDFS', '', '01:07:55']\n",
      "    ['YARN-MapReduce', '', '01:00:08']\n",
      "    ['Montar un Cluster real', '', '01:05:27']\n",
      "    ['Productos asociados a Big Data', '', '08:05']\n",
      "    ['HIVE', '', '01:30:23']\n",
      "    ['HUE', '', '39:04']\n",
      "    ['Sqoop', '', '57:28']\n",
      "\n",
      "https://www.udemy.com/course/curso-practico-de-big-data-con-hadoop-y-spark-desde-cero/\n",
      "Curso práctico de Big Data con Hadoop y Spark desde cero\n",
      "12,99 US$\n",
      "    ['Introducción al curso', '', '04:53']\n",
      "    ['Introducción a Hadoop e instalación de la distribución CDH de Cloudera', '', '37:37']\n",
      "    ['Gestión de archivos distribuidos con HDFS', '', '31:42']\n",
      "    ['Procesar datos distribuidos con MapReduce', '', '25:13']\n",
      "    ['Importar y consultar datos estructurados con Hive e Impala', '', '51:56']\n",
      "    ['Procesamiento ETL de datos con Pig', '', '31:09']\n",
      "    ['Llevando flujos de datos al clúster con Flume', '', '12:14']\n",
      "    ['Procesar datos en tiempo real con Spark', '', '57:14']\n",
      "    ['Gestionar un clúster', '', '10:24']\n",
      "\n",
      "https://www.udemy.com/course/analisis-de-big-data/\n",
      "Análisis de Big Data.\n",
      "12,99 US$\n",
      "    ['Introducción al BIG DATA.', '', '36:56']\n",
      "\n",
      "https://www.udemy.com/course/programacion-con-apache-spark/\n",
      "Procesando el Big Data con Apache Spark (en español)\n",
      "13,99 US$\n",
      "\n",
      "https://www.udemy.com/course/aplicaciones-big-data-para-data-scientist-con-r-y-shiny/\n",
      "Aplicaciones Big Data para Data Scientist con R y Shiny\n",
      "13,99 US$\n",
      "    ['Introducción', '', '09:20']\n",
      "\n",
      "https://www.udemy.com/course/probabilidad-y-variables-aleatorias-para-ml-con-r-y-python/\n",
      "Probabilidad para Machine Learning y Big Data con R y Python\n",
      "16,99 US$\n",
      "    ['Introducción', '', '49:03']\n",
      "    ['Instalar y dominar las herramientas del curso', '', '02:13:08']\n",
      "    ['Preliminares del curso', '', '01:17:36']\n",
      "    ['Probabilidad', '', '02:55:04']\n",
      "    ['Problemas clásicos del mundo de la probabilidad', '', '02:10:25']\n",
      "    ['Variables aleatorias discretas', '', '03:11:33']\n",
      "    ['Variables aleatorias continuas', '', '02:51:39']\n",
      "    ['Distribuciones notables discretas', '', '05:22:28']\n",
      "    ['Distribuciones notables continuas', '', '03:21:00']\n",
      "    ['Nivel avanzado: Variables aleatorias. Complementos', '', '03:16:19']\n"
     ]
    }
   ],
   "source": [
    "driver2 = webdriver.Chrome(executable_path = 'chromedriver.exe', options = options)\n",
    "driver2.implicitly_wait(30)\n",
    "for curso in cursos:\n",
    "    #print(curso)\n",
    "    #identidad = curso.find_element_by_xpath('.//div[@class=\"udlite-popover-open popover--popover--t3rNO popover--popover-hover--14ngr\"]') \n",
    "    nombre = curso.find_element_by_xpath('.//div[@class=\"udlite-heading-sm udlite-focus-visible-target course-card--course-title--2f7tE\"]').text    \n",
    "    precio = curso.find_element_by_xpath('.//div[@class=\"price-text--price-part--Tu6MH course-card--discount-price--3TaBk udlite-heading-md\"]/span/span').text\n",
    "    url_curso = curso.find_element_by_xpath('.//a').get_attribute('href')\n",
    "    \n",
    "       \n",
    "    print(\"\")\n",
    "    print(url_curso)\n",
    "    print(nombre)\n",
    "    print(precio)\n",
    "\n",
    "    lista_topicos = []\n",
    "    driver2.get(url_curso)\n",
    "    try: \n",
    "        driver2.find_element_by_xpath('.//a[@class=\"sections-toggle\"]').click()\n",
    "\n",
    "        # Wait for 5 seconds\n",
    "        time.sleep(10)\n",
    "\n",
    "   \n",
    "        detalles = driver2.find_elements_by_xpath('.//a[@class=\"section-container section-container--expanded\"]')\n",
    "\n",
    "\n",
    "        for detalle in detalles:\n",
    "            #topico = detalles.find_elements_by_xpath(.)\n",
    "            topico = detalle.find_element_by_xpath('.//span[@class=\"section-title-text\"]').text\n",
    "            sesiones = detalle.find_element_by_xpath('.//span[@class=\"num-items-in-section\"]').text\n",
    "            horas = detalle.find_element_by_xpath('.//span[@class=\"section-header-length\"]').text\n",
    "            lista_topicos.append([topico,sesiones,horas])\n",
    "            print(\"   \",[topico,sesiones,horas])\n",
    "\n",
    "    except: pass\n",
    "driver2.close()"
   ]
  },
  {
   "cell_type": "code",
   "execution_count": 13,
   "metadata": {},
   "outputs": [],
   "source": [
    "driver.close()"
   ]
  },
  {
   "cell_type": "markdown",
   "metadata": {},
   "source": [
    "\n",
    "\n",
    "# PAGINA DEL MEF\n",
    "## https://www.mef.gob.pe/es/seguimiento-de-la-ejecucion-presupuestal-consulta-amigable"
   ]
  },
  {
   "cell_type": "code",
   "execution_count": null,
   "metadata": {},
   "outputs": [],
   "source": [
    "import requests\n",
    "from bs4 import BeautifulSoup\n",
    "from selenium import webdriver\n",
    "\n",
    "import time"
   ]
  },
  {
   "cell_type": "code",
   "execution_count": null,
   "metadata": {},
   "outputs": [],
   "source": [
    "url='https://www.mef.gob.pe/es/seguimiento-de-la-ejecucion-presupuestal-consulta-amigable'\n",
    "r = requests.get(url)\n",
    "r.status_code"
   ]
  },
  {
   "cell_type": "code",
   "execution_count": null,
   "metadata": {},
   "outputs": [],
   "source": [
    "options = webdriver.ChromeOptions()\n",
    "options.add_argument('--incognito')\n",
    "driver = webdriver.Chrome(executable_path = 'chromedriver.exe', options = options)\n",
    "driver.implicitly_wait(30)\n",
    "driver.get(url)"
   ]
  },
  {
   "cell_type": "code",
   "execution_count": 4,
   "metadata": {},
   "outputs": [
    {
     "data": {
      "text/plain": [
       "[<selenium.webdriver.remote.webelement.WebElement (session=\"ee00603b0df9b260b821e6785fbd97d8\", element=\"45ce299c-61ea-45a0-8361-b8281fb3869e\")>,\n",
       " <selenium.webdriver.remote.webelement.WebElement (session=\"ee00603b0df9b260b821e6785fbd97d8\", element=\"0a10878a-ae8d-4ffa-8460-f35e8f479e48\")>,\n",
       " <selenium.webdriver.remote.webelement.WebElement (session=\"ee00603b0df9b260b821e6785fbd97d8\", element=\"a7b4237b-b3d7-4c8b-80cc-6f4a53c59864\")>,\n",
       " <selenium.webdriver.remote.webelement.WebElement (session=\"ee00603b0df9b260b821e6785fbd97d8\", element=\"9c8b2141-3df7-48f9-9fb6-5269706b547a\")>,\n",
       " <selenium.webdriver.remote.webelement.WebElement (session=\"ee00603b0df9b260b821e6785fbd97d8\", element=\"f8178584-da25-4353-afe0-5c872b5bc023\")>,\n",
       " <selenium.webdriver.remote.webelement.WebElement (session=\"ee00603b0df9b260b821e6785fbd97d8\", element=\"90a3debb-8814-4dc0-91b3-19e857e03d28\")>,\n",
       " <selenium.webdriver.remote.webelement.WebElement (session=\"ee00603b0df9b260b821e6785fbd97d8\", element=\"dede8fad-4856-473c-8d00-73961160533f\")>,\n",
       " <selenium.webdriver.remote.webelement.WebElement (session=\"ee00603b0df9b260b821e6785fbd97d8\", element=\"9e011548-9926-4bc0-91a8-38da5bcceefb\")>,\n",
       " <selenium.webdriver.remote.webelement.WebElement (session=\"ee00603b0df9b260b821e6785fbd97d8\", element=\"d8d40a99-4ce8-4f69-9cb9-d092eff261be\")>,\n",
       " <selenium.webdriver.remote.webelement.WebElement (session=\"ee00603b0df9b260b821e6785fbd97d8\", element=\"d3ceb163-592e-4a88-8132-13a63009a611\")>,\n",
       " <selenium.webdriver.remote.webelement.WebElement (session=\"ee00603b0df9b260b821e6785fbd97d8\", element=\"0dea7282-0b9c-4fc9-b9cb-3d615c79331a\")>,\n",
       " <selenium.webdriver.remote.webelement.WebElement (session=\"ee00603b0df9b260b821e6785fbd97d8\", element=\"8e2fa159-0c51-4185-aefd-e17bd6b0c65f\")>,\n",
       " <selenium.webdriver.remote.webelement.WebElement (session=\"ee00603b0df9b260b821e6785fbd97d8\", element=\"57d35fd2-2021-4778-995c-70b52e379f0f\")>,\n",
       " <selenium.webdriver.remote.webelement.WebElement (session=\"ee00603b0df9b260b821e6785fbd97d8\", element=\"98eb1843-d9a7-4127-a0e1-91fbad609174\")>,\n",
       " <selenium.webdriver.remote.webelement.WebElement (session=\"ee00603b0df9b260b821e6785fbd97d8\", element=\"e2271cdd-b2e3-4808-9bb1-25f4322d8ea1\")>]"
      ]
     },
     "execution_count": 4,
     "metadata": {},
     "output_type": "execute_result"
    }
   ],
   "source": [
    "gastos = driver.find_elements_by_xpath('//div[@class=\"texto_linkeables\"]')\n",
    "gastos"
   ]
  },
  {
   "cell_type": "code",
   "execution_count": 5,
   "metadata": {},
   "outputs": [
    {
     "data": {
      "text/plain": [
       "15"
      ]
     },
     "execution_count": 5,
     "metadata": {},
     "output_type": "execute_result"
    }
   ],
   "source": [
    "len(gastos)"
   ]
  },
  {
   "cell_type": "code",
   "execution_count": 7,
   "metadata": {},
   "outputs": [
    {
     "name": "stdout",
     "output_type": "stream",
     "text": [
      "Consultar el Gasto Presupuestal (Actualización Diaria)\n",
      "http://apps5.mineco.gob.pe/transparencia/\n",
      "\n",
      "Consultar el Gasto Presupuestal (Actualización Mensual)\n",
      "http://apps5.mineco.gob.pe/transparencia/mensual/\n",
      "\n",
      "Consultar el Ingreso Presupuestal (Actualización Diaria)\n",
      "http://apps5.mineco.gob.pe/transparenciaingresos/\n",
      "\n",
      "Consultar el Ingreso Presupuestal (Actualización Mensual)\n",
      "http://apps5.mineco.gob.pe/transparenciaingresos/mensual/\n",
      "\n",
      "Consulta de Seguimiento de Proyectos de Inversión (actualización diaria)\n",
      "http://apps5.mineco.gob.pe/bingos/seguimiento_pi/\n",
      "\n",
      "Consulta Amigable COVID-19\n",
      "http://apps5.mineco.gob.pe/coronavirus/Navegador/default.aspx\n",
      "\n",
      "Consultar el Gasto del Fondo para Intervenciones ante la Ocurrencia de Desastres Naturales - FONDES\n",
      "http://apps5.mineco.gob.pe/seguimiento_fondes/Navegador/default.aspx\n",
      "\n",
      "Consulta de gastos de la Adaptación y Mitigación ante el Cambio Climático\n",
      "http://apps5.mineco.gob.pe/cambioclimatico/Navegador/default.aspx\n",
      "\n",
      "Consulta del Gasto Presupuestal de los Organismo Públicos Descentralizados - Regionales y Municipales\n",
      "http://apps5.mineco.gob.pe/opds/Navegador/default.aspx\n",
      "\n",
      "Consulta del ingreso Presupuestal de los Organismo Públicos Descentralizados - Regionales y Municipales\n",
      "http://apps5.mineco.gob.pe/opdsingresos/Navegador/default.aspx\n",
      "\n",
      "Consulta del Gasto Presupuestal de las Entidades de Tratamiento Empresarial - ETES\n",
      "http://apps5.mineco.gob.pe/etesgasto/\n",
      "\n",
      "Consulta del Ingreso Presupuestal de las Entidades de Tratamiento Empresarial - ETES\n",
      "http://apps5.mineco.gob.pe/etesingreso/\n",
      "\n",
      "Consulta de Reportes Trimestrales del Gasto Departamental en Actividades y Proyectos\n",
      "http://apps5.mineco.gob.pe/transparencia/Reportes/Default.aspx\n",
      "\n",
      "Consulta el Gasto de Mantenimiento diario\n",
      "http://apps5.mineco.gob.pe/bingos/mantenimiento/\n",
      "\n",
      "Consulta de Intervenciones período de lluvias 2015-2016 y Fenómeno El Niño\n",
      "http://apps5.mineco.gob.pe/fenomenonino/\n",
      "\n"
     ]
    }
   ],
   "source": [
    "for gasto in gastos:\n",
    "    #print(curso)\n",
    "    nombre = gasto.find_element_by_xpath('.//a').text    \n",
    "    url_curso = gasto.find_element_by_xpath('.//a').get_attribute('href')\n",
    "    \n",
    "    print(nombre)\n",
    "    print(url_curso)\n",
    "    print('')"
   ]
  },
  {
   "cell_type": "code",
   "execution_count": null,
   "metadata": {},
   "outputs": [],
   "source": []
  }
 ],
 "metadata": {
  "kernelspec": {
   "display_name": "Python 3",
   "language": "python",
   "name": "python3"
  },
  "language_info": {
   "codemirror_mode": {
    "name": "ipython",
    "version": 3
   },
   "file_extension": ".py",
   "mimetype": "text/x-python",
   "name": "python",
   "nbconvert_exporter": "python",
   "pygments_lexer": "ipython3",
   "version": "3.7.4"
  }
 },
 "nbformat": 4,
 "nbformat_minor": 4
}
