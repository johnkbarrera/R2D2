{
 "cells": [
  {
   "cell_type": "code",
   "execution_count": 1,
   "id": "b85d9bb0",
   "metadata": {},
   "outputs": [],
   "source": [
    "\n",
    "import pandas as pd\n",
    "import numpy as np\n",
    "import datetime\n",
    "\n",
    "from pyarrow.parquet import ParquetFile\n",
    "import pyarrow as pa\n",
    "\n",
    "path = 'trx2016.parquet'"
   ]
  },
  {
   "cell_type": "code",
   "execution_count": 2,
   "id": "1c664e52",
   "metadata": {},
   "outputs": [],
   "source": [
    "def read_parquet(path, engine='auto', columns=None, **kwargs):\n",
    "    \"\"\"\n",
    "    Load a parquet object from the file path, returning a DataFrame.\n",
    "    .. versionadded 0.21.0\n",
    "    Parameters\n",
    "    ----------\n",
    "    path : string\n",
    "        File path\n",
    "    columns: list, default=None\n",
    "        If not None, only these columns will be read from the file.\n",
    "        .. versionadded 0.21.1\n",
    "    engine : {'auto', 'pyarrow', 'fastparquet'}, default 'auto'\n",
    "        Parquet library to use. If 'auto', then the option\n",
    "        ``io.parquet.engine`` is used. The default ``io.parquet.engine``\n",
    "        behavior is to try 'pyarrow', falling back to 'fastparquet' if\n",
    "        'pyarrow' is unavailable.\n",
    "    kwargs are passed to the engine\n",
    "    Returns\n",
    "    -------\n",
    "    DataFrame\n",
    "    \"\"\"\n",
    "\n",
    "    impl = pd.io.parquet.get_engine(engine)\n",
    "    return impl.read(path, columns=columns, **kwargs)\n"
   ]
  },
  {
   "cell_type": "code",
   "execution_count": 3,
   "id": "673d1a3a",
   "metadata": {},
   "outputs": [
    {
     "data": {
      "text/html": [
       "<div>\n",
       "<style scoped>\n",
       "    .dataframe tbody tr th:only-of-type {\n",
       "        vertical-align: middle;\n",
       "    }\n",
       "\n",
       "    .dataframe tbody tr th {\n",
       "        vertical-align: top;\n",
       "    }\n",
       "\n",
       "    .dataframe thead th {\n",
       "        text-align: right;\n",
       "    }\n",
       "</style>\n",
       "<table border=\"1\" class=\"dataframe\">\n",
       "  <thead>\n",
       "    <tr style=\"text-align: right;\">\n",
       "      <th></th>\n",
       "      <th>client_id</th>\n",
       "      <th>date</th>\n",
       "      <th>mcc_new</th>\n",
       "      <th>amount_sol</th>\n",
       "      <th>amount_usd</th>\n",
       "      <th>client_age</th>\n",
       "      <th>merchant_province</th>\n",
       "      <th>merchant_district</th>\n",
       "    </tr>\n",
       "  </thead>\n",
       "  <tbody>\n",
       "    <tr>\n",
       "      <th>0</th>\n",
       "      <td>+cSS8MDLKuU=</td>\n",
       "      <td>2016-10-01 23:19:17-05</td>\n",
       "      <td>0</td>\n",
       "      <td>183.50</td>\n",
       "      <td>56.581491</td>\n",
       "      <td>40</td>\n",
       "      <td></td>\n",
       "      <td></td>\n",
       "    </tr>\n",
       "    <tr>\n",
       "      <th>1</th>\n",
       "      <td>+cSS8MDLKuU=</td>\n",
       "      <td>2016-10-17 23:08:58-05</td>\n",
       "      <td>0</td>\n",
       "      <td>6.15</td>\n",
       "      <td>1.896328</td>\n",
       "      <td>40</td>\n",
       "      <td></td>\n",
       "      <td></td>\n",
       "    </tr>\n",
       "    <tr>\n",
       "      <th>2</th>\n",
       "      <td>G3W6R6Q95+0=</td>\n",
       "      <td>2017-05-18 00:00:00-05</td>\n",
       "      <td>0</td>\n",
       "      <td>135.00</td>\n",
       "      <td>41.626710</td>\n",
       "      <td>72</td>\n",
       "      <td></td>\n",
       "      <td></td>\n",
       "    </tr>\n",
       "    <tr>\n",
       "      <th>3</th>\n",
       "      <td>+cSS8MDLKuU=</td>\n",
       "      <td>2017-03-06 00:23:42-05</td>\n",
       "      <td>0</td>\n",
       "      <td>32.91</td>\n",
       "      <td>10.147667</td>\n",
       "      <td>40</td>\n",
       "      <td></td>\n",
       "      <td></td>\n",
       "    </tr>\n",
       "    <tr>\n",
       "      <th>4</th>\n",
       "      <td>+cSS8MDLKuU=</td>\n",
       "      <td>2016-08-02 23:00:14-05</td>\n",
       "      <td>0</td>\n",
       "      <td>4.67</td>\n",
       "      <td>1.439976</td>\n",
       "      <td>40</td>\n",
       "      <td></td>\n",
       "      <td></td>\n",
       "    </tr>\n",
       "  </tbody>\n",
       "</table>\n",
       "</div>"
      ],
      "text/plain": [
       "      client_id                    date  mcc_new  amount_sol  amount_usd  \\\n",
       "0  +cSS8MDLKuU=  2016-10-01 23:19:17-05        0      183.50   56.581491   \n",
       "1  +cSS8MDLKuU=  2016-10-17 23:08:58-05        0        6.15    1.896328   \n",
       "2  G3W6R6Q95+0=  2017-05-18 00:00:00-05        0      135.00   41.626710   \n",
       "3  +cSS8MDLKuU=  2017-03-06 00:23:42-05        0       32.91   10.147667   \n",
       "4  +cSS8MDLKuU=  2016-08-02 23:00:14-05        0        4.67    1.439976   \n",
       "\n",
       "   client_age merchant_province merchant_district  \n",
       "0          40                                      \n",
       "1          40                                      \n",
       "2          72                                      \n",
       "3          40                                      \n",
       "4          40                                      "
      ]
     },
     "execution_count": 3,
     "metadata": {},
     "output_type": "execute_result"
    }
   ],
   "source": [
    "abc = read_parquet(path, engine='auto', columns=['client_id','date', 'mcc_new', 'amount_sol', 'amount_usd', 'client_age', 'merchant_province', 'merchant_district'])\n",
    "#age = read_parquet(path, engine='auto', columns=['id', 'client_age'])\n",
    "\n",
    "abc.head()"
   ]
  },
  {
   "cell_type": "code",
   "execution_count": 4,
   "id": "f1302538",
   "metadata": {},
   "outputs": [
    {
     "data": {
      "text/plain": [
       "115857449"
      ]
     },
     "execution_count": 4,
     "metadata": {},
     "output_type": "execute_result"
    }
   ],
   "source": [
    "len(abc)"
   ]
  },
  {
   "cell_type": "code",
   "execution_count": 5,
   "id": "d8995303",
   "metadata": {},
   "outputs": [],
   "source": [
    "abc.to_csv('trx2016_all.csv', index=False)"
   ]
  },
  {
   "cell_type": "code",
   "execution_count": 6,
   "id": "0fa8c100",
   "metadata": {},
   "outputs": [],
   "source": [
    "abc = abc[abc['merchant_province']=='LIMA']"
   ]
  },
  {
   "cell_type": "code",
   "execution_count": 7,
   "id": "0fd92f13",
   "metadata": {
    "scrolled": false
   },
   "outputs": [
    {
     "data": {
      "text/html": [
       "<div>\n",
       "<style scoped>\n",
       "    .dataframe tbody tr th:only-of-type {\n",
       "        vertical-align: middle;\n",
       "    }\n",
       "\n",
       "    .dataframe tbody tr th {\n",
       "        vertical-align: top;\n",
       "    }\n",
       "\n",
       "    .dataframe thead th {\n",
       "        text-align: right;\n",
       "    }\n",
       "</style>\n",
       "<table border=\"1\" class=\"dataframe\">\n",
       "  <thead>\n",
       "    <tr style=\"text-align: right;\">\n",
       "      <th></th>\n",
       "      <th>client_id</th>\n",
       "      <th>date</th>\n",
       "      <th>mcc_new</th>\n",
       "      <th>amount_sol</th>\n",
       "      <th>amount_usd</th>\n",
       "      <th>client_age</th>\n",
       "      <th>merchant_province</th>\n",
       "      <th>merchant_district</th>\n",
       "    </tr>\n",
       "  </thead>\n",
       "  <tbody>\n",
       "    <tr>\n",
       "      <th>128</th>\n",
       "      <td>XxgXt1gGsxk=</td>\n",
       "      <td>2017-02-05 15:45:25-05</td>\n",
       "      <td>5541</td>\n",
       "      <td>100.0</td>\n",
       "      <td>30.83460</td>\n",
       "      <td>53</td>\n",
       "      <td>LIMA</td>\n",
       "      <td>Magdalena Del Mar</td>\n",
       "    </tr>\n",
       "    <tr>\n",
       "      <th>129</th>\n",
       "      <td>by4Jhi0/BVI=</td>\n",
       "      <td>2017-05-19 13:07:38-05</td>\n",
       "      <td>5541</td>\n",
       "      <td>20.0</td>\n",
       "      <td>6.16692</td>\n",
       "      <td>49</td>\n",
       "      <td>LIMA</td>\n",
       "      <td>Magdalena Del Mar</td>\n",
       "    </tr>\n",
       "    <tr>\n",
       "      <th>130</th>\n",
       "      <td>uY+MrfQgDFU=</td>\n",
       "      <td>2017-01-31 18:31:02-05</td>\n",
       "      <td>5541</td>\n",
       "      <td>80.0</td>\n",
       "      <td>24.66768</td>\n",
       "      <td>48</td>\n",
       "      <td>LIMA</td>\n",
       "      <td>Magdalena Del Mar</td>\n",
       "    </tr>\n",
       "    <tr>\n",
       "      <th>132</th>\n",
       "      <td>oTkd8whgjrI=</td>\n",
       "      <td>2016-11-07 19:26:22-05</td>\n",
       "      <td>5541</td>\n",
       "      <td>100.0</td>\n",
       "      <td>30.83460</td>\n",
       "      <td>48</td>\n",
       "      <td>LIMA</td>\n",
       "      <td>Magdalena Del Mar</td>\n",
       "    </tr>\n",
       "    <tr>\n",
       "      <th>133</th>\n",
       "      <td>bvbaaID5i+g=</td>\n",
       "      <td>2016-12-05 00:57:48-05</td>\n",
       "      <td>5541</td>\n",
       "      <td>20.0</td>\n",
       "      <td>6.16692</td>\n",
       "      <td>48</td>\n",
       "      <td>LIMA</td>\n",
       "      <td>Magdalena Del Mar</td>\n",
       "    </tr>\n",
       "  </tbody>\n",
       "</table>\n",
       "</div>"
      ],
      "text/plain": [
       "        client_id                    date  mcc_new  amount_sol  amount_usd  \\\n",
       "128  XxgXt1gGsxk=  2017-02-05 15:45:25-05     5541       100.0    30.83460   \n",
       "129  by4Jhi0/BVI=  2017-05-19 13:07:38-05     5541        20.0     6.16692   \n",
       "130  uY+MrfQgDFU=  2017-01-31 18:31:02-05     5541        80.0    24.66768   \n",
       "132  oTkd8whgjrI=  2016-11-07 19:26:22-05     5541       100.0    30.83460   \n",
       "133  bvbaaID5i+g=  2016-12-05 00:57:48-05     5541        20.0     6.16692   \n",
       "\n",
       "     client_age merchant_province  merchant_district  \n",
       "128          53              LIMA  Magdalena Del Mar  \n",
       "129          49              LIMA  Magdalena Del Mar  \n",
       "130          48              LIMA  Magdalena Del Mar  \n",
       "132          48              LIMA  Magdalena Del Mar  \n",
       "133          48              LIMA  Magdalena Del Mar  "
      ]
     },
     "execution_count": 7,
     "metadata": {},
     "output_type": "execute_result"
    }
   ],
   "source": [
    "abc.head()"
   ]
  },
  {
   "cell_type": "code",
   "execution_count": 8,
   "id": "1376e89a",
   "metadata": {},
   "outputs": [
    {
     "data": {
      "text/plain": [
       "50233051"
      ]
     },
     "execution_count": 8,
     "metadata": {},
     "output_type": "execute_result"
    }
   ],
   "source": [
    "len(abc)"
   ]
  },
  {
   "cell_type": "code",
   "execution_count": 9,
   "id": "bb5775b7",
   "metadata": {},
   "outputs": [],
   "source": [
    "abc.to_csv('trx2016_lima.csv', index=False)"
   ]
  },
  {
   "cell_type": "code",
   "execution_count": null,
   "id": "bb5ed146",
   "metadata": {},
   "outputs": [],
   "source": [
    "#"
   ]
  },
  {
   "cell_type": "code",
   "execution_count": 10,
   "id": "19dad857",
   "metadata": {},
   "outputs": [
    {
     "data": {
      "text/html": [
       "<div>\n",
       "<style scoped>\n",
       "    .dataframe tbody tr th:only-of-type {\n",
       "        vertical-align: middle;\n",
       "    }\n",
       "\n",
       "    .dataframe tbody tr th {\n",
       "        vertical-align: top;\n",
       "    }\n",
       "\n",
       "    .dataframe thead th {\n",
       "        text-align: right;\n",
       "    }\n",
       "</style>\n",
       "<table border=\"1\" class=\"dataframe\">\n",
       "  <thead>\n",
       "    <tr style=\"text-align: right;\">\n",
       "      <th></th>\n",
       "      <th>date</th>\n",
       "    </tr>\n",
       "    <tr>\n",
       "      <th>client_id</th>\n",
       "      <th></th>\n",
       "    </tr>\n",
       "  </thead>\n",
       "  <tbody>\n",
       "    <tr>\n",
       "      <th>+++g8j9k+5A=</th>\n",
       "      <td>47</td>\n",
       "    </tr>\n",
       "    <tr>\n",
       "      <th>++/9crwdWSc=</th>\n",
       "      <td>125</td>\n",
       "    </tr>\n",
       "    <tr>\n",
       "      <th>++/NRCUAMIA=</th>\n",
       "      <td>270</td>\n",
       "    </tr>\n",
       "    <tr>\n",
       "      <th>++/nqADqHkE=</th>\n",
       "      <td>113</td>\n",
       "    </tr>\n",
       "    <tr>\n",
       "      <th>++1XMtcwMec=</th>\n",
       "      <td>135</td>\n",
       "    </tr>\n",
       "  </tbody>\n",
       "</table>\n",
       "</div>"
      ],
      "text/plain": [
       "              date\n",
       "client_id         \n",
       "+++g8j9k+5A=    47\n",
       "++/9crwdWSc=   125\n",
       "++/NRCUAMIA=   270\n",
       "++/nqADqHkE=   113\n",
       "++1XMtcwMec=   135"
      ]
     },
     "execution_count": 10,
     "metadata": {},
     "output_type": "execute_result"
    }
   ],
   "source": [
    "pd20 = abc.groupby(['client_id']).count()[['date']]\n",
    "pd20 = pd20[pd20['date']>=20]\n",
    "pd20 = list(pd20.index)"
   ]
  },
  {
   "cell_type": "code",
   "execution_count": 18,
   "id": "0333d222",
   "metadata": {},
   "outputs": [
    {
     "data": {
      "text/html": [
       "<div>\n",
       "<style scoped>\n",
       "    .dataframe tbody tr th:only-of-type {\n",
       "        vertical-align: middle;\n",
       "    }\n",
       "\n",
       "    .dataframe tbody tr th {\n",
       "        vertical-align: top;\n",
       "    }\n",
       "\n",
       "    .dataframe thead th {\n",
       "        text-align: right;\n",
       "    }\n",
       "</style>\n",
       "<table border=\"1\" class=\"dataframe\">\n",
       "  <thead>\n",
       "    <tr style=\"text-align: right;\">\n",
       "      <th></th>\n",
       "      <th>client_id</th>\n",
       "      <th>date</th>\n",
       "      <th>mcc_new</th>\n",
       "      <th>amount_sol</th>\n",
       "      <th>amount_usd</th>\n",
       "      <th>client_age</th>\n",
       "      <th>merchant_province</th>\n",
       "      <th>merchant_district</th>\n",
       "    </tr>\n",
       "  </thead>\n",
       "  <tbody>\n",
       "    <tr>\n",
       "      <th>128</th>\n",
       "      <td>XxgXt1gGsxk=</td>\n",
       "      <td>2017-02-05 15:45:25-05</td>\n",
       "      <td>5541</td>\n",
       "      <td>100.0</td>\n",
       "      <td>30.83460</td>\n",
       "      <td>53</td>\n",
       "      <td>LIMA</td>\n",
       "      <td>Magdalena Del Mar</td>\n",
       "    </tr>\n",
       "    <tr>\n",
       "      <th>129</th>\n",
       "      <td>by4Jhi0/BVI=</td>\n",
       "      <td>2017-05-19 13:07:38-05</td>\n",
       "      <td>5541</td>\n",
       "      <td>20.0</td>\n",
       "      <td>6.16692</td>\n",
       "      <td>49</td>\n",
       "      <td>LIMA</td>\n",
       "      <td>Magdalena Del Mar</td>\n",
       "    </tr>\n",
       "    <tr>\n",
       "      <th>130</th>\n",
       "      <td>uY+MrfQgDFU=</td>\n",
       "      <td>2017-01-31 18:31:02-05</td>\n",
       "      <td>5541</td>\n",
       "      <td>80.0</td>\n",
       "      <td>24.66768</td>\n",
       "      <td>48</td>\n",
       "      <td>LIMA</td>\n",
       "      <td>Magdalena Del Mar</td>\n",
       "    </tr>\n",
       "    <tr>\n",
       "      <th>132</th>\n",
       "      <td>oTkd8whgjrI=</td>\n",
       "      <td>2016-11-07 19:26:22-05</td>\n",
       "      <td>5541</td>\n",
       "      <td>100.0</td>\n",
       "      <td>30.83460</td>\n",
       "      <td>48</td>\n",
       "      <td>LIMA</td>\n",
       "      <td>Magdalena Del Mar</td>\n",
       "    </tr>\n",
       "    <tr>\n",
       "      <th>133</th>\n",
       "      <td>bvbaaID5i+g=</td>\n",
       "      <td>2016-12-05 00:57:48-05</td>\n",
       "      <td>5541</td>\n",
       "      <td>20.0</td>\n",
       "      <td>6.16692</td>\n",
       "      <td>48</td>\n",
       "      <td>LIMA</td>\n",
       "      <td>Magdalena Del Mar</td>\n",
       "    </tr>\n",
       "  </tbody>\n",
       "</table>\n",
       "</div>"
      ],
      "text/plain": [
       "        client_id                    date  mcc_new  amount_sol  amount_usd  \\\n",
       "128  XxgXt1gGsxk=  2017-02-05 15:45:25-05     5541       100.0    30.83460   \n",
       "129  by4Jhi0/BVI=  2017-05-19 13:07:38-05     5541        20.0     6.16692   \n",
       "130  uY+MrfQgDFU=  2017-01-31 18:31:02-05     5541        80.0    24.66768   \n",
       "132  oTkd8whgjrI=  2016-11-07 19:26:22-05     5541       100.0    30.83460   \n",
       "133  bvbaaID5i+g=  2016-12-05 00:57:48-05     5541        20.0     6.16692   \n",
       "\n",
       "     client_age merchant_province  merchant_district  \n",
       "128          53              LIMA  Magdalena Del Mar  \n",
       "129          49              LIMA  Magdalena Del Mar  \n",
       "130          48              LIMA  Magdalena Del Mar  \n",
       "132          48              LIMA  Magdalena Del Mar  \n",
       "133          48              LIMA  Magdalena Del Mar  "
      ]
     },
     "execution_count": 18,
     "metadata": {},
     "output_type": "execute_result"
    }
   ],
   "source": [
    "abc = abc[abc['client_id'].isin(pd20)]\n",
    "abc.head()"
   ]
  },
  {
   "cell_type": "code",
   "execution_count": 19,
   "id": "443c7341",
   "metadata": {},
   "outputs": [
    {
     "data": {
      "text/plain": [
       "45319900"
      ]
     },
     "execution_count": 19,
     "metadata": {},
     "output_type": "execute_result"
    }
   ],
   "source": [
    "len(abc)"
   ]
  },
  {
   "cell_type": "code",
   "execution_count": 21,
   "id": "06d41723",
   "metadata": {},
   "outputs": [],
   "source": [
    "abc.head(1000).to_csv('trx2016_lima20_head.csv', index=False)"
   ]
  },
  {
   "cell_type": "code",
   "execution_count": null,
   "id": "f4939909",
   "metadata": {},
   "outputs": [],
   "source": []
  }
 ],
 "metadata": {
  "kernelspec": {
   "display_name": "Python 3",
   "language": "python",
   "name": "python3"
  },
  "language_info": {
   "codemirror_mode": {
    "name": "ipython",
    "version": 3
   },
   "file_extension": ".py",
   "mimetype": "text/x-python",
   "name": "python",
   "nbconvert_exporter": "python",
   "pygments_lexer": "ipython3",
   "version": "3.8.8"
  }
 },
 "nbformat": 4,
 "nbformat_minor": 5
}
